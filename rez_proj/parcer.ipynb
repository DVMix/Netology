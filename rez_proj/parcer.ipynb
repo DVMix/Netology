{
 "cells": [
  {
   "cell_type": "code",
   "execution_count": 1,
   "metadata": {},
   "outputs": [],
   "source": [
    "from bs4 import BeautifulSoup\n",
    "import pandas as pd\n",
    "import numpy as np\n",
    "import time\n",
    "from tqdm import tqdm_notebook as tqdm\n",
    "from selenium import webdriver\n",
    "from selenium.common.exceptions import WebDriverException\n",
    "from selenium.webdriver.support.ui import WebDriverWait\n",
    "from selenium.webdriver.support import expected_conditions as ec\n",
    "import warnings\n",
    "warnings.filterwarnings(\"ignore\")\n",
    "import os, shutil\n",
    "\n",
    "import headers"
   ]
  },
  {
   "cell_type": "code",
   "execution_count": 2,
   "metadata": {},
   "outputs": [],
   "source": [
    "def get_page_num(page_s):\n",
    "    is_this_a_first_try = 1\n",
    "    marker = 0\n",
    "    success = 0\n",
    "    while success !=1:\n",
    "        if is_this_a_first_try ==1:\n",
    "            page = page_s\n",
    "            is_this_a_first_try = 0\n",
    "        else:\n",
    "            page = next_page\n",
    "            next_page = 'https://www.cian.ru'+str(data[len(data)-1]).split('href=\"')[1].split('\">..<')[0].replace('amp;','')\n",
    "        data, m = headers.connection(page,marker)\n",
    "        marker = m\n",
    "        data = BeautifulSoup(data, 'lxml').findAll('li', attrs={'class':'_93444fe79c--list-item--2KxXr'})\n",
    "        if data != []:\n",
    "            if '>..<' in str(data[len(data)-1]):\n",
    "                #print(\"NO!\")\n",
    "                next_page = 'https://www.cian.ru'+str(data[len(data)-1]).split('href=\"')[1].split('\">..<')[0].replace('amp;','')\n",
    "            else:\n",
    "                success = 1\n",
    "                return int(str(data[len(data)-1]).split('</')[-3].split('>')[-1])\n",
    "        else:\n",
    "            return -1\n",
    "\n",
    "def writer(file,a):\n",
    "    try:\n",
    "        lines = []\n",
    "        with open(file, 'r', encoding='UTF-8') as f:\n",
    "            for el in f:\n",
    "                line = f.read(el.replace('\\n',''))\n",
    "                lines.append(line)\n",
    "        f.close()\n",
    "    except:\n",
    "        pass\n",
    "    rez1 = []\n",
    "    for line in a:\n",
    "        if line not in lines:\n",
    "            rez1.append(line)\n",
    "    with open(file, 'a', encoding='UTF-8') as f:\n",
    "        for el in rez1:\n",
    "            f.write(el+'\\n')\n",
    "    f.close()\n",
    "\n",
    "def note_finder(data):\n",
    "    title = data.findAll('title')\n",
    "#     print(title)\n",
    "#     if deal == 'sale' :    \n",
    "#         try:\n",
    "#             notes_num = int(str(title).split('в Москве - ')[1].split('объявл')[0].replace(' ', ''))\n",
    "#         except:\n",
    "#             notes_num = 0\n",
    "#             print('No offers')\n",
    "#     else:\n",
    "        # <div class=\"_93444fe79c--totalOffers--22-FL\">\n",
    "    try:\n",
    "        notes_num = data.findAll('div', attrs = {'class':'_93444fe79c--totalOffers--22-FL'})\n",
    "        #print(notes_num)\n",
    "        notes_num = int(str(notes_num).split('FL\">')[1].split(' предлож')[0].replace(' ',''))\n",
    "    except:\n",
    "        notes_num = 0\n",
    "        print('No offers')\n",
    "    return notes_num\n",
    "    \n",
    "def link_extractor(data):\n",
    "    links = []\n",
    "    add_links = []\n",
    "    search_page1 = data.findAll('a', attrs={'class':'c6e8ba5398--header-link--3XZlV'})\n",
    "\n",
    "    for link in search_page1:\n",
    "        link = str(link).split()[2].split('\"')[1]\n",
    "        links.append(link)\n",
    "\n",
    "    search_page2 = data.findAll('a', attrs={'class':'c6e8ba5398--similar--L7_Ac c6e8ba5398--similar--top3--2DuM_'})\n",
    "\n",
    "    for add_link in search_page2:\n",
    "        add_links.append('https://www.cian.ru'+str(add_link).split()[3].split('\"')[1])\n",
    "\n",
    "    #print(len(links), len(add_links))\n",
    "\n",
    "    for add_link in add_links:\n",
    "        data,m = headers.connection(add_link,0)\n",
    "        data = BeautifulSoup(data, 'lxml')\n",
    "        search_page1 = data.findAll('a', attrs={'class':'c6e8ba5398--header-link--3XZlV'})\n",
    "\n",
    "        for link in search_page1:\n",
    "            link = str(link).split()[2].split('\"')[1]\n",
    "            if link not in links:\n",
    "                links.append(link)\n",
    "    return links"
   ]
  },
  {
   "cell_type": "code",
   "execution_count": 3,
   "metadata": {},
   "outputs": [],
   "source": [
    "main = '''https://www.cian.ru/cat.php?deal_type={}&engine_version=2&m2=1&offer_type=offices&office_type%5B0%5D={}&p={}&quality=1&region={}&sort=price_square_order'''\n",
    "page = '''https://www.cian.ru/cat.php?currency=2&deal_type={}&engine_version=2&m2=1&maxprice={}&minprice={}&offer_type=offices&office_type%5B0%5D={}&p={}&quality=1&region={}&sort=price_square_order'''"
   ]
  },
  {
   "cell_type": "code",
   "execution_count": 4,
   "metadata": {},
   "outputs": [],
   "source": [
    "regions = [4885] #, 1,4885  # 1 - Moscow, 4885  - Nizhniy Novgorod\n",
    "deal_type = ['sale','rent'] # 'sale','rent'\n",
    "object_type = [1,2,3,4,5,6,7,9,10,11,12] # 1,2,3,4,5,6,7,9,10,11,12"
   ]
  },
  {
   "cell_type": "code",
   "execution_count": 5,
   "metadata": {},
   "outputs": [
    {
     "data": {
      "text/plain": [
       "'C:\\\\Users\\\\Dmitry\\\\Desktop\\\\PS\\\\ds4_dip\\\\DATA'"
      ]
     },
     "execution_count": 5,
     "metadata": {},
     "output_type": "execute_result"
    }
   ],
   "source": [
    "os.chdir(r'C:\\Users\\Dmitry\\Desktop\\PS\\ds4_dip\\DATA')\n",
    "original_path = os.getcwd()\n",
    "original_path"
   ]
  },
  {
   "cell_type": "code",
   "execution_count": 6,
   "metadata": {
    "scrolled": true
   },
   "outputs": [],
   "source": [
    "for region in regions:\n",
    "    for deal in deal_type: # deal_type\n",
    "        if region == 1:\n",
    "            if deal == 'sale':\n",
    "                path = original_path+'\\\\html\\\\Moscow\\\\sale'\n",
    "            else:\n",
    "                path = original_path+'\\\\html\\\\Moscow\\\\rent'\n",
    "        else:\n",
    "            if deal == 'sale':\n",
    "                path = original_path+'\\\\html\\\\Nizhniy\\\\sale'\n",
    "            else:\n",
    "                path = original_path+'\\\\html\\\\Nizhniy\\\\rent'\n",
    "        os.chdir(path)\n",
    "        for i in object_type:\n",
    "            try:\n",
    "                os.mkdir('./{i}'.format(i=i))\n",
    "            except:\n",
    "                pass"
   ]
  },
  {
   "cell_type": "code",
   "execution_count": 9,
   "metadata": {
    "scrolled": true
   },
   "outputs": [
    {
     "name": "stdout",
     "output_type": "stream",
     "text": [
      "region = 4885\n",
      "deal_type = sale\n",
      "object_type = 1\n",
      "C:\\Users\\Dmitry\\Desktop\\PS\\ds4_dip\\DATA\\html\\Nizhniy\\sale\\1\n",
      "Кол-во объявлений =  419\n",
      "Осталось 15 страниц и 419 объявлений\n"
     ]
    },
    {
     "data": {
      "application/vnd.jupyter.widget-view+json": {
       "model_id": "0501a625c26e49f88ff37ff5fa83db5b",
       "version_major": 2,
       "version_minor": 0
      },
      "text/plain": [
       "HBox(children=(IntProgress(value=0, max=15), HTML(value='')))"
      ]
     },
     "metadata": {},
     "output_type": "display_data"
    },
    {
     "name": "stdout",
     "output_type": "stream",
     "text": [
      "\n",
      "Записываю в файл...\n",
      "Записал!\n",
      "object_type = 2\n",
      "C:\\Users\\Dmitry\\Desktop\\PS\\ds4_dip\\DATA\\html\\Nizhniy\\sale\\2\n",
      "Кол-во объявлений =  330\n",
      "Осталось 12 страниц и 330 объявлений\n"
     ]
    },
    {
     "data": {
      "application/vnd.jupyter.widget-view+json": {
       "model_id": "0a2c5e2246134676b75f1eca0e81745a",
       "version_major": 2,
       "version_minor": 0
      },
      "text/plain": [
       "HBox(children=(IntProgress(value=0, max=12), HTML(value='')))"
      ]
     },
     "metadata": {},
     "output_type": "display_data"
    },
    {
     "name": "stdout",
     "output_type": "stream",
     "text": [
      "\n",
      "Записываю в файл...\n",
      "Записал!\n",
      "object_type = 3\n",
      "C:\\Users\\Dmitry\\Desktop\\PS\\ds4_dip\\DATA\\html\\Nizhniy\\sale\\3\n",
      "Кол-во объявлений =  52\n",
      "Осталось 2 страниц и 52 объявлений\n"
     ]
    },
    {
     "data": {
      "application/vnd.jupyter.widget-view+json": {
       "model_id": "2278b0f5e18b4d85ac15fc618a676556",
       "version_major": 2,
       "version_minor": 0
      },
      "text/plain": [
       "HBox(children=(IntProgress(value=0, max=2), HTML(value='')))"
      ]
     },
     "metadata": {},
     "output_type": "display_data"
    },
    {
     "name": "stdout",
     "output_type": "stream",
     "text": [
      "\n",
      "Записываю в файл...\n",
      "Записал!\n",
      "object_type = 4\n",
      "C:\\Users\\Dmitry\\Desktop\\PS\\ds4_dip\\DATA\\html\\Nizhniy\\sale\\4\n",
      "Кол-во объявлений =  44\n",
      "Осталось 2 страниц и 44 объявлений\n"
     ]
    },
    {
     "data": {
      "application/vnd.jupyter.widget-view+json": {
       "model_id": "e5106a9ff15c4025be5824e8e76add73",
       "version_major": 2,
       "version_minor": 0
      },
      "text/plain": [
       "HBox(children=(IntProgress(value=0, max=2), HTML(value='')))"
      ]
     },
     "metadata": {},
     "output_type": "display_data"
    },
    {
     "name": "stdout",
     "output_type": "stream",
     "text": [
      "\n",
      "Записываю в файл...\n",
      "Записал!\n",
      "object_type = 5\n",
      "C:\\Users\\Dmitry\\Desktop\\PS\\ds4_dip\\DATA\\html\\Nizhniy\\sale\\5\n",
      "Кол-во объявлений =  378\n",
      "Осталось 14 страниц и 378 объявлений\n"
     ]
    },
    {
     "data": {
      "application/vnd.jupyter.widget-view+json": {
       "model_id": "1e2d9b65102c4951b62065bb8f73399f",
       "version_major": 2,
       "version_minor": 0
      },
      "text/plain": [
       "HBox(children=(IntProgress(value=0, max=14), HTML(value='')))"
      ]
     },
     "metadata": {},
     "output_type": "display_data"
    },
    {
     "name": "stdout",
     "output_type": "stream",
     "text": [
      "\n",
      "Записываю в файл...\n",
      "Записал!\n",
      "object_type = 6\n",
      "C:\\Users\\Dmitry\\Desktop\\PS\\ds4_dip\\DATA\\html\\Nizhniy\\sale\\6\n",
      "Кол-во объявлений =  203\n",
      "Осталось 8 страниц и 203 объявлений\n"
     ]
    },
    {
     "data": {
      "application/vnd.jupyter.widget-view+json": {
       "model_id": "ef76d96eb08e46ea9b5c9e39efdef742",
       "version_major": 2,
       "version_minor": 0
      },
      "text/plain": [
       "HBox(children=(IntProgress(value=0, max=8), HTML(value='')))"
      ]
     },
     "metadata": {},
     "output_type": "display_data"
    },
    {
     "name": "stdout",
     "output_type": "stream",
     "text": [
      "\n",
      "Записываю в файл...\n",
      "Записал!\n",
      "object_type = 7\n",
      "C:\\Users\\Dmitry\\Desktop\\PS\\ds4_dip\\DATA\\html\\Nizhniy\\sale\\7\n",
      "Кол-во объявлений =  53\n",
      "Осталось 2 страниц и 53 объявлений\n"
     ]
    },
    {
     "data": {
      "application/vnd.jupyter.widget-view+json": {
       "model_id": "68659d64a03e45a7815b838a1a30d4d7",
       "version_major": 2,
       "version_minor": 0
      },
      "text/plain": [
       "HBox(children=(IntProgress(value=0, max=2), HTML(value='')))"
      ]
     },
     "metadata": {},
     "output_type": "display_data"
    },
    {
     "name": "stdout",
     "output_type": "stream",
     "text": [
      "\n",
      "Записываю в файл...\n",
      "Записал!\n",
      "object_type = 9\n",
      "C:\\Users\\Dmitry\\Desktop\\PS\\ds4_dip\\DATA\\html\\Nizhniy\\sale\\9\n",
      "Кол-во объявлений =  6\n",
      "Осталось -1 страниц и 6 объявлений\n"
     ]
    },
    {
     "data": {
      "application/vnd.jupyter.widget-view+json": {
       "model_id": "057f5f6f1bc74a6ebb1c53e96e7055dd",
       "version_major": 2,
       "version_minor": 0
      },
      "text/plain": [
       "HBox(children=(IntProgress(value=1, bar_style='info', max=1), HTML(value='')))"
      ]
     },
     "metadata": {},
     "output_type": "display_data"
    },
    {
     "name": "stdout",
     "output_type": "stream",
     "text": [
      "\n",
      "Записываю в файл...\n",
      "Записал!\n",
      "object_type = 10\n",
      "C:\\Users\\Dmitry\\Desktop\\PS\\ds4_dip\\DATA\\html\\Nizhniy\\sale\\10\n",
      "Кол-во объявлений =  106\n",
      "Осталось 4 страниц и 106 объявлений\n"
     ]
    },
    {
     "data": {
      "application/vnd.jupyter.widget-view+json": {
       "model_id": "b60c7f15858641f5be035444ebf87d90",
       "version_major": 2,
       "version_minor": 0
      },
      "text/plain": [
       "HBox(children=(IntProgress(value=0, max=4), HTML(value='')))"
      ]
     },
     "metadata": {},
     "output_type": "display_data"
    },
    {
     "name": "stdout",
     "output_type": "stream",
     "text": [
      "\n",
      "Записываю в файл...\n",
      "Записал!\n",
      "object_type = 11\n",
      "C:\\Users\\Dmitry\\Desktop\\PS\\ds4_dip\\DATA\\html\\Nizhniy\\sale\\11\n",
      "Кол-во объявлений =  130\n",
      "Осталось 5 страниц и 130 объявлений\n"
     ]
    },
    {
     "data": {
      "application/vnd.jupyter.widget-view+json": {
       "model_id": "d09e2e77f297471486bcf04cf08b8373",
       "version_major": 2,
       "version_minor": 0
      },
      "text/plain": [
       "HBox(children=(IntProgress(value=0, max=5), HTML(value='')))"
      ]
     },
     "metadata": {},
     "output_type": "display_data"
    },
    {
     "name": "stdout",
     "output_type": "stream",
     "text": [
      "\n",
      "Записываю в файл...\n",
      "Записал!\n",
      "object_type = 12\n",
      "C:\\Users\\Dmitry\\Desktop\\PS\\ds4_dip\\DATA\\html\\Nizhniy\\sale\\12\n",
      "Кол-во объявлений =  49\n",
      "Осталось 2 страниц и 49 объявлений\n"
     ]
    },
    {
     "data": {
      "application/vnd.jupyter.widget-view+json": {
       "model_id": "93b05c0780074852a5a439b051a939b6",
       "version_major": 2,
       "version_minor": 0
      },
      "text/plain": [
       "HBox(children=(IntProgress(value=0, max=2), HTML(value='')))"
      ]
     },
     "metadata": {},
     "output_type": "display_data"
    },
    {
     "name": "stdout",
     "output_type": "stream",
     "text": [
      "\n",
      "Записываю в файл...\n",
      "Записал!\n",
      "deal_type = rent\n",
      "object_type = 1\n",
      "C:\\Users\\Dmitry\\Desktop\\PS\\ds4_dip\\DATA\\html\\Nizhniy\\rent\\1\n",
      "Кол-во объявлений =  1496\n",
      "Самый дешевый вариант стоит  120\n",
      "Ищу оптимальные параметры...\n",
      "Найдены параметры стоимости для парсинга 120 10720 1406\n",
      "После этого прохода останется еще 90 объявлений\n"
     ]
    },
    {
     "data": {
      "application/vnd.jupyter.widget-view+json": {
       "model_id": "3e89217dfffe4b1583927fa929d42333",
       "version_major": 2,
       "version_minor": 0
      },
      "text/plain": [
       "HBox(children=(IntProgress(value=0, max=51), HTML(value='')))"
      ]
     },
     "metadata": {},
     "output_type": "display_data"
    },
    {
     "name": "stdout",
     "output_type": "stream",
     "text": [
      "\n",
      "len rez =  1390\n",
      "Последняя итерация\n",
      "Осталось 4 страниц и 90 объявлений\n"
     ]
    },
    {
     "data": {
      "application/vnd.jupyter.widget-view+json": {
       "model_id": "32af8d4b0a1e4614bbdc1535b627b105",
       "version_major": 2,
       "version_minor": 0
      },
      "text/plain": [
       "HBox(children=(IntProgress(value=0, max=4), HTML(value='')))"
      ]
     },
     "metadata": {},
     "output_type": "display_data"
    },
    {
     "name": "stdout",
     "output_type": "stream",
     "text": [
      "\n",
      "Записываю в файл...\n",
      "Записал!\n",
      "object_type = 2\n",
      "C:\\Users\\Dmitry\\Desktop\\PS\\ds4_dip\\DATA\\html\\Nizhniy\\rent\\2\n",
      "Кол-во объявлений =  801\n",
      "Осталось 29 страниц и 801 объявлений\n"
     ]
    },
    {
     "data": {
      "application/vnd.jupyter.widget-view+json": {
       "model_id": "893ff994299a471bac95843dbfd65542",
       "version_major": 2,
       "version_minor": 0
      },
      "text/plain": [
       "HBox(children=(IntProgress(value=0, max=29), HTML(value='')))"
      ]
     },
     "metadata": {},
     "output_type": "display_data"
    },
    {
     "name": "stdout",
     "output_type": "stream",
     "text": [
      "\n",
      "Записываю в файл...\n",
      "Записал!\n",
      "object_type = 3\n",
      "C:\\Users\\Dmitry\\Desktop\\PS\\ds4_dip\\DATA\\html\\Nizhniy\\rent\\3\n",
      "Кол-во объявлений =  274\n",
      "Осталось 10 страниц и 274 объявлений\n"
     ]
    },
    {
     "data": {
      "application/vnd.jupyter.widget-view+json": {
       "model_id": "f564532718274d14a57ad0eea86888fb",
       "version_major": 2,
       "version_minor": 0
      },
      "text/plain": [
       "HBox(children=(IntProgress(value=0, max=10), HTML(value='')))"
      ]
     },
     "metadata": {},
     "output_type": "display_data"
    },
    {
     "name": "stdout",
     "output_type": "stream",
     "text": [
      "\n",
      "Записываю в файл...\n",
      "Записал!\n",
      "object_type = 4\n",
      "C:\\Users\\Dmitry\\Desktop\\PS\\ds4_dip\\DATA\\html\\Nizhniy\\rent\\4\n",
      "Кол-во объявлений =  51\n",
      "Осталось 2 страниц и 51 объявлений\n"
     ]
    },
    {
     "data": {
      "application/vnd.jupyter.widget-view+json": {
       "model_id": "54d6a9bf092348478a038519bd4a7209",
       "version_major": 2,
       "version_minor": 0
      },
      "text/plain": [
       "HBox(children=(IntProgress(value=0, max=2), HTML(value='')))"
      ]
     },
     "metadata": {},
     "output_type": "display_data"
    },
    {
     "name": "stdout",
     "output_type": "stream",
     "text": [
      "\n",
      "Записываю в файл...\n",
      "Записал!\n",
      "object_type = 5\n",
      "C:\\Users\\Dmitry\\Desktop\\PS\\ds4_dip\\DATA\\html\\Nizhniy\\rent\\5\n",
      "Кол-во объявлений =  411\n",
      "Осталось 15 страниц и 411 объявлений\n"
     ]
    },
    {
     "data": {
      "application/vnd.jupyter.widget-view+json": {
       "model_id": "1169cb117b544a108dd9fb5c6ef9ef59",
       "version_major": 2,
       "version_minor": 0
      },
      "text/plain": [
       "HBox(children=(IntProgress(value=0, max=15), HTML(value='')))"
      ]
     },
     "metadata": {},
     "output_type": "display_data"
    },
    {
     "name": "stdout",
     "output_type": "stream",
     "text": [
      "\n",
      "Записываю в файл...\n",
      "Записал!\n",
      "object_type = 6\n",
      "C:\\Users\\Dmitry\\Desktop\\PS\\ds4_dip\\DATA\\html\\Nizhniy\\rent\\6\n",
      "Кол-во объявлений =  24\n",
      "Осталось -1 страниц и 24 объявлений\n"
     ]
    },
    {
     "data": {
      "application/vnd.jupyter.widget-view+json": {
       "model_id": "cb9122fd27e14b23bf0f5a723d3edb62",
       "version_major": 2,
       "version_minor": 0
      },
      "text/plain": [
       "HBox(children=(IntProgress(value=1, bar_style='info', max=1), HTML(value='')))"
      ]
     },
     "metadata": {},
     "output_type": "display_data"
    },
    {
     "name": "stdout",
     "output_type": "stream",
     "text": [
      "\n",
      "Записываю в файл...\n",
      "Записал!\n",
      "object_type = 7\n",
      "C:\\Users\\Dmitry\\Desktop\\PS\\ds4_dip\\DATA\\html\\Nizhniy\\rent\\7\n",
      "Кол-во объявлений =  237\n",
      "Осталось 9 страниц и 237 объявлений\n"
     ]
    },
    {
     "data": {
      "application/vnd.jupyter.widget-view+json": {
       "model_id": "22f9b851add44734a566609ace084188",
       "version_major": 2,
       "version_minor": 0
      },
      "text/plain": [
       "HBox(children=(IntProgress(value=0, max=9), HTML(value='')))"
      ]
     },
     "metadata": {},
     "output_type": "display_data"
    },
    {
     "name": "stdout",
     "output_type": "stream",
     "text": [
      "\n",
      "Записываю в файл...\n",
      "Записал!\n",
      "object_type = 9\n",
      "C:\\Users\\Dmitry\\Desktop\\PS\\ds4_dip\\DATA\\html\\Nizhniy\\rent\\9\n",
      "Кол-во объявлений =  5\n",
      "Осталось -1 страниц и 5 объявлений\n"
     ]
    },
    {
     "data": {
      "application/vnd.jupyter.widget-view+json": {
       "model_id": "cfa79baa152546b7aaaee5d343894ef4",
       "version_major": 2,
       "version_minor": 0
      },
      "text/plain": [
       "HBox(children=(IntProgress(value=1, bar_style='info', max=1), HTML(value='')))"
      ]
     },
     "metadata": {},
     "output_type": "display_data"
    },
    {
     "name": "stdout",
     "output_type": "stream",
     "text": [
      "\n",
      "Записываю в файл...\n",
      "Записал!\n",
      "object_type = 10\n",
      "C:\\Users\\Dmitry\\Desktop\\PS\\ds4_dip\\DATA\\html\\Nizhniy\\rent\\10\n",
      "Кол-во объявлений =  29\n",
      "Осталось 2 страниц и 29 объявлений\n"
     ]
    },
    {
     "data": {
      "application/vnd.jupyter.widget-view+json": {
       "model_id": "9999245121424040b36b4c1b90c0f2e2",
       "version_major": 2,
       "version_minor": 0
      },
      "text/plain": [
       "HBox(children=(IntProgress(value=0, max=2), HTML(value='')))"
      ]
     },
     "metadata": {},
     "output_type": "display_data"
    },
    {
     "name": "stdout",
     "output_type": "stream",
     "text": [
      "\n",
      "Записываю в файл...\n",
      "Записал!\n",
      "object_type = 11\n",
      "C:\\Users\\Dmitry\\Desktop\\PS\\ds4_dip\\DATA\\html\\Nizhniy\\rent\\11\n",
      "Кол-во объявлений =  34\n",
      "Осталось 2 страниц и 34 объявлений\n"
     ]
    },
    {
     "data": {
      "application/vnd.jupyter.widget-view+json": {
       "model_id": "3c4f63c603bd44a4a2c090592655fe42",
       "version_major": 2,
       "version_minor": 0
      },
      "text/plain": [
       "HBox(children=(IntProgress(value=0, max=2), HTML(value='')))"
      ]
     },
     "metadata": {},
     "output_type": "display_data"
    },
    {
     "name": "stdout",
     "output_type": "stream",
     "text": [
      "\n",
      "Записываю в файл...\n",
      "Записал!\n",
      "object_type = 12\n",
      "C:\\Users\\Dmitry\\Desktop\\PS\\ds4_dip\\DATA\\html\\Nizhniy\\rent\\12\n",
      "Кол-во объявлений =  43\n",
      "Осталось 2 страниц и 43 объявлений\n"
     ]
    },
    {
     "data": {
      "application/vnd.jupyter.widget-view+json": {
       "model_id": "a22e59ea04994021968eb21aa30a9ea7",
       "version_major": 2,
       "version_minor": 0
      },
      "text/plain": [
       "HBox(children=(IntProgress(value=0, max=2), HTML(value='')))"
      ]
     },
     "metadata": {},
     "output_type": "display_data"
    },
    {
     "name": "stdout",
     "output_type": "stream",
     "text": [
      "\n",
      "Записываю в файл...\n",
      "Записал!\n"
     ]
    }
   ],
   "source": [
    "for region in regions:\n",
    "    print('region = '+str(region))\n",
    "    for deal in deal_type: # deal_type\n",
    "        if region == 1:\n",
    "            if deal == 'sale':\n",
    "                path = original_path+'\\\\html\\\\Moscow\\\\sale'\n",
    "            else:\n",
    "                path = original_path+'\\\\html\\\\Moscow\\\\rent'\n",
    "        else:\n",
    "            if deal == 'sale':\n",
    "                path = original_path+'\\\\html\\\\Nizhniy\\\\sale'\n",
    "            else:\n",
    "                path = original_path+'\\\\html\\\\Nizhniy\\\\rent'\n",
    "        os.chdir(path)\n",
    "        print('deal_type = '+deal)\n",
    "        for obj in object_type:\n",
    "            pp = path+'\\\\{}'.format(str(obj))\n",
    "            os.chdir(pp)\n",
    "            print('object_type = '+str(obj))\n",
    "            print(os.getcwd())\n",
    "            marker = 0\n",
    "            notes = main.format(deal, obj, 1, region)\n",
    "            data,m = headers.connection(notes,0)\n",
    "            data = BeautifulSoup(data, 'lxml')\n",
    "            notes_num = note_finder(data)\n",
    "            counter = notes_num\n",
    "            print('Кол-во объявлений = ', notes_num)\n",
    "            rez = []\n",
    "            if notes_num <1300:\n",
    "                # парсим прям тут\n",
    "                # получаю кол-во страниц\n",
    "                page_num = get_page_num(notes)\n",
    "                print(\"Осталось \"+str(page_num)+\" страниц и \"+str(notes_num)+\" объявлений\")\n",
    "                # итерирую по каждой странице\n",
    "                for p in tqdm(range(1,page_num+1)):\n",
    "                    # получаю исходник страницы\n",
    "                    pa = main.format(deal, obj, p,  region)\n",
    "                    data,m = headers.connection(pa,marker)\n",
    "                    marker = m\n",
    "                    # ОБРЕЗКА ПО ДОП. ПРЕДЛОЖЕНИЯМ\n",
    "                    data = BeautifulSoup(data, 'lxml')\n",
    "                    if '<h3 class=\"_93444fe79c--title--299uA\">' in str(data):\n",
    "                        # обрезаю по доп.предложениям\n",
    "                        ps1 = str(data).split('<h3 class=\"_93444fe79c--title--299uA\">')[0]\n",
    "                        search_page1 = BeautifulSoup(ps1, 'lxml')\n",
    "                    else: \n",
    "                        search_page1 = data\n",
    "                    rez += link_extractor(search_page1)\n",
    "            else:\n",
    "                \n",
    "                search_page1 = data\n",
    "                if deal == 'sale':\n",
    "                    search_page1 = search_page1.findAll('div', attrs={'class':'c6e8ba5398--column--1rxrN'})\n",
    "                    d = search_page1[0].findAll('li', attrs={'class':'c6e8ba5398--header-subTerm-item--1pUL4'})\n",
    "                    e = int(str(d[-1]).split('<div>')[1].split(' руб')[0].replace(' ',''))\n",
    "                    #print(e)\n",
    "                else:\n",
    "                    d = search_page1.findAll('div', attrs={'class':'c6e8ba5398--column--1rxrN'})\n",
    "                    e = int(str(d[0].findAll('li', attrs={'class':'c6e8ba5398--header-subTerm-item--1pUL4'})[-1]).split('1pUL4\">')[1].split(' руб')[0].replace(' ',''))\n",
    "                minprice = e\n",
    "                maxprice = e+1000\n",
    "                print(\"Самый дешевый вариант стоит \",minprice) \n",
    "                #page = '''https://www.cian.ru/cat.php?currency=2&deal_type={}&engine_version=2&m2=1&maxprice={}&minprice={}&offer_type=offices&office_type%5B0%5D={}&p={}&quality=1&region={}&sort=price_square_order'''\n",
    "\n",
    "                while counter!=0:\n",
    "                    \n",
    "                    if counter< 1300:\n",
    "                        print('Последняя итерация')\n",
    "                        p = page.format(deal,'',minprice,obj, 1,region)\n",
    "                        page_num = get_page_num(p)\n",
    "                        print(\"Осталось \"+str(page_num)+\" страниц и \"+str(counter)+\" объявлений\")\n",
    "                        marker = 0\n",
    "                        # итерирую по каждой странице\n",
    "                        for p in tqdm(range(1,page_num+1)):\n",
    "                            # получаю исходник страницы\n",
    "                            pa = page.format(deal,\"\",minprice,obj, p,region)\n",
    "                            data,m = headers.connection(pa,marker)\n",
    "                            marker = m\n",
    "                            # ОБРЕЗКА ПО ДОП. ПРЕДЛОЖЕНИЯМ\n",
    "                            data = BeautifulSoup(data, 'lxml')\n",
    "                            if '<h3 class=\"_93444fe79c--title--299uA\">' in str(data):\n",
    "                                # обрезаю по доп.предложениям\n",
    "                                ps1 = str(data).split('<h3 class=\"_93444fe79c--title--299uA\">')[0]\n",
    "                                search_page1 = BeautifulSoup(ps1, 'lxml')\n",
    "                            else: \n",
    "                                search_page1 = data\n",
    "                            rez += link_extractor(search_page1)\n",
    "                            counter = 0\n",
    "                    else:\n",
    "                        succeed = 0\n",
    "                        step = int(e*10)\n",
    "                        val = e\n",
    "                        sign = '+'\n",
    "                        print(\"Ищу оптимальные параметры...\")\n",
    "                        while succeed == 0:\n",
    "                            p = page.format(deal,maxprice,minprice,obj, 1,region)\n",
    "                            #print(p)\n",
    "                            data,m = headers.connection(p,0)\n",
    "                            data = BeautifulSoup(data, 'lxml')\n",
    "                            n_nm = note_finder(data)\n",
    "                            #print(minprice,maxprice, n_nm)\n",
    "                            if n_nm >= 1300:\n",
    "                                if n_nm<=1500:\n",
    "                                    succeed = 1\n",
    "                                    print('Найдены параметры стоимости для парсинга',minprice,maxprice, n_nm)\n",
    "                                else:\n",
    "                                    if step == val:\n",
    "                                        maxprice-=step\n",
    "                                        sign = '-'\n",
    "                                    else:\n",
    "                                        if sign == '-':\n",
    "                                            maxprice-=step\n",
    "                                            sign = '-'\n",
    "                                        else:\n",
    "                                            step = int(step/2)\n",
    "                                            maxprice=maxprice-step\n",
    "                                            sign = '-'\n",
    "                            else:\n",
    "                                if step == val:\n",
    "                                    maxprice+=step\n",
    "                                    sign = '+'\n",
    "                                else:\n",
    "                                    if sign == '+':\n",
    "                                        maxprice+=step\n",
    "                                        sign = '+'\n",
    "                                    else:\n",
    "                                        step = int(step/2)\n",
    "                                        maxprice=maxprice+step\n",
    "                                        sign = '+'\n",
    "                        #print(p)\n",
    "                        counter -= n_nm\n",
    "                        \n",
    "                        print(\"После этого прохода останется еще \"+str(counter)+\" объявлений\")\n",
    "                        page_num = get_page_num(p)\n",
    "                        marker = 0\n",
    "                        # итерирую по каждой странице\n",
    "                        for p in tqdm(range(1,page_num+1)):\n",
    "                            # получаю исходник страницы\n",
    "                            pa = page.format(deal,maxprice,minprice,obj, p,region)\n",
    "                            data,m = headers.connection(pa,marker)\n",
    "                            marker = m\n",
    "                            # ОБРЕЗКА ПО ДОП. ПРЕДЛОЖЕНИЯМ\n",
    "                            data = BeautifulSoup(data, 'lxml')\n",
    "                            if '<h3 class=\"_93444fe79c--title--299uA\">' in str(data):\n",
    "                                # обрезаю по доп.предложениям\n",
    "                                ps1 = str(data).split('<h3 class=\"_93444fe79c--title--299uA\">')[0]\n",
    "                                search_page1 = BeautifulSoup(ps1, 'lxml')\n",
    "                            else: \n",
    "                                search_page1 = data\n",
    "                            rez += link_extractor(search_page1)\n",
    "                        print('len rez = ', len(rez))\n",
    "                        minprice = maxprice\n",
    "            \n",
    "            print(\"Записываю в файл...\")\n",
    "            writer('links_to_parce.txt',rez)\n",
    "            print(\"Записал!\")\n"
   ]
  },
  {
   "cell_type": "code",
   "execution_count": null,
   "metadata": {},
   "outputs": [],
   "source": []
  }
 ],
 "metadata": {
  "kernelspec": {
   "display_name": "Python 3",
   "language": "python",
   "name": "python3"
  },
  "language_info": {
   "codemirror_mode": {
    "name": "ipython",
    "version": 3
   },
   "file_extension": ".py",
   "mimetype": "text/x-python",
   "name": "python",
   "nbconvert_exporter": "python",
   "pygments_lexer": "ipython3",
   "version": "3.6.8"
  }
 },
 "nbformat": 4,
 "nbformat_minor": 2
}
