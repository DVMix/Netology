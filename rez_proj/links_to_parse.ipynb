{
 "cells": [
  {
   "cell_type": "code",
   "execution_count": 2,
   "metadata": {
    "scrolled": false
   },
   "outputs": [
    {
     "name": "stdout",
     "output_type": "stream",
     "text": [
      "C:\\Users\\Dmitry\\Desktop\\PS\\ds4_dip\\DATA\\html\\Nizhniy\\sale\\1\n",
      "442\n",
      "152\n"
     ]
    },
    {
     "data": {
      "application/vnd.jupyter.widget-view+json": {
       "model_id": "3c13eb98ced94c288d1a85bb6ed463b7",
       "version_major": 2,
       "version_minor": 0
      },
      "text/plain": [
       "HBox(children=(IntProgress(value=0, max=152), HTML(value='')))"
      ]
     },
     "metadata": {},
     "output_type": "display_data"
    },
    {
     "name": "stdout",
     "output_type": "stream",
     "text": [
      "\n",
      "C:\\Users\\Dmitry\\Desktop\\PS\\ds4_dip\\DATA\\html\\Nizhniy\\sale\\2\n",
      "346\n",
      "120\n"
     ]
    },
    {
     "data": {
      "application/vnd.jupyter.widget-view+json": {
       "model_id": "a07de86a18b44f36ab3ddea634931fd3",
       "version_major": 2,
       "version_minor": 0
      },
      "text/plain": [
       "HBox(children=(IntProgress(value=0, max=120), HTML(value='')))"
      ]
     },
     "metadata": {},
     "output_type": "display_data"
    },
    {
     "name": "stdout",
     "output_type": "stream",
     "text": [
      "\n",
      "C:\\Users\\Dmitry\\Desktop\\PS\\ds4_dip\\DATA\\html\\Nizhniy\\sale\\3\n",
      "53\n",
      "22\n"
     ]
    },
    {
     "data": {
      "application/vnd.jupyter.widget-view+json": {
       "model_id": "d72addeff7bd4155a6bb9e8b1fbdc72f",
       "version_major": 2,
       "version_minor": 0
      },
      "text/plain": [
       "HBox(children=(IntProgress(value=0, max=22), HTML(value='')))"
      ]
     },
     "metadata": {},
     "output_type": "display_data"
    },
    {
     "name": "stdout",
     "output_type": "stream",
     "text": [
      "\n",
      "C:\\Users\\Dmitry\\Desktop\\PS\\ds4_dip\\DATA\\html\\Nizhniy\\sale\\4\n",
      "47\n",
      "47\n"
     ]
    },
    {
     "data": {
      "application/vnd.jupyter.widget-view+json": {
       "model_id": "46281021d1df4d6d8d4388c360043ff7",
       "version_major": 2,
       "version_minor": 0
      },
      "text/plain": [
       "HBox(children=(IntProgress(value=0, max=47), HTML(value='')))"
      ]
     },
     "metadata": {},
     "output_type": "display_data"
    },
    {
     "name": "stdout",
     "output_type": "stream",
     "text": [
      "\n",
      "C:\\Users\\Dmitry\\Desktop\\PS\\ds4_dip\\DATA\\html\\Nizhniy\\sale\\5\n",
      "405\n",
      "69\n"
     ]
    },
    {
     "data": {
      "application/vnd.jupyter.widget-view+json": {
       "model_id": "a57dff95c45d4d31bb1bd1283527acd6",
       "version_major": 2,
       "version_minor": 0
      },
      "text/plain": [
       "HBox(children=(IntProgress(value=0, max=69), HTML(value='')))"
      ]
     },
     "metadata": {},
     "output_type": "display_data"
    },
    {
     "name": "stdout",
     "output_type": "stream",
     "text": [
      "\n",
      "C:\\Users\\Dmitry\\Desktop\\PS\\ds4_dip\\DATA\\html\\Nizhniy\\sale\\6\n",
      "219\n",
      "19\n"
     ]
    },
    {
     "data": {
      "application/vnd.jupyter.widget-view+json": {
       "model_id": "a901dcee3739443a989930d0366b395b",
       "version_major": 2,
       "version_minor": 0
      },
      "text/plain": [
       "HBox(children=(IntProgress(value=0, max=19), HTML(value='')))"
      ]
     },
     "metadata": {},
     "output_type": "display_data"
    },
    {
     "name": "stdout",
     "output_type": "stream",
     "text": [
      "\n",
      "C:\\Users\\Dmitry\\Desktop\\PS\\ds4_dip\\DATA\\html\\Nizhniy\\sale\\7\n",
      "55\n",
      "11\n"
     ]
    },
    {
     "data": {
      "application/vnd.jupyter.widget-view+json": {
       "model_id": "3dea4148055844d696968852f69f71db",
       "version_major": 2,
       "version_minor": 0
      },
      "text/plain": [
       "HBox(children=(IntProgress(value=0, max=11), HTML(value='')))"
      ]
     },
     "metadata": {},
     "output_type": "display_data"
    },
    {
     "name": "stdout",
     "output_type": "stream",
     "text": [
      "\n",
      "C:\\Users\\Dmitry\\Desktop\\PS\\ds4_dip\\DATA\\html\\Nizhniy\\sale\\9\n",
      "0\n",
      "0\n"
     ]
    },
    {
     "data": {
      "application/vnd.jupyter.widget-view+json": {
       "model_id": "5e0ec9a6c8794e0d95b24fbe16175915",
       "version_major": 2,
       "version_minor": 0
      },
      "text/plain": [
       "HBox(children=(IntProgress(value=1, bar_style='info', max=1), HTML(value='')))"
      ]
     },
     "metadata": {},
     "output_type": "display_data"
    },
    {
     "name": "stdout",
     "output_type": "stream",
     "text": [
      "\n",
      "C:\\Users\\Dmitry\\Desktop\\PS\\ds4_dip\\DATA\\html\\Nizhniy\\sale\\10\n",
      "115\n",
      "21\n"
     ]
    },
    {
     "data": {
      "application/vnd.jupyter.widget-view+json": {
       "model_id": "d4da4f9a30094e80af5b4967459c72ff",
       "version_major": 2,
       "version_minor": 0
      },
      "text/plain": [
       "HBox(children=(IntProgress(value=0, max=21), HTML(value='')))"
      ]
     },
     "metadata": {},
     "output_type": "display_data"
    },
    {
     "name": "stdout",
     "output_type": "stream",
     "text": [
      "\n",
      "C:\\Users\\Dmitry\\Desktop\\PS\\ds4_dip\\DATA\\html\\Nizhniy\\sale\\11\n",
      "139\n",
      "22\n"
     ]
    },
    {
     "data": {
      "application/vnd.jupyter.widget-view+json": {
       "model_id": "f3c0c699c556459ba7c0df4a93a5335d",
       "version_major": 2,
       "version_minor": 0
      },
      "text/plain": [
       "HBox(children=(IntProgress(value=0, max=22), HTML(value='')))"
      ]
     },
     "metadata": {},
     "output_type": "display_data"
    },
    {
     "name": "stdout",
     "output_type": "stream",
     "text": [
      "\n",
      "C:\\Users\\Dmitry\\Desktop\\PS\\ds4_dip\\DATA\\html\\Nizhniy\\sale\\12\n",
      "49\n",
      "49\n"
     ]
    },
    {
     "data": {
      "application/vnd.jupyter.widget-view+json": {
       "model_id": "6cdb7e1e8ad0487dbfd44ae398201022",
       "version_major": 2,
       "version_minor": 0
      },
      "text/plain": [
       "HBox(children=(IntProgress(value=0, max=49), HTML(value='')))"
      ]
     },
     "metadata": {},
     "output_type": "display_data"
    },
    {
     "name": "stdout",
     "output_type": "stream",
     "text": [
      "\n",
      "C:\\Users\\Dmitry\\Desktop\\PS\\ds4_dip\\DATA\\html\\Nizhniy\\rent\\1\n",
      "1741\n",
      "759\n"
     ]
    },
    {
     "data": {
      "application/vnd.jupyter.widget-view+json": {
       "model_id": "ad2094e5f401425a872601ff1686b6ec",
       "version_major": 2,
       "version_minor": 0
      },
      "text/plain": [
       "HBox(children=(IntProgress(value=0, max=759), HTML(value='')))"
      ]
     },
     "metadata": {},
     "output_type": "display_data"
    },
    {
     "name": "stdout",
     "output_type": "stream",
     "text": [
      "\n",
      "C:\\Users\\Dmitry\\Desktop\\PS\\ds4_dip\\DATA\\html\\Nizhniy\\rent\\2\n",
      "1096\n",
      "540\n"
     ]
    },
    {
     "data": {
      "application/vnd.jupyter.widget-view+json": {
       "model_id": "3af142f7325345e690498f7c4ffbdcd6",
       "version_major": 2,
       "version_minor": 0
      },
      "text/plain": [
       "HBox(children=(IntProgress(value=0, max=540), HTML(value='')))"
      ]
     },
     "metadata": {},
     "output_type": "display_data"
    },
    {
     "name": "stdout",
     "output_type": "stream",
     "text": [
      "\n",
      "C:\\Users\\Dmitry\\Desktop\\PS\\ds4_dip\\DATA\\html\\Nizhniy\\rent\\3\n",
      "315\n",
      "138\n"
     ]
    },
    {
     "data": {
      "application/vnd.jupyter.widget-view+json": {
       "model_id": "cb6c47e336894bec88f61203264e2c5c",
       "version_major": 2,
       "version_minor": 0
      },
      "text/plain": [
       "HBox(children=(IntProgress(value=0, max=138), HTML(value='')))"
      ]
     },
     "metadata": {},
     "output_type": "display_data"
    },
    {
     "name": "stdout",
     "output_type": "stream",
     "text": [
      "\n",
      "C:\\Users\\Dmitry\\Desktop\\PS\\ds4_dip\\DATA\\html\\Nizhniy\\rent\\4\n",
      "52\n",
      "8\n"
     ]
    },
    {
     "data": {
      "application/vnd.jupyter.widget-view+json": {
       "model_id": "b7ed24f61ccc441eac818610724f3a89",
       "version_major": 2,
       "version_minor": 0
      },
      "text/plain": [
       "HBox(children=(IntProgress(value=0, max=8), HTML(value='')))"
      ]
     },
     "metadata": {},
     "output_type": "display_data"
    },
    {
     "name": "stdout",
     "output_type": "stream",
     "text": [
      "\n",
      "C:\\Users\\Dmitry\\Desktop\\PS\\ds4_dip\\DATA\\html\\Nizhniy\\rent\\5\n",
      "444\n",
      "112\n"
     ]
    },
    {
     "data": {
      "application/vnd.jupyter.widget-view+json": {
       "model_id": "90f30fa4c09c48f3895f005784450784",
       "version_major": 2,
       "version_minor": 0
      },
      "text/plain": [
       "HBox(children=(IntProgress(value=0, max=112), HTML(value='')))"
      ]
     },
     "metadata": {},
     "output_type": "display_data"
    },
    {
     "name": "stdout",
     "output_type": "stream",
     "text": [
      "\n",
      "C:\\Users\\Dmitry\\Desktop\\PS\\ds4_dip\\DATA\\html\\Nizhniy\\rent\\6\n",
      "0\n",
      "0\n"
     ]
    },
    {
     "data": {
      "application/vnd.jupyter.widget-view+json": {
       "model_id": "10856b2ca4e24fbda04b65d924ef530a",
       "version_major": 2,
       "version_minor": 0
      },
      "text/plain": [
       "HBox(children=(IntProgress(value=1, bar_style='info', max=1), HTML(value='')))"
      ]
     },
     "metadata": {},
     "output_type": "display_data"
    },
    {
     "name": "stdout",
     "output_type": "stream",
     "text": [
      "\n",
      "C:\\Users\\Dmitry\\Desktop\\PS\\ds4_dip\\DATA\\html\\Nizhniy\\rent\\7\n",
      "250\n",
      "95\n"
     ]
    },
    {
     "data": {
      "application/vnd.jupyter.widget-view+json": {
       "model_id": "ef444913c545478b911f74b628c39367",
       "version_major": 2,
       "version_minor": 0
      },
      "text/plain": [
       "HBox(children=(IntProgress(value=0, max=95), HTML(value='')))"
      ]
     },
     "metadata": {},
     "output_type": "display_data"
    },
    {
     "name": "stdout",
     "output_type": "stream",
     "text": [
      "\n",
      "C:\\Users\\Dmitry\\Desktop\\PS\\ds4_dip\\DATA\\html\\Nizhniy\\rent\\9\n",
      "0\n",
      "0\n"
     ]
    },
    {
     "data": {
      "application/vnd.jupyter.widget-view+json": {
       "model_id": "e31b15c0601a4071922661696146c49f",
       "version_major": 2,
       "version_minor": 0
      },
      "text/plain": [
       "HBox(children=(IntProgress(value=1, bar_style='info', max=1), HTML(value='')))"
      ]
     },
     "metadata": {},
     "output_type": "display_data"
    },
    {
     "name": "stdout",
     "output_type": "stream",
     "text": [
      "\n",
      "C:\\Users\\Dmitry\\Desktop\\PS\\ds4_dip\\DATA\\html\\Nizhniy\\rent\\10\n",
      "29\n",
      "29\n"
     ]
    },
    {
     "data": {
      "application/vnd.jupyter.widget-view+json": {
       "model_id": "6a6502f719b345df8791a46787459007",
       "version_major": 2,
       "version_minor": 0
      },
      "text/plain": [
       "HBox(children=(IntProgress(value=0, max=29), HTML(value='')))"
      ]
     },
     "metadata": {},
     "output_type": "display_data"
    },
    {
     "name": "stdout",
     "output_type": "stream",
     "text": [
      "\n",
      "C:\\Users\\Dmitry\\Desktop\\PS\\ds4_dip\\DATA\\html\\Nizhniy\\rent\\11\n",
      "36\n",
      "3\n"
     ]
    },
    {
     "data": {
      "application/vnd.jupyter.widget-view+json": {
       "model_id": "b13e8ce7732b4d86b0a64f2a98620a31",
       "version_major": 2,
       "version_minor": 0
      },
      "text/plain": [
       "HBox(children=(IntProgress(value=0, max=3), HTML(value='')))"
      ]
     },
     "metadata": {},
     "output_type": "display_data"
    },
    {
     "name": "stdout",
     "output_type": "stream",
     "text": [
      "\n",
      "C:\\Users\\Dmitry\\Desktop\\PS\\ds4_dip\\DATA\\html\\Nizhniy\\rent\\12\n",
      "44\n",
      "10\n"
     ]
    },
    {
     "data": {
      "application/vnd.jupyter.widget-view+json": {
       "model_id": "4612e126f82344b3b35fe4472b85e927",
       "version_major": 2,
       "version_minor": 0
      },
      "text/plain": [
       "HBox(children=(IntProgress(value=0, max=10), HTML(value='')))"
      ]
     },
     "metadata": {},
     "output_type": "display_data"
    },
    {
     "name": "stdout",
     "output_type": "stream",
     "text": [
      "\n"
     ]
    }
   ],
   "source": [
    "from bs4 import BeautifulSoup\n",
    "import pandas as pd\n",
    "import os, shutil\n",
    "import headers\n",
    "from threading import Thread\n",
    "import numpy as np\n",
    "from tqdm import tqdm_notebook as tqdm\n",
    "\n",
    "def link_data_parcer():\n",
    "    links = []\n",
    "    with open('links_to_parce.txt', 'r', encoding='UTF-8') as f:\n",
    "        for line in f:\n",
    "            links.append(line.replace('\\n',''))\n",
    "    f.close()\n",
    "\n",
    "    links = pd.Series(links).drop_duplicates().tolist()\n",
    "    d = os.listdir()\n",
    "    del d[d.index('links_to_parce.txt')]\n",
    "\n",
    "    parced_links = []\n",
    "    for file in d:\n",
    "        e = 'https://'+file.replace('_','/').replace('.html','')\n",
    "        #print(e)\n",
    "        parced_links.append(e)\n",
    "\n",
    "    print(len(links))\n",
    "    for p_link in parced_links:\n",
    "        del links[links.index(p_link)]\n",
    "    print(len(links))\n",
    "\n",
    "    marker = 0\n",
    "    for link in tqdm(links):\n",
    "        \n",
    "        data, m = headers.connection(link, marker)\n",
    "        marker = m\n",
    "        search_page1 = BeautifulSoup(data, 'lxml')\n",
    "        with open(link.split('//')[1].replace('/','_')+'.html', 'w', encoding='UTF-8') as f:\n",
    "            f.write(str(search_page1))\n",
    "        f.close()\n",
    "\n",
    "os.chdir('C:\\\\Users\\\\Dmitry\\\\Desktop\\\\PS\\\\ds4_dip\\\\DATA') # 'C:\\\\Users\\\\Dmitry\\\\Desktop\\\\PS\\\\ds4_dip\\\\DATA'\n",
    "DATA = os.getcwd()\n",
    "destination_folder = DATA+'\\\\html' # 'C:\\\\Users\\\\Dmitry\\\\Desktop\\\\PS\\\\ds4_dip\\\\DATA\\\\html'\n",
    "cities = os.listdir(destination_folder)\n",
    "cities\n",
    "\n",
    "for city in ['Nizhniy']:#cities:\n",
    "    way = destination_folder+'\\\\'+city\n",
    "    deal_types = os.listdir(way)\n",
    "    for deal in ['sale','rent']:#deal_types:\n",
    "        way1 = way+'\\\\'+deal\n",
    "        objs = os.listdir(way1)\n",
    "        for obj in ['1','2','3','4','5','6','7','9', '10', '11', '12']:#objs:\n",
    "            way2 = way1+'\\\\'+obj\n",
    "            l = os.listdir(way2)\n",
    "            if len(l) != 0:\n",
    "                os.chdir(way2)\n",
    "                print(os.getcwd())\n",
    "                link_data_parcer()"
   ]
  },
  {
   "cell_type": "code",
   "execution_count": null,
   "metadata": {},
   "outputs": [],
   "source": []
  }
 ],
 "metadata": {
  "kernelspec": {
   "display_name": "Python 3",
   "language": "python",
   "name": "python3"
  },
  "language_info": {
   "codemirror_mode": {
    "name": "ipython",
    "version": 3
   },
   "file_extension": ".py",
   "mimetype": "text/x-python",
   "name": "python",
   "nbconvert_exporter": "python",
   "pygments_lexer": "ipython3",
   "version": "3.6.8"
  }
 },
 "nbformat": 4,
 "nbformat_minor": 2
}
