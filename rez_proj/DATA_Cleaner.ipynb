{
 "cells": [
  {
   "cell_type": "code",
   "execution_count": 1,
   "metadata": {},
   "outputs": [],
   "source": [
    "import os, shutil\n",
    "from bs4 import BeautifulSoup\n",
    "from tqdm import tqdm_notebook as tqdm\n",
    "import headers as f\n",
    "import pandas as pd"
   ]
  },
  {
   "cell_type": "code",
   "execution_count": 2,
   "metadata": {},
   "outputs": [],
   "source": [
    "html = os.getcwd()+'\\\\html'"
   ]
  },
  {
   "cell_type": "code",
   "execution_count": 3,
   "metadata": {},
   "outputs": [
    {
     "data": {
      "text/plain": [
       "'C:\\\\Users\\\\Dmitry\\\\Desktop\\\\PS\\\\ds4_dip\\\\DATA\\\\html'"
      ]
     },
     "execution_count": 3,
     "metadata": {},
     "output_type": "execute_result"
    }
   ],
   "source": [
    "html"
   ]
  },
  {
   "cell_type": "markdown",
   "metadata": {},
   "source": [
    "path = html+'\\\\Nizhniy\\\\sale\\\\1'\n",
    "files = os.listdir(path)\n",
    "del files[files.index('links_to_parce.txt')]\n",
    "file = files[0]\n",
    "#data = f.get_html_file(path+'\\\\'+file)\n",
    "#search_page = BeautifulSoup(data, 'lxml')\n",
    "#url = 'http://'+file.replace('_','/').replace('.html','')\n",
    "l = [path, file]\n",
    "df = f.feature_extractor(l)\n",
    "df"
   ]
  },
  {
   "cell_type": "code",
   "execution_count": 4,
   "metadata": {
    "scrolled": true
   },
   "outputs": [],
   "source": [
    "city_path = html+'\\\\Nizhniy'\n",
    "#print(city_path)\n",
    "os.chdir(city_path)"
   ]
  },
  {
   "cell_type": "code",
   "execution_count": 5,
   "metadata": {},
   "outputs": [
    {
     "data": {
      "text/plain": [
       "['NIZHNIY_rent.csv', 'NIZHNIY_sale.csv', 'rent', 'sale']"
      ]
     },
     "execution_count": 5,
     "metadata": {},
     "output_type": "execute_result"
    }
   ],
   "source": [
    "os.listdir(city_path)"
   ]
  },
  {
   "cell_type": "code",
   "execution_count": 8,
   "metadata": {},
   "outputs": [],
   "source": [
    "d = 'rent'\n",
    "rez_file = 'NIZHNIY_'+d+'.csv'\n",
    "try:\n",
    "    bdf = pd.read_csv(rez_file)\n",
    "    urls = bdf.url.tolist()\n",
    "except:\n",
    "    bdf = pd.DataFrame()\n",
    "    urls = []\n",
    "len(urls)\n",
    "urls.sort()"
   ]
  },
  {
   "cell_type": "code",
   "execution_count": 9,
   "metadata": {
    "scrolled": true
   },
   "outputs": [
    {
     "name": "stdout",
     "output_type": "stream",
     "text": [
      "rent\n",
      "rent\\1 1742\n"
     ]
    },
    {
     "data": {
      "application/vnd.jupyter.widget-view+json": {
       "model_id": "9d2a573b7262411f8b2b6c75e584e814",
       "version_major": 2,
       "version_minor": 0
      },
      "text/plain": [
       "HBox(children=(IntProgress(value=0, max=1741), HTML(value='')))"
      ]
     },
     "metadata": {},
     "output_type": "display_data"
    },
    {
     "name": "stdout",
     "output_type": "stream",
     "text": [
      "\n",
      "rent\\10 30\n"
     ]
    },
    {
     "data": {
      "application/vnd.jupyter.widget-view+json": {
       "model_id": "5e2a47c5ba684594b66a40484e98c5fa",
       "version_major": 2,
       "version_minor": 0
      },
      "text/plain": [
       "HBox(children=(IntProgress(value=0, max=29), HTML(value='')))"
      ]
     },
     "metadata": {},
     "output_type": "display_data"
    },
    {
     "name": "stdout",
     "output_type": "stream",
     "text": [
      "\n",
      "rent\\11 37\n"
     ]
    },
    {
     "data": {
      "application/vnd.jupyter.widget-view+json": {
       "model_id": "9df1a5d8fca7441a8e1d709477f799c8",
       "version_major": 2,
       "version_minor": 0
      },
      "text/plain": [
       "HBox(children=(IntProgress(value=0, max=36), HTML(value='')))"
      ]
     },
     "metadata": {},
     "output_type": "display_data"
    },
    {
     "name": "stdout",
     "output_type": "stream",
     "text": [
      "\n",
      "rent\\12 45\n"
     ]
    },
    {
     "data": {
      "application/vnd.jupyter.widget-view+json": {
       "model_id": "47f51e537bf641bba2d3726e066d9a7a",
       "version_major": 2,
       "version_minor": 0
      },
      "text/plain": [
       "HBox(children=(IntProgress(value=0, max=44), HTML(value='')))"
      ]
     },
     "metadata": {},
     "output_type": "display_data"
    },
    {
     "name": "stdout",
     "output_type": "stream",
     "text": [
      "\n",
      "rent\\2 1097\n"
     ]
    },
    {
     "data": {
      "application/vnd.jupyter.widget-view+json": {
       "model_id": "746f797376214cfdabfa854a02c8dba6",
       "version_major": 2,
       "version_minor": 0
      },
      "text/plain": [
       "HBox(children=(IntProgress(value=0, max=1096), HTML(value='')))"
      ]
     },
     "metadata": {},
     "output_type": "display_data"
    },
    {
     "name": "stdout",
     "output_type": "stream",
     "text": [
      "\n",
      "rent\\3 316\n"
     ]
    },
    {
     "data": {
      "application/vnd.jupyter.widget-view+json": {
       "model_id": "15ffadbe609d4e65b29f50ed0c45e609",
       "version_major": 2,
       "version_minor": 0
      },
      "text/plain": [
       "HBox(children=(IntProgress(value=0, max=315), HTML(value='')))"
      ]
     },
     "metadata": {},
     "output_type": "display_data"
    },
    {
     "name": "stdout",
     "output_type": "stream",
     "text": [
      "\n",
      "rent\\4 53\n"
     ]
    },
    {
     "data": {
      "application/vnd.jupyter.widget-view+json": {
       "model_id": "4e76974e38864c30a24cec77e7ce99d5",
       "version_major": 2,
       "version_minor": 0
      },
      "text/plain": [
       "HBox(children=(IntProgress(value=0, max=52), HTML(value='')))"
      ]
     },
     "metadata": {},
     "output_type": "display_data"
    },
    {
     "name": "stdout",
     "output_type": "stream",
     "text": [
      "\n",
      "rent\\5 445\n"
     ]
    },
    {
     "data": {
      "application/vnd.jupyter.widget-view+json": {
       "model_id": "262b79e247534bd684a18b1085be8692",
       "version_major": 2,
       "version_minor": 0
      },
      "text/plain": [
       "HBox(children=(IntProgress(value=0, max=444), HTML(value='')))"
      ]
     },
     "metadata": {},
     "output_type": "display_data"
    },
    {
     "name": "stdout",
     "output_type": "stream",
     "text": [
      "\n",
      "rent\\6 1\n"
     ]
    },
    {
     "data": {
      "application/vnd.jupyter.widget-view+json": {
       "model_id": "9b3a4a1ae8964ab49c06e3da41e5f4f8",
       "version_major": 2,
       "version_minor": 0
      },
      "text/plain": [
       "HBox(children=(IntProgress(value=1, bar_style='info', max=1), HTML(value='')))"
      ]
     },
     "metadata": {},
     "output_type": "display_data"
    },
    {
     "name": "stdout",
     "output_type": "stream",
     "text": [
      "\n",
      "rent\\7 251\n"
     ]
    },
    {
     "data": {
      "application/vnd.jupyter.widget-view+json": {
       "model_id": "1a4e6f2850ca46598ad19617241d495b",
       "version_major": 2,
       "version_minor": 0
      },
      "text/plain": [
       "HBox(children=(IntProgress(value=0, max=250), HTML(value='')))"
      ]
     },
     "metadata": {},
     "output_type": "display_data"
    },
    {
     "name": "stdout",
     "output_type": "stream",
     "text": [
      "\n",
      "rent\\9 1\n"
     ]
    },
    {
     "data": {
      "application/vnd.jupyter.widget-view+json": {
       "model_id": "573a160b96d94631a593a62fd5b1faeb",
       "version_major": 2,
       "version_minor": 0
      },
      "text/plain": [
       "HBox(children=(IntProgress(value=1, bar_style='info', max=1), HTML(value='')))"
      ]
     },
     "metadata": {},
     "output_type": "display_data"
    },
    {
     "name": "stdout",
     "output_type": "stream",
     "text": [
      "\n"
     ]
    }
   ],
   "source": [
    "for deal_type in [d]:#, 'sale' os.listdir(city_path)[0:1]:\n",
    "    print(deal_type)\n",
    "    deal_type_path = deal_type\n",
    "# #         print(deal_type_path)\n",
    "# #         print(os.listdir(deal_type_path))\n",
    "    for offer_type in os.listdir(deal_type_path):\n",
    "        offer_type_path = deal_type_path+'\\\\'+offer_type\n",
    "        print(offer_type_path, len(os.listdir(offer_type_path)))\n",
    "\n",
    "#         #print(offer_type_path,len(os.listdir(offer_type_path)))\n",
    "        files = os.listdir(offer_type_path)\n",
    "        try:\n",
    "            del files[files.index('links_to_parce.txt')]\n",
    "        except:\n",
    "            pass\n",
    "        files.sort()\n",
    "        mdf = pd.DataFrame()\n",
    "        for file in tqdm(files):\n",
    "            url = 'http://'+file.replace('_','/').replace('.html','')\n",
    "            if url not in urls:\n",
    "                page_source = f.get_html_file(offer_type_path+'\\\\'+file)\n",
    "                search_page = BeautifulSoup(page_source, 'lxml')\n",
    "\n",
    "                df = f.feature_extractor(url, search_page)\n",
    "                mdf = pd.concat([mdf,df])\n",
    "        bdf = pd.concat([bdf,mdf])\n",
    "        del mdf\n",
    "bdf.to_csv(rez_file, index = False)"
   ]
  },
  {
   "cell_type": "code",
   "execution_count": 12,
   "metadata": {},
   "outputs": [
    {
     "data": {
      "text/plain": [
       "(1767, 20)"
      ]
     },
     "execution_count": 12,
     "metadata": {},
     "output_type": "execute_result"
    }
   ],
   "source": [
    "df1 = pd.read_csv('NIZHNIY_rent.csv')\n",
    "df.shape"
   ]
  },
  {
   "cell_type": "code",
   "execution_count": null,
   "metadata": {},
   "outputs": [],
   "source": [
    "#sale\n",
    "2437+1214+1142+861+3775+141+864+346+2088+45+61"
   ]
  },
  {
   "cell_type": "code",
   "execution_count": null,
   "metadata": {},
   "outputs": [],
   "source": [
    "#rent\n",
    "25466"
   ]
  },
  {
   "cell_type": "code",
   "execution_count": 1,
   "metadata": {},
   "outputs": [],
   "source": [
    "import pandas as pd"
   ]
  },
  {
   "cell_type": "code",
   "execution_count": 2,
   "metadata": {},
   "outputs": [],
   "source": [
    "sale = pd.read_csv('./html/Moscow/MSC_sale.csv')\n",
    "rent = pd.read_csv('./html/Moscow/MSC_rent.csv')"
   ]
  },
  {
   "cell_type": "code",
   "execution_count": 3,
   "metadata": {},
   "outputs": [
    {
     "data": {
      "text/plain": [
       "((14609, 20), (26652, 20))"
      ]
     },
     "execution_count": 3,
     "metadata": {},
     "output_type": "execute_result"
    }
   ],
   "source": [
    "sale.shape, rent.shape"
   ]
  },
  {
   "cell_type": "code",
   "execution_count": 6,
   "metadata": {},
   "outputs": [],
   "source": [
    "columns = ['url','deal_type','lat','lon','title','address','city','region','district','street','house',\n",
    "    'metro','description','rules','district_info','building_info','add_info','infrastructure',\n",
    "    'add_infrastructure', 'technical_details']"
   ]
  },
  {
   "cell_type": "code",
   "execution_count": 9,
   "metadata": {},
   "outputs": [
    {
     "name": "stdout",
     "output_type": "stream",
     "text": [
      "<class 'pandas.core.frame.DataFrame'>\n",
      "RangeIndex: 14609 entries, 0 to 14608\n",
      "Data columns (total 20 columns):\n",
      "url                   14609 non-null object\n",
      "deal_type             14609 non-null object\n",
      "lat                   13368 non-null float64\n",
      "lon                   13368 non-null float64\n",
      "title                 14609 non-null object\n",
      "address               14609 non-null object\n",
      "city                  14609 non-null object\n",
      "region                14609 non-null object\n",
      "district              14594 non-null object\n",
      "street                14582 non-null object\n",
      "house                 14312 non-null object\n",
      "metro                 14609 non-null object\n",
      "description           14609 non-null object\n",
      "rules                 14609 non-null object\n",
      "district_info         14609 non-null object\n",
      "building_info         14609 non-null object\n",
      "add_info              14609 non-null object\n",
      "infrastructure        14609 non-null object\n",
      "add_infrastructure    14609 non-null object\n",
      "technical_details     14609 non-null object\n",
      "dtypes: float64(2), object(18)\n",
      "memory usage: 2.2+ MB\n"
     ]
    }
   ],
   "source": [
    "sale[columns].info()"
   ]
  },
  {
   "cell_type": "code",
   "execution_count": null,
   "metadata": {},
   "outputs": [],
   "source": []
  }
 ],
 "metadata": {
  "kernelspec": {
   "display_name": "Python 3",
   "language": "python",
   "name": "python3"
  },
  "language_info": {
   "codemirror_mode": {
    "name": "ipython",
    "version": 3
   },
   "file_extension": ".py",
   "mimetype": "text/x-python",
   "name": "python",
   "nbconvert_exporter": "python",
   "pygments_lexer": "ipython3",
   "version": "3.6.8"
  }
 },
 "nbformat": 4,
 "nbformat_minor": 2
}
