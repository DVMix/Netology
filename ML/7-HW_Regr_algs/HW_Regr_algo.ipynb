{
 "cells": [
  {
   "cell_type": "code",
   "execution_count": null,
   "metadata": {},
   "outputs": [],
   "source": [
    "# Задание 1 \n",
    "# Завершаем практическое задание №2. Необходимо для каждой распознанной фамилии \n",
    "# вывести на экран наиболее подходящий вариант из стартового протокола "
   ]
  },
  {
   "cell_type": "code",
   "execution_count": 265,
   "metadata": {},
   "outputs": [],
   "source": [
    "strok = \"\"\"кучменко она,Шехавцова Анна,11;\n",
    "кучменко она,Гречихина Наталья,14;\n",
    "кучменко она,Козлова Алена,11;\n",
    "кучменко она,Груздева Алина,10;\n",
    "кучменко она,Кущенко Анна,5;\n",
    "кучменко она,Чистякова Анастасия,15\n",
    "кущенко оксана,Шехавцова Анна,11;\n",
    "кущенко оксана,Гречихина Наталья,15;\n",
    "кущенко оксана,Козлова Алена,11;\n",
    "кущенко оксана,Груздева Алина,11;\n",
    "кущенко оксана,Кущенко Анна,5;\n",
    "кущенко оксана,Чистякова Анастасия,14\n",
    "груздь алина,Шехавцова Анна,11;\n",
    "груздь алина,Гречихина Наталья,14;\n",
    "груздь алина,Козлова Алена,9;\n",
    "груздь алина,Груздева Алина,5;\n",
    "груздь алина,Кущенко Анна,10;\n",
    "груздь алина,Чистякова Анастасия,16\n",
    "рычихина наталья,Шехавцова Анна,14;\n",
    "рычихина наталья,Гречихина Наталья,3;\n",
    "рычихина наталья,Козлова Алена,14;\n",
    "рычихина наталья,Груздева Алина,14;\n",
    "рычихина наталья,Кущенко Анна,14;\n",
    "рычихина наталья,Чистякова Анастасия,12\n",
    "шиховцева на,Шехавцова Анна,6;\n",
    "шиховцева на,Гречихина Наталья,14;\n",
    "шиховцева на,Козлова Алена,9;\n",
    "шиховцева на,Груздева Алина,9;\n",
    "шиховцева на,Кущенко Анна,10;\n",
    "шиховцева на,Чистякова Анастасия,13\n",
    "чистова анастасия,Шехавцова Анна,13;\n",
    "чистова анастасия,Гречихина Наталья,12;\n",
    "чистова анастасия,Козлова Алена,12;\n",
    "чистова анастасия,Груздева Алина,14;\n",
    "чистова анастасия,Кущенко Анна,14;\n",
    "чистова анастасия,Чистякова Анастасия,4\"\"\""
   ]
  },
  {
   "cell_type": "code",
   "execution_count": 266,
   "metadata": {},
   "outputs": [],
   "source": [
    "#  разбиваю строку на части по переносу\n",
    "lines = strok.strip().split('\\n')"
   ]
  },
  {
   "cell_type": "code",
   "execution_count": 267,
   "metadata": {},
   "outputs": [],
   "source": [
    "# формирую пустой списк для записи уникальных значений распознанных имен и разбиения строки на более мелкие строки \n",
    "unique_names = []\n",
    "line_elements = [] \n",
    "\n",
    "# прохожу по линиям и преобразовываю строки в список строк для оперирования 3им параметром\n",
    "for line in lines:\n",
    "    qq = line.strip().split(',')\n",
    "    line_elements.append(line.strip().split(','))\n",
    "    # уникальные распознанные имена записываю в список\n",
    "    if qq[0] not in unique_names:\n",
    "        unique_names.append(qq[0])"
   ]
  },
  {
   "cell_type": "code",
   "execution_count": 268,
   "metadata": {},
   "outputs": [],
   "source": [
    "# выбираю лучшее сочетание по 3му параметру - расстояние Левенштейна между строками\n",
    "best_rez = []\n",
    "for name in unique_names:\n",
    "    \n",
    "    best_num = 100000\n",
    "    for line in range(len(lines)):\n",
    "        if name == line_elements[line][0]:\n",
    "            num = int(line_elements[line][2].replace(\";\",\"\"))\n",
    "            \n",
    "            if best_num>num:\n",
    "                best_num = num\n",
    "                \n",
    "    best_rez.append(best_num)"
   ]
  },
  {
   "cell_type": "code",
   "execution_count": 269,
   "metadata": {},
   "outputs": [
    {
     "data": {
      "text/plain": [
       "[['кучменко она', 'Кущенко Анна', '5;'],\n",
       " ['кущенко оксана', 'Кущенко Анна', '5;'],\n",
       " ['груздь алина', 'Груздева Алина', '5;'],\n",
       " ['рычихина наталья', 'Гречихина Наталья', '3;'],\n",
       " ['шиховцева на', 'Шехавцова Анна', '6;'],\n",
       " ['чистова анастасия', 'Чистякова Анастасия', '4']]"
      ]
     },
     "execution_count": 269,
     "metadata": {},
     "output_type": "execute_result"
    }
   ],
   "source": [
    "# провожу сопоставление по выбранному лучшему расстоянию Левенштейна\n",
    "best_comparsion = []\n",
    "for i in range(len(rr)):\n",
    "    for j in range(len(q)):\n",
    "        if line_elements[j][0] == unique_names[i]:\n",
    "            num = int(line_elements[j][2].replace(\";\",\"\"))\n",
    "            if num == rr[i]:\n",
    "                best_comparsion.append(q[j])\n",
    "                \n",
    "best_comparsion        "
   ]
  },
  {
   "cell_type": "code",
   "execution_count": 130,
   "metadata": {},
   "outputs": [],
   "source": [
    "# Задание 2 \n",
    "# Постройте модель kNN для распознавания цифр. Посчитайте получившееся значение \n",
    "# точности (последняя строка в файле 7. kNN digits.ipynb)"
   ]
  },
  {
   "cell_type": "code",
   "execution_count": 141,
   "metadata": {},
   "outputs": [],
   "source": [
    "from sklearn import datasets\n",
    "from sklearn.neighbors import KNeighborsClassifier"
   ]
  },
  {
   "cell_type": "code",
   "execution_count": 142,
   "metadata": {},
   "outputs": [],
   "source": [
    "# загружаю датасет из sklearn \n",
    "digits = datasets.load_digits()"
   ]
  },
  {
   "cell_type": "code",
   "execution_count": 143,
   "metadata": {},
   "outputs": [],
   "source": [
    "#  задаю необходиме данные\n",
    "X_digits = digits.data\n",
    "Y_digits = digits.target"
   ]
  },
  {
   "cell_type": "code",
   "execution_count": 144,
   "metadata": {},
   "outputs": [],
   "source": [
    "# узнаю размерность датасета с признаками\n",
    "n_samples = len( X_digits )"
   ]
  },
  {
   "cell_type": "code",
   "execution_count": 204,
   "metadata": {},
   "outputs": [
    {
     "data": {
      "text/plain": [
       "1617"
      ]
     },
     "execution_count": 204,
     "metadata": {},
     "output_type": "execute_result"
    }
   ],
   "source": [
    "# определяю размер выборки для теста и трейна\n",
    "split = int( n_samples * .9 )"
   ]
  },
  {
   "cell_type": "code",
   "execution_count": 205,
   "metadata": {},
   "outputs": [],
   "source": [
    "# выборка ТРАЙН\n",
    "X_train = X_digits[:split]\n",
    "Y_train = Y_digits[:split]"
   ]
  },
  {
   "cell_type": "code",
   "execution_count": 206,
   "metadata": {},
   "outputs": [],
   "source": [
    "# выборка ТЕСТ\n",
    "X_test = X_digits[split:]\n",
    "Y_test = Y_digits[split:]"
   ]
  },
  {
   "cell_type": "code",
   "execution_count": 207,
   "metadata": {},
   "outputs": [],
   "source": [
    "# определяю классификатор\n",
    "knn = KNeighborsClassifier( n_neighbors = 5 )"
   ]
  },
  {
   "cell_type": "code",
   "execution_count": 208,
   "metadata": {},
   "outputs": [
    {
     "data": {
      "text/plain": [
       "KNeighborsClassifier(algorithm='auto', leaf_size=30, metric='minkowski',\n",
       "           metric_params=None, n_jobs=1, n_neighbors=5, p=2,\n",
       "           weights='uniform')"
      ]
     },
     "execution_count": 208,
     "metadata": {},
     "output_type": "execute_result"
    }
   ],
   "source": [
    "# обучаю \n",
    "knn.fit(X_train,Y_train)"
   ]
  },
  {
   "cell_type": "code",
   "execution_count": 209,
   "metadata": {},
   "outputs": [
    {
     "data": {
      "text/plain": [
       "0.9611111111111111"
      ]
     },
     "execution_count": 209,
     "metadata": {},
     "output_type": "execute_result"
    }
   ],
   "source": [
    "# результат\n",
    "knn.score( X_test, Y_test )"
   ]
  },
  {
   "cell_type": "code",
   "execution_count": 240,
   "metadata": {},
   "outputs": [
    {
     "data": {
      "text/plain": [
       "2"
      ]
     },
     "execution_count": 240,
     "metadata": {},
     "output_type": "execute_result"
    }
   ],
   "source": [
    "# проверяю как работает\n",
    "l = digits.images[2]\n",
    "ll = l.reshape(1,64)\n",
    "rr = knn.predict(ll)\n",
    "rr[0]"
   ]
  },
  {
   "cell_type": "code",
   "execution_count": 241,
   "metadata": {},
   "outputs": [
    {
     "data": {
      "text/plain": [
       "3"
      ]
     },
     "execution_count": 241,
     "metadata": {},
     "output_type": "execute_result"
    }
   ],
   "source": [
    "l = digits.images[3]\n",
    "ll = l.reshape(1,64)\n",
    "rr = knn.predict(ll)\n",
    "rr[0]"
   ]
  },
  {
   "cell_type": "code",
   "execution_count": 242,
   "metadata": {},
   "outputs": [
    {
     "data": {
      "text/plain": [
       "9"
      ]
     },
     "execution_count": 242,
     "metadata": {},
     "output_type": "execute_result"
    }
   ],
   "source": [
    "l = digits.images[9]\n",
    "ll = l.reshape(1,64)\n",
    "rr = knn.predict(ll)\n",
    "rr[0]"
   ]
  },
  {
   "cell_type": "code",
   "execution_count": null,
   "metadata": {},
   "outputs": [],
   "source": []
  }
 ],
 "metadata": {
  "kernelspec": {
   "display_name": "Python 3",
   "language": "python",
   "name": "python3"
  },
  "language_info": {
   "codemirror_mode": {
    "name": "ipython",
    "version": 3
   },
   "file_extension": ".py",
   "mimetype": "text/x-python",
   "name": "python",
   "nbconvert_exporter": "python",
   "pygments_lexer": "ipython3",
   "version": "3.7.0"
  }
 },
 "nbformat": 4,
 "nbformat_minor": 2
}
