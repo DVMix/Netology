{
 "cells": [
  {
   "cell_type": "code",
   "execution_count": 1,
   "metadata": {
    "_uuid": "6d06dfedc1c60a15e9f1bb7b38d00ed3d9b855d0"
   },
   "outputs": [],
   "source": [
    "import pandas as pd\n",
    "import numpy as np\n",
    "import matplotlib.pyplot as plt\n",
    "%matplotlib inline\n",
    "import datetime"
   ]
  },
  {
   "cell_type": "markdown",
   "metadata": {
    "_uuid": "690b526102dfa2dc849f26082a54d21efcc55807"
   },
   "source": [
    "## Rosbank ML Competition"
   ]
  },
  {
   "cell_type": "markdown",
   "metadata": {
    "_uuid": "97ec53946211128d76b2a2c8ce7898b2d8fce2a3"
   },
   "source": [
    "Ссылка на соревнование: https://boosters.pro/champ_15"
   ]
  },
  {
   "cell_type": "markdown",
   "metadata": {
    "_uuid": "753c827c719431135382a14286a0f8623bc0a36f"
   },
   "source": [
    "Росбанк – часть ведущей международной финансовой группы Societe Generale, банк включен ЦБ РФ в число 11 системно значимых кредитных организаций России. Инновации неотъемлемый процесс работы Росбанка, поэтому активно развивается направленный анализа больших данных."
   ]
  },
  {
   "cell_type": "markdown",
   "metadata": {
    "_uuid": "cd420fe4c5a9591eeebe1fb61f8804c36865e2f6"
   },
   "source": [
    "- Данные\n",
    "\n",
    "Датасет, который содержит историю транзакций клиентов за 3 месяца льготного использования банковского продукта\n",
    "\n",
    "- Задача\n",
    "\n",
    "Задача бинарной классификации – прогноз оттока клиентов\n",
    "\n",
    "Колонка cl_id содержит вутренний id клиента. Для каждого уникальнго cl_id следует предсказать продолжит ли клиент пользоваться продуктом (target_flag). Значение 0 соответствует отказу, а значение 1 соответствует продолжению использования"
   ]
  },
  {
   "cell_type": "code",
   "execution_count": 3,
   "metadata": {
    "_uuid": "249f99ef2c40a380436235e817f5592edf1783dc"
   },
   "outputs": [
    {
     "data": {
      "text/html": [
       "<div>\n",
       "<style scoped>\n",
       "    .dataframe tbody tr th:only-of-type {\n",
       "        vertical-align: middle;\n",
       "    }\n",
       "\n",
       "    .dataframe tbody tr th {\n",
       "        vertical-align: top;\n",
       "    }\n",
       "\n",
       "    .dataframe thead th {\n",
       "        text-align: right;\n",
       "    }\n",
       "</style>\n",
       "<table border=\"1\" class=\"dataframe\">\n",
       "  <thead>\n",
       "    <tr style=\"text-align: right;\">\n",
       "      <th></th>\n",
       "      <th>PERIOD</th>\n",
       "      <th>cl_id</th>\n",
       "      <th>MCC</th>\n",
       "      <th>channel_type</th>\n",
       "      <th>currency</th>\n",
       "      <th>TRDATETIME</th>\n",
       "      <th>amount</th>\n",
       "      <th>trx_category</th>\n",
       "      <th>target_flag</th>\n",
       "      <th>target_sum</th>\n",
       "    </tr>\n",
       "  </thead>\n",
       "  <tbody>\n",
       "    <tr>\n",
       "      <th>0</th>\n",
       "      <td>01/10/2017</td>\n",
       "      <td>0</td>\n",
       "      <td>5200</td>\n",
       "      <td>NaN</td>\n",
       "      <td>810</td>\n",
       "      <td>21OCT17:00:00:00</td>\n",
       "      <td>5023.0</td>\n",
       "      <td>POS</td>\n",
       "      <td>0</td>\n",
       "      <td>0.0</td>\n",
       "    </tr>\n",
       "    <tr>\n",
       "      <th>1</th>\n",
       "      <td>01/10/2017</td>\n",
       "      <td>0</td>\n",
       "      <td>6011</td>\n",
       "      <td>NaN</td>\n",
       "      <td>810</td>\n",
       "      <td>12OCT17:12:24:07</td>\n",
       "      <td>20000.0</td>\n",
       "      <td>DEPOSIT</td>\n",
       "      <td>0</td>\n",
       "      <td>0.0</td>\n",
       "    </tr>\n",
       "    <tr>\n",
       "      <th>2</th>\n",
       "      <td>01/12/2017</td>\n",
       "      <td>0</td>\n",
       "      <td>5921</td>\n",
       "      <td>NaN</td>\n",
       "      <td>810</td>\n",
       "      <td>05DEC17:00:00:00</td>\n",
       "      <td>767.0</td>\n",
       "      <td>POS</td>\n",
       "      <td>0</td>\n",
       "      <td>0.0</td>\n",
       "    </tr>\n",
       "    <tr>\n",
       "      <th>3</th>\n",
       "      <td>01/10/2017</td>\n",
       "      <td>0</td>\n",
       "      <td>5411</td>\n",
       "      <td>NaN</td>\n",
       "      <td>810</td>\n",
       "      <td>21OCT17:00:00:00</td>\n",
       "      <td>2031.0</td>\n",
       "      <td>POS</td>\n",
       "      <td>0</td>\n",
       "      <td>0.0</td>\n",
       "    </tr>\n",
       "    <tr>\n",
       "      <th>4</th>\n",
       "      <td>01/10/2017</td>\n",
       "      <td>0</td>\n",
       "      <td>6012</td>\n",
       "      <td>NaN</td>\n",
       "      <td>810</td>\n",
       "      <td>24OCT17:13:14:24</td>\n",
       "      <td>36562.0</td>\n",
       "      <td>C2C_OUT</td>\n",
       "      <td>0</td>\n",
       "      <td>0.0</td>\n",
       "    </tr>\n",
       "  </tbody>\n",
       "</table>\n",
       "</div>"
      ],
      "text/plain": [
       "       PERIOD  cl_id   MCC    ...     trx_category  target_flag target_sum\n",
       "0  01/10/2017      0  5200    ...              POS            0        0.0\n",
       "1  01/10/2017      0  6011    ...          DEPOSIT            0        0.0\n",
       "2  01/12/2017      0  5921    ...              POS            0        0.0\n",
       "3  01/10/2017      0  5411    ...              POS            0        0.0\n",
       "4  01/10/2017      0  6012    ...          C2C_OUT            0        0.0\n",
       "\n",
       "[5 rows x 10 columns]"
      ]
     },
     "execution_count": 3,
     "metadata": {},
     "output_type": "execute_result"
    }
   ],
   "source": [
    "raw_df = pd.read_csv('../input/rosbank_train.csv')\n",
    "raw_df.head(5)\n",
    "# target_sum - можно выкинуть, переменная участвует в другой задаче"
   ]
  },
  {
   "cell_type": "code",
   "execution_count": 4,
   "metadata": {
    "_uuid": "653a6c180f2518d033a3d36c94a050ee732eecfe"
   },
   "outputs": [
    {
     "name": "stdout",
     "output_type": "stream",
     "text": [
      "<class 'pandas.core.frame.DataFrame'>\n",
      "RangeIndex: 490513 entries, 0 to 490512\n",
      "Data columns (total 10 columns):\n",
      "PERIOD          490513 non-null object\n",
      "cl_id           490513 non-null int64\n",
      "MCC             490513 non-null int64\n",
      "channel_type    487603 non-null object\n",
      "currency        490513 non-null int64\n",
      "TRDATETIME      490513 non-null object\n",
      "amount          490513 non-null float64\n",
      "trx_category    490513 non-null object\n",
      "target_flag     490513 non-null int64\n",
      "target_sum      490513 non-null float64\n",
      "dtypes: float64(2), int64(4), object(4)\n",
      "memory usage: 37.4+ MB\n"
     ]
    }
   ],
   "source": [
    "raw_df.info()"
   ]
  },
  {
   "cell_type": "code",
   "execution_count": 5,
   "metadata": {
    "_uuid": "49d66fb38bd2ddc8e2fc540887ed30cd6dbcef3c"
   },
   "outputs": [
    {
     "name": "stdout",
     "output_type": "stream",
     "text": [
      "Total clients:  5000\n"
     ]
    }
   ],
   "source": [
    "print(\"Total clients: \", len(raw_df.cl_id.unique()))"
   ]
  },
  {
   "cell_type": "markdown",
   "metadata": {
    "_uuid": "12b06a34c4b3ef5a5b252c8dfc31336036dba6b8"
   },
   "source": [
    "Всего 5000 клиентов, случайным образом возьмем 1000 клиентов для тестирования"
   ]
  },
  {
   "cell_type": "code",
   "execution_count": 6,
   "metadata": {
    "_uuid": "47ae8ceaab38d20f401a0396a6266b88ed64064c"
   },
   "outputs": [
    {
     "data": {
      "text/plain": [
       "1000"
      ]
     },
     "execution_count": 6,
     "metadata": {},
     "output_type": "execute_result"
    }
   ],
   "source": [
    "cl_ids_test = np.random.choice(raw_df.cl_id.unique(), size=1000, replace=False)\n",
    "cl_ids_test_set = set(cl_ids_test)\n",
    "len(cl_ids_test_set)"
   ]
  },
  {
   "cell_type": "code",
   "execution_count": 7,
   "metadata": {
    "_uuid": "6af3ecf997cb96e52e473dcb886400c39ed986a8"
   },
   "outputs": [
    {
     "name": "stdout",
     "output_type": "stream",
     "text": [
      "Total transactions in train dataset:  389292\n",
      "Total transactions in test dataset:  101221\n"
     ]
    }
   ],
   "source": [
    "# create transactions dataset for train\n",
    "transactions_train = raw_df[~raw_df.cl_id.isin(cl_ids_test)].copy()\n",
    "print(\"Total transactions in train dataset: \", len(transactions_train))\n",
    "# create transactions dataset for test\n",
    "transactions_test = raw_df[raw_df.cl_id.isin(cl_ids_test)].copy()\n",
    "print(\"Total transactions in test dataset: \", len(transactions_test))"
   ]
  },
  {
   "cell_type": "markdown",
   "metadata": {
    "_uuid": "f8b5af6425bf957a649c81cc88e295040dc468ba"
   },
   "source": [
    "## Домашняя работа\n",
    "\n",
    "1. Наборы данных вида Transactions (несколько транзакций на одного клиента) трансформировать в таблицу, где cl_id будут уникальными (соответственно 4000 строк в train и 1000 строк в test\n",
    "2. Для каждого cl_id будет уникальное целевое событие target_flag, а также уникальный канал привлечения клиента channel_type (клиент привлекается лишь однажды и с самого начала его записи присваивается значение канала привлечения)\n",
    "3. При агрегации (*pandas.DataFrame.groupby*) по cl_id (или по связке cl_id, channel_type, target_flag) необходимо создавать производные фичи, идеи для таких фичей могут быть следующими:\n",
    "\n",
    "    - общая сумма транзакций по каждой из trx_category\n",
    "    - общая сумма транзакции по основным вылютам (напр. выделить рубли, доллары и евро - предположительно, это будут самые крупные категории)\n",
    "    - общая сумма транзакций по категориям MCC кодов (например, выбрать основные/популярные MCC коды). ВНИМАНИ! Некоторые MCC коды из train могут быть не представлены в test. Про MCC коды в целом: http://www.banki.ru/wikibank/mcc-kod/; Справочник MCC кодов: https://mcc-codes.ru/code; Про некоторые категории кэшбека Росбанка: https://mcc-codes.ru/card/rosbank-sverkh-plus;\n",
    "    - возможные агрегации по времени суток и дням недели - траты в выходные (праздники) или будни, в ночное время или в рабочее и т.д.\n",
    "4. **Обязательная часть**: провести первичный анализ данных - посмотреть распределения признаков, выделить самые популярные MCC, помотреть активность клиентов по дням недели/времени, какие категории транзакции (trx_category) наиболее популярны и т.д. Получить инсайты, которые в дальнейшем помогут вам правильно подготовить фичи\n",
    "5. **Дополнительная часть**: с отобранными фичами и полученными компонентами обучить модель (тип алгоритма на свой вкус, можно начать с линейной) и померить качество на локальном тестовом наборе данных (локальная валидация), который создается в этом ноутбуке. **Метрика оценки качества - ROC AUC**(https://en.wikipedia.org/wiki/Receiver_operating_characteristic)\n",
    "6. Задания принимаются в виде ноутбука с кодов/картинками выполненной обязательной части + указанием места в leaderboard при решении дополнительной\n",
    "\n",
    "При возникновении вопросов и для отправки домашнего задания - egsachko@gmail.com или http://fb.com/sachkoe\n",
    "    "
   ]
  },
  {
   "cell_type": "code",
   "execution_count": 8,
   "metadata": {
    "_uuid": "854ee6d78d07942aea9118fbb44dbb8fb9fab0e5"
   },
   "outputs": [
    {
     "data": {
      "text/plain": [
       "type1    237675\n",
       "type2    138470\n",
       "type5      4958\n",
       "type4      3089\n",
       "type3      2726\n",
       "NaN        2374\n",
       "Name: channel_type, dtype: int64"
      ]
     },
     "execution_count": 8,
     "metadata": {},
     "output_type": "execute_result"
    }
   ],
   "source": [
    "transactions_train.channel_type.value_counts(dropna=False)"
   ]
  },
  {
   "cell_type": "code",
   "execution_count": 9,
   "metadata": {
    "_uuid": "ade83cf9c0dd19d1d69f1d2d8787d71c0cf35ef3"
   },
   "outputs": [],
   "source": [
    "raw_df_grouped = raw_df[\n",
    "    ['cl_id', 'amount', 'MCC']\n",
    "].groupby(['cl_id', 'MCC']).agg(['sum', 'count'])\n",
    "\n",
    "# aggregated_dataset = raw_df_grouped.unstack().fillna(0)\n",
    "aggregated_dataset = raw_df_grouped.unstack()"
   ]
  },
  {
   "cell_type": "code",
   "execution_count": 10,
   "metadata": {
    "_uuid": "f1e70797beabad8517cc754b395423868f4a5e6f"
   },
   "outputs": [],
   "source": [
    "def transaction_by_day_count(dataset):\n",
    "    dataset['day_of_transaction'] = dataset['TRDATETIME'].apply( lambda x: (datetime.datetime.strptime(x, '%d%b%y:%H:%M:%S')).strftime('%w') ) \n",
    "    tmp_df = dataset.groupby(['cl_id','day_of_transaction'])['day_of_transaction'].size().unstack().fillna(0).reset_index()\n",
    "    old_columns = [old_col for old_col in tmp_df.columns.tolist() if old_col in dataset['day_of_transaction'].unique()]\n",
    "    tmp_df.rename(columns={old_col: 'day_' + old_col for old_col in old_columns}, inplace=True)\n",
    "    return tmp_df\n",
    "    \n",
    "    \n",
    "\n",
    "def transaction_by_hour_count(dataset):\n",
    "    dataset['hour_of_transaction'] = dataset['TRDATETIME'].apply( lambda x: (datetime.datetime.strptime(x, '%d%b%y:%H:%M:%S')).strftime('%H') ) \n",
    "    return dataset.groupby(['cl_id','hour_of_transaction'])['hour_of_transaction'].size().unstack().fillna(0).reset_index()"
   ]
  },
  {
   "cell_type": "code",
   "execution_count": 11,
   "metadata": {
    "_uuid": "2d595c3349f12cf82294688a12703d50446fedd7"
   },
   "outputs": [
    {
     "data": {
      "text/html": [
       "<div>\n",
       "<style scoped>\n",
       "    .dataframe tbody tr th:only-of-type {\n",
       "        vertical-align: middle;\n",
       "    }\n",
       "\n",
       "    .dataframe tbody tr th {\n",
       "        vertical-align: top;\n",
       "    }\n",
       "\n",
       "    .dataframe thead th {\n",
       "        text-align: right;\n",
       "    }\n",
       "</style>\n",
       "<table border=\"1\" class=\"dataframe\">\n",
       "  <thead>\n",
       "    <tr style=\"text-align: right;\">\n",
       "      <th>day_of_transaction</th>\n",
       "      <th>cl_id</th>\n",
       "      <th>day_0</th>\n",
       "      <th>day_1</th>\n",
       "      <th>day_2</th>\n",
       "      <th>day_3</th>\n",
       "      <th>day_4</th>\n",
       "      <th>day_5</th>\n",
       "      <th>day_6</th>\n",
       "    </tr>\n",
       "  </thead>\n",
       "  <tbody>\n",
       "    <tr>\n",
       "      <th>0</th>\n",
       "      <td>0</td>\n",
       "      <td>0.0</td>\n",
       "      <td>0.0</td>\n",
       "      <td>2.0</td>\n",
       "      <td>0.0</td>\n",
       "      <td>1.0</td>\n",
       "      <td>0.0</td>\n",
       "      <td>2.0</td>\n",
       "    </tr>\n",
       "    <tr>\n",
       "      <th>1</th>\n",
       "      <td>1</td>\n",
       "      <td>7.0</td>\n",
       "      <td>20.0</td>\n",
       "      <td>20.0</td>\n",
       "      <td>16.0</td>\n",
       "      <td>16.0</td>\n",
       "      <td>10.0</td>\n",
       "      <td>15.0</td>\n",
       "    </tr>\n",
       "    <tr>\n",
       "      <th>2</th>\n",
       "      <td>5</td>\n",
       "      <td>15.0</td>\n",
       "      <td>19.0</td>\n",
       "      <td>19.0</td>\n",
       "      <td>15.0</td>\n",
       "      <td>25.0</td>\n",
       "      <td>24.0</td>\n",
       "      <td>25.0</td>\n",
       "    </tr>\n",
       "    <tr>\n",
       "      <th>3</th>\n",
       "      <td>9</td>\n",
       "      <td>5.0</td>\n",
       "      <td>8.0</td>\n",
       "      <td>7.0</td>\n",
       "      <td>5.0</td>\n",
       "      <td>6.0</td>\n",
       "      <td>4.0</td>\n",
       "      <td>4.0</td>\n",
       "    </tr>\n",
       "    <tr>\n",
       "      <th>4</th>\n",
       "      <td>10</td>\n",
       "      <td>74.0</td>\n",
       "      <td>35.0</td>\n",
       "      <td>62.0</td>\n",
       "      <td>68.0</td>\n",
       "      <td>65.0</td>\n",
       "      <td>57.0</td>\n",
       "      <td>102.0</td>\n",
       "    </tr>\n",
       "  </tbody>\n",
       "</table>\n",
       "</div>"
      ],
      "text/plain": [
       "day_of_transaction  cl_id  day_0  day_1  ...    day_4  day_5  day_6\n",
       "0                       0    0.0    0.0  ...      1.0    0.0    2.0\n",
       "1                       1    7.0   20.0  ...     16.0   10.0   15.0\n",
       "2                       5   15.0   19.0  ...     25.0   24.0   25.0\n",
       "3                       9    5.0    8.0  ...      6.0    4.0    4.0\n",
       "4                      10   74.0   35.0  ...     65.0   57.0  102.0\n",
       "\n",
       "[5 rows x 8 columns]"
      ]
     },
     "execution_count": 11,
     "metadata": {},
     "output_type": "execute_result"
    }
   ],
   "source": [
    "transaction_by_day_count(raw_df).head()"
   ]
  },
  {
   "cell_type": "code",
   "execution_count": 12,
   "metadata": {
    "_uuid": "68c5a0b2f3aee1e2f3ca7a679f6a72553f9559f1"
   },
   "outputs": [],
   "source": [
    "import sqlite3"
   ]
  },
  {
   "cell_type": "code",
   "execution_count": 13,
   "metadata": {
    "_uuid": "9234089ad4c542bebad88ea0ea742fd514abefac"
   },
   "outputs": [],
   "source": [
    "conn = sqlite3.connect('transaction.db')"
   ]
  },
  {
   "cell_type": "code",
   "execution_count": 14,
   "metadata": {
    "_uuid": "72ed7d6827dd16965a3f4c559a1ee6d67f2b43ad"
   },
   "outputs": [],
   "source": [
    "raw_df.to_sql('transactions_raw', if_exists = 'replace', con = conn)"
   ]
  },
  {
   "cell_type": "code",
   "execution_count": 15,
   "metadata": {
    "_uuid": "77aeb94ae5f6e3f8c11d06c07fa8c2dec84693b7"
   },
   "outputs": [],
   "source": [
    "check = pd.io.sql.read_sql(\"\"\"\n",
    "    select * from transactions_raw limit 100\n",
    "    \"\"\", conn\n",
    ")"
   ]
  },
  {
   "cell_type": "code",
   "execution_count": 16,
   "metadata": {
    "_uuid": "c0bb752e366e3257ad1a634980932329bb736d15"
   },
   "outputs": [
    {
     "data": {
      "text/html": [
       "<div>\n",
       "<style scoped>\n",
       "    .dataframe tbody tr th:only-of-type {\n",
       "        vertical-align: middle;\n",
       "    }\n",
       "\n",
       "    .dataframe tbody tr th {\n",
       "        vertical-align: top;\n",
       "    }\n",
       "\n",
       "    .dataframe thead th {\n",
       "        text-align: right;\n",
       "    }\n",
       "</style>\n",
       "<table border=\"1\" class=\"dataframe\">\n",
       "  <thead>\n",
       "    <tr style=\"text-align: right;\">\n",
       "      <th></th>\n",
       "      <th>count(*)</th>\n",
       "      <th>count(distinct cl_id)</th>\n",
       "    </tr>\n",
       "  </thead>\n",
       "  <tbody>\n",
       "    <tr>\n",
       "      <th>0</th>\n",
       "      <td>490513</td>\n",
       "      <td>5000</td>\n",
       "    </tr>\n",
       "  </tbody>\n",
       "</table>\n",
       "</div>"
      ],
      "text/plain": [
       "   count(*)  count(distinct cl_id)\n",
       "0    490513                   5000"
      ]
     },
     "execution_count": 16,
     "metadata": {},
     "output_type": "execute_result"
    }
   ],
   "source": [
    "pd.io.sql.read_sql(\"\"\"\n",
    "    select count(*), count(distinct cl_id) from transactions_raw\n",
    "    \"\"\", conn\n",
    ")"
   ]
  },
  {
   "cell_type": "code",
   "execution_count": 17,
   "metadata": {
    "_uuid": "a85926c3048de31d856c131f6b41d5e825ba995b"
   },
   "outputs": [],
   "source": [
    "datamart_check = pd.io.sql.read_sql(\"\"\"\n",
    "    select\n",
    "        cl_id,\n",
    "        target_flag,\n",
    "        sum(case when MCC = 5411 then amount else 0 end) as MCC_5411,\n",
    "        sum(case when MCC = 6011 then amount else 0 end) as MCC_6011,\n",
    "        sum(case when MCC = 5814 then amount else 0 end) as MCC_5814,\n",
    "        sum(case when MCC = 5812 then amount else 0 end) as MCC_5812,\n",
    "        sum(case when MCC = 5499 then amount else 0 end) as MCC_5499\n",
    "    from transactions_raw\n",
    "    group by 1, 2\n",
    "    order by 1\n",
    "    \"\"\", conn\n",
    ")"
   ]
  },
  {
   "cell_type": "code",
   "execution_count": 18,
   "metadata": {
    "_uuid": "2719c016862622ca410151f9303b7d4da10d83a0"
   },
   "outputs": [
    {
     "data": {
      "text/plain": [
       "(5000, 7)"
      ]
     },
     "execution_count": 18,
     "metadata": {},
     "output_type": "execute_result"
    }
   ],
   "source": [
    "datamart_check.shape"
   ]
  },
  {
   "cell_type": "code",
   "execution_count": 19,
   "metadata": {
    "_uuid": "1476844c4feec79a38406f75d83e380dd922e9a5"
   },
   "outputs": [
    {
     "data": {
      "text/html": [
       "<div>\n",
       "<style scoped>\n",
       "    .dataframe tbody tr th:only-of-type {\n",
       "        vertical-align: middle;\n",
       "    }\n",
       "\n",
       "    .dataframe tbody tr th {\n",
       "        vertical-align: top;\n",
       "    }\n",
       "\n",
       "    .dataframe thead th {\n",
       "        text-align: right;\n",
       "    }\n",
       "</style>\n",
       "<table border=\"1\" class=\"dataframe\">\n",
       "  <thead>\n",
       "    <tr style=\"text-align: right;\">\n",
       "      <th></th>\n",
       "      <th>cl_id</th>\n",
       "      <th>target_flag</th>\n",
       "      <th>MCC_5411</th>\n",
       "      <th>MCC_6011</th>\n",
       "      <th>MCC_5814</th>\n",
       "      <th>MCC_5812</th>\n",
       "      <th>MCC_5499</th>\n",
       "    </tr>\n",
       "  </thead>\n",
       "  <tbody>\n",
       "    <tr>\n",
       "      <th>0</th>\n",
       "      <td>0</td>\n",
       "      <td>0</td>\n",
       "      <td>2031.00</td>\n",
       "      <td>20000.0</td>\n",
       "      <td>0.00</td>\n",
       "      <td>0.00</td>\n",
       "      <td>0.00</td>\n",
       "    </tr>\n",
       "    <tr>\n",
       "      <th>1</th>\n",
       "      <td>1</td>\n",
       "      <td>0</td>\n",
       "      <td>14629.46</td>\n",
       "      <td>145000.0</td>\n",
       "      <td>82441.17</td>\n",
       "      <td>3180.01</td>\n",
       "      <td>492.80</td>\n",
       "    </tr>\n",
       "    <tr>\n",
       "      <th>2</th>\n",
       "      <td>5</td>\n",
       "      <td>1</td>\n",
       "      <td>44925.40</td>\n",
       "      <td>208000.0</td>\n",
       "      <td>247.00</td>\n",
       "      <td>3309.00</td>\n",
       "      <td>7196.70</td>\n",
       "    </tr>\n",
       "    <tr>\n",
       "      <th>3</th>\n",
       "      <td>9</td>\n",
       "      <td>0</td>\n",
       "      <td>39.00</td>\n",
       "      <td>540000.0</td>\n",
       "      <td>0.00</td>\n",
       "      <td>0.00</td>\n",
       "      <td>0.00</td>\n",
       "    </tr>\n",
       "    <tr>\n",
       "      <th>4</th>\n",
       "      <td>10</td>\n",
       "      <td>0</td>\n",
       "      <td>53920.36</td>\n",
       "      <td>854000.0</td>\n",
       "      <td>2010.00</td>\n",
       "      <td>319.00</td>\n",
       "      <td>13225.02</td>\n",
       "    </tr>\n",
       "  </tbody>\n",
       "</table>\n",
       "</div>"
      ],
      "text/plain": [
       "   cl_id  target_flag  MCC_5411    ...     MCC_5814  MCC_5812  MCC_5499\n",
       "0      0            0   2031.00    ...         0.00      0.00      0.00\n",
       "1      1            0  14629.46    ...     82441.17   3180.01    492.80\n",
       "2      5            1  44925.40    ...       247.00   3309.00   7196.70\n",
       "3      9            0     39.00    ...         0.00      0.00      0.00\n",
       "4     10            0  53920.36    ...      2010.00    319.00  13225.02\n",
       "\n",
       "[5 rows x 7 columns]"
      ]
     },
     "execution_count": 19,
     "metadata": {},
     "output_type": "execute_result"
    }
   ],
   "source": [
    "datamart_check.head()"
   ]
  },
  {
   "cell_type": "code",
   "execution_count": 20,
   "metadata": {
    "_uuid": "145b7e3c80213c5f7b38f3dad5d22fc0e23bb238"
   },
   "outputs": [
    {
     "name": "stdout",
     "output_type": "stream",
     "text": [
      "sum(case when MCC = 5411 then amount else 0 end) as MCC_5411\n",
      "sum(case when MCC = 6011 then amount else 0 end) as MCC_6011\n",
      "sum(case when MCC = 5814 then amount else 0 end) as MCC_5814\n",
      "sum(case when MCC = 5812 then amount else 0 end) as MCC_5812\n",
      "sum(case when MCC = 5499 then amount else 0 end) as MCC_5499\n"
     ]
    }
   ],
   "source": [
    "MCC_list = raw_df.MCC.value_counts().head().index.tolist()\n",
    "for MCC_code in MCC_list:\n",
    "    print(\n",
    "        'sum(case when MCC = {0} then amount else 0 end) as MCC_{0}'.format(MCC_code)\n",
    "    )"
   ]
  },
  {
   "cell_type": "code",
   "execution_count": 21,
   "metadata": {
    "_uuid": "ba813f2225bff64b7a1c563ffcb2a578bb8c8224"
   },
   "outputs": [
    {
     "data": {
      "text/plain": [
       "POS               329901\n",
       "DEPOSIT            16741\n",
       "WD_ATM_ROS         15411\n",
       "WD_ATM_PARTNER      7896\n",
       "C2C_IN              6053\n",
       "WD_ATM_OTHER        5630\n",
       "C2C_OUT             4493\n",
       "BACK_TRX            2158\n",
       "CAT                  994\n",
       "CASH_ADV              15\n",
       "Name: trx_category, dtype: int64"
      ]
     },
     "execution_count": 21,
     "metadata": {},
     "output_type": "execute_result"
    }
   ],
   "source": [
    "# 1) общая сумма транзакций по каждой из trx_category\n",
    "transactions_train.trx_category.value_counts()"
   ]
  },
  {
   "cell_type": "code",
   "execution_count": 22,
   "metadata": {
    "_uuid": "5d002e3dc66ab776e922a89591c4f6a775daa814"
   },
   "outputs": [
    {
     "data": {
      "text/plain": [
       "POS               86524\n",
       "DEPOSIT            4475\n",
       "WD_ATM_ROS         3693\n",
       "WD_ATM_PARTNER     2052\n",
       "WD_ATM_OTHER       1510\n",
       "C2C_IN             1253\n",
       "C2C_OUT             963\n",
       "BACK_TRX            529\n",
       "CAT                 203\n",
       "CASH_ADV             19\n",
       "Name: trx_category, dtype: int64"
      ]
     },
     "execution_count": 22,
     "metadata": {},
     "output_type": "execute_result"
    }
   ],
   "source": [
    "transactions_test.trx_category.value_counts()"
   ]
  },
  {
   "cell_type": "code",
   "execution_count": 23,
   "metadata": {
    "_uuid": "c1bf1b47b571f53ac543994219abc613db811d28"
   },
   "outputs": [
    {
     "data": {
      "text/html": [
       "<div>\n",
       "<style scoped>\n",
       "    .dataframe tbody tr th:only-of-type {\n",
       "        vertical-align: middle;\n",
       "    }\n",
       "\n",
       "    .dataframe tbody tr th {\n",
       "        vertical-align: top;\n",
       "    }\n",
       "\n",
       "    .dataframe thead th {\n",
       "        text-align: right;\n",
       "    }\n",
       "</style>\n",
       "<table border=\"1\" class=\"dataframe\">\n",
       "  <thead>\n",
       "    <tr style=\"text-align: right;\">\n",
       "      <th></th>\n",
       "      <th>amount</th>\n",
       "    </tr>\n",
       "    <tr>\n",
       "      <th>currency</th>\n",
       "      <th></th>\n",
       "    </tr>\n",
       "  </thead>\n",
       "  <tbody>\n",
       "    <tr>\n",
       "      <th>810</th>\n",
       "      <td>379104</td>\n",
       "    </tr>\n",
       "    <tr>\n",
       "      <th>978</th>\n",
       "      <td>4399</td>\n",
       "    </tr>\n",
       "    <tr>\n",
       "      <th>840</th>\n",
       "      <td>1539</td>\n",
       "    </tr>\n",
       "    <tr>\n",
       "      <th>933</th>\n",
       "      <td>403</td>\n",
       "    </tr>\n",
       "    <tr>\n",
       "      <th>203</th>\n",
       "      <td>356</td>\n",
       "    </tr>\n",
       "  </tbody>\n",
       "</table>\n",
       "</div>"
      ],
      "text/plain": [
       "          amount\n",
       "currency        \n",
       "810       379104\n",
       "978         4399\n",
       "840         1539\n",
       "933          403\n",
       "203          356"
      ]
     },
     "execution_count": 23,
     "metadata": {},
     "output_type": "execute_result"
    }
   ],
   "source": [
    "# общая сумма транзакции по основным вылютам (напр. выделить рубли, доллары и евро \n",
    "# - предположительно, это будут самые крупные категории)\n",
    "# 810 - RUR\n",
    "# 978 - EUR\n",
    "# 840 - USD\n",
    "\n",
    "# количество транзакций \n",
    "transactions_train[['currency', 'amount']].groupby('currency').count().sort_values(by='amount', ascending = False).head()"
   ]
  },
  {
   "cell_type": "code",
   "execution_count": 24,
   "metadata": {
    "_uuid": "bc51e6c9de3c8ac32d4cdd449a40a03d69626d5b"
   },
   "outputs": [
    {
     "data": {
      "text/html": [
       "<div>\n",
       "<style scoped>\n",
       "    .dataframe tbody tr th:only-of-type {\n",
       "        vertical-align: middle;\n",
       "    }\n",
       "\n",
       "    .dataframe tbody tr th {\n",
       "        vertical-align: top;\n",
       "    }\n",
       "\n",
       "    .dataframe thead th {\n",
       "        text-align: right;\n",
       "    }\n",
       "</style>\n",
       "<table border=\"1\" class=\"dataframe\">\n",
       "  <thead>\n",
       "    <tr style=\"text-align: right;\">\n",
       "      <th></th>\n",
       "      <th>amount</th>\n",
       "    </tr>\n",
       "    <tr>\n",
       "      <th>currency</th>\n",
       "      <th></th>\n",
       "    </tr>\n",
       "  </thead>\n",
       "  <tbody>\n",
       "    <tr>\n",
       "      <th>810</th>\n",
       "      <td>2.082123e+09</td>\n",
       "    </tr>\n",
       "    <tr>\n",
       "      <th>704</th>\n",
       "      <td>1.261852e+08</td>\n",
       "    </tr>\n",
       "    <tr>\n",
       "      <th>360</th>\n",
       "      <td>7.182375e+07</td>\n",
       "    </tr>\n",
       "    <tr>\n",
       "      <th>410</th>\n",
       "      <td>1.254262e+07</td>\n",
       "    </tr>\n",
       "    <tr>\n",
       "      <th>392</th>\n",
       "      <td>1.710582e+06</td>\n",
       "    </tr>\n",
       "  </tbody>\n",
       "</table>\n",
       "</div>"
      ],
      "text/plain": [
       "                amount\n",
       "currency              \n",
       "810       2.082123e+09\n",
       "704       1.261852e+08\n",
       "360       7.182375e+07\n",
       "410       1.254262e+07\n",
       "392       1.710582e+06"
      ]
     },
     "execution_count": 24,
     "metadata": {},
     "output_type": "execute_result"
    }
   ],
   "source": [
    "# сумма по каждму виду валюты - количество денег\n",
    "transactions_train[['currency', 'amount']].groupby('currency').sum().sort_values(by='amount', ascending = False).head()"
   ]
  },
  {
   "cell_type": "code",
   "execution_count": 25,
   "metadata": {
    "_uuid": "ad97b4f85c89f81916abb0f87650f73018a66bed"
   },
   "outputs": [
    {
     "data": {
      "text/plain": [
       "5411    96229\n",
       "6011    43320\n",
       "5814    32030\n",
       "5812    23836\n",
       "5499    22094\n",
       "Name: MCC, dtype: int64"
      ]
     },
     "execution_count": 25,
     "metadata": {},
     "output_type": "execute_result"
    }
   ],
   "source": [
    "transactions_train.MCC.value_counts().head()"
   ]
  },
  {
   "cell_type": "code",
   "execution_count": 26,
   "metadata": {
    "_uuid": "6b54641449519f16502f005fc36d9c762d99df1b"
   },
   "outputs": [
    {
     "data": {
      "text/plain": [
       "5411    25411\n",
       "6011    11062\n",
       "5814     9321\n",
       "5812     6191\n",
       "5499     5143\n",
       "Name: MCC, dtype: int64"
      ]
     },
     "execution_count": 26,
     "metadata": {},
     "output_type": "execute_result"
    }
   ],
   "source": [
    "transactions_test.MCC.value_counts().head()"
   ]
  },
  {
   "cell_type": "code",
   "execution_count": 27,
   "metadata": {
    "_uuid": "95c64e744264d4c574521da2f51f5a61320534ef"
   },
   "outputs": [
    {
     "data": {
      "text/html": [
       "<div>\n",
       "<style scoped>\n",
       "    .dataframe tbody tr th:only-of-type {\n",
       "        vertical-align: middle;\n",
       "    }\n",
       "\n",
       "    .dataframe tbody tr th {\n",
       "        vertical-align: top;\n",
       "    }\n",
       "\n",
       "    .dataframe thead th {\n",
       "        text-align: right;\n",
       "    }\n",
       "</style>\n",
       "<table border=\"1\" class=\"dataframe\">\n",
       "  <thead>\n",
       "    <tr style=\"text-align: right;\">\n",
       "      <th></th>\n",
       "      <th>PERIOD</th>\n",
       "      <th>cl_id</th>\n",
       "      <th>MCC</th>\n",
       "      <th>channel_type</th>\n",
       "      <th>currency</th>\n",
       "      <th>TRDATETIME</th>\n",
       "      <th>amount</th>\n",
       "      <th>trx_category</th>\n",
       "      <th>target_flag</th>\n",
       "      <th>target_sum</th>\n",
       "    </tr>\n",
       "  </thead>\n",
       "  <tbody>\n",
       "    <tr>\n",
       "      <th>109</th>\n",
       "      <td>01/06/2017</td>\n",
       "      <td>5</td>\n",
       "      <td>5944</td>\n",
       "      <td>NaN</td>\n",
       "      <td>810</td>\n",
       "      <td>18JUN17:00:00:00</td>\n",
       "      <td>3719.00</td>\n",
       "      <td>POS</td>\n",
       "      <td>1</td>\n",
       "      <td>326211.75</td>\n",
       "    </tr>\n",
       "    <tr>\n",
       "      <th>110</th>\n",
       "      <td>01/06/2017</td>\n",
       "      <td>5</td>\n",
       "      <td>6012</td>\n",
       "      <td>NaN</td>\n",
       "      <td>810</td>\n",
       "      <td>14JUN17:00:00:00</td>\n",
       "      <td>10000.00</td>\n",
       "      <td>C2C_OUT</td>\n",
       "      <td>1</td>\n",
       "      <td>326211.75</td>\n",
       "    </tr>\n",
       "    <tr>\n",
       "      <th>111</th>\n",
       "      <td>01/04/2017</td>\n",
       "      <td>5</td>\n",
       "      <td>5621</td>\n",
       "      <td>NaN</td>\n",
       "      <td>810</td>\n",
       "      <td>06APR17:00:00:00</td>\n",
       "      <td>1399.00</td>\n",
       "      <td>POS</td>\n",
       "      <td>1</td>\n",
       "      <td>326211.75</td>\n",
       "    </tr>\n",
       "    <tr>\n",
       "      <th>112</th>\n",
       "      <td>01/06/2017</td>\n",
       "      <td>5</td>\n",
       "      <td>5691</td>\n",
       "      <td>NaN</td>\n",
       "      <td>810</td>\n",
       "      <td>17JUN17:00:00:00</td>\n",
       "      <td>3190.00</td>\n",
       "      <td>POS</td>\n",
       "      <td>1</td>\n",
       "      <td>326211.75</td>\n",
       "    </tr>\n",
       "    <tr>\n",
       "      <th>113</th>\n",
       "      <td>01/04/2017</td>\n",
       "      <td>5</td>\n",
       "      <td>5499</td>\n",
       "      <td>NaN</td>\n",
       "      <td>810</td>\n",
       "      <td>25APR17:00:00:00</td>\n",
       "      <td>1387.61</td>\n",
       "      <td>POS</td>\n",
       "      <td>1</td>\n",
       "      <td>326211.75</td>\n",
       "    </tr>\n",
       "  </tbody>\n",
       "</table>\n",
       "</div>"
      ],
      "text/plain": [
       "         PERIOD  cl_id   MCC    ...     trx_category  target_flag target_sum\n",
       "109  01/06/2017      5  5944    ...              POS            1  326211.75\n",
       "110  01/06/2017      5  6012    ...          C2C_OUT            1  326211.75\n",
       "111  01/04/2017      5  5621    ...              POS            1  326211.75\n",
       "112  01/06/2017      5  5691    ...              POS            1  326211.75\n",
       "113  01/04/2017      5  5499    ...              POS            1  326211.75\n",
       "\n",
       "[5 rows x 10 columns]"
      ]
     },
     "execution_count": 27,
     "metadata": {},
     "output_type": "execute_result"
    }
   ],
   "source": [
    "transactions_test.head()"
   ]
  },
  {
   "cell_type": "code",
   "execution_count": 28,
   "metadata": {
    "_uuid": "0463f4baf2954bbd763e844256e5d1c8ac424e58"
   },
   "outputs": [
    {
     "data": {
      "text/html": [
       "<div>\n",
       "<style scoped>\n",
       "    .dataframe tbody tr th:only-of-type {\n",
       "        vertical-align: middle;\n",
       "    }\n",
       "\n",
       "    .dataframe tbody tr th {\n",
       "        vertical-align: top;\n",
       "    }\n",
       "\n",
       "    .dataframe thead th {\n",
       "        text-align: right;\n",
       "    }\n",
       "</style>\n",
       "<table border=\"1\" class=\"dataframe\">\n",
       "  <thead>\n",
       "    <tr style=\"text-align: right;\">\n",
       "      <th></th>\n",
       "      <th>TRDATETIME</th>\n",
       "    </tr>\n",
       "    <tr>\n",
       "      <th>hour_of_transaction</th>\n",
       "      <th></th>\n",
       "    </tr>\n",
       "  </thead>\n",
       "  <tbody>\n",
       "    <tr>\n",
       "      <th>00</th>\n",
       "      <td>89880</td>\n",
       "    </tr>\n",
       "    <tr>\n",
       "      <th>01</th>\n",
       "      <td>51</td>\n",
       "    </tr>\n",
       "    <tr>\n",
       "      <th>02</th>\n",
       "      <td>44</td>\n",
       "    </tr>\n",
       "    <tr>\n",
       "      <th>03</th>\n",
       "      <td>81</td>\n",
       "    </tr>\n",
       "    <tr>\n",
       "      <th>04</th>\n",
       "      <td>134</td>\n",
       "    </tr>\n",
       "  </tbody>\n",
       "</table>\n",
       "</div>"
      ],
      "text/plain": [
       "                     TRDATETIME\n",
       "hour_of_transaction            \n",
       "00                        89880\n",
       "01                           51\n",
       "02                           44\n",
       "03                           81\n",
       "04                          134"
      ]
     },
     "execution_count": 28,
     "metadata": {},
     "output_type": "execute_result"
    }
   ],
   "source": [
    "# по времени суток\n",
    "def transaction_hour(dataset):\n",
    "    dataset['hour_of_transaction'] = dataset['TRDATETIME'].apply( lambda x: (datetime.datetime.strptime(x, '%d%b%y:%H:%M:%S')).strftime('%H') ) \n",
    "    return dataset\n",
    "\n",
    "transaction_hour(transactions_test)\n",
    "transactions_test.groupby('hour_of_transaction').count()[['TRDATETIME']].head()"
   ]
  },
  {
   "cell_type": "code",
   "execution_count": 29,
   "metadata": {
    "_uuid": "6dbf686e70968e9ad6b267628ec4b790997aee19",
    "scrolled": true
   },
   "outputs": [
    {
     "data": {
      "text/html": [
       "<div>\n",
       "<style scoped>\n",
       "    .dataframe tbody tr th:only-of-type {\n",
       "        vertical-align: middle;\n",
       "    }\n",
       "\n",
       "    .dataframe tbody tr th {\n",
       "        vertical-align: top;\n",
       "    }\n",
       "\n",
       "    .dataframe thead th {\n",
       "        text-align: right;\n",
       "    }\n",
       "</style>\n",
       "<table border=\"1\" class=\"dataframe\">\n",
       "  <thead>\n",
       "    <tr style=\"text-align: right;\">\n",
       "      <th></th>\n",
       "      <th>TRDATETIME</th>\n",
       "    </tr>\n",
       "    <tr>\n",
       "      <th>day_of_transaction</th>\n",
       "      <th></th>\n",
       "    </tr>\n",
       "  </thead>\n",
       "  <tbody>\n",
       "    <tr>\n",
       "      <th>0</th>\n",
       "      <td>12707</td>\n",
       "    </tr>\n",
       "    <tr>\n",
       "      <th>1</th>\n",
       "      <td>13470</td>\n",
       "    </tr>\n",
       "    <tr>\n",
       "      <th>2</th>\n",
       "      <td>14264</td>\n",
       "    </tr>\n",
       "    <tr>\n",
       "      <th>3</th>\n",
       "      <td>14408</td>\n",
       "    </tr>\n",
       "    <tr>\n",
       "      <th>4</th>\n",
       "      <td>14705</td>\n",
       "    </tr>\n",
       "    <tr>\n",
       "      <th>5</th>\n",
       "      <td>16342</td>\n",
       "    </tr>\n",
       "    <tr>\n",
       "      <th>6</th>\n",
       "      <td>15325</td>\n",
       "    </tr>\n",
       "  </tbody>\n",
       "</table>\n",
       "</div>"
      ],
      "text/plain": [
       "                    TRDATETIME\n",
       "day_of_transaction            \n",
       "0                        12707\n",
       "1                        13470\n",
       "2                        14264\n",
       "3                        14408\n",
       "4                        14705\n",
       "5                        16342\n",
       "6                        15325"
      ]
     },
     "execution_count": 29,
     "metadata": {},
     "output_type": "execute_result"
    }
   ],
   "source": [
    "# дням недели\n",
    "transaction_by_day_count(transactions_test)\n",
    "transactions_test.groupby('day_of_transaction').count()[['TRDATETIME']]"
   ]
  },
  {
   "cell_type": "code",
   "execution_count": 30,
   "metadata": {
    "_uuid": "d1e7ca6b94020c62514e1e16cb6671bab40cdea0"
   },
   "outputs": [
    {
     "data": {
      "text/plain": [
       "<matplotlib.axes._subplots.AxesSubplot at 0x7fedd37e74e0>"
      ]
     },
     "execution_count": 30,
     "metadata": {},
     "output_type": "execute_result"
    },
    {
     "data": {
      "image/png": "[encoded data removed]",
      "text/plain": [
       "<Figure size 432x288 with 1 Axes>"
      ]
     },
     "metadata": {},
     "output_type": "display_data"
    }
   ],
   "source": [
    "transactions_test.groupby('day_of_transaction').count()[['TRDATETIME']].plot()"
   ]
  },
  {
   "cell_type": "code",
   "execution_count": 31,
   "metadata": {
    "_uuid": "77e70b1c2ebc4cf720bbaed03196cec0deb18991"
   },
   "outputs": [
    {
     "data": {
      "text/html": [
       "<div>\n",
       "<style scoped>\n",
       "    .dataframe tbody tr th:only-of-type {\n",
       "        vertical-align: middle;\n",
       "    }\n",
       "\n",
       "    .dataframe tbody tr th {\n",
       "        vertical-align: top;\n",
       "    }\n",
       "\n",
       "    .dataframe thead th {\n",
       "        text-align: right;\n",
       "    }\n",
       "</style>\n",
       "<table border=\"1\" class=\"dataframe\">\n",
       "  <thead>\n",
       "    <tr style=\"text-align: right;\">\n",
       "      <th></th>\n",
       "      <th>TRDATETIME</th>\n",
       "    </tr>\n",
       "    <tr>\n",
       "      <th>day_of_transaction</th>\n",
       "      <th></th>\n",
       "    </tr>\n",
       "  </thead>\n",
       "  <tbody>\n",
       "    <tr>\n",
       "      <th>6</th>\n",
       "      <td>15325</td>\n",
       "    </tr>\n",
       "    <tr>\n",
       "      <th>5</th>\n",
       "      <td>16342</td>\n",
       "    </tr>\n",
       "  </tbody>\n",
       "</table>\n",
       "</div>"
      ],
      "text/plain": [
       "                    TRDATETIME\n",
       "day_of_transaction            \n",
       "6                        15325\n",
       "5                        16342"
      ]
     },
     "execution_count": 31,
     "metadata": {},
     "output_type": "execute_result"
    }
   ],
   "source": [
    "# траты в выходные (праздники) \n",
    "a = transactions_test.groupby('day_of_transaction').count()[['TRDATETIME']].sort_values(by='day_of_transaction', ascending = False).head(2)\n",
    "a"
   ]
  },
  {
   "cell_type": "code",
   "execution_count": 32,
   "metadata": {
    "_uuid": "61b2f73cfec562891a13c3fc477d59fea788ff93"
   },
   "outputs": [
    {
     "data": {
      "text/html": [
       "<div>\n",
       "<style scoped>\n",
       "    .dataframe tbody tr th:only-of-type {\n",
       "        vertical-align: middle;\n",
       "    }\n",
       "\n",
       "    .dataframe tbody tr th {\n",
       "        vertical-align: top;\n",
       "    }\n",
       "\n",
       "    .dataframe thead th {\n",
       "        text-align: right;\n",
       "    }\n",
       "</style>\n",
       "<table border=\"1\" class=\"dataframe\">\n",
       "  <thead>\n",
       "    <tr style=\"text-align: right;\">\n",
       "      <th></th>\n",
       "      <th>TRDATETIME</th>\n",
       "    </tr>\n",
       "    <tr>\n",
       "      <th>day_of_transaction</th>\n",
       "      <th></th>\n",
       "    </tr>\n",
       "  </thead>\n",
       "  <tbody>\n",
       "    <tr>\n",
       "      <th>0</th>\n",
       "      <td>12707</td>\n",
       "    </tr>\n",
       "    <tr>\n",
       "      <th>1</th>\n",
       "      <td>13470</td>\n",
       "    </tr>\n",
       "    <tr>\n",
       "      <th>2</th>\n",
       "      <td>14264</td>\n",
       "    </tr>\n",
       "    <tr>\n",
       "      <th>3</th>\n",
       "      <td>14408</td>\n",
       "    </tr>\n",
       "    <tr>\n",
       "      <th>4</th>\n",
       "      <td>14705</td>\n",
       "    </tr>\n",
       "  </tbody>\n",
       "</table>\n",
       "</div>"
      ],
      "text/plain": [
       "                    TRDATETIME\n",
       "day_of_transaction            \n",
       "0                        12707\n",
       "1                        13470\n",
       "2                        14264\n",
       "3                        14408\n",
       "4                        14705"
      ]
     },
     "execution_count": 32,
     "metadata": {},
     "output_type": "execute_result"
    }
   ],
   "source": [
    "# будни\n",
    "b = transactions_test.groupby('day_of_transaction').count()[['TRDATETIME']].head()\n",
    "b"
   ]
  },
  {
   "cell_type": "code",
   "execution_count": 33,
   "metadata": {
    "_uuid": "6f4672ab1c39d380027629d0012016162474be07"
   },
   "outputs": [
    {
     "data": {
      "text/plain": [
       "Index(['PERIOD', 'cl_id', 'MCC', 'channel_type', 'currency', 'TRDATETIME',\n",
       "       'amount', 'trx_category', 'target_flag', 'target_sum'],\n",
       "      dtype='object')"
      ]
     },
     "execution_count": 33,
     "metadata": {},
     "output_type": "execute_result"
    }
   ],
   "source": [
    "transactions_train.columns"
   ]
  },
  {
   "cell_type": "code",
   "execution_count": 62,
   "metadata": {
    "_uuid": "1e1ba757db7c50419c1327209cfad829e96d0d66"
   },
   "outputs": [],
   "source": [
    "redused_train_X = transactions_train[['MCC','channel_type','currency', 'amount','trx_category']]\n",
    "redused_train_y = transactions_train.target_flag\n",
    "redused_test_X = transactions_train[['MCC','channel_type','currency', 'amount','trx_category']]\n",
    "redused_test_y = transactions_train.target_flag"
   ]
  },
  {
   "cell_type": "code",
   "execution_count": 35,
   "metadata": {
    "_uuid": "7ca4c9fbe0a80e34bf2fc8e83e747fd78fac4d16"
   },
   "outputs": [
    {
     "data": {
      "text/html": [
       "<div>\n",
       "<style scoped>\n",
       "    .dataframe tbody tr th:only-of-type {\n",
       "        vertical-align: middle;\n",
       "    }\n",
       "\n",
       "    .dataframe tbody tr th {\n",
       "        vertical-align: top;\n",
       "    }\n",
       "\n",
       "    .dataframe thead th {\n",
       "        text-align: right;\n",
       "    }\n",
       "</style>\n",
       "<table border=\"1\" class=\"dataframe\">\n",
       "  <thead>\n",
       "    <tr style=\"text-align: right;\">\n",
       "      <th></th>\n",
       "      <th>MCC</th>\n",
       "      <th>channel_type</th>\n",
       "      <th>currency</th>\n",
       "      <th>amount</th>\n",
       "      <th>trx_category</th>\n",
       "    </tr>\n",
       "  </thead>\n",
       "  <tbody>\n",
       "    <tr>\n",
       "      <th>0</th>\n",
       "      <td>5200</td>\n",
       "      <td>NaN</td>\n",
       "      <td>810</td>\n",
       "      <td>5023.0</td>\n",
       "      <td>POS</td>\n",
       "    </tr>\n",
       "    <tr>\n",
       "      <th>1</th>\n",
       "      <td>6011</td>\n",
       "      <td>NaN</td>\n",
       "      <td>810</td>\n",
       "      <td>20000.0</td>\n",
       "      <td>DEPOSIT</td>\n",
       "    </tr>\n",
       "    <tr>\n",
       "      <th>2</th>\n",
       "      <td>5921</td>\n",
       "      <td>NaN</td>\n",
       "      <td>810</td>\n",
       "      <td>767.0</td>\n",
       "      <td>POS</td>\n",
       "    </tr>\n",
       "    <tr>\n",
       "      <th>3</th>\n",
       "      <td>5411</td>\n",
       "      <td>NaN</td>\n",
       "      <td>810</td>\n",
       "      <td>2031.0</td>\n",
       "      <td>POS</td>\n",
       "    </tr>\n",
       "    <tr>\n",
       "      <th>4</th>\n",
       "      <td>6012</td>\n",
       "      <td>NaN</td>\n",
       "      <td>810</td>\n",
       "      <td>36562.0</td>\n",
       "      <td>C2C_OUT</td>\n",
       "    </tr>\n",
       "  </tbody>\n",
       "</table>\n",
       "</div>"
      ],
      "text/plain": [
       "    MCC channel_type  currency   amount trx_category\n",
       "0  5200          NaN       810   5023.0          POS\n",
       "1  6011          NaN       810  20000.0      DEPOSIT\n",
       "2  5921          NaN       810    767.0          POS\n",
       "3  5411          NaN       810   2031.0          POS\n",
       "4  6012          NaN       810  36562.0      C2C_OUT"
      ]
     },
     "execution_count": 35,
     "metadata": {},
     "output_type": "execute_result"
    }
   ],
   "source": [
    "redused_train_X.head()"
   ]
  },
  {
   "cell_type": "code",
   "execution_count": 63,
   "metadata": {
    "_uuid": "12f645c5ec36748a8ba21243faa4ac4e695a91bd"
   },
   "outputs": [
    {
     "name": "stderr",
     "output_type": "stream",
     "text": [
      "/opt/conda/lib/python3.6/site-packages/ipykernel_launcher.py:1: SettingWithCopyWarning: \n",
      "A value is trying to be set on a copy of a slice from a DataFrame\n",
      "\n",
      "See the caveats in the documentation: http://pandas.pydata.org/pandas-docs/stable/indexing.html#indexing-view-versus-copy\n",
      "  \"\"\"Entry point for launching an IPython kernel.\n",
      "/opt/conda/lib/python3.6/site-packages/pandas/core/generic.py:7626: SettingWithCopyWarning: \n",
      "A value is trying to be set on a copy of a slice from a DataFrame\n",
      "\n",
      "See the caveats in the documentation: http://pandas.pydata.org/pandas-docs/stable/indexing.html#indexing-view-versus-copy\n",
      "  self._update_inplace(new_data)\n",
      "/opt/conda/lib/python3.6/site-packages/IPython/core/interactiveshell.py:2963: SettingWithCopyWarning: \n",
      "A value is trying to be set on a copy of a slice from a DataFrame\n",
      "\n",
      "See the caveats in the documentation: http://pandas.pydata.org/pandas-docs/stable/indexing.html#indexing-view-versus-copy\n",
      "  exec(code_obj, self.user_global_ns, self.user_ns)\n",
      "/opt/conda/lib/python3.6/site-packages/ipykernel_launcher.py:2: SettingWithCopyWarning: \n",
      "A value is trying to be set on a copy of a slice from a DataFrame\n",
      "\n",
      "See the caveats in the documentation: http://pandas.pydata.org/pandas-docs/stable/indexing.html#indexing-view-versus-copy\n",
      "  \n"
     ]
    }
   ],
   "source": [
    "redused_train_X.channel_type[redused_train_X.channel_type.isnull()]='type6'\n",
    "redused_test_X.channel_type[redused_test_X.channel_type.isnull()]='type6'\n",
    "#.value_counts(dropna=False)"
   ]
  },
  {
   "cell_type": "code",
   "execution_count": 37,
   "metadata": {
    "_uuid": "e37b566e64e14b96d346b027bae0c7a855495c50"
   },
   "outputs": [
    {
     "data": {
      "text/plain": [
       "type1    237675\n",
       "type2    138470\n",
       "type5      4958\n",
       "type4      3089\n",
       "type3      2726\n",
       "type6      2374\n",
       "Name: channel_type, dtype: int64"
      ]
     },
     "execution_count": 37,
     "metadata": {},
     "output_type": "execute_result"
    }
   ],
   "source": [
    "redused_train_X.channel_type.value_counts()"
   ]
  },
  {
   "cell_type": "code",
   "execution_count": 38,
   "metadata": {
    "_uuid": "d0da6747e756b3ca1cf70245dbc69752f3d78369"
   },
   "outputs": [
    {
     "name": "stdout",
     "output_type": "stream",
     "text": [
      "<class 'pandas.core.frame.DataFrame'>\n",
      "Int64Index: 389292 entries, 0 to 490512\n",
      "Data columns (total 5 columns):\n",
      "MCC             389292 non-null int64\n",
      "channel_type    389292 non-null object\n",
      "currency        389292 non-null int64\n",
      "amount          389292 non-null float64\n",
      "trx_category    389292 non-null object\n",
      "dtypes: float64(1), int64(2), object(2)\n",
      "memory usage: 17.8+ MB\n"
     ]
    }
   ],
   "source": [
    "redused_train_X.info()"
   ]
  },
  {
   "cell_type": "code",
   "execution_count": 66,
   "metadata": {
    "_uuid": "82194450394c04b2d3b24a86feedf3c34778604a"
   },
   "outputs": [
    {
     "data": {
      "text/html": [
       "<div>\n",
       "<style scoped>\n",
       "    .dataframe tbody tr th:only-of-type {\n",
       "        vertical-align: middle;\n",
       "    }\n",
       "\n",
       "    .dataframe tbody tr th {\n",
       "        vertical-align: top;\n",
       "    }\n",
       "\n",
       "    .dataframe thead th {\n",
       "        text-align: right;\n",
       "    }\n",
       "</style>\n",
       "<table border=\"1\" class=\"dataframe\">\n",
       "  <thead>\n",
       "    <tr style=\"text-align: right;\">\n",
       "      <th></th>\n",
       "      <th>amount</th>\n",
       "      <th>MCC_742</th>\n",
       "      <th>MCC_763</th>\n",
       "      <th>MCC_780</th>\n",
       "      <th>MCC_1520</th>\n",
       "      <th>MCC_1711</th>\n",
       "      <th>MCC_1731</th>\n",
       "      <th>MCC_1750</th>\n",
       "      <th>MCC_1799</th>\n",
       "      <th>MCC_2741</th>\n",
       "      <th>MCC_2842</th>\n",
       "      <th>MCC_3000</th>\n",
       "      <th>MCC_3001</th>\n",
       "      <th>MCC_3005</th>\n",
       "      <th>MCC_3007</th>\n",
       "      <th>MCC_3008</th>\n",
       "      <th>MCC_3010</th>\n",
       "      <th>MCC_3011</th>\n",
       "      <th>MCC_3013</th>\n",
       "      <th>MCC_3015</th>\n",
       "      <th>MCC_3026</th>\n",
       "      <th>MCC_3029</th>\n",
       "      <th>MCC_3032</th>\n",
       "      <th>MCC_3035</th>\n",
       "      <th>MCC_3042</th>\n",
       "      <th>MCC_3047</th>\n",
       "      <th>MCC_3051</th>\n",
       "      <th>MCC_3058</th>\n",
       "      <th>MCC_3064</th>\n",
       "      <th>MCC_3068</th>\n",
       "      <th>MCC_3077</th>\n",
       "      <th>MCC_3098</th>\n",
       "      <th>MCC_3102</th>\n",
       "      <th>MCC_3136</th>\n",
       "      <th>MCC_3181</th>\n",
       "      <th>MCC_3182</th>\n",
       "      <th>MCC_3211</th>\n",
       "      <th>MCC_3217</th>\n",
       "      <th>MCC_3236</th>\n",
       "      <th>MCC_3245</th>\n",
       "      <th>...</th>\n",
       "      <th>currency_498</th>\n",
       "      <th>currency_504</th>\n",
       "      <th>currency_578</th>\n",
       "      <th>currency_604</th>\n",
       "      <th>currency_608</th>\n",
       "      <th>currency_634</th>\n",
       "      <th>currency_643</th>\n",
       "      <th>currency_690</th>\n",
       "      <th>currency_702</th>\n",
       "      <th>currency_704</th>\n",
       "      <th>currency_752</th>\n",
       "      <th>currency_756</th>\n",
       "      <th>currency_764</th>\n",
       "      <th>currency_784</th>\n",
       "      <th>currency_788</th>\n",
       "      <th>currency_810</th>\n",
       "      <th>currency_826</th>\n",
       "      <th>currency_840</th>\n",
       "      <th>currency_901</th>\n",
       "      <th>currency_933</th>\n",
       "      <th>currency_941</th>\n",
       "      <th>currency_944</th>\n",
       "      <th>currency_946</th>\n",
       "      <th>currency_949</th>\n",
       "      <th>currency_975</th>\n",
       "      <th>currency_978</th>\n",
       "      <th>currency_980</th>\n",
       "      <th>currency_981</th>\n",
       "      <th>currency_985</th>\n",
       "      <th>currency_986</th>\n",
       "      <th>trx_category_BACK_TRX</th>\n",
       "      <th>trx_category_C2C_IN</th>\n",
       "      <th>trx_category_C2C_OUT</th>\n",
       "      <th>trx_category_CASH_ADV</th>\n",
       "      <th>trx_category_CAT</th>\n",
       "      <th>trx_category_DEPOSIT</th>\n",
       "      <th>trx_category_POS</th>\n",
       "      <th>trx_category_WD_ATM_OTHER</th>\n",
       "      <th>trx_category_WD_ATM_PARTNER</th>\n",
       "      <th>trx_category_WD_ATM_ROS</th>\n",
       "    </tr>\n",
       "  </thead>\n",
       "  <tbody>\n",
       "    <tr>\n",
       "      <th>0</th>\n",
       "      <td>5023.0</td>\n",
       "      <td>0</td>\n",
       "      <td>0</td>\n",
       "      <td>0</td>\n",
       "      <td>0</td>\n",
       "      <td>0</td>\n",
       "      <td>0</td>\n",
       "      <td>0</td>\n",
       "      <td>0</td>\n",
       "      <td>0</td>\n",
       "      <td>0</td>\n",
       "      <td>0</td>\n",
       "      <td>0</td>\n",
       "      <td>0</td>\n",
       "      <td>0</td>\n",
       "      <td>0</td>\n",
       "      <td>0</td>\n",
       "      <td>0</td>\n",
       "      <td>0</td>\n",
       "      <td>0</td>\n",
       "      <td>0</td>\n",
       "      <td>0</td>\n",
       "      <td>0</td>\n",
       "      <td>0</td>\n",
       "      <td>0</td>\n",
       "      <td>0</td>\n",
       "      <td>0</td>\n",
       "      <td>0</td>\n",
       "      <td>0</td>\n",
       "      <td>0</td>\n",
       "      <td>0</td>\n",
       "      <td>0</td>\n",
       "      <td>0</td>\n",
       "      <td>0</td>\n",
       "      <td>0</td>\n",
       "      <td>0</td>\n",
       "      <td>0</td>\n",
       "      <td>0</td>\n",
       "      <td>0</td>\n",
       "      <td>0</td>\n",
       "      <td>...</td>\n",
       "      <td>0</td>\n",
       "      <td>0</td>\n",
       "      <td>0</td>\n",
       "      <td>0</td>\n",
       "      <td>0</td>\n",
       "      <td>0</td>\n",
       "      <td>0</td>\n",
       "      <td>0</td>\n",
       "      <td>0</td>\n",
       "      <td>0</td>\n",
       "      <td>0</td>\n",
       "      <td>0</td>\n",
       "      <td>0</td>\n",
       "      <td>0</td>\n",
       "      <td>0</td>\n",
       "      <td>1</td>\n",
       "      <td>0</td>\n",
       "      <td>0</td>\n",
       "      <td>0</td>\n",
       "      <td>0</td>\n",
       "      <td>0</td>\n",
       "      <td>0</td>\n",
       "      <td>0</td>\n",
       "      <td>0</td>\n",
       "      <td>0</td>\n",
       "      <td>0</td>\n",
       "      <td>0</td>\n",
       "      <td>0</td>\n",
       "      <td>0</td>\n",
       "      <td>0</td>\n",
       "      <td>0</td>\n",
       "      <td>0</td>\n",
       "      <td>0</td>\n",
       "      <td>0</td>\n",
       "      <td>0</td>\n",
       "      <td>0</td>\n",
       "      <td>1</td>\n",
       "      <td>0</td>\n",
       "      <td>0</td>\n",
       "      <td>0</td>\n",
       "    </tr>\n",
       "    <tr>\n",
       "      <th>1</th>\n",
       "      <td>20000.0</td>\n",
       "      <td>0</td>\n",
       "      <td>0</td>\n",
       "      <td>0</td>\n",
       "      <td>0</td>\n",
       "      <td>0</td>\n",
       "      <td>0</td>\n",
       "      <td>0</td>\n",
       "      <td>0</td>\n",
       "      <td>0</td>\n",
       "      <td>0</td>\n",
       "      <td>0</td>\n",
       "      <td>0</td>\n",
       "      <td>0</td>\n",
       "      <td>0</td>\n",
       "      <td>0</td>\n",
       "      <td>0</td>\n",
       "      <td>0</td>\n",
       "      <td>0</td>\n",
       "      <td>0</td>\n",
       "      <td>0</td>\n",
       "      <td>0</td>\n",
       "      <td>0</td>\n",
       "      <td>0</td>\n",
       "      <td>0</td>\n",
       "      <td>0</td>\n",
       "      <td>0</td>\n",
       "      <td>0</td>\n",
       "      <td>0</td>\n",
       "      <td>0</td>\n",
       "      <td>0</td>\n",
       "      <td>0</td>\n",
       "      <td>0</td>\n",
       "      <td>0</td>\n",
       "      <td>0</td>\n",
       "      <td>0</td>\n",
       "      <td>0</td>\n",
       "      <td>0</td>\n",
       "      <td>0</td>\n",
       "      <td>0</td>\n",
       "      <td>...</td>\n",
       "      <td>0</td>\n",
       "      <td>0</td>\n",
       "      <td>0</td>\n",
       "      <td>0</td>\n",
       "      <td>0</td>\n",
       "      <td>0</td>\n",
       "      <td>0</td>\n",
       "      <td>0</td>\n",
       "      <td>0</td>\n",
       "      <td>0</td>\n",
       "      <td>0</td>\n",
       "      <td>0</td>\n",
       "      <td>0</td>\n",
       "      <td>0</td>\n",
       "      <td>0</td>\n",
       "      <td>1</td>\n",
       "      <td>0</td>\n",
       "      <td>0</td>\n",
       "      <td>0</td>\n",
       "      <td>0</td>\n",
       "      <td>0</td>\n",
       "      <td>0</td>\n",
       "      <td>0</td>\n",
       "      <td>0</td>\n",
       "      <td>0</td>\n",
       "      <td>0</td>\n",
       "      <td>0</td>\n",
       "      <td>0</td>\n",
       "      <td>0</td>\n",
       "      <td>0</td>\n",
       "      <td>0</td>\n",
       "      <td>0</td>\n",
       "      <td>0</td>\n",
       "      <td>0</td>\n",
       "      <td>0</td>\n",
       "      <td>1</td>\n",
       "      <td>0</td>\n",
       "      <td>0</td>\n",
       "      <td>0</td>\n",
       "      <td>0</td>\n",
       "    </tr>\n",
       "    <tr>\n",
       "      <th>2</th>\n",
       "      <td>767.0</td>\n",
       "      <td>0</td>\n",
       "      <td>0</td>\n",
       "      <td>0</td>\n",
       "      <td>0</td>\n",
       "      <td>0</td>\n",
       "      <td>0</td>\n",
       "      <td>0</td>\n",
       "      <td>0</td>\n",
       "      <td>0</td>\n",
       "      <td>0</td>\n",
       "      <td>0</td>\n",
       "      <td>0</td>\n",
       "      <td>0</td>\n",
       "      <td>0</td>\n",
       "      <td>0</td>\n",
       "      <td>0</td>\n",
       "      <td>0</td>\n",
       "      <td>0</td>\n",
       "      <td>0</td>\n",
       "      <td>0</td>\n",
       "      <td>0</td>\n",
       "      <td>0</td>\n",
       "      <td>0</td>\n",
       "      <td>0</td>\n",
       "      <td>0</td>\n",
       "      <td>0</td>\n",
       "      <td>0</td>\n",
       "      <td>0</td>\n",
       "      <td>0</td>\n",
       "      <td>0</td>\n",
       "      <td>0</td>\n",
       "      <td>0</td>\n",
       "      <td>0</td>\n",
       "      <td>0</td>\n",
       "      <td>0</td>\n",
       "      <td>0</td>\n",
       "      <td>0</td>\n",
       "      <td>0</td>\n",
       "      <td>0</td>\n",
       "      <td>...</td>\n",
       "      <td>0</td>\n",
       "      <td>0</td>\n",
       "      <td>0</td>\n",
       "      <td>0</td>\n",
       "      <td>0</td>\n",
       "      <td>0</td>\n",
       "      <td>0</td>\n",
       "      <td>0</td>\n",
       "      <td>0</td>\n",
       "      <td>0</td>\n",
       "      <td>0</td>\n",
       "      <td>0</td>\n",
       "      <td>0</td>\n",
       "      <td>0</td>\n",
       "      <td>0</td>\n",
       "      <td>1</td>\n",
       "      <td>0</td>\n",
       "      <td>0</td>\n",
       "      <td>0</td>\n",
       "      <td>0</td>\n",
       "      <td>0</td>\n",
       "      <td>0</td>\n",
       "      <td>0</td>\n",
       "      <td>0</td>\n",
       "      <td>0</td>\n",
       "      <td>0</td>\n",
       "      <td>0</td>\n",
       "      <td>0</td>\n",
       "      <td>0</td>\n",
       "      <td>0</td>\n",
       "      <td>0</td>\n",
       "      <td>0</td>\n",
       "      <td>0</td>\n",
       "      <td>0</td>\n",
       "      <td>0</td>\n",
       "      <td>0</td>\n",
       "      <td>1</td>\n",
       "      <td>0</td>\n",
       "      <td>0</td>\n",
       "      <td>0</td>\n",
       "    </tr>\n",
       "    <tr>\n",
       "      <th>3</th>\n",
       "      <td>2031.0</td>\n",
       "      <td>0</td>\n",
       "      <td>0</td>\n",
       "      <td>0</td>\n",
       "      <td>0</td>\n",
       "      <td>0</td>\n",
       "      <td>0</td>\n",
       "      <td>0</td>\n",
       "      <td>0</td>\n",
       "      <td>0</td>\n",
       "      <td>0</td>\n",
       "      <td>0</td>\n",
       "      <td>0</td>\n",
       "      <td>0</td>\n",
       "      <td>0</td>\n",
       "      <td>0</td>\n",
       "      <td>0</td>\n",
       "      <td>0</td>\n",
       "      <td>0</td>\n",
       "      <td>0</td>\n",
       "      <td>0</td>\n",
       "      <td>0</td>\n",
       "      <td>0</td>\n",
       "      <td>0</td>\n",
       "      <td>0</td>\n",
       "      <td>0</td>\n",
       "      <td>0</td>\n",
       "      <td>0</td>\n",
       "      <td>0</td>\n",
       "      <td>0</td>\n",
       "      <td>0</td>\n",
       "      <td>0</td>\n",
       "      <td>0</td>\n",
       "      <td>0</td>\n",
       "      <td>0</td>\n",
       "      <td>0</td>\n",
       "      <td>0</td>\n",
       "      <td>0</td>\n",
       "      <td>0</td>\n",
       "      <td>0</td>\n",
       "      <td>...</td>\n",
       "      <td>0</td>\n",
       "      <td>0</td>\n",
       "      <td>0</td>\n",
       "      <td>0</td>\n",
       "      <td>0</td>\n",
       "      <td>0</td>\n",
       "      <td>0</td>\n",
       "      <td>0</td>\n",
       "      <td>0</td>\n",
       "      <td>0</td>\n",
       "      <td>0</td>\n",
       "      <td>0</td>\n",
       "      <td>0</td>\n",
       "      <td>0</td>\n",
       "      <td>0</td>\n",
       "      <td>1</td>\n",
       "      <td>0</td>\n",
       "      <td>0</td>\n",
       "      <td>0</td>\n",
       "      <td>0</td>\n",
       "      <td>0</td>\n",
       "      <td>0</td>\n",
       "      <td>0</td>\n",
       "      <td>0</td>\n",
       "      <td>0</td>\n",
       "      <td>0</td>\n",
       "      <td>0</td>\n",
       "      <td>0</td>\n",
       "      <td>0</td>\n",
       "      <td>0</td>\n",
       "      <td>0</td>\n",
       "      <td>0</td>\n",
       "      <td>0</td>\n",
       "      <td>0</td>\n",
       "      <td>0</td>\n",
       "      <td>0</td>\n",
       "      <td>1</td>\n",
       "      <td>0</td>\n",
       "      <td>0</td>\n",
       "      <td>0</td>\n",
       "    </tr>\n",
       "    <tr>\n",
       "      <th>4</th>\n",
       "      <td>36562.0</td>\n",
       "      <td>0</td>\n",
       "      <td>0</td>\n",
       "      <td>0</td>\n",
       "      <td>0</td>\n",
       "      <td>0</td>\n",
       "      <td>0</td>\n",
       "      <td>0</td>\n",
       "      <td>0</td>\n",
       "      <td>0</td>\n",
       "      <td>0</td>\n",
       "      <td>0</td>\n",
       "      <td>0</td>\n",
       "      <td>0</td>\n",
       "      <td>0</td>\n",
       "      <td>0</td>\n",
       "      <td>0</td>\n",
       "      <td>0</td>\n",
       "      <td>0</td>\n",
       "      <td>0</td>\n",
       "      <td>0</td>\n",
       "      <td>0</td>\n",
       "      <td>0</td>\n",
       "      <td>0</td>\n",
       "      <td>0</td>\n",
       "      <td>0</td>\n",
       "      <td>0</td>\n",
       "      <td>0</td>\n",
       "      <td>0</td>\n",
       "      <td>0</td>\n",
       "      <td>0</td>\n",
       "      <td>0</td>\n",
       "      <td>0</td>\n",
       "      <td>0</td>\n",
       "      <td>0</td>\n",
       "      <td>0</td>\n",
       "      <td>0</td>\n",
       "      <td>0</td>\n",
       "      <td>0</td>\n",
       "      <td>0</td>\n",
       "      <td>...</td>\n",
       "      <td>0</td>\n",
       "      <td>0</td>\n",
       "      <td>0</td>\n",
       "      <td>0</td>\n",
       "      <td>0</td>\n",
       "      <td>0</td>\n",
       "      <td>0</td>\n",
       "      <td>0</td>\n",
       "      <td>0</td>\n",
       "      <td>0</td>\n",
       "      <td>0</td>\n",
       "      <td>0</td>\n",
       "      <td>0</td>\n",
       "      <td>0</td>\n",
       "      <td>0</td>\n",
       "      <td>1</td>\n",
       "      <td>0</td>\n",
       "      <td>0</td>\n",
       "      <td>0</td>\n",
       "      <td>0</td>\n",
       "      <td>0</td>\n",
       "      <td>0</td>\n",
       "      <td>0</td>\n",
       "      <td>0</td>\n",
       "      <td>0</td>\n",
       "      <td>0</td>\n",
       "      <td>0</td>\n",
       "      <td>0</td>\n",
       "      <td>0</td>\n",
       "      <td>0</td>\n",
       "      <td>0</td>\n",
       "      <td>0</td>\n",
       "      <td>1</td>\n",
       "      <td>0</td>\n",
       "      <td>0</td>\n",
       "      <td>0</td>\n",
       "      <td>0</td>\n",
       "      <td>0</td>\n",
       "      <td>0</td>\n",
       "      <td>0</td>\n",
       "    </tr>\n",
       "  </tbody>\n",
       "</table>\n",
       "</div>"
      ],
      "text/plain": [
       "    amount           ...             trx_category_WD_ATM_ROS\n",
       "0   5023.0           ...                                   0\n",
       "1  20000.0           ...                                   0\n",
       "2    767.0           ...                                   0\n",
       "3   2031.0           ...                                   0\n",
       "4  36562.0           ...                                   0\n",
       "\n",
       "[5 rows x 399 columns]"
      ]
     },
     "execution_count": 66,
     "metadata": {},
     "output_type": "execute_result"
    }
   ],
   "source": [
    "redused_train_X_dummy = pd.get_dummies(redused_train_X, columns=['MCC', 'channel_type','currency','trx_category'])\n",
    "redused_test_X_dummy = pd.get_dummies(redused_test_X, columns=['MCC', 'channel_type','currency','trx_category'])\n",
    "redused_train_X_dummy.head()"
   ]
  },
  {
   "cell_type": "code",
   "execution_count": 67,
   "metadata": {
    "_uuid": "272c3ccc4fad1493137d0d6fb06b8be0140d8144"
   },
   "outputs": [],
   "source": [
    "from sklearn.linear_model import LogisticRegression\n",
    "from sklearn.preprocessing import StandardScaler"
   ]
  },
  {
   "cell_type": "code",
   "execution_count": 68,
   "metadata": {
    "_uuid": "aadbfc56b37dc85238da74236167c114c9b06e8d"
   },
   "outputs": [
    {
     "name": "stderr",
     "output_type": "stream",
     "text": [
      "/opt/conda/lib/python3.6/site-packages/sklearn/preprocessing/data.py:625: DataConversionWarning: Data with input dtype uint8, float64 were all converted to float64 by StandardScaler.\n",
      "  return self.partial_fit(X, y)\n"
     ]
    }
   ],
   "source": [
    "scaler = StandardScaler()\n",
    "scaler.fit(redused_train_X_dummy)\n",
    "columns = redused_train_X_dummy.columns"
   ]
  },
  {
   "cell_type": "code",
   "execution_count": 69,
   "metadata": {
    "_uuid": "46d8b7a4a9922732ab65180786cc4f627b5ba78e"
   },
   "outputs": [
    {
     "name": "stderr",
     "output_type": "stream",
     "text": [
      "/opt/conda/lib/python3.6/site-packages/sklearn/preprocessing/data.py:625: DataConversionWarning: Data with input dtype uint8, float64 were all converted to float64 by StandardScaler.\n",
      "  return self.partial_fit(X, y)\n"
     ]
    }
   ],
   "source": [
    "scaler1 = StandardScaler()\n",
    "scaler1.fit(redused_test_X_dummy)\n",
    "columns = redused_test_X_dummy.columns"
   ]
  },
  {
   "cell_type": "code",
   "execution_count": 70,
   "metadata": {
    "_uuid": "4afac4bc6faa4de9b9950b221b7c3dd35cbd76ec"
   },
   "outputs": [
    {
     "name": "stderr",
     "output_type": "stream",
     "text": [
      "/opt/conda/lib/python3.6/site-packages/ipykernel_launcher.py:1: DataConversionWarning: Data with input dtype uint8, float64 were all converted to float64 by StandardScaler.\n",
      "  \"\"\"Entry point for launching an IPython kernel.\n",
      "/opt/conda/lib/python3.6/site-packages/ipykernel_launcher.py:3: DataConversionWarning: Data with input dtype uint8, float64 were all converted to float64 by StandardScaler.\n",
      "  This is separate from the ipykernel package so we can avoid doing imports until\n"
     ]
    }
   ],
   "source": [
    "redused_train_X_dummy_scaled = scaler.transform(redused_train_X_dummy)\n",
    "redused_train_X_dummy_scaled = pd.DataFrame(redused_train_X_dummy_scaled, columns=columns)\n",
    "redused_test_X_dummy_scaled = scaler.transform(redused_test_X_dummy)\n",
    "redused_test_X_dummy_scaled = pd.DataFrame(redused_test_X_dummy_scaled, columns=columns)"
   ]
  },
  {
   "cell_type": "code",
   "execution_count": 61,
   "metadata": {
    "_uuid": "dce1b5a61d89d365d2a6333b8b51b2ab5aca3c3e"
   },
   "outputs": [
    {
     "data": {
      "text/html": [
       "<div>\n",
       "<style scoped>\n",
       "    .dataframe tbody tr th:only-of-type {\n",
       "        vertical-align: middle;\n",
       "    }\n",
       "\n",
       "    .dataframe tbody tr th {\n",
       "        vertical-align: top;\n",
       "    }\n",
       "\n",
       "    .dataframe thead th {\n",
       "        text-align: right;\n",
       "    }\n",
       "</style>\n",
       "<table border=\"1\" class=\"dataframe\">\n",
       "  <thead>\n",
       "    <tr style=\"text-align: right;\">\n",
       "      <th></th>\n",
       "      <th>amount</th>\n",
       "      <th>MCC_742</th>\n",
       "      <th>MCC_763</th>\n",
       "      <th>MCC_780</th>\n",
       "      <th>MCC_1520</th>\n",
       "      <th>MCC_1711</th>\n",
       "      <th>MCC_1731</th>\n",
       "      <th>MCC_1750</th>\n",
       "      <th>MCC_1799</th>\n",
       "      <th>MCC_2741</th>\n",
       "      <th>MCC_2842</th>\n",
       "      <th>MCC_3000</th>\n",
       "      <th>MCC_3001</th>\n",
       "      <th>MCC_3005</th>\n",
       "      <th>MCC_3007</th>\n",
       "      <th>MCC_3008</th>\n",
       "      <th>MCC_3010</th>\n",
       "      <th>MCC_3011</th>\n",
       "      <th>MCC_3013</th>\n",
       "      <th>MCC_3015</th>\n",
       "      <th>MCC_3026</th>\n",
       "      <th>MCC_3029</th>\n",
       "      <th>MCC_3032</th>\n",
       "      <th>MCC_3035</th>\n",
       "      <th>MCC_3042</th>\n",
       "      <th>MCC_3047</th>\n",
       "      <th>MCC_3051</th>\n",
       "      <th>MCC_3058</th>\n",
       "      <th>MCC_3064</th>\n",
       "      <th>MCC_3068</th>\n",
       "      <th>MCC_3077</th>\n",
       "      <th>MCC_3098</th>\n",
       "      <th>MCC_3102</th>\n",
       "      <th>MCC_3136</th>\n",
       "      <th>MCC_3181</th>\n",
       "      <th>MCC_3182</th>\n",
       "      <th>MCC_3211</th>\n",
       "      <th>MCC_3217</th>\n",
       "      <th>MCC_3236</th>\n",
       "      <th>MCC_3245</th>\n",
       "      <th>...</th>\n",
       "      <th>currency_498</th>\n",
       "      <th>currency_504</th>\n",
       "      <th>currency_578</th>\n",
       "      <th>currency_604</th>\n",
       "      <th>currency_608</th>\n",
       "      <th>currency_634</th>\n",
       "      <th>currency_643</th>\n",
       "      <th>currency_690</th>\n",
       "      <th>currency_702</th>\n",
       "      <th>currency_704</th>\n",
       "      <th>currency_752</th>\n",
       "      <th>currency_756</th>\n",
       "      <th>currency_764</th>\n",
       "      <th>currency_784</th>\n",
       "      <th>currency_788</th>\n",
       "      <th>currency_810</th>\n",
       "      <th>currency_826</th>\n",
       "      <th>currency_840</th>\n",
       "      <th>currency_901</th>\n",
       "      <th>currency_933</th>\n",
       "      <th>currency_941</th>\n",
       "      <th>currency_944</th>\n",
       "      <th>currency_946</th>\n",
       "      <th>currency_949</th>\n",
       "      <th>currency_975</th>\n",
       "      <th>currency_978</th>\n",
       "      <th>currency_980</th>\n",
       "      <th>currency_981</th>\n",
       "      <th>currency_985</th>\n",
       "      <th>currency_986</th>\n",
       "      <th>trx_category_BACK_TRX</th>\n",
       "      <th>trx_category_C2C_IN</th>\n",
       "      <th>trx_category_C2C_OUT</th>\n",
       "      <th>trx_category_CASH_ADV</th>\n",
       "      <th>trx_category_CAT</th>\n",
       "      <th>trx_category_DEPOSIT</th>\n",
       "      <th>trx_category_POS</th>\n",
       "      <th>trx_category_WD_ATM_OTHER</th>\n",
       "      <th>trx_category_WD_ATM_PARTNER</th>\n",
       "      <th>trx_category_WD_ATM_ROS</th>\n",
       "    </tr>\n",
       "  </thead>\n",
       "  <tbody>\n",
       "    <tr>\n",
       "      <th>0</th>\n",
       "      <td>-0.010433</td>\n",
       "      <td>-0.011558</td>\n",
       "      <td>-0.005779</td>\n",
       "      <td>-0.003205</td>\n",
       "      <td>-0.005779</td>\n",
       "      <td>-0.008014</td>\n",
       "      <td>-0.003584</td>\n",
       "      <td>-0.004808</td>\n",
       "      <td>-0.004808</td>\n",
       "      <td>-0.003205</td>\n",
       "      <td>-0.002267</td>\n",
       "      <td>-0.003205</td>\n",
       "      <td>-0.004533</td>\n",
       "      <td>-0.003205</td>\n",
       "      <td>-0.002776</td>\n",
       "      <td>-0.005779</td>\n",
       "      <td>-0.005997</td>\n",
       "      <td>-0.035825</td>\n",
       "      <td>-0.004808</td>\n",
       "      <td>-0.003205</td>\n",
       "      <td>-0.001603</td>\n",
       "      <td>-0.001603</td>\n",
       "      <td>-0.00424</td>\n",
       "      <td>-0.002776</td>\n",
       "      <td>-0.002776</td>\n",
       "      <td>-0.005316</td>\n",
       "      <td>-0.001603</td>\n",
       "      <td>-0.005997</td>\n",
       "      <td>-0.001603</td>\n",
       "      <td>-0.002267</td>\n",
       "      <td>-0.002776</td>\n",
       "      <td>-0.002267</td>\n",
       "      <td>-0.003584</td>\n",
       "      <td>-0.004533</td>\n",
       "      <td>-0.001603</td>\n",
       "      <td>-0.003205</td>\n",
       "      <td>-0.002267</td>\n",
       "      <td>-0.002267</td>\n",
       "      <td>-0.001603</td>\n",
       "      <td>-0.003205</td>\n",
       "      <td>...</td>\n",
       "      <td>-0.008328</td>\n",
       "      <td>-0.003926</td>\n",
       "      <td>-0.014691</td>\n",
       "      <td>-0.002776</td>\n",
       "      <td>-0.002267</td>\n",
       "      <td>-0.002267</td>\n",
       "      <td>-0.008924</td>\n",
       "      <td>-0.004533</td>\n",
       "      <td>-0.015122</td>\n",
       "      <td>-0.010632</td>\n",
       "      <td>-0.016109</td>\n",
       "      <td>-0.013411</td>\n",
       "      <td>-0.027956</td>\n",
       "      <td>-0.018347</td>\n",
       "      <td>-0.001603</td>\n",
       "      <td>0.163933</td>\n",
       "      <td>-0.022672</td>\n",
       "      <td>-0.063</td>\n",
       "      <td>-0.003584</td>\n",
       "      <td>-0.032191</td>\n",
       "      <td>-0.004533</td>\n",
       "      <td>-0.007518</td>\n",
       "      <td>-0.002776</td>\n",
       "      <td>-0.02791</td>\n",
       "      <td>-0.024629</td>\n",
       "      <td>-0.106907</td>\n",
       "      <td>-0.022214</td>\n",
       "      <td>-0.017994</td>\n",
       "      <td>-0.030169</td>\n",
       "      <td>-0.003205</td>\n",
       "      <td>-0.074661</td>\n",
       "      <td>-0.125675</td>\n",
       "      <td>-0.108057</td>\n",
       "      <td>-0.006207</td>\n",
       "      <td>-0.050595</td>\n",
       "      <td>-0.211981</td>\n",
       "      <td>0.424296</td>\n",
       "      <td>-0.121138</td>\n",
       "      <td>-0.143885</td>\n",
       "      <td>-0.203025</td>\n",
       "    </tr>\n",
       "    <tr>\n",
       "      <th>1</th>\n",
       "      <td>0.164780</td>\n",
       "      <td>-0.011558</td>\n",
       "      <td>-0.005779</td>\n",
       "      <td>-0.003205</td>\n",
       "      <td>-0.005779</td>\n",
       "      <td>-0.008014</td>\n",
       "      <td>-0.003584</td>\n",
       "      <td>-0.004808</td>\n",
       "      <td>-0.004808</td>\n",
       "      <td>-0.003205</td>\n",
       "      <td>-0.002267</td>\n",
       "      <td>-0.003205</td>\n",
       "      <td>-0.004533</td>\n",
       "      <td>-0.003205</td>\n",
       "      <td>-0.002776</td>\n",
       "      <td>-0.005779</td>\n",
       "      <td>-0.005997</td>\n",
       "      <td>-0.035825</td>\n",
       "      <td>-0.004808</td>\n",
       "      <td>-0.003205</td>\n",
       "      <td>-0.001603</td>\n",
       "      <td>-0.001603</td>\n",
       "      <td>-0.00424</td>\n",
       "      <td>-0.002776</td>\n",
       "      <td>-0.002776</td>\n",
       "      <td>-0.005316</td>\n",
       "      <td>-0.001603</td>\n",
       "      <td>-0.005997</td>\n",
       "      <td>-0.001603</td>\n",
       "      <td>-0.002267</td>\n",
       "      <td>-0.002776</td>\n",
       "      <td>-0.002267</td>\n",
       "      <td>-0.003584</td>\n",
       "      <td>-0.004533</td>\n",
       "      <td>-0.001603</td>\n",
       "      <td>-0.003205</td>\n",
       "      <td>-0.002267</td>\n",
       "      <td>-0.002267</td>\n",
       "      <td>-0.001603</td>\n",
       "      <td>-0.003205</td>\n",
       "      <td>...</td>\n",
       "      <td>-0.008328</td>\n",
       "      <td>-0.003926</td>\n",
       "      <td>-0.014691</td>\n",
       "      <td>-0.002776</td>\n",
       "      <td>-0.002267</td>\n",
       "      <td>-0.002267</td>\n",
       "      <td>-0.008924</td>\n",
       "      <td>-0.004533</td>\n",
       "      <td>-0.015122</td>\n",
       "      <td>-0.010632</td>\n",
       "      <td>-0.016109</td>\n",
       "      <td>-0.013411</td>\n",
       "      <td>-0.027956</td>\n",
       "      <td>-0.018347</td>\n",
       "      <td>-0.001603</td>\n",
       "      <td>0.163933</td>\n",
       "      <td>-0.022672</td>\n",
       "      <td>-0.063</td>\n",
       "      <td>-0.003584</td>\n",
       "      <td>-0.032191</td>\n",
       "      <td>-0.004533</td>\n",
       "      <td>-0.007518</td>\n",
       "      <td>-0.002776</td>\n",
       "      <td>-0.02791</td>\n",
       "      <td>-0.024629</td>\n",
       "      <td>-0.106907</td>\n",
       "      <td>-0.022214</td>\n",
       "      <td>-0.017994</td>\n",
       "      <td>-0.030169</td>\n",
       "      <td>-0.003205</td>\n",
       "      <td>-0.074661</td>\n",
       "      <td>-0.125675</td>\n",
       "      <td>-0.108057</td>\n",
       "      <td>-0.006207</td>\n",
       "      <td>-0.050595</td>\n",
       "      <td>4.717394</td>\n",
       "      <td>-2.356848</td>\n",
       "      <td>-0.121138</td>\n",
       "      <td>-0.143885</td>\n",
       "      <td>-0.203025</td>\n",
       "    </tr>\n",
       "    <tr>\n",
       "      <th>2</th>\n",
       "      <td>-0.060223</td>\n",
       "      <td>-0.011558</td>\n",
       "      <td>-0.005779</td>\n",
       "      <td>-0.003205</td>\n",
       "      <td>-0.005779</td>\n",
       "      <td>-0.008014</td>\n",
       "      <td>-0.003584</td>\n",
       "      <td>-0.004808</td>\n",
       "      <td>-0.004808</td>\n",
       "      <td>-0.003205</td>\n",
       "      <td>-0.002267</td>\n",
       "      <td>-0.003205</td>\n",
       "      <td>-0.004533</td>\n",
       "      <td>-0.003205</td>\n",
       "      <td>-0.002776</td>\n",
       "      <td>-0.005779</td>\n",
       "      <td>-0.005997</td>\n",
       "      <td>-0.035825</td>\n",
       "      <td>-0.004808</td>\n",
       "      <td>-0.003205</td>\n",
       "      <td>-0.001603</td>\n",
       "      <td>-0.001603</td>\n",
       "      <td>-0.00424</td>\n",
       "      <td>-0.002776</td>\n",
       "      <td>-0.002776</td>\n",
       "      <td>-0.005316</td>\n",
       "      <td>-0.001603</td>\n",
       "      <td>-0.005997</td>\n",
       "      <td>-0.001603</td>\n",
       "      <td>-0.002267</td>\n",
       "      <td>-0.002776</td>\n",
       "      <td>-0.002267</td>\n",
       "      <td>-0.003584</td>\n",
       "      <td>-0.004533</td>\n",
       "      <td>-0.001603</td>\n",
       "      <td>-0.003205</td>\n",
       "      <td>-0.002267</td>\n",
       "      <td>-0.002267</td>\n",
       "      <td>-0.001603</td>\n",
       "      <td>-0.003205</td>\n",
       "      <td>...</td>\n",
       "      <td>-0.008328</td>\n",
       "      <td>-0.003926</td>\n",
       "      <td>-0.014691</td>\n",
       "      <td>-0.002776</td>\n",
       "      <td>-0.002267</td>\n",
       "      <td>-0.002267</td>\n",
       "      <td>-0.008924</td>\n",
       "      <td>-0.004533</td>\n",
       "      <td>-0.015122</td>\n",
       "      <td>-0.010632</td>\n",
       "      <td>-0.016109</td>\n",
       "      <td>-0.013411</td>\n",
       "      <td>-0.027956</td>\n",
       "      <td>-0.018347</td>\n",
       "      <td>-0.001603</td>\n",
       "      <td>0.163933</td>\n",
       "      <td>-0.022672</td>\n",
       "      <td>-0.063</td>\n",
       "      <td>-0.003584</td>\n",
       "      <td>-0.032191</td>\n",
       "      <td>-0.004533</td>\n",
       "      <td>-0.007518</td>\n",
       "      <td>-0.002776</td>\n",
       "      <td>-0.02791</td>\n",
       "      <td>-0.024629</td>\n",
       "      <td>-0.106907</td>\n",
       "      <td>-0.022214</td>\n",
       "      <td>-0.017994</td>\n",
       "      <td>-0.030169</td>\n",
       "      <td>-0.003205</td>\n",
       "      <td>-0.074661</td>\n",
       "      <td>-0.125675</td>\n",
       "      <td>-0.108057</td>\n",
       "      <td>-0.006207</td>\n",
       "      <td>-0.050595</td>\n",
       "      <td>-0.211981</td>\n",
       "      <td>0.424296</td>\n",
       "      <td>-0.121138</td>\n",
       "      <td>-0.143885</td>\n",
       "      <td>-0.203025</td>\n",
       "    </tr>\n",
       "    <tr>\n",
       "      <th>3</th>\n",
       "      <td>-0.045436</td>\n",
       "      <td>-0.011558</td>\n",
       "      <td>-0.005779</td>\n",
       "      <td>-0.003205</td>\n",
       "      <td>-0.005779</td>\n",
       "      <td>-0.008014</td>\n",
       "      <td>-0.003584</td>\n",
       "      <td>-0.004808</td>\n",
       "      <td>-0.004808</td>\n",
       "      <td>-0.003205</td>\n",
       "      <td>-0.002267</td>\n",
       "      <td>-0.003205</td>\n",
       "      <td>-0.004533</td>\n",
       "      <td>-0.003205</td>\n",
       "      <td>-0.002776</td>\n",
       "      <td>-0.005779</td>\n",
       "      <td>-0.005997</td>\n",
       "      <td>-0.035825</td>\n",
       "      <td>-0.004808</td>\n",
       "      <td>-0.003205</td>\n",
       "      <td>-0.001603</td>\n",
       "      <td>-0.001603</td>\n",
       "      <td>-0.00424</td>\n",
       "      <td>-0.002776</td>\n",
       "      <td>-0.002776</td>\n",
       "      <td>-0.005316</td>\n",
       "      <td>-0.001603</td>\n",
       "      <td>-0.005997</td>\n",
       "      <td>-0.001603</td>\n",
       "      <td>-0.002267</td>\n",
       "      <td>-0.002776</td>\n",
       "      <td>-0.002267</td>\n",
       "      <td>-0.003584</td>\n",
       "      <td>-0.004533</td>\n",
       "      <td>-0.001603</td>\n",
       "      <td>-0.003205</td>\n",
       "      <td>-0.002267</td>\n",
       "      <td>-0.002267</td>\n",
       "      <td>-0.001603</td>\n",
       "      <td>-0.003205</td>\n",
       "      <td>...</td>\n",
       "      <td>-0.008328</td>\n",
       "      <td>-0.003926</td>\n",
       "      <td>-0.014691</td>\n",
       "      <td>-0.002776</td>\n",
       "      <td>-0.002267</td>\n",
       "      <td>-0.002267</td>\n",
       "      <td>-0.008924</td>\n",
       "      <td>-0.004533</td>\n",
       "      <td>-0.015122</td>\n",
       "      <td>-0.010632</td>\n",
       "      <td>-0.016109</td>\n",
       "      <td>-0.013411</td>\n",
       "      <td>-0.027956</td>\n",
       "      <td>-0.018347</td>\n",
       "      <td>-0.001603</td>\n",
       "      <td>0.163933</td>\n",
       "      <td>-0.022672</td>\n",
       "      <td>-0.063</td>\n",
       "      <td>-0.003584</td>\n",
       "      <td>-0.032191</td>\n",
       "      <td>-0.004533</td>\n",
       "      <td>-0.007518</td>\n",
       "      <td>-0.002776</td>\n",
       "      <td>-0.02791</td>\n",
       "      <td>-0.024629</td>\n",
       "      <td>-0.106907</td>\n",
       "      <td>-0.022214</td>\n",
       "      <td>-0.017994</td>\n",
       "      <td>-0.030169</td>\n",
       "      <td>-0.003205</td>\n",
       "      <td>-0.074661</td>\n",
       "      <td>-0.125675</td>\n",
       "      <td>-0.108057</td>\n",
       "      <td>-0.006207</td>\n",
       "      <td>-0.050595</td>\n",
       "      <td>-0.211981</td>\n",
       "      <td>0.424296</td>\n",
       "      <td>-0.121138</td>\n",
       "      <td>-0.143885</td>\n",
       "      <td>-0.203025</td>\n",
       "    </tr>\n",
       "    <tr>\n",
       "      <th>4</th>\n",
       "      <td>0.358536</td>\n",
       "      <td>-0.011558</td>\n",
       "      <td>-0.005779</td>\n",
       "      <td>-0.003205</td>\n",
       "      <td>-0.005779</td>\n",
       "      <td>-0.008014</td>\n",
       "      <td>-0.003584</td>\n",
       "      <td>-0.004808</td>\n",
       "      <td>-0.004808</td>\n",
       "      <td>-0.003205</td>\n",
       "      <td>-0.002267</td>\n",
       "      <td>-0.003205</td>\n",
       "      <td>-0.004533</td>\n",
       "      <td>-0.003205</td>\n",
       "      <td>-0.002776</td>\n",
       "      <td>-0.005779</td>\n",
       "      <td>-0.005997</td>\n",
       "      <td>-0.035825</td>\n",
       "      <td>-0.004808</td>\n",
       "      <td>-0.003205</td>\n",
       "      <td>-0.001603</td>\n",
       "      <td>-0.001603</td>\n",
       "      <td>-0.00424</td>\n",
       "      <td>-0.002776</td>\n",
       "      <td>-0.002776</td>\n",
       "      <td>-0.005316</td>\n",
       "      <td>-0.001603</td>\n",
       "      <td>-0.005997</td>\n",
       "      <td>-0.001603</td>\n",
       "      <td>-0.002267</td>\n",
       "      <td>-0.002776</td>\n",
       "      <td>-0.002267</td>\n",
       "      <td>-0.003584</td>\n",
       "      <td>-0.004533</td>\n",
       "      <td>-0.001603</td>\n",
       "      <td>-0.003205</td>\n",
       "      <td>-0.002267</td>\n",
       "      <td>-0.002267</td>\n",
       "      <td>-0.001603</td>\n",
       "      <td>-0.003205</td>\n",
       "      <td>...</td>\n",
       "      <td>-0.008328</td>\n",
       "      <td>-0.003926</td>\n",
       "      <td>-0.014691</td>\n",
       "      <td>-0.002776</td>\n",
       "      <td>-0.002267</td>\n",
       "      <td>-0.002267</td>\n",
       "      <td>-0.008924</td>\n",
       "      <td>-0.004533</td>\n",
       "      <td>-0.015122</td>\n",
       "      <td>-0.010632</td>\n",
       "      <td>-0.016109</td>\n",
       "      <td>-0.013411</td>\n",
       "      <td>-0.027956</td>\n",
       "      <td>-0.018347</td>\n",
       "      <td>-0.001603</td>\n",
       "      <td>0.163933</td>\n",
       "      <td>-0.022672</td>\n",
       "      <td>-0.063</td>\n",
       "      <td>-0.003584</td>\n",
       "      <td>-0.032191</td>\n",
       "      <td>-0.004533</td>\n",
       "      <td>-0.007518</td>\n",
       "      <td>-0.002776</td>\n",
       "      <td>-0.02791</td>\n",
       "      <td>-0.024629</td>\n",
       "      <td>-0.106907</td>\n",
       "      <td>-0.022214</td>\n",
       "      <td>-0.017994</td>\n",
       "      <td>-0.030169</td>\n",
       "      <td>-0.003205</td>\n",
       "      <td>-0.074661</td>\n",
       "      <td>-0.125675</td>\n",
       "      <td>9.254410</td>\n",
       "      <td>-0.006207</td>\n",
       "      <td>-0.050595</td>\n",
       "      <td>-0.211981</td>\n",
       "      <td>-2.356848</td>\n",
       "      <td>-0.121138</td>\n",
       "      <td>-0.143885</td>\n",
       "      <td>-0.203025</td>\n",
       "    </tr>\n",
       "  </tbody>\n",
       "</table>\n",
       "</div>"
      ],
      "text/plain": [
       "     amount           ...             trx_category_WD_ATM_ROS\n",
       "0 -0.010433           ...                           -0.203025\n",
       "1  0.164780           ...                           -0.203025\n",
       "2 -0.060223           ...                           -0.203025\n",
       "3 -0.045436           ...                           -0.203025\n",
       "4  0.358536           ...                           -0.203025\n",
       "\n",
       "[5 rows x 399 columns]"
      ]
     },
     "execution_count": 61,
     "metadata": {},
     "output_type": "execute_result"
    }
   ],
   "source": [
    "redused_train_X_dummy_scaled.head()"
   ]
  },
  {
   "cell_type": "code",
   "execution_count": 73,
   "metadata": {
    "_uuid": "44f9667a8fc5ae3a8a17d2b4dee45c01fd2fdac8"
   },
   "outputs": [],
   "source": [
    "from sklearn.linear_model import LogisticRegression\n",
    "clf = LogisticRegression()"
   ]
  },
  {
   "cell_type": "code",
   "execution_count": 74,
   "metadata": {
    "_uuid": "33b2372e7081c7b34c85bdc8798117ecf5bfd11d"
   },
   "outputs": [
    {
     "name": "stderr",
     "output_type": "stream",
     "text": [
      "/opt/conda/lib/python3.6/site-packages/sklearn/linear_model/logistic.py:433: FutureWarning: Default solver will be changed to 'lbfgs' in 0.22. Specify a solver to silence this warning.\n",
      "  FutureWarning)\n"
     ]
    },
    {
     "data": {
      "text/plain": [
       "LogisticRegression(C=1.0, class_weight=None, dual=False, fit_intercept=True,\n",
       "          intercept_scaling=1, max_iter=100, multi_class='warn',\n",
       "          n_jobs=None, penalty='l2', random_state=None, solver='warn',\n",
       "          tol=0.0001, verbose=0, warm_start=False)"
      ]
     },
     "execution_count": 74,
     "metadata": {},
     "output_type": "execute_result"
    }
   ],
   "source": [
    "clf.fit(redused_train_X_dummy_scaled, redused_train_y)"
   ]
  },
  {
   "cell_type": "code",
   "execution_count": 75,
   "metadata": {
    "_uuid": "fd8cfb1ff59d70eff9572db63d08ad4028470ec5"
   },
   "outputs": [],
   "source": [
    "from sklearn.metrics import roc_auc_score"
   ]
  },
  {
   "cell_type": "code",
   "execution_count": 76,
   "metadata": {
    "_uuid": "cbe40d6b9edd0733e7707c314b4a9d77c916065b"
   },
   "outputs": [],
   "source": [
    "y_val_pred = clf.predict(redused_test_X_dummy_scaled)"
   ]
  },
  {
   "cell_type": "code",
   "execution_count": 77,
   "metadata": {
    "_uuid": "599959f8935861a13d521dd1bc1bb813e34aee14"
   },
   "outputs": [
    {
     "data": {
      "text/plain": [
       "0.5611725697552623"
      ]
     },
     "execution_count": 77,
     "metadata": {},
     "output_type": "execute_result"
    }
   ],
   "source": [
    "roc_auc_score(redused_test_y, y_val_pred)"
   ]
  },
  {
   "cell_type": "code",
   "execution_count": null,
   "metadata": {
    "_uuid": "6f1a65fd51709be714905c31160917ca7b7f8a33"
   },
   "outputs": [],
   "source": []
  }
 ],
 "metadata": {
  "kernelspec": {
   "display_name": "Python 3",
   "language": "python",
   "name": "python3"
  },
  "language_info": {
   "codemirror_mode": {
    "name": "ipython",
    "version": 3
   },
   "file_extension": ".py",
   "mimetype": "text/x-python",
   "name": "python",
   "nbconvert_exporter": "python",
   "pygments_lexer": "ipython3",
   "version": "3.6.8"
  }
 },
 "nbformat": 4,
 "nbformat_minor": 1
}
