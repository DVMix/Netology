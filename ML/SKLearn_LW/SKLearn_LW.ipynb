{
 "cells": [
  {
   "cell_type": "code",
   "execution_count": 1,
   "metadata": {},
   "outputs": [],
   "source": [
    "# Лабораторная работа по модулю “Построение моделей”\n",
    "# 1.Загрузить данные из папки Data Folder"
   ]
  },
  {
   "cell_type": "code",
   "execution_count": 2,
   "metadata": {},
   "outputs": [],
   "source": [
    "import pandas as pd"
   ]
  },
  {
   "cell_type": "code",
   "execution_count": 3,
   "metadata": {},
   "outputs": [],
   "source": [
    "df = pd.read_csv('flag.data')"
   ]
  },
  {
   "cell_type": "code",
   "execution_count": 4,
   "metadata": {},
   "outputs": [
    {
     "data": {
      "text/plain": [
       "(193, 30)"
      ]
     },
     "execution_count": 4,
     "metadata": {},
     "output_type": "execute_result"
    }
   ],
   "source": [
    "df.shape"
   ]
  },
  {
   "cell_type": "code",
   "execution_count": 5,
   "metadata": {},
   "outputs": [],
   "source": [
    "labels = ['name','landmass','zone','area','population','language','religion','bars',\n",
    "'stripes','colours','red','green','blue', 'gold','white','black','orange','mainhue','circles','crosses', \n",
    "'saltires','quarters','sustars', 'crescent', 'triangle', 'icon', 'animate', 'text', 'topleft', 'botright'] "
   ]
  },
  {
   "cell_type": "code",
   "execution_count": 6,
   "metadata": {},
   "outputs": [
    {
     "data": {
      "text/plain": [
       "30"
      ]
     },
     "execution_count": 6,
     "metadata": {},
     "output_type": "execute_result"
    }
   ],
   "source": [
    "length = len(df.columns)\n",
    "length"
   ]
  },
  {
   "cell_type": "code",
   "execution_count": 7,
   "metadata": {},
   "outputs": [],
   "source": [
    "data = pd.DataFrame()"
   ]
  },
  {
   "cell_type": "code",
   "execution_count": 8,
   "metadata": {},
   "outputs": [
    {
     "name": "stdout",
     "output_type": "stream",
     "text": [
      "name Afghanistan\n",
      "landmass 5\n",
      "zone 1\n",
      "area 648\n",
      "population 16\n",
      "language 10\n",
      "religion 2\n",
      "bars 0\n",
      "stripes 3\n",
      "colours 5.1\n",
      "red 1.1\n",
      "green 1.2\n",
      "blue 0.1\n",
      "gold 1.3\n",
      "white 1.4\n",
      "black 1.5\n",
      "orange 0.2\n",
      "mainhue green\n",
      "circles 0.3\n",
      "crosses 0.4\n",
      "saltires 0.5\n",
      "quarters 0.6\n",
      "sustars 1.6\n",
      "crescent 0.7\n",
      "triangle 0.8\n",
      "icon 1.7\n",
      "animate 0.9\n",
      "text 0.10\n",
      "topleft black\n",
      "botright green.1\n"
     ]
    }
   ],
   "source": [
    "for i in range(length):\n",
    "    data[labels[i]] = df[df.columns[i]]\n",
    "    print(labels[i], df.columns[i])"
   ]
  },
  {
   "cell_type": "code",
   "execution_count": 9,
   "metadata": {},
   "outputs": [
    {
     "name": "stdout",
     "output_type": "stream",
     "text": [
      "<class 'pandas.core.frame.DataFrame'>\n",
      "RangeIndex: 193 entries, 0 to 192\n",
      "Data columns (total 30 columns):\n",
      "name          193 non-null object\n",
      "landmass      193 non-null int64\n",
      "zone          193 non-null int64\n",
      "area          193 non-null int64\n",
      "population    193 non-null int64\n",
      "language      193 non-null int64\n",
      "religion      193 non-null int64\n",
      "bars          193 non-null int64\n",
      "stripes       193 non-null int64\n",
      "colours       193 non-null int64\n",
      "red           193 non-null int64\n",
      "green         193 non-null int64\n",
      "blue          193 non-null int64\n",
      "gold          193 non-null int64\n",
      "white         193 non-null int64\n",
      "black         193 non-null int64\n",
      "orange        193 non-null int64\n",
      "mainhue       193 non-null object\n",
      "circles       193 non-null int64\n",
      "crosses       193 non-null int64\n",
      "saltires      193 non-null int64\n",
      "quarters      193 non-null int64\n",
      "sustars       193 non-null int64\n",
      "crescent      193 non-null int64\n",
      "triangle      193 non-null int64\n",
      "icon          193 non-null int64\n",
      "animate       193 non-null int64\n",
      "text          193 non-null int64\n",
      "topleft       193 non-null object\n",
      "botright      193 non-null object\n",
      "dtypes: int64(26), object(4)\n",
      "memory usage: 45.3+ KB\n"
     ]
    }
   ],
   "source": [
    "# 2.Провести описательный анализ предложенных данных\n",
    "data.info()"
   ]
  },
  {
   "cell_type": "code",
   "execution_count": 10,
   "metadata": {},
   "outputs": [
    {
     "data": {
      "text/html": [
       "<div>\n",
       "<style scoped>\n",
       "    .dataframe tbody tr th:only-of-type {\n",
       "        vertical-align: middle;\n",
       "    }\n",
       "\n",
       "    .dataframe tbody tr th {\n",
       "        vertical-align: top;\n",
       "    }\n",
       "\n",
       "    .dataframe thead th {\n",
       "        text-align: right;\n",
       "    }\n",
       "</style>\n",
       "<table border=\"1\" class=\"dataframe\">\n",
       "  <thead>\n",
       "    <tr style=\"text-align: right;\">\n",
       "      <th></th>\n",
       "      <th>landmass</th>\n",
       "      <th>zone</th>\n",
       "      <th>area</th>\n",
       "      <th>population</th>\n",
       "      <th>language</th>\n",
       "      <th>religion</th>\n",
       "      <th>bars</th>\n",
       "      <th>stripes</th>\n",
       "      <th>colours</th>\n",
       "      <th>red</th>\n",
       "      <th>...</th>\n",
       "      <th>circles</th>\n",
       "      <th>crosses</th>\n",
       "      <th>saltires</th>\n",
       "      <th>quarters</th>\n",
       "      <th>sustars</th>\n",
       "      <th>crescent</th>\n",
       "      <th>triangle</th>\n",
       "      <th>icon</th>\n",
       "      <th>animate</th>\n",
       "      <th>text</th>\n",
       "    </tr>\n",
       "  </thead>\n",
       "  <tbody>\n",
       "    <tr>\n",
       "      <th>count</th>\n",
       "      <td>193.000000</td>\n",
       "      <td>193.000000</td>\n",
       "      <td>193.000000</td>\n",
       "      <td>193.000000</td>\n",
       "      <td>193.000000</td>\n",
       "      <td>193.000000</td>\n",
       "      <td>193.000000</td>\n",
       "      <td>193.000000</td>\n",
       "      <td>193.000000</td>\n",
       "      <td>193.000000</td>\n",
       "      <td>...</td>\n",
       "      <td>193.000000</td>\n",
       "      <td>193.000000</td>\n",
       "      <td>193.000000</td>\n",
       "      <td>193.000000</td>\n",
       "      <td>193.000000</td>\n",
       "      <td>193.000000</td>\n",
       "      <td>193.000000</td>\n",
       "      <td>193.000000</td>\n",
       "      <td>193.000000</td>\n",
       "      <td>193.000000</td>\n",
       "    </tr>\n",
       "    <tr>\n",
       "      <th>mean</th>\n",
       "      <td>3.564767</td>\n",
       "      <td>2.217617</td>\n",
       "      <td>700.316062</td>\n",
       "      <td>23.305699</td>\n",
       "      <td>5.316062</td>\n",
       "      <td>2.191710</td>\n",
       "      <td>0.455959</td>\n",
       "      <td>1.544041</td>\n",
       "      <td>3.455959</td>\n",
       "      <td>0.787565</td>\n",
       "      <td>...</td>\n",
       "      <td>0.170984</td>\n",
       "      <td>0.150259</td>\n",
       "      <td>0.093264</td>\n",
       "      <td>0.150259</td>\n",
       "      <td>1.388601</td>\n",
       "      <td>0.056995</td>\n",
       "      <td>0.139896</td>\n",
       "      <td>0.248705</td>\n",
       "      <td>0.202073</td>\n",
       "      <td>0.082902</td>\n",
       "    </tr>\n",
       "    <tr>\n",
       "      <th>std</th>\n",
       "      <td>1.553625</td>\n",
       "      <td>1.308745</td>\n",
       "      <td>2176.570790</td>\n",
       "      <td>92.171685</td>\n",
       "      <td>3.489359</td>\n",
       "      <td>2.066482</td>\n",
       "      <td>1.040522</td>\n",
       "      <td>2.331706</td>\n",
       "      <td>1.298789</td>\n",
       "      <td>0.410095</td>\n",
       "      <td>...</td>\n",
       "      <td>0.464116</td>\n",
       "      <td>0.386238</td>\n",
       "      <td>0.291559</td>\n",
       "      <td>0.436860</td>\n",
       "      <td>4.407531</td>\n",
       "      <td>0.232436</td>\n",
       "      <td>0.347782</td>\n",
       "      <td>0.433386</td>\n",
       "      <td>0.402590</td>\n",
       "      <td>0.276450</td>\n",
       "    </tr>\n",
       "    <tr>\n",
       "      <th>min</th>\n",
       "      <td>1.000000</td>\n",
       "      <td>1.000000</td>\n",
       "      <td>0.000000</td>\n",
       "      <td>0.000000</td>\n",
       "      <td>1.000000</td>\n",
       "      <td>0.000000</td>\n",
       "      <td>0.000000</td>\n",
       "      <td>0.000000</td>\n",
       "      <td>1.000000</td>\n",
       "      <td>0.000000</td>\n",
       "      <td>...</td>\n",
       "      <td>0.000000</td>\n",
       "      <td>0.000000</td>\n",
       "      <td>0.000000</td>\n",
       "      <td>0.000000</td>\n",
       "      <td>0.000000</td>\n",
       "      <td>0.000000</td>\n",
       "      <td>0.000000</td>\n",
       "      <td>0.000000</td>\n",
       "      <td>0.000000</td>\n",
       "      <td>0.000000</td>\n",
       "    </tr>\n",
       "    <tr>\n",
       "      <th>25%</th>\n",
       "      <td>3.000000</td>\n",
       "      <td>1.000000</td>\n",
       "      <td>9.000000</td>\n",
       "      <td>0.000000</td>\n",
       "      <td>2.000000</td>\n",
       "      <td>1.000000</td>\n",
       "      <td>0.000000</td>\n",
       "      <td>0.000000</td>\n",
       "      <td>3.000000</td>\n",
       "      <td>1.000000</td>\n",
       "      <td>...</td>\n",
       "      <td>0.000000</td>\n",
       "      <td>0.000000</td>\n",
       "      <td>0.000000</td>\n",
       "      <td>0.000000</td>\n",
       "      <td>0.000000</td>\n",
       "      <td>0.000000</td>\n",
       "      <td>0.000000</td>\n",
       "      <td>0.000000</td>\n",
       "      <td>0.000000</td>\n",
       "      <td>0.000000</td>\n",
       "    </tr>\n",
       "    <tr>\n",
       "      <th>50%</th>\n",
       "      <td>4.000000</td>\n",
       "      <td>2.000000</td>\n",
       "      <td>111.000000</td>\n",
       "      <td>4.000000</td>\n",
       "      <td>6.000000</td>\n",
       "      <td>1.000000</td>\n",
       "      <td>0.000000</td>\n",
       "      <td>0.000000</td>\n",
       "      <td>3.000000</td>\n",
       "      <td>1.000000</td>\n",
       "      <td>...</td>\n",
       "      <td>0.000000</td>\n",
       "      <td>0.000000</td>\n",
       "      <td>0.000000</td>\n",
       "      <td>0.000000</td>\n",
       "      <td>0.000000</td>\n",
       "      <td>0.000000</td>\n",
       "      <td>0.000000</td>\n",
       "      <td>0.000000</td>\n",
       "      <td>0.000000</td>\n",
       "      <td>0.000000</td>\n",
       "    </tr>\n",
       "    <tr>\n",
       "      <th>75%</th>\n",
       "      <td>5.000000</td>\n",
       "      <td>4.000000</td>\n",
       "      <td>463.000000</td>\n",
       "      <td>14.000000</td>\n",
       "      <td>9.000000</td>\n",
       "      <td>4.000000</td>\n",
       "      <td>0.000000</td>\n",
       "      <td>3.000000</td>\n",
       "      <td>4.000000</td>\n",
       "      <td>1.000000</td>\n",
       "      <td>...</td>\n",
       "      <td>0.000000</td>\n",
       "      <td>0.000000</td>\n",
       "      <td>0.000000</td>\n",
       "      <td>0.000000</td>\n",
       "      <td>1.000000</td>\n",
       "      <td>0.000000</td>\n",
       "      <td>0.000000</td>\n",
       "      <td>0.000000</td>\n",
       "      <td>0.000000</td>\n",
       "      <td>0.000000</td>\n",
       "    </tr>\n",
       "    <tr>\n",
       "      <th>max</th>\n",
       "      <td>6.000000</td>\n",
       "      <td>4.000000</td>\n",
       "      <td>22402.000000</td>\n",
       "      <td>1008.000000</td>\n",
       "      <td>10.000000</td>\n",
       "      <td>7.000000</td>\n",
       "      <td>5.000000</td>\n",
       "      <td>14.000000</td>\n",
       "      <td>8.000000</td>\n",
       "      <td>1.000000</td>\n",
       "      <td>...</td>\n",
       "      <td>4.000000</td>\n",
       "      <td>2.000000</td>\n",
       "      <td>1.000000</td>\n",
       "      <td>4.000000</td>\n",
       "      <td>50.000000</td>\n",
       "      <td>1.000000</td>\n",
       "      <td>1.000000</td>\n",
       "      <td>1.000000</td>\n",
       "      <td>1.000000</td>\n",
       "      <td>1.000000</td>\n",
       "    </tr>\n",
       "  </tbody>\n",
       "</table>\n",
       "<p>8 rows × 26 columns</p>\n",
       "</div>"
      ],
      "text/plain": [
       "         landmass        zone          area   population    language  \\\n",
       "count  193.000000  193.000000    193.000000   193.000000  193.000000   \n",
       "mean     3.564767    2.217617    700.316062    23.305699    5.316062   \n",
       "std      1.553625    1.308745   2176.570790    92.171685    3.489359   \n",
       "min      1.000000    1.000000      0.000000     0.000000    1.000000   \n",
       "25%      3.000000    1.000000      9.000000     0.000000    2.000000   \n",
       "50%      4.000000    2.000000    111.000000     4.000000    6.000000   \n",
       "75%      5.000000    4.000000    463.000000    14.000000    9.000000   \n",
       "max      6.000000    4.000000  22402.000000  1008.000000   10.000000   \n",
       "\n",
       "         religion        bars     stripes     colours         red     ...      \\\n",
       "count  193.000000  193.000000  193.000000  193.000000  193.000000     ...       \n",
       "mean     2.191710    0.455959    1.544041    3.455959    0.787565     ...       \n",
       "std      2.066482    1.040522    2.331706    1.298789    0.410095     ...       \n",
       "min      0.000000    0.000000    0.000000    1.000000    0.000000     ...       \n",
       "25%      1.000000    0.000000    0.000000    3.000000    1.000000     ...       \n",
       "50%      1.000000    0.000000    0.000000    3.000000    1.000000     ...       \n",
       "75%      4.000000    0.000000    3.000000    4.000000    1.000000     ...       \n",
       "max      7.000000    5.000000   14.000000    8.000000    1.000000     ...       \n",
       "\n",
       "          circles     crosses    saltires    quarters     sustars    crescent  \\\n",
       "count  193.000000  193.000000  193.000000  193.000000  193.000000  193.000000   \n",
       "mean     0.170984    0.150259    0.093264    0.150259    1.388601    0.056995   \n",
       "std      0.464116    0.386238    0.291559    0.436860    4.407531    0.232436   \n",
       "min      0.000000    0.000000    0.000000    0.000000    0.000000    0.000000   \n",
       "25%      0.000000    0.000000    0.000000    0.000000    0.000000    0.000000   \n",
       "50%      0.000000    0.000000    0.000000    0.000000    0.000000    0.000000   \n",
       "75%      0.000000    0.000000    0.000000    0.000000    1.000000    0.000000   \n",
       "max      4.000000    2.000000    1.000000    4.000000   50.000000    1.000000   \n",
       "\n",
       "         triangle        icon     animate        text  \n",
       "count  193.000000  193.000000  193.000000  193.000000  \n",
       "mean     0.139896    0.248705    0.202073    0.082902  \n",
       "std      0.347782    0.433386    0.402590    0.276450  \n",
       "min      0.000000    0.000000    0.000000    0.000000  \n",
       "25%      0.000000    0.000000    0.000000    0.000000  \n",
       "50%      0.000000    0.000000    0.000000    0.000000  \n",
       "75%      0.000000    0.000000    0.000000    0.000000  \n",
       "max      1.000000    1.000000    1.000000    1.000000  \n",
       "\n",
       "[8 rows x 26 columns]"
      ]
     },
     "execution_count": 10,
     "metadata": {},
     "output_type": "execute_result"
    }
   ],
   "source": [
    "data.describe()"
   ]
  },
  {
   "cell_type": "code",
   "execution_count": 11,
   "metadata": {},
   "outputs": [
    {
     "data": {
      "text/plain": [
       "Index(['area', 'population', 'religion', 'bars', 'stripes', 'colours', 'red',\n",
       "       'green', 'blue', 'gold', 'white', 'black', 'orange', 'circles',\n",
       "       'crosses', 'saltires', 'quarters', 'sustars', 'crescent', 'triangle',\n",
       "       'icon', 'animate', 'text', 'topleft_black', 'topleft_blue',\n",
       "       'topleft_gold', 'topleft_green', 'topleft_orange', 'topleft_red',\n",
       "       'topleft_white', 'mainhue_black', 'mainhue_blue', 'mainhue_brown',\n",
       "       'mainhue_gold', 'mainhue_green', 'mainhue_orange', 'mainhue_red',\n",
       "       'mainhue_white', 'botright_black', 'botright_blue', 'botright_brown',\n",
       "       'botright_gold', 'botright_green', 'botright_orange', 'botright_red',\n",
       "       'botright_white', 'landmass_1', 'landmass_2', 'landmass_3',\n",
       "       'landmass_4', 'landmass_5', 'landmass_6', 'zone_1', 'zone_2', 'zone_3',\n",
       "       'zone_4', 'language_1', 'language_2', 'language_3', 'language_4',\n",
       "       'language_5', 'language_6', 'language_7', 'language_8', 'language_9',\n",
       "       'language_10'],\n",
       "      dtype='object')"
      ]
     },
     "execution_count": 11,
     "metadata": {},
     "output_type": "execute_result"
    }
   ],
   "source": [
    "# 3.Предложить стратегию по работе с категориальными переменными \n",
    "data1 = data\n",
    "data1 = pd.get_dummies(data1, columns=['topleft','mainhue','botright','landmass','zone','language'])\n",
    "data1 = data1.drop(['name'],axis =1)\n",
    "data1.columns"
   ]
  },
  {
   "cell_type": "code",
   "execution_count": 12,
   "metadata": {},
   "outputs": [],
   "source": [
    "# 4.Провести углубленный анализ данных (корреляции переменных,визуализация взаимосвязей)\n",
    "import seaborn as sns\n",
    "import matplotlib.pyplot as plt"
   ]
  },
  {
   "cell_type": "code",
   "execution_count": 13,
   "metadata": {},
   "outputs": [
    {
     "name": "stdout",
     "output_type": "stream",
     "text": [
      "            landmass      zone      area  population  language  religion  \\\n",
      "landmass    1.000000 -0.614048  0.013424    0.106555  0.493388  0.326243   \n",
      "zone       -0.614048  1.000000 -0.025604   -0.124773 -0.616187 -0.321709   \n",
      "area        0.013424 -0.025604  1.000000    0.519029 -0.027832  0.087931   \n",
      "population  0.106555 -0.124773  0.519029    1.000000  0.063648  0.172699   \n",
      "language    0.493388 -0.616187 -0.027832    0.063648  1.000000  0.424937   \n",
      "religion    0.326243 -0.321709  0.087931    0.172699  0.424937  1.000000   \n",
      "bars       -0.137570  0.083568  0.001189   -0.041593 -0.047071 -0.060242   \n",
      "stripes    -0.066568  0.005377  0.028560    0.030387  0.101664  0.103628   \n",
      "colours    -0.068915  0.180322 -0.162672   -0.114986 -0.207800 -0.017214   \n",
      "red         0.091192 -0.029867 -0.005409   -0.024453 -0.014710  0.122057   \n",
      "green       0.021254  0.074908 -0.081435   -0.047621 -0.001330  0.129738   \n",
      "blue       -0.173340  0.202153 -0.080785   -0.060807 -0.257017 -0.155807   \n",
      "gold       -0.085987  0.170389  0.014676   -0.001753 -0.198294  0.023916   \n",
      "white      -0.006894 -0.032639 -0.098148   -0.092485 -0.051073 -0.167476   \n",
      "black      -0.066756  0.035122 -0.120474   -0.103610  0.084007  0.075386   \n",
      "orange      0.022682  0.050479 -0.050788    0.050357 -0.061996 -0.051426   \n",
      "circles     0.067628 -0.044428 -0.005699    0.051125  0.101531  0.123129   \n",
      "crosses    -0.029322  0.099833 -0.057959   -0.076496 -0.209326 -0.225518   \n",
      "saltires   -0.001906  0.178575 -0.025539   -0.059209 -0.295339 -0.133565   \n",
      "quarters   -0.002903  0.152032 -0.002011   -0.041503 -0.219238 -0.135923   \n",
      "sustars    -0.034499  0.121604  0.340568    0.191347 -0.126218 -0.075127   \n",
      "crescent    0.170010 -0.160835 -0.005080   -0.015647  0.196012  0.053037   \n",
      "triangle   -0.031315  0.058638 -0.075448   -0.078356 -0.062377  0.056700   \n",
      "icon        0.022364 -0.040822  0.027015    0.018818  0.016632  0.056980   \n",
      "animate    -0.116794  0.103921 -0.051636   -0.082520 -0.130975 -0.002984   \n",
      "text       -0.109578  0.036250  0.024392   -0.025324 -0.081297 -0.055316   \n",
      "\n",
      "                bars   stripes   colours       red    ...      circles  \\\n",
      "landmass   -0.137570 -0.066568 -0.068915  0.091192    ...     0.067628   \n",
      "zone        0.083568  0.005377  0.180322 -0.029867    ...    -0.044428   \n",
      "area        0.001189  0.028560 -0.162672 -0.005409    ...    -0.005699   \n",
      "population -0.041593  0.030387 -0.114986 -0.024453    ...     0.051125   \n",
      "language   -0.047071  0.101664 -0.207800 -0.014710    ...     0.101531   \n",
      "religion   -0.060242  0.103628 -0.017214  0.122057    ...     0.123129   \n",
      "bars        1.000000 -0.272365 -0.062143 -0.015937    ...    -0.097568   \n",
      "stripes    -0.272365  1.000000  0.034611  0.012559    ...    -0.086406   \n",
      "colours    -0.062143  0.034611  1.000000  0.309925    ...     0.181045   \n",
      "red        -0.015937  0.012559  0.309925  1.000000    ...     0.109742   \n",
      "green       0.119730 -0.089157  0.424647  0.028418    ...     0.013718   \n",
      "blue       -0.131246  0.129886  0.302963 -0.201958    ...     0.046411   \n",
      "gold        0.039668 -0.035566  0.496806  0.079203    ...     0.013718   \n",
      "white      -0.197662  0.124285  0.211765 -0.035075    ...     0.083048   \n",
      "black      -0.025520  0.087179  0.369612  0.138880    ...     0.083257   \n",
      "orange      0.045990 -0.105354  0.482017 -0.054788    ...     0.182093   \n",
      "circles    -0.097568 -0.086406  0.181045  0.109742    ...     1.000000   \n",
      "crosses    -0.145443 -0.189558  0.257251  0.103928    ...     0.030259   \n",
      "saltires   -0.140903 -0.189943  0.382266  0.123006    ...     0.150968   \n",
      "quarters   -0.151506  0.093175  0.190724  0.120957    ...     0.052441   \n",
      "sustars    -0.114926  0.215993  0.031665  0.019976    ...     0.071740   \n",
      "crescent    0.021200 -0.009461 -0.172795 -0.090878    ...     0.054034   \n",
      "triangle   -0.134008 -0.004426  0.146314  0.026868    ...    -0.052163   \n",
      "icon        0.001317 -0.113977  0.500719  0.093684    ...     0.149997   \n",
      "animate     0.015139 -0.156560  0.550015  0.135176    ...     0.204366   \n",
      "text        0.067078 -0.110733  0.401879  0.018329    ...     0.132507   \n",
      "\n",
      "             crosses  saltires  quarters   sustars  crescent  triangle  \\\n",
      "landmass   -0.029322 -0.001906 -0.002903 -0.034499  0.170010 -0.031315   \n",
      "zone        0.099833  0.178575  0.152032  0.121604 -0.160835  0.058638   \n",
      "area       -0.057959 -0.025539 -0.002011  0.340568 -0.005080 -0.075448   \n",
      "population -0.076496 -0.059209 -0.041503  0.191347 -0.015647 -0.078356   \n",
      "language   -0.209326 -0.295339 -0.219238 -0.126218  0.196012 -0.062377   \n",
      "religion   -0.225518 -0.133565 -0.135923 -0.075127  0.053037  0.056700   \n",
      "bars       -0.145443 -0.140903 -0.151506 -0.114926  0.021200 -0.134008   \n",
      "stripes    -0.189558 -0.189943  0.093175  0.215993 -0.009461 -0.004426   \n",
      "colours     0.257251  0.382266  0.190724  0.031665 -0.172795  0.146314   \n",
      "red         0.103928  0.123006  0.120957  0.019976 -0.090878  0.026868   \n",
      "green      -0.041070  0.128799 -0.083984 -0.068455 -0.005803  0.042198   \n",
      "blue        0.272433  0.241216  0.288445  0.156877 -0.118156  0.004490   \n",
      "gold        0.012852  0.128799  0.011363 -0.018840 -0.095405  0.161966   \n",
      "white       0.193299  0.143305  0.198410  0.099939  0.038041 -0.009847   \n",
      "black      -0.111739 -0.070977 -0.152728 -0.069014 -0.147334  0.334196   \n",
      "orange      0.161249  0.238759  0.072906 -0.069400 -0.031543 -0.115382   \n",
      "circles     0.030259  0.150968  0.052441  0.071740  0.054034 -0.052163   \n",
      "crosses     1.000000  0.707420  0.421110  0.008354 -0.095890 -0.157305   \n",
      "saltires    0.707420  1.000000  0.461881  0.085134 -0.078846 -0.077979   \n",
      "quarters    0.421110  0.461881  1.000000  0.231898 -0.033486 -0.139077   \n",
      "sustars     0.008354  0.085134  0.231898  1.000000  0.013856 -0.011866   \n",
      "crescent   -0.095890 -0.078846 -0.033486  0.013856  1.000000 -0.034719   \n",
      "triangle   -0.157305 -0.077979 -0.139077 -0.011866 -0.034719  1.000000   \n",
      "icon        0.148965  0.186447  0.076684 -0.078126 -0.089745 -0.059264   \n",
      "animate     0.138666  0.193582  0.092984  0.005414 -0.123718  0.020238   \n",
      "text        0.077843  0.162048  0.068823  0.028991 -0.073915 -0.067083   \n",
      "\n",
      "                icon   animate      text  \n",
      "landmass    0.022364 -0.116794 -0.109578  \n",
      "zone       -0.040822  0.103921  0.036250  \n",
      "area        0.027015 -0.051636  0.024392  \n",
      "population  0.018818 -0.082520 -0.025324  \n",
      "language    0.016632 -0.130975 -0.081297  \n",
      "religion    0.056980 -0.002984 -0.055316  \n",
      "bars        0.001317  0.015139  0.067078  \n",
      "stripes    -0.113977 -0.156560 -0.110733  \n",
      "colours     0.500719  0.550015  0.401879  \n",
      "red         0.093684  0.135176  0.018329  \n",
      "green       0.183009  0.253833  0.246305  \n",
      "blue        0.128977  0.025682  0.104993  \n",
      "gold        0.375231  0.357296  0.246305  \n",
      "white       0.053736  0.050731  0.129514  \n",
      "black       0.117331  0.166639  0.032901  \n",
      "orange      0.299602  0.481723  0.211598  \n",
      "circles     0.149997  0.204366  0.132507  \n",
      "crosses     0.148965  0.138666  0.077843  \n",
      "saltires    0.186447  0.193582  0.162048  \n",
      "quarters    0.076684  0.092984  0.068823  \n",
      "sustars    -0.078126  0.005414  0.028991  \n",
      "crescent   -0.089745 -0.123718 -0.073915  \n",
      "triangle   -0.059264  0.020238 -0.067083  \n",
      "icon        1.000000  0.456737  0.392146  \n",
      "animate     0.456737  1.000000  0.410262  \n",
      "text        0.392146  0.410262  1.000000  \n",
      "\n",
      "[26 rows x 26 columns]\n"
     ]
    }
   ],
   "source": [
    "corr = data.corr()\n",
    "print(corr)\n",
    "#sns.heatmap(corr, annot=True,\n",
    "#            xticklabels=corr.columns.values,\n",
    "#            yticklabels=corr.columns.values)"
   ]
  },
  {
   "cell_type": "code",
   "execution_count": 14,
   "metadata": {},
   "outputs": [
    {
     "data": {
      "text/plain": [
       "<seaborn.axisgrid.PairGrid at 0x7f814273df60>"
      ]
     },
     "execution_count": 14,
     "metadata": {},
     "output_type": "execute_result"
    },
    {
     "data": {
      "image/png": "[encoded data removed]",
      "text/plain": [
       "<Figure size 360x360 with 6 Axes>"
      ]
     },
     "metadata": {
      "needs_background": "light"
     },
     "output_type": "display_data"
    }
   ],
   "source": [
    "sns.pairplot(data, vars=['area', 'population'],\n",
    "                 kind='scatter')"
   ]
  },
  {
   "cell_type": "code",
   "execution_count": 15,
   "metadata": {},
   "outputs": [
    {
     "data": {
      "text/plain": [
       "<seaborn.axisgrid.PairGrid at 0x7f81422a6e48>"
      ]
     },
     "execution_count": 15,
     "metadata": {},
     "output_type": "execute_result"
    },
    {
     "data": {
      "image/png": "[encoded data removed]",
      "text/plain": [
       "<Figure size 360x360 with 6 Axes>"
      ]
     },
     "metadata": {
      "needs_background": "light"
     },
     "output_type": "display_data"
    }
   ],
   "source": [
    "sns.pairplot(data, vars=['bars', 'stripes'],\n",
    "                 kind='scatter')"
   ]
  },
  {
   "cell_type": "code",
   "execution_count": 16,
   "metadata": {},
   "outputs": [],
   "source": [
    "# 7.Сделать кросс-валидациюданных с использованием подхода K-fold (n_folds=3)\n",
    "from sklearn.model_selection import train_test_split\n",
    "from sklearn.neighbors import KNeighborsClassifier\n",
    "from sklearn.linear_model import LogisticRegression\n",
    "from sklearn.svm import SVC\n",
    "from sklearn.model_selection import cross_val_score\n",
    "from sklearn import metrics"
   ]
  },
  {
   "cell_type": "code",
   "execution_count": 17,
   "metadata": {},
   "outputs": [
    {
     "name": "stdout",
     "output_type": "stream",
     "text": [
      "(144, 43) (144,)\n"
     ]
    }
   ],
   "source": [
    "fields = ['bars', 'stripes', 'colours', 'red','green', 'blue', 'gold', 'white', 'black', 'orange', 'circles',\n",
    "       'crosses', 'saltires', 'quarters', 'sustars', 'crescent', 'triangle', 'icon', 'animate', 'text', \n",
    "       'topleft_black', 'topleft_blue', 'topleft_gold', 'topleft_green', 'topleft_orange', 'topleft_red',\n",
    "       'topleft_white', 'mainhue_black', 'mainhue_blue', 'mainhue_brown', 'mainhue_gold', 'mainhue_green', \n",
    "       'mainhue_orange', 'mainhue_red', 'mainhue_white', 'botright_black', 'botright_blue', 'botright_brown',\n",
    "       'botright_gold', 'botright_green', 'botright_orange', 'botright_red','botright_white']\n",
    "\n",
    "X = data1[fields]\n",
    "y = data1.religion\n",
    "#print(data1['religion'].shape)\n",
    "X_train, X_test, y_train, y_test = train_test_split(X,y)\n",
    "print(X_train.shape,y_train.shape)"
   ]
  },
  {
   "cell_type": "code",
   "execution_count": 18,
   "metadata": {},
   "outputs": [
    {
     "name": "stdout",
     "output_type": "stream",
     "text": [
      "0.46020408163265314\n"
     ]
    }
   ],
   "source": [
    "avg_acc = 0\n",
    "for _ in range(20):\n",
    "    X_train, X_test, y_train, y_test = train_test_split(X,y)\n",
    "    svc = SVC()\n",
    "    svc.fit(X_train,y_train)\n",
    "    y_pred = svc.predict(X_test)\n",
    "    avg_acc+=metrics.accuracy_score(y_test, y_pred)\n",
    "print(avg_acc/20)"
   ]
  },
  {
   "cell_type": "code",
   "execution_count": 19,
   "metadata": {},
   "outputs": [],
   "source": [
    "# 8.Решить задачу мультиклассовой классификации и предсказать религию страны(religion)по деталям ее флага "
   ]
  },
  {
   "cell_type": "code",
   "execution_count": 20,
   "metadata": {},
   "outputs": [
    {
     "name": "stdout",
     "output_type": "stream",
     "text": [
      "0.42857142857142855\n",
      "[[ 2  2  2  1  0  1  1  0]\n",
      " [ 2 12  1  0  0  0  1  0]\n",
      " [ 2  1  4  0  0  0  0  0]\n",
      " [ 1  0  1  0  0  0  0  0]\n",
      " [ 0  0  0  0  0  1  0  0]\n",
      " [ 2  2  2  1  0  2  0  0]\n",
      " [ 0  2  0  0  0  0  1  0]\n",
      " [ 1  0  1  0  0  0  0  0]]\n"
     ]
    }
   ],
   "source": [
    "log_r = LogisticRegression()\n",
    "log_r.fit(X_train,y_train)\n",
    "y_pred = log_r.predict(X_test)\n",
    "print(metrics.accuracy_score(y_test,y_pred))\n",
    "print(metrics.confusion_matrix(y_test, y_pred))"
   ]
  },
  {
   "cell_type": "code",
   "execution_count": 21,
   "metadata": {},
   "outputs": [
    {
     "name": "stdout",
     "output_type": "stream",
     "text": [
      "0.5102040816326531\n",
      "[[ 3  3  2  0  0  0  1  0]\n",
      " [ 1 15  0  0  0  0  0  0]\n",
      " [ 1  2  4  0  0  0  0  0]\n",
      " [ 1  1  0  0  0  0  0  0]\n",
      " [ 0  1  0  0  0  0  0  0]\n",
      " [ 4  1  1  0  0  3  0  0]\n",
      " [ 0  1  2  0  0  0  0  0]\n",
      " [ 1  1  0  0  0  0  0  0]]\n"
     ]
    }
   ],
   "source": [
    "knn = KNeighborsClassifier(n_neighbors=6)\n",
    "knn.fit(X_train, y_train)\n",
    "y_pred = knn.predict(X_test)\n",
    "print(metrics.accuracy_score(y_test, y_pred))\n",
    "print(metrics.confusion_matrix(y_test, y_pred))"
   ]
  },
  {
   "cell_type": "code",
   "execution_count": 22,
   "metadata": {},
   "outputs": [
    {
     "name": "stderr",
     "output_type": "stream",
     "text": [
      "/home/dmitry/anaconda3/lib/python3.7/site-packages/sklearn/ensemble/weight_boosting.py:29: DeprecationWarning: numpy.core.umath_tests is an internal NumPy module and should not be imported. It will be removed in a future NumPy release.\n",
      "  from numpy.core.umath_tests import inner1d\n"
     ]
    },
    {
     "name": "stdout",
     "output_type": "stream",
     "text": [
      "5     0.387393\n",
      "1     0.129994\n",
      "28    0.096779\n",
      "41    0.083245\n",
      "6     0.076543\n",
      "25    0.071057\n",
      "36    0.057080\n",
      "2     0.056182\n",
      "4     0.041727\n",
      "dtype: float64\n",
      "Index(['blue', 'stripes', 'mainhue_blue', 'botright_red', 'gold',\n",
      "       'topleft_red', 'botright_blue', 'colours', 'green'],\n",
      "      dtype='object')\n"
     ]
    }
   ],
   "source": [
    "# 9.РассчитатьFeature Importancesдля переменных модели\n",
    "from sklearn.ensemble import RandomForestClassifier\n",
    "\n",
    "clf_rf = RandomForestClassifier(n_estimators=10, max_depth=5, min_samples_leaf=20, max_features=0.5, n_jobs=-1)\n",
    "clf_rf.fit(X_train, y_train) \n",
    "\n",
    "imp = pd.Series(clf_rf.feature_importances_)\n",
    "imp = imp.sort_values(ascending=False)\n",
    "imp = imp[imp.values>0]\n",
    "print(imp)\n",
    "print(X_train.columns[imp.index])"
   ]
  },
  {
   "cell_type": "code",
   "execution_count": 23,
   "metadata": {},
   "outputs": [],
   "source": [
    "fields = ['blue', 'stripes', 'green', 'topleft_blue', 'topleft_white',\n",
    "       'botright_blue', 'botright_red', 'sustars', 'topleft_red', 'gold',\n",
    "       'white', 'mainhue_red']\n",
    "\n",
    "X = data1[fields]\n",
    "y = data1.religion"
   ]
  },
  {
   "cell_type": "code",
   "execution_count": 24,
   "metadata": {},
   "outputs": [
    {
     "name": "stdout",
     "output_type": "stream",
     "text": [
      "0.43061224489795924\n"
     ]
    }
   ],
   "source": [
    "avg_acc = 0\n",
    "for _ in range(20):\n",
    "    X_train, X_test, y_train, y_test = train_test_split(X,y)\n",
    "    svc = SVC()\n",
    "    svc.fit(X_train,y_train)\n",
    "    y_pred = svc.predict(X_test)\n",
    "    avg_acc+=metrics.accuracy_score(y_test, y_pred)\n",
    "print(avg_acc/20)"
   ]
  },
  {
   "cell_type": "code",
   "execution_count": 25,
   "metadata": {},
   "outputs": [
    {
     "name": "stdout",
     "output_type": "stream",
     "text": [
      "0.3673469387755102\n",
      "[[ 1  7  3  0  1  2  0]\n",
      " [ 1 11  1  0  3  0  0]\n",
      " [ 0  3  4  0  3  0  0]\n",
      " [ 1  1  0  0  0  1  0]\n",
      " [ 0  0  1  0  1  1  0]\n",
      " [ 0  1  0  0  0  1  0]\n",
      " [ 0  1  0  0  0  0  0]]\n"
     ]
    }
   ],
   "source": [
    "# 10.Проверить качество классификации с использованием следующих метрик: Accuracy, F1-Score, Precision, Recall\n",
    "import numpy as np\n",
    "from sklearn.metrics import accuracy_score\n",
    "\n",
    "log_r = LogisticRegression()\n",
    "log_r.fit(X_train,y_train)\n",
    "y_pred = log_r.predict(X_test)\n",
    "print(metrics.accuracy_score(y_test,y_pred))\n",
    "print(metrics.confusion_matrix(y_test, y_pred))"
   ]
  },
  {
   "cell_type": "code",
   "execution_count": 26,
   "metadata": {},
   "outputs": [
    {
     "name": "stdout",
     "output_type": "stream",
     "text": [
      "    accuracy_score   =  0.3673469387755102\n",
      "    accuracy_score_N =  18\n"
     ]
    }
   ],
   "source": [
    "y_true = y_test\n",
    "print('    accuracy_score   = ',accuracy_score(y_true, y_pred))\n",
    "print('    accuracy_score_N = ',accuracy_score(y_true, y_pred, normalize=False))"
   ]
  },
  {
   "cell_type": "code",
   "execution_count": 27,
   "metadata": {},
   "outputs": [
    {
     "name": "stdout",
     "output_type": "stream",
     "text": [
      "f1_Score_macro    =  0.22231887970499206\n",
      "f1_Score_micro    =  0.36734693877551017\n",
      "f1_Score_weighted =  0.3219279235959592\n",
      "f1_Score_none     =  [0.11764706 0.55       0.42105263 0.         0.18181818 0.28571429\n",
      " 0.        ]\n",
      "/n\n"
     ]
    },
    {
     "name": "stderr",
     "output_type": "stream",
     "text": [
      "/home/dmitry/anaconda3/lib/python3.7/site-packages/sklearn/metrics/classification.py:1135: UndefinedMetricWarning: F-score is ill-defined and being set to 0.0 in labels with no predicted samples.\n",
      "  'precision', 'predicted', average, warn_for)\n",
      "/home/dmitry/anaconda3/lib/python3.7/site-packages/sklearn/metrics/classification.py:1135: UndefinedMetricWarning: F-score is ill-defined and being set to 0.0 in labels with no predicted samples.\n",
      "  'precision', 'predicted', average, warn_for)\n",
      "/home/dmitry/anaconda3/lib/python3.7/site-packages/sklearn/metrics/classification.py:1135: UndefinedMetricWarning: F-score is ill-defined and being set to 0.0 in labels with no predicted samples.\n",
      "  'precision', 'predicted', average, warn_for)\n"
     ]
    }
   ],
   "source": [
    "from sklearn.metrics import f1_score\n",
    "print('f1_Score_macro    = ', f1_score(y_true, y_pred, average='macro') )\n",
    "print('f1_Score_micro    = ', f1_score(y_true, y_pred, average='micro') )\n",
    "print('f1_Score_weighted = ', f1_score(y_true, y_pred, average='weighted') )\n",
    "print('f1_Score_none     = ', f1_score(y_true, y_pred, average=None) )\n",
    "print('/n') "
   ]
  },
  {
   "cell_type": "code",
   "execution_count": 28,
   "metadata": {},
   "outputs": [
    {
     "name": "stdout",
     "output_type": "stream",
     "text": [
      "precision_macro       =  0.22301587301587303\n",
      "precision_micro       =  0.3673469387755102\n",
      "precision_weighted    =  0.35141723356009064\n",
      "precision_none        =  [0.33333333 0.45833333 0.44444444 0.         0.125      0.2\n",
      " 0.        ]\n"
     ]
    },
    {
     "name": "stderr",
     "output_type": "stream",
     "text": [
      "/home/dmitry/anaconda3/lib/python3.7/site-packages/sklearn/metrics/classification.py:1135: UndefinedMetricWarning: Precision is ill-defined and being set to 0.0 in labels with no predicted samples.\n",
      "  'precision', 'predicted', average, warn_for)\n",
      "/home/dmitry/anaconda3/lib/python3.7/site-packages/sklearn/metrics/classification.py:1135: UndefinedMetricWarning: Precision is ill-defined and being set to 0.0 in labels with no predicted samples.\n",
      "  'precision', 'predicted', average, warn_for)\n",
      "/home/dmitry/anaconda3/lib/python3.7/site-packages/sklearn/metrics/classification.py:1135: UndefinedMetricWarning: Precision is ill-defined and being set to 0.0 in labels with no predicted samples.\n",
      "  'precision', 'predicted', average, warn_for)\n"
     ]
    }
   ],
   "source": [
    "from sklearn.metrics import precision_score\n",
    "print('precision_macro       = ', precision_score(y_true, y_pred, average='macro')  )\n",
    "print('precision_micro       = ', precision_score(y_true, y_pred, average='micro')  )\n",
    "print('precision_weighted    = ', precision_score(y_true, y_pred, average='weighted') )\n",
    "print('precision_none        = ', precision_score(y_true, y_pred, average=None)   )"
   ]
  },
  {
   "cell_type": "code",
   "execution_count": 29,
   "metadata": {},
   "outputs": [
    {
     "name": "stdout",
     "output_type": "stream",
     "text": [
      "recall_macro    =  0.28460884353741495\n",
      "recall_micro    =  0.3673469387755102\n",
      "recall_weighted =  0.3673469387755102\n",
      "recall_none     =  [0.07142857 0.6875     0.4        0.         0.33333333 0.5\n",
      " 0.        ]\n"
     ]
    }
   ],
   "source": [
    "from sklearn.metrics import recall_score\n",
    "print('recall_macro    = ', recall_score(y_true, y_pred, average='macro'))  \n",
    "print('recall_micro    = ', recall_score(y_true, y_pred, average='micro'))  \n",
    "print('recall_weighted = ', recall_score(y_true, y_pred, average='weighted'))  \n",
    "print('recall_none     = ', recall_score(y_true, y_pred, average=None)) "
   ]
  },
  {
   "cell_type": "code",
   "execution_count": 30,
   "metadata": {},
   "outputs": [],
   "source": [
    "# 11.Построить Confusion Matrix для ваших результатов\n",
    "from sklearn.metrics import confusion_matrix"
   ]
  },
  {
   "cell_type": "code",
   "execution_count": 31,
   "metadata": {},
   "outputs": [],
   "source": [
    "lr_params = {\n",
    "    'penalty': ['l1', 'l2'],\n",
    "    'C': [0.001, 0.01, 0.1, 0.25, 0.5]\n",
    "}"
   ]
  },
  {
   "cell_type": "code",
   "execution_count": 32,
   "metadata": {},
   "outputs": [],
   "source": [
    "from sklearn.model_selection import GridSearchCV"
   ]
  },
  {
   "cell_type": "code",
   "execution_count": 33,
   "metadata": {},
   "outputs": [
    {
     "name": "stderr",
     "output_type": "stream",
     "text": [
      "/home/dmitry/anaconda3/lib/python3.7/site-packages/sklearn/model_selection/_split.py:605: Warning: The least populated class in y has only 3 members, which is too few. The minimum number of members in any class cannot be less than n_splits=10.\n",
      "  % (min_groups, self.n_splits)), Warning)\n"
     ]
    },
    {
     "data": {
      "text/plain": [
       "GridSearchCV(cv=10, error_score='raise',\n",
       "       estimator=LogisticRegression(C=1.0, class_weight=None, dual=False, fit_intercept=True,\n",
       "          intercept_scaling=1, max_iter=100, multi_class='ovr', n_jobs=1,\n",
       "          penalty='l2', random_state=None, solver='liblinear', tol=0.0001,\n",
       "          verbose=0, warm_start=False),\n",
       "       fit_params=None, iid=True, n_jobs=1,\n",
       "       param_grid={'penalty': ['l1', 'l2'], 'C': [0.001, 0.01, 0.1, 0.25, 0.5]},\n",
       "       pre_dispatch='2*n_jobs', refit=True, return_train_score='warn',\n",
       "       scoring='accuracy', verbose=0)"
      ]
     },
     "execution_count": 33,
     "metadata": {},
     "output_type": "execute_result"
    }
   ],
   "source": [
    "lr = LogisticRegression(multi_class='ovr', solver='liblinear')\n",
    "grid_lr = GridSearchCV(lr, lr_params, scoring='accuracy', cv=10)\n",
    "grid_lr.fit(X_train, y_train)"
   ]
  },
  {
   "cell_type": "code",
   "execution_count": 34,
   "metadata": {},
   "outputs": [],
   "source": [
    "y_pred_lr= grid_lr.best_estimator_.predict(X_test)"
   ]
  },
  {
   "cell_type": "code",
   "execution_count": 35,
   "metadata": {},
   "outputs": [
    {
     "data": {
      "text/plain": [
       "array([[ 1,  7,  3,  0,  1,  2,  0],\n",
       "       [ 1, 11,  1,  0,  3,  0,  0],\n",
       "       [ 0,  3,  4,  0,  3,  0,  0],\n",
       "       [ 1,  1,  0,  0,  0,  1,  0],\n",
       "       [ 0,  0,  1,  0,  1,  1,  0],\n",
       "       [ 0,  1,  0,  0,  0,  1,  0],\n",
       "       [ 0,  1,  0,  0,  0,  0,  0]])"
      ]
     },
     "execution_count": 35,
     "metadata": {},
     "output_type": "execute_result"
    }
   ],
   "source": [
    "confusion_matrix(y_test, y_pred)"
   ]
  }
 ],
 "metadata": {
  "kernelspec": {
   "display_name": "Python 3",
   "language": "python",
   "name": "python3"
  },
  "language_info": {
   "codemirror_mode": {
    "name": "ipython",
    "version": 3
   },
   "file_extension": ".py",
   "mimetype": "text/x-python",
   "name": "python",
   "nbconvert_exporter": "python",
   "pygments_lexer": "ipython3",
   "version": "3.7.0"
  }
 },
 "nbformat": 4,
 "nbformat_minor": 2
}
