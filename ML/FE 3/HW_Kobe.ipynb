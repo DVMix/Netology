{
 "cells": [
  {
   "cell_type": "code",
   "execution_count": 52,
   "metadata": {},
   "outputs": [],
   "source": [
    "import pandas as pd\n",
    "import numpy as np\n",
    "import matplotlib.pyplot as plt\n",
    "%matplotlib inline"
   ]
  },
  {
   "cell_type": "markdown",
   "metadata": {},
   "source": [
    "## Kobe Bryant  shot selection"
   ]
  },
  {
   "cell_type": "markdown",
   "metadata": {},
   "source": [
    "Cсылка на соревнование: https://www.kaggle.com/c/kobe-bryant-shot-selection"
   ]
  },
  {
   "cell_type": "markdown",
   "metadata": {},
   "source": [
    "Goal: Fun and education"
   ]
  },
  {
   "cell_type": "markdown",
   "metadata": {},
   "source": [
    "Using 20 years of data on Kobe's swishes and misses, can you predict which shots will find the bottom of the net? This competition is well suited for practicing classification basics, feature engineering, and time series analysis. Practice got Kobe an eight-figure contract and 5 championship rings. What will it get you?"
   ]
  },
  {
   "cell_type": "markdown",
   "metadata": {},
   "source": [
    "This data contains the location and circumstances of every field goal attempted by Kobe Bryant took during his 20-year career. Your task is to predict whether the basket went in (shot_made_flag).\n",
    "\n",
    "We have removed 5000 of the shot_made_flags (represented as missing values in the csv file). These are the test set shots for which you must submit a prediction. You are provided a sample submission file with the correct shot_ids needed for a valid prediction."
   ]
  },
  {
   "cell_type": "code",
   "execution_count": 53,
   "metadata": {},
   "outputs": [],
   "source": [
    "data = pd.read_csv('kobe.csv')"
   ]
  },
  {
   "cell_type": "code",
   "execution_count": 54,
   "metadata": {},
   "outputs": [
    {
     "data": {
      "text/html": [
       "<div>\n",
       "<style scoped>\n",
       "    .dataframe tbody tr th:only-of-type {\n",
       "        vertical-align: middle;\n",
       "    }\n",
       "\n",
       "    .dataframe tbody tr th {\n",
       "        vertical-align: top;\n",
       "    }\n",
       "\n",
       "    .dataframe thead th {\n",
       "        text-align: right;\n",
       "    }\n",
       "</style>\n",
       "<table border=\"1\" class=\"dataframe\">\n",
       "  <thead>\n",
       "    <tr style=\"text-align: right;\">\n",
       "      <th></th>\n",
       "      <th>action_type</th>\n",
       "      <th>combined_shot_type</th>\n",
       "      <th>game_event_id</th>\n",
       "      <th>game_id</th>\n",
       "      <th>lat</th>\n",
       "      <th>loc_x</th>\n",
       "      <th>loc_y</th>\n",
       "      <th>lon</th>\n",
       "      <th>minutes_remaining</th>\n",
       "      <th>period</th>\n",
       "      <th>...</th>\n",
       "      <th>shot_type</th>\n",
       "      <th>shot_zone_area</th>\n",
       "      <th>shot_zone_basic</th>\n",
       "      <th>shot_zone_range</th>\n",
       "      <th>team_id</th>\n",
       "      <th>team_name</th>\n",
       "      <th>game_date</th>\n",
       "      <th>matchup</th>\n",
       "      <th>opponent</th>\n",
       "      <th>shot_id</th>\n",
       "    </tr>\n",
       "  </thead>\n",
       "  <tbody>\n",
       "    <tr>\n",
       "      <th>0</th>\n",
       "      <td>Jump Shot</td>\n",
       "      <td>Jump Shot</td>\n",
       "      <td>10</td>\n",
       "      <td>20000012</td>\n",
       "      <td>33.9723</td>\n",
       "      <td>167</td>\n",
       "      <td>72</td>\n",
       "      <td>-118.1028</td>\n",
       "      <td>10</td>\n",
       "      <td>1</td>\n",
       "      <td>...</td>\n",
       "      <td>2PT Field Goal</td>\n",
       "      <td>Right Side(R)</td>\n",
       "      <td>Mid-Range</td>\n",
       "      <td>16-24 ft.</td>\n",
       "      <td>1610612747</td>\n",
       "      <td>Los Angeles Lakers</td>\n",
       "      <td>2000-10-31</td>\n",
       "      <td>LAL @ POR</td>\n",
       "      <td>POR</td>\n",
       "      <td>1</td>\n",
       "    </tr>\n",
       "    <tr>\n",
       "      <th>1</th>\n",
       "      <td>Jump Shot</td>\n",
       "      <td>Jump Shot</td>\n",
       "      <td>12</td>\n",
       "      <td>20000012</td>\n",
       "      <td>34.0443</td>\n",
       "      <td>-157</td>\n",
       "      <td>0</td>\n",
       "      <td>-118.4268</td>\n",
       "      <td>10</td>\n",
       "      <td>1</td>\n",
       "      <td>...</td>\n",
       "      <td>2PT Field Goal</td>\n",
       "      <td>Left Side(L)</td>\n",
       "      <td>Mid-Range</td>\n",
       "      <td>8-16 ft.</td>\n",
       "      <td>1610612747</td>\n",
       "      <td>Los Angeles Lakers</td>\n",
       "      <td>2000-10-31</td>\n",
       "      <td>LAL @ POR</td>\n",
       "      <td>POR</td>\n",
       "      <td>2</td>\n",
       "    </tr>\n",
       "    <tr>\n",
       "      <th>2</th>\n",
       "      <td>Jump Shot</td>\n",
       "      <td>Jump Shot</td>\n",
       "      <td>35</td>\n",
       "      <td>20000012</td>\n",
       "      <td>33.9093</td>\n",
       "      <td>-101</td>\n",
       "      <td>135</td>\n",
       "      <td>-118.3708</td>\n",
       "      <td>7</td>\n",
       "      <td>1</td>\n",
       "      <td>...</td>\n",
       "      <td>2PT Field Goal</td>\n",
       "      <td>Left Side Center(LC)</td>\n",
       "      <td>Mid-Range</td>\n",
       "      <td>16-24 ft.</td>\n",
       "      <td>1610612747</td>\n",
       "      <td>Los Angeles Lakers</td>\n",
       "      <td>2000-10-31</td>\n",
       "      <td>LAL @ POR</td>\n",
       "      <td>POR</td>\n",
       "      <td>3</td>\n",
       "    </tr>\n",
       "    <tr>\n",
       "      <th>3</th>\n",
       "      <td>Jump Shot</td>\n",
       "      <td>Jump Shot</td>\n",
       "      <td>43</td>\n",
       "      <td>20000012</td>\n",
       "      <td>33.8693</td>\n",
       "      <td>138</td>\n",
       "      <td>175</td>\n",
       "      <td>-118.1318</td>\n",
       "      <td>6</td>\n",
       "      <td>1</td>\n",
       "      <td>...</td>\n",
       "      <td>2PT Field Goal</td>\n",
       "      <td>Right Side Center(RC)</td>\n",
       "      <td>Mid-Range</td>\n",
       "      <td>16-24 ft.</td>\n",
       "      <td>1610612747</td>\n",
       "      <td>Los Angeles Lakers</td>\n",
       "      <td>2000-10-31</td>\n",
       "      <td>LAL @ POR</td>\n",
       "      <td>POR</td>\n",
       "      <td>4</td>\n",
       "    </tr>\n",
       "    <tr>\n",
       "      <th>4</th>\n",
       "      <td>Driving Dunk Shot</td>\n",
       "      <td>Dunk</td>\n",
       "      <td>155</td>\n",
       "      <td>20000012</td>\n",
       "      <td>34.0443</td>\n",
       "      <td>0</td>\n",
       "      <td>0</td>\n",
       "      <td>-118.2698</td>\n",
       "      <td>6</td>\n",
       "      <td>2</td>\n",
       "      <td>...</td>\n",
       "      <td>2PT Field Goal</td>\n",
       "      <td>Center(C)</td>\n",
       "      <td>Restricted Area</td>\n",
       "      <td>Less Than 8 ft.</td>\n",
       "      <td>1610612747</td>\n",
       "      <td>Los Angeles Lakers</td>\n",
       "      <td>2000-10-31</td>\n",
       "      <td>LAL @ POR</td>\n",
       "      <td>POR</td>\n",
       "      <td>5</td>\n",
       "    </tr>\n",
       "  </tbody>\n",
       "</table>\n",
       "<p>5 rows × 25 columns</p>\n",
       "</div>"
      ],
      "text/plain": [
       "         action_type combined_shot_type  game_event_id   game_id      lat  \\\n",
       "0          Jump Shot          Jump Shot             10  20000012  33.9723   \n",
       "1          Jump Shot          Jump Shot             12  20000012  34.0443   \n",
       "2          Jump Shot          Jump Shot             35  20000012  33.9093   \n",
       "3          Jump Shot          Jump Shot             43  20000012  33.8693   \n",
       "4  Driving Dunk Shot               Dunk            155  20000012  34.0443   \n",
       "\n",
       "   loc_x  loc_y       lon  minutes_remaining  period  ...       shot_type  \\\n",
       "0    167     72 -118.1028                 10       1  ...  2PT Field Goal   \n",
       "1   -157      0 -118.4268                 10       1  ...  2PT Field Goal   \n",
       "2   -101    135 -118.3708                  7       1  ...  2PT Field Goal   \n",
       "3    138    175 -118.1318                  6       1  ...  2PT Field Goal   \n",
       "4      0      0 -118.2698                  6       2  ...  2PT Field Goal   \n",
       "\n",
       "          shot_zone_area  shot_zone_basic  shot_zone_range     team_id  \\\n",
       "0          Right Side(R)        Mid-Range        16-24 ft.  1610612747   \n",
       "1           Left Side(L)        Mid-Range         8-16 ft.  1610612747   \n",
       "2   Left Side Center(LC)        Mid-Range        16-24 ft.  1610612747   \n",
       "3  Right Side Center(RC)        Mid-Range        16-24 ft.  1610612747   \n",
       "4              Center(C)  Restricted Area  Less Than 8 ft.  1610612747   \n",
       "\n",
       "            team_name   game_date    matchup opponent  shot_id  \n",
       "0  Los Angeles Lakers  2000-10-31  LAL @ POR      POR        1  \n",
       "1  Los Angeles Lakers  2000-10-31  LAL @ POR      POR        2  \n",
       "2  Los Angeles Lakers  2000-10-31  LAL @ POR      POR        3  \n",
       "3  Los Angeles Lakers  2000-10-31  LAL @ POR      POR        4  \n",
       "4  Los Angeles Lakers  2000-10-31  LAL @ POR      POR        5  \n",
       "\n",
       "[5 rows x 25 columns]"
      ]
     },
     "execution_count": 54,
     "metadata": {},
     "output_type": "execute_result"
    }
   ],
   "source": [
    "data.head()"
   ]
  },
  {
   "cell_type": "code",
   "execution_count": 55,
   "metadata": {},
   "outputs": [],
   "source": [
    "target = 'shot_made_flag'"
   ]
  },
  {
   "cell_type": "markdown",
   "metadata": {},
   "source": [
    "**Задания:**\n",
    "\n",
    "1. Провести анализ данных. Много хороших примеров анализа можно посмотреть здесь https://www.kaggle.com/c/kobe-bryant-shot-selection/kernels\n",
    "2. Подготовить фичи для обучения модели - нагенерить признаков, обработать пропущенные значения, проверить на возможные выбросы, обработать категориальные признаки и др.\n",
    "3. Обучить линейную модель, Lasso, Ridge на тех же признаках - построить сравнительную таблицу коэффициентов, сделать заключения о том, как меняется величина коэффициентов, какие зануляются. Посчитать RSS\n",
    "\n",
    "**Дополнительно**\n",
    "4. Сравнить результаты на тестовом наборе данных - сделать train_test_split в самом начале, подготовить переменные, сравнить результаты работы классификаторов (те же 3), метрика ROC AUC\n",
    "5. Построить PCA на подготовленных признаках, посмотреть, какие компоненты составляют наибольшую часть дисперсии целевой переменной"
   ]
  },
  {
   "cell_type": "code",
   "execution_count": 56,
   "metadata": {},
   "outputs": [
    {
     "data": {
      "text/plain": [
       "Index(['action_type', 'combined_shot_type', 'game_event_id', 'game_id', 'lat',\n",
       "       'loc_x', 'loc_y', 'lon', 'minutes_remaining', 'period', 'playoffs',\n",
       "       'season', 'seconds_remaining', 'shot_distance', 'shot_made_flag',\n",
       "       'shot_type', 'shot_zone_area', 'shot_zone_basic', 'shot_zone_range',\n",
       "       'team_id', 'team_name', 'game_date', 'matchup', 'opponent', 'shot_id'],\n",
       "      dtype='object')"
      ]
     },
     "execution_count": 56,
     "metadata": {},
     "output_type": "execute_result"
    }
   ],
   "source": [
    "data.columns\n",
    "# 'action_type', 'combined_shot_type', 'game_event_id',      'game_id',           'lat',\n",
    "# 'loc_x',       'loc_y',              'lon',                'minutes_remaining', 'period',    \n",
    "# 'playoffs',    'season',             'seconds_remaining',  'shot_distance',     'shot_made_flag',\n",
    "# 'shot_type',   'shot_zone_area',     'shot_zone_basic',    'shot_zone_range',   'team_id',  \n",
    "# 'team_name',   'game_date',          'matchup',            'opponent',          'shot_id'"
   ]
  },
  {
   "cell_type": "code",
   "execution_count": 57,
   "metadata": {},
   "outputs": [
    {
     "name": "stdout",
     "output_type": "stream",
     "text": [
      "<class 'pandas.core.frame.DataFrame'>\n",
      "RangeIndex: 30697 entries, 0 to 30696\n",
      "Data columns (total 25 columns):\n",
      "action_type           30697 non-null object\n",
      "combined_shot_type    30697 non-null object\n",
      "game_event_id         30697 non-null int64\n",
      "game_id               30697 non-null int64\n",
      "lat                   30697 non-null float64\n",
      "loc_x                 30697 non-null int64\n",
      "loc_y                 30697 non-null int64\n",
      "lon                   30697 non-null float64\n",
      "minutes_remaining     30697 non-null int64\n",
      "period                30697 non-null int64\n",
      "playoffs              30697 non-null int64\n",
      "season                30697 non-null object\n",
      "seconds_remaining     30697 non-null int64\n",
      "shot_distance         30697 non-null int64\n",
      "shot_made_flag        25697 non-null float64\n",
      "shot_type             30697 non-null object\n",
      "shot_zone_area        30697 non-null object\n",
      "shot_zone_basic       30697 non-null object\n",
      "shot_zone_range       30697 non-null object\n",
      "team_id               30697 non-null int64\n",
      "team_name             30697 non-null object\n",
      "game_date             30697 non-null object\n",
      "matchup               30697 non-null object\n",
      "opponent              30697 non-null object\n",
      "shot_id               30697 non-null int64\n",
      "dtypes: float64(3), int64(11), object(11)\n",
      "memory usage: 5.9+ MB\n"
     ]
    }
   ],
   "source": [
    "data.info()"
   ]
  },
  {
   "cell_type": "code",
   "execution_count": 58,
   "metadata": {},
   "outputs": [
    {
     "data": {
      "text/html": [
       "<div>\n",
       "<style scoped>\n",
       "    .dataframe tbody tr th:only-of-type {\n",
       "        vertical-align: middle;\n",
       "    }\n",
       "\n",
       "    .dataframe tbody tr th {\n",
       "        vertical-align: top;\n",
       "    }\n",
       "\n",
       "    .dataframe thead th {\n",
       "        text-align: right;\n",
       "    }\n",
       "</style>\n",
       "<table border=\"1\" class=\"dataframe\">\n",
       "  <thead>\n",
       "    <tr style=\"text-align: right;\">\n",
       "      <th></th>\n",
       "      <th>game_event_id</th>\n",
       "      <th>game_id</th>\n",
       "      <th>lat</th>\n",
       "      <th>loc_x</th>\n",
       "      <th>loc_y</th>\n",
       "      <th>lon</th>\n",
       "      <th>minutes_remaining</th>\n",
       "      <th>period</th>\n",
       "      <th>playoffs</th>\n",
       "      <th>seconds_remaining</th>\n",
       "      <th>shot_distance</th>\n",
       "      <th>shot_made_flag</th>\n",
       "      <th>team_id</th>\n",
       "      <th>shot_id</th>\n",
       "    </tr>\n",
       "  </thead>\n",
       "  <tbody>\n",
       "    <tr>\n",
       "      <th>count</th>\n",
       "      <td>30697.000000</td>\n",
       "      <td>3.069700e+04</td>\n",
       "      <td>30697.000000</td>\n",
       "      <td>30697.000000</td>\n",
       "      <td>30697.000000</td>\n",
       "      <td>30697.000000</td>\n",
       "      <td>30697.000000</td>\n",
       "      <td>30697.000000</td>\n",
       "      <td>30697.000000</td>\n",
       "      <td>30697.000000</td>\n",
       "      <td>30697.000000</td>\n",
       "      <td>25697.000000</td>\n",
       "      <td>3.069700e+04</td>\n",
       "      <td>30697.000000</td>\n",
       "    </tr>\n",
       "    <tr>\n",
       "      <th>mean</th>\n",
       "      <td>249.190800</td>\n",
       "      <td>2.476407e+07</td>\n",
       "      <td>33.953192</td>\n",
       "      <td>7.110499</td>\n",
       "      <td>91.107535</td>\n",
       "      <td>-118.262690</td>\n",
       "      <td>4.885624</td>\n",
       "      <td>2.519432</td>\n",
       "      <td>0.146562</td>\n",
       "      <td>28.365085</td>\n",
       "      <td>13.437437</td>\n",
       "      <td>0.446161</td>\n",
       "      <td>1.610613e+09</td>\n",
       "      <td>15349.000000</td>\n",
       "    </tr>\n",
       "    <tr>\n",
       "      <th>std</th>\n",
       "      <td>150.003712</td>\n",
       "      <td>7.755175e+06</td>\n",
       "      <td>0.087791</td>\n",
       "      <td>110.124578</td>\n",
       "      <td>87.791361</td>\n",
       "      <td>0.110125</td>\n",
       "      <td>3.449897</td>\n",
       "      <td>1.153665</td>\n",
       "      <td>0.353674</td>\n",
       "      <td>17.478949</td>\n",
       "      <td>9.374189</td>\n",
       "      <td>0.497103</td>\n",
       "      <td>0.000000e+00</td>\n",
       "      <td>8861.604943</td>\n",
       "    </tr>\n",
       "    <tr>\n",
       "      <th>min</th>\n",
       "      <td>2.000000</td>\n",
       "      <td>2.000001e+07</td>\n",
       "      <td>33.253300</td>\n",
       "      <td>-250.000000</td>\n",
       "      <td>-44.000000</td>\n",
       "      <td>-118.519800</td>\n",
       "      <td>0.000000</td>\n",
       "      <td>1.000000</td>\n",
       "      <td>0.000000</td>\n",
       "      <td>0.000000</td>\n",
       "      <td>0.000000</td>\n",
       "      <td>0.000000</td>\n",
       "      <td>1.610613e+09</td>\n",
       "      <td>1.000000</td>\n",
       "    </tr>\n",
       "    <tr>\n",
       "      <th>25%</th>\n",
       "      <td>110.000000</td>\n",
       "      <td>2.050008e+07</td>\n",
       "      <td>33.884300</td>\n",
       "      <td>-68.000000</td>\n",
       "      <td>4.000000</td>\n",
       "      <td>-118.337800</td>\n",
       "      <td>2.000000</td>\n",
       "      <td>1.000000</td>\n",
       "      <td>0.000000</td>\n",
       "      <td>13.000000</td>\n",
       "      <td>5.000000</td>\n",
       "      <td>0.000000</td>\n",
       "      <td>1.610613e+09</td>\n",
       "      <td>7675.000000</td>\n",
       "    </tr>\n",
       "    <tr>\n",
       "      <th>50%</th>\n",
       "      <td>253.000000</td>\n",
       "      <td>2.090035e+07</td>\n",
       "      <td>33.970300</td>\n",
       "      <td>0.000000</td>\n",
       "      <td>74.000000</td>\n",
       "      <td>-118.269800</td>\n",
       "      <td>5.000000</td>\n",
       "      <td>3.000000</td>\n",
       "      <td>0.000000</td>\n",
       "      <td>28.000000</td>\n",
       "      <td>15.000000</td>\n",
       "      <td>0.000000</td>\n",
       "      <td>1.610613e+09</td>\n",
       "      <td>15349.000000</td>\n",
       "    </tr>\n",
       "    <tr>\n",
       "      <th>75%</th>\n",
       "      <td>368.000000</td>\n",
       "      <td>2.960047e+07</td>\n",
       "      <td>34.040300</td>\n",
       "      <td>95.000000</td>\n",
       "      <td>160.000000</td>\n",
       "      <td>-118.174800</td>\n",
       "      <td>8.000000</td>\n",
       "      <td>3.000000</td>\n",
       "      <td>0.000000</td>\n",
       "      <td>43.000000</td>\n",
       "      <td>21.000000</td>\n",
       "      <td>1.000000</td>\n",
       "      <td>1.610613e+09</td>\n",
       "      <td>23023.000000</td>\n",
       "    </tr>\n",
       "    <tr>\n",
       "      <th>max</th>\n",
       "      <td>659.000000</td>\n",
       "      <td>4.990009e+07</td>\n",
       "      <td>34.088300</td>\n",
       "      <td>248.000000</td>\n",
       "      <td>791.000000</td>\n",
       "      <td>-118.021800</td>\n",
       "      <td>11.000000</td>\n",
       "      <td>7.000000</td>\n",
       "      <td>1.000000</td>\n",
       "      <td>59.000000</td>\n",
       "      <td>79.000000</td>\n",
       "      <td>1.000000</td>\n",
       "      <td>1.610613e+09</td>\n",
       "      <td>30697.000000</td>\n",
       "    </tr>\n",
       "  </tbody>\n",
       "</table>\n",
       "</div>"
      ],
      "text/plain": [
       "       game_event_id       game_id           lat         loc_x         loc_y  \\\n",
       "count   30697.000000  3.069700e+04  30697.000000  30697.000000  30697.000000   \n",
       "mean      249.190800  2.476407e+07     33.953192      7.110499     91.107535   \n",
       "std       150.003712  7.755175e+06      0.087791    110.124578     87.791361   \n",
       "min         2.000000  2.000001e+07     33.253300   -250.000000    -44.000000   \n",
       "25%       110.000000  2.050008e+07     33.884300    -68.000000      4.000000   \n",
       "50%       253.000000  2.090035e+07     33.970300      0.000000     74.000000   \n",
       "75%       368.000000  2.960047e+07     34.040300     95.000000    160.000000   \n",
       "max       659.000000  4.990009e+07     34.088300    248.000000    791.000000   \n",
       "\n",
       "                lon  minutes_remaining        period      playoffs  \\\n",
       "count  30697.000000       30697.000000  30697.000000  30697.000000   \n",
       "mean    -118.262690           4.885624      2.519432      0.146562   \n",
       "std        0.110125           3.449897      1.153665      0.353674   \n",
       "min     -118.519800           0.000000      1.000000      0.000000   \n",
       "25%     -118.337800           2.000000      1.000000      0.000000   \n",
       "50%     -118.269800           5.000000      3.000000      0.000000   \n",
       "75%     -118.174800           8.000000      3.000000      0.000000   \n",
       "max     -118.021800          11.000000      7.000000      1.000000   \n",
       "\n",
       "       seconds_remaining  shot_distance  shot_made_flag       team_id  \\\n",
       "count       30697.000000   30697.000000    25697.000000  3.069700e+04   \n",
       "mean           28.365085      13.437437        0.446161  1.610613e+09   \n",
       "std            17.478949       9.374189        0.497103  0.000000e+00   \n",
       "min             0.000000       0.000000        0.000000  1.610613e+09   \n",
       "25%            13.000000       5.000000        0.000000  1.610613e+09   \n",
       "50%            28.000000      15.000000        0.000000  1.610613e+09   \n",
       "75%            43.000000      21.000000        1.000000  1.610613e+09   \n",
       "max            59.000000      79.000000        1.000000  1.610613e+09   \n",
       "\n",
       "            shot_id  \n",
       "count  30697.000000  \n",
       "mean   15349.000000  \n",
       "std     8861.604943  \n",
       "min        1.000000  \n",
       "25%     7675.000000  \n",
       "50%    15349.000000  \n",
       "75%    23023.000000  \n",
       "max    30697.000000  "
      ]
     },
     "execution_count": 58,
     "metadata": {},
     "output_type": "execute_result"
    }
   ],
   "source": [
    "data.describe()"
   ]
  },
  {
   "cell_type": "code",
   "execution_count": 59,
   "metadata": {},
   "outputs": [
    {
     "data": {
      "text/plain": [
       "(30697, 25)"
      ]
     },
     "execution_count": 59,
     "metadata": {},
     "output_type": "execute_result"
    }
   ],
   "source": [
    "dt = data.copy()\n",
    "dt.shape"
   ]
  },
  {
   "cell_type": "code",
   "execution_count": 60,
   "metadata": {},
   "outputs": [
    {
     "data": {
      "text/plain": [
       "(25697, 25)"
      ]
     },
     "execution_count": 60,
     "metadata": {},
     "output_type": "execute_result"
    }
   ],
   "source": [
    "# принял решение избавиться от строк с NaN для целеой переменной, \n",
    "# т.к. если их заменить случайным образом на 0 или 1 - можно внести шумы, кторые снизят качество получаемых результатов\n",
    "dt = dt[~(dt.shot_made_flag.isna())]\n",
    "dt.shape"
   ]
  },
  {
   "cell_type": "code",
   "execution_count": 61,
   "metadata": {},
   "outputs": [
    {
     "data": {
      "text/html": [
       "<div>\n",
       "<style scoped>\n",
       "    .dataframe tbody tr th:only-of-type {\n",
       "        vertical-align: middle;\n",
       "    }\n",
       "\n",
       "    .dataframe tbody tr th {\n",
       "        vertical-align: top;\n",
       "    }\n",
       "\n",
       "    .dataframe thead th {\n",
       "        text-align: right;\n",
       "    }\n",
       "</style>\n",
       "<table border=\"1\" class=\"dataframe\">\n",
       "  <thead>\n",
       "    <tr style=\"text-align: right;\">\n",
       "      <th></th>\n",
       "      <th>game_event_id</th>\n",
       "      <th>game_id</th>\n",
       "      <th>lat</th>\n",
       "      <th>loc_x</th>\n",
       "      <th>loc_y</th>\n",
       "      <th>lon</th>\n",
       "      <th>minutes_remaining</th>\n",
       "      <th>period</th>\n",
       "      <th>playoffs</th>\n",
       "      <th>seconds_remaining</th>\n",
       "      <th>shot_distance</th>\n",
       "      <th>shot_made_flag</th>\n",
       "      <th>team_id</th>\n",
       "      <th>shot_id</th>\n",
       "    </tr>\n",
       "  </thead>\n",
       "  <tbody>\n",
       "    <tr>\n",
       "      <th>game_event_id</th>\n",
       "      <td>1.000000</td>\n",
       "      <td>-0.005982</td>\n",
       "      <td>-0.059602</td>\n",
       "      <td>-0.029954</td>\n",
       "      <td>0.059602</td>\n",
       "      <td>-0.029954</td>\n",
       "      <td>-0.274276</td>\n",
       "      <td>0.955914</td>\n",
       "      <td>-0.007963</td>\n",
       "      <td>-0.018670</td>\n",
       "      <td>0.063295</td>\n",
       "      <td>-0.037232</td>\n",
       "      <td>NaN</td>\n",
       "      <td>0.025433</td>\n",
       "    </tr>\n",
       "    <tr>\n",
       "      <th>game_id</th>\n",
       "      <td>-0.005982</td>\n",
       "      <td>1.000000</td>\n",
       "      <td>0.011361</td>\n",
       "      <td>-0.012944</td>\n",
       "      <td>-0.011361</td>\n",
       "      <td>-0.012944</td>\n",
       "      <td>0.009581</td>\n",
       "      <td>0.005061</td>\n",
       "      <td>0.917898</td>\n",
       "      <td>-0.009029</td>\n",
       "      <td>-0.027247</td>\n",
       "      <td>-0.001612</td>\n",
       "      <td>NaN</td>\n",
       "      <td>0.761232</td>\n",
       "    </tr>\n",
       "    <tr>\n",
       "      <th>lat</th>\n",
       "      <td>-0.059602</td>\n",
       "      <td>0.011361</td>\n",
       "      <td>1.000000</td>\n",
       "      <td>0.017578</td>\n",
       "      <td>-1.000000</td>\n",
       "      <td>0.017578</td>\n",
       "      <td>0.077399</td>\n",
       "      <td>-0.039737</td>\n",
       "      <td>-0.000857</td>\n",
       "      <td>0.057766</td>\n",
       "      <td>-0.818124</td>\n",
       "      <td>0.148070</td>\n",
       "      <td>NaN</td>\n",
       "      <td>-0.033476</td>\n",
       "    </tr>\n",
       "    <tr>\n",
       "      <th>loc_x</th>\n",
       "      <td>-0.029954</td>\n",
       "      <td>-0.012944</td>\n",
       "      <td>0.017578</td>\n",
       "      <td>1.000000</td>\n",
       "      <td>-0.017578</td>\n",
       "      <td>1.000000</td>\n",
       "      <td>0.006624</td>\n",
       "      <td>-0.030059</td>\n",
       "      <td>-0.007751</td>\n",
       "      <td>0.001512</td>\n",
       "      <td>0.022307</td>\n",
       "      <td>-0.000848</td>\n",
       "      <td>NaN</td>\n",
       "      <td>-0.012453</td>\n",
       "    </tr>\n",
       "    <tr>\n",
       "      <th>loc_y</th>\n",
       "      <td>0.059602</td>\n",
       "      <td>-0.011361</td>\n",
       "      <td>-1.000000</td>\n",
       "      <td>-0.017578</td>\n",
       "      <td>1.000000</td>\n",
       "      <td>-0.017578</td>\n",
       "      <td>-0.077399</td>\n",
       "      <td>0.039737</td>\n",
       "      <td>0.000857</td>\n",
       "      <td>-0.057766</td>\n",
       "      <td>0.818124</td>\n",
       "      <td>-0.148070</td>\n",
       "      <td>NaN</td>\n",
       "      <td>0.033476</td>\n",
       "    </tr>\n",
       "    <tr>\n",
       "      <th>lon</th>\n",
       "      <td>-0.029954</td>\n",
       "      <td>-0.012944</td>\n",
       "      <td>0.017578</td>\n",
       "      <td>1.000000</td>\n",
       "      <td>-0.017578</td>\n",
       "      <td>1.000000</td>\n",
       "      <td>0.006624</td>\n",
       "      <td>-0.030059</td>\n",
       "      <td>-0.007751</td>\n",
       "      <td>0.001512</td>\n",
       "      <td>0.022307</td>\n",
       "      <td>-0.000848</td>\n",
       "      <td>NaN</td>\n",
       "      <td>-0.012453</td>\n",
       "    </tr>\n",
       "    <tr>\n",
       "      <th>minutes_remaining</th>\n",
       "      <td>-0.274276</td>\n",
       "      <td>0.009581</td>\n",
       "      <td>0.077399</td>\n",
       "      <td>0.006624</td>\n",
       "      <td>-0.077399</td>\n",
       "      <td>0.006624</td>\n",
       "      <td>1.000000</td>\n",
       "      <td>-0.047021</td>\n",
       "      <td>0.009583</td>\n",
       "      <td>0.024232</td>\n",
       "      <td>-0.064159</td>\n",
       "      <td>0.028342</td>\n",
       "      <td>NaN</td>\n",
       "      <td>-0.008251</td>\n",
       "    </tr>\n",
       "    <tr>\n",
       "      <th>period</th>\n",
       "      <td>0.955914</td>\n",
       "      <td>0.005061</td>\n",
       "      <td>-0.039737</td>\n",
       "      <td>-0.030059</td>\n",
       "      <td>0.039737</td>\n",
       "      <td>-0.030059</td>\n",
       "      <td>-0.047021</td>\n",
       "      <td>1.000000</td>\n",
       "      <td>0.003905</td>\n",
       "      <td>0.007153</td>\n",
       "      <td>0.047311</td>\n",
       "      <td>-0.032152</td>\n",
       "      <td>NaN</td>\n",
       "      <td>-0.003357</td>\n",
       "    </tr>\n",
       "    <tr>\n",
       "      <th>playoffs</th>\n",
       "      <td>-0.007963</td>\n",
       "      <td>0.917898</td>\n",
       "      <td>-0.000857</td>\n",
       "      <td>-0.007751</td>\n",
       "      <td>0.000857</td>\n",
       "      <td>-0.007751</td>\n",
       "      <td>0.009583</td>\n",
       "      <td>0.003905</td>\n",
       "      <td>1.000000</td>\n",
       "      <td>-0.005951</td>\n",
       "      <td>-0.007751</td>\n",
       "      <td>-0.001257</td>\n",
       "      <td>NaN</td>\n",
       "      <td>0.612991</td>\n",
       "    </tr>\n",
       "    <tr>\n",
       "      <th>seconds_remaining</th>\n",
       "      <td>-0.018670</td>\n",
       "      <td>-0.009029</td>\n",
       "      <td>0.057766</td>\n",
       "      <td>0.001512</td>\n",
       "      <td>-0.057766</td>\n",
       "      <td>0.001512</td>\n",
       "      <td>0.024232</td>\n",
       "      <td>0.007153</td>\n",
       "      <td>-0.005951</td>\n",
       "      <td>1.000000</td>\n",
       "      <td>-0.055875</td>\n",
       "      <td>0.030804</td>\n",
       "      <td>NaN</td>\n",
       "      <td>-0.004833</td>\n",
       "    </tr>\n",
       "    <tr>\n",
       "      <th>shot_distance</th>\n",
       "      <td>0.063295</td>\n",
       "      <td>-0.027247</td>\n",
       "      <td>-0.818124</td>\n",
       "      <td>0.022307</td>\n",
       "      <td>0.818124</td>\n",
       "      <td>0.022307</td>\n",
       "      <td>-0.064159</td>\n",
       "      <td>0.047311</td>\n",
       "      <td>-0.007751</td>\n",
       "      <td>-0.055875</td>\n",
       "      <td>1.000000</td>\n",
       "      <td>-0.198242</td>\n",
       "      <td>NaN</td>\n",
       "      <td>0.020464</td>\n",
       "    </tr>\n",
       "    <tr>\n",
       "      <th>shot_made_flag</th>\n",
       "      <td>-0.037232</td>\n",
       "      <td>-0.001612</td>\n",
       "      <td>0.148070</td>\n",
       "      <td>-0.000848</td>\n",
       "      <td>-0.148070</td>\n",
       "      <td>-0.000848</td>\n",
       "      <td>0.028342</td>\n",
       "      <td>-0.032152</td>\n",
       "      <td>-0.001257</td>\n",
       "      <td>0.030804</td>\n",
       "      <td>-0.198242</td>\n",
       "      <td>1.000000</td>\n",
       "      <td>NaN</td>\n",
       "      <td>-0.013016</td>\n",
       "    </tr>\n",
       "    <tr>\n",
       "      <th>team_id</th>\n",
       "      <td>NaN</td>\n",
       "      <td>NaN</td>\n",
       "      <td>NaN</td>\n",
       "      <td>NaN</td>\n",
       "      <td>NaN</td>\n",
       "      <td>NaN</td>\n",
       "      <td>NaN</td>\n",
       "      <td>NaN</td>\n",
       "      <td>NaN</td>\n",
       "      <td>NaN</td>\n",
       "      <td>NaN</td>\n",
       "      <td>NaN</td>\n",
       "      <td>NaN</td>\n",
       "      <td>NaN</td>\n",
       "    </tr>\n",
       "    <tr>\n",
       "      <th>shot_id</th>\n",
       "      <td>0.025433</td>\n",
       "      <td>0.761232</td>\n",
       "      <td>-0.033476</td>\n",
       "      <td>-0.012453</td>\n",
       "      <td>0.033476</td>\n",
       "      <td>-0.012453</td>\n",
       "      <td>-0.008251</td>\n",
       "      <td>-0.003357</td>\n",
       "      <td>0.612991</td>\n",
       "      <td>-0.004833</td>\n",
       "      <td>0.020464</td>\n",
       "      <td>-0.013016</td>\n",
       "      <td>NaN</td>\n",
       "      <td>1.000000</td>\n",
       "    </tr>\n",
       "  </tbody>\n",
       "</table>\n",
       "</div>"
      ],
      "text/plain": [
       "                   game_event_id   game_id       lat     loc_x     loc_y  \\\n",
       "game_event_id           1.000000 -0.005982 -0.059602 -0.029954  0.059602   \n",
       "game_id                -0.005982  1.000000  0.011361 -0.012944 -0.011361   \n",
       "lat                    -0.059602  0.011361  1.000000  0.017578 -1.000000   \n",
       "loc_x                  -0.029954 -0.012944  0.017578  1.000000 -0.017578   \n",
       "loc_y                   0.059602 -0.011361 -1.000000 -0.017578  1.000000   \n",
       "lon                    -0.029954 -0.012944  0.017578  1.000000 -0.017578   \n",
       "minutes_remaining      -0.274276  0.009581  0.077399  0.006624 -0.077399   \n",
       "period                  0.955914  0.005061 -0.039737 -0.030059  0.039737   \n",
       "playoffs               -0.007963  0.917898 -0.000857 -0.007751  0.000857   \n",
       "seconds_remaining      -0.018670 -0.009029  0.057766  0.001512 -0.057766   \n",
       "shot_distance           0.063295 -0.027247 -0.818124  0.022307  0.818124   \n",
       "shot_made_flag         -0.037232 -0.001612  0.148070 -0.000848 -0.148070   \n",
       "team_id                      NaN       NaN       NaN       NaN       NaN   \n",
       "shot_id                 0.025433  0.761232 -0.033476 -0.012453  0.033476   \n",
       "\n",
       "                        lon  minutes_remaining    period  playoffs  \\\n",
       "game_event_id     -0.029954          -0.274276  0.955914 -0.007963   \n",
       "game_id           -0.012944           0.009581  0.005061  0.917898   \n",
       "lat                0.017578           0.077399 -0.039737 -0.000857   \n",
       "loc_x              1.000000           0.006624 -0.030059 -0.007751   \n",
       "loc_y             -0.017578          -0.077399  0.039737  0.000857   \n",
       "lon                1.000000           0.006624 -0.030059 -0.007751   \n",
       "minutes_remaining  0.006624           1.000000 -0.047021  0.009583   \n",
       "period            -0.030059          -0.047021  1.000000  0.003905   \n",
       "playoffs          -0.007751           0.009583  0.003905  1.000000   \n",
       "seconds_remaining  0.001512           0.024232  0.007153 -0.005951   \n",
       "shot_distance      0.022307          -0.064159  0.047311 -0.007751   \n",
       "shot_made_flag    -0.000848           0.028342 -0.032152 -0.001257   \n",
       "team_id                 NaN                NaN       NaN       NaN   \n",
       "shot_id           -0.012453          -0.008251 -0.003357  0.612991   \n",
       "\n",
       "                   seconds_remaining  shot_distance  shot_made_flag  team_id  \\\n",
       "game_event_id              -0.018670       0.063295       -0.037232      NaN   \n",
       "game_id                    -0.009029      -0.027247       -0.001612      NaN   \n",
       "lat                         0.057766      -0.818124        0.148070      NaN   \n",
       "loc_x                       0.001512       0.022307       -0.000848      NaN   \n",
       "loc_y                      -0.057766       0.818124       -0.148070      NaN   \n",
       "lon                         0.001512       0.022307       -0.000848      NaN   \n",
       "minutes_remaining           0.024232      -0.064159        0.028342      NaN   \n",
       "period                      0.007153       0.047311       -0.032152      NaN   \n",
       "playoffs                   -0.005951      -0.007751       -0.001257      NaN   \n",
       "seconds_remaining           1.000000      -0.055875        0.030804      NaN   \n",
       "shot_distance              -0.055875       1.000000       -0.198242      NaN   \n",
       "shot_made_flag              0.030804      -0.198242        1.000000      NaN   \n",
       "team_id                          NaN            NaN             NaN      NaN   \n",
       "shot_id                    -0.004833       0.020464       -0.013016      NaN   \n",
       "\n",
       "                    shot_id  \n",
       "game_event_id      0.025433  \n",
       "game_id            0.761232  \n",
       "lat               -0.033476  \n",
       "loc_x             -0.012453  \n",
       "loc_y              0.033476  \n",
       "lon               -0.012453  \n",
       "minutes_remaining -0.008251  \n",
       "period            -0.003357  \n",
       "playoffs           0.612991  \n",
       "seconds_remaining -0.004833  \n",
       "shot_distance      0.020464  \n",
       "shot_made_flag    -0.013016  \n",
       "team_id                 NaN  \n",
       "shot_id            1.000000  "
      ]
     },
     "execution_count": 61,
     "metadata": {},
     "output_type": "execute_result"
    }
   ],
   "source": [
    "data_corr = dt.corr()\n",
    "data_corr"
   ]
  },
  {
   "cell_type": "code",
   "execution_count": 62,
   "metadata": {},
   "outputs": [],
   "source": [
    "useless_columns = ['lat','lon','team_name','matchup']\n",
    "data_redused = dt.drop(useless_columns,axis =1)"
   ]
  },
  {
   "cell_type": "code",
   "execution_count": 63,
   "metadata": {},
   "outputs": [
    {
     "data": {
      "text/plain": [
       "(25697, 21)"
      ]
     },
     "execution_count": 63,
     "metadata": {},
     "output_type": "execute_result"
    }
   ],
   "source": [
    "data_redused.shape"
   ]
  },
  {
   "cell_type": "code",
   "execution_count": 64,
   "metadata": {},
   "outputs": [
    {
     "data": {
      "text/html": [
       "<div>\n",
       "<style scoped>\n",
       "    .dataframe tbody tr th:only-of-type {\n",
       "        vertical-align: middle;\n",
       "    }\n",
       "\n",
       "    .dataframe tbody tr th {\n",
       "        vertical-align: top;\n",
       "    }\n",
       "\n",
       "    .dataframe thead th {\n",
       "        text-align: right;\n",
       "    }\n",
       "</style>\n",
       "<table border=\"1\" class=\"dataframe\">\n",
       "  <thead>\n",
       "    <tr style=\"text-align: right;\">\n",
       "      <th></th>\n",
       "      <th>action_type</th>\n",
       "      <th>combined_shot_type</th>\n",
       "      <th>game_event_id</th>\n",
       "      <th>game_id</th>\n",
       "      <th>loc_x</th>\n",
       "      <th>loc_y</th>\n",
       "      <th>minutes_remaining</th>\n",
       "      <th>period</th>\n",
       "      <th>playoffs</th>\n",
       "      <th>season</th>\n",
       "      <th>...</th>\n",
       "      <th>shot_distance</th>\n",
       "      <th>shot_made_flag</th>\n",
       "      <th>shot_type</th>\n",
       "      <th>shot_zone_area</th>\n",
       "      <th>shot_zone_basic</th>\n",
       "      <th>shot_zone_range</th>\n",
       "      <th>team_id</th>\n",
       "      <th>game_date</th>\n",
       "      <th>opponent</th>\n",
       "      <th>shot_id</th>\n",
       "    </tr>\n",
       "  </thead>\n",
       "  <tbody>\n",
       "    <tr>\n",
       "      <th>1</th>\n",
       "      <td>Jump Shot</td>\n",
       "      <td>Jump Shot</td>\n",
       "      <td>12</td>\n",
       "      <td>20000012</td>\n",
       "      <td>-157</td>\n",
       "      <td>0</td>\n",
       "      <td>10</td>\n",
       "      <td>1</td>\n",
       "      <td>0</td>\n",
       "      <td>2000-01</td>\n",
       "      <td>...</td>\n",
       "      <td>15</td>\n",
       "      <td>0.0</td>\n",
       "      <td>2PT Field Goal</td>\n",
       "      <td>Left Side(L)</td>\n",
       "      <td>Mid-Range</td>\n",
       "      <td>8-16 ft.</td>\n",
       "      <td>1610612747</td>\n",
       "      <td>2000-10-31</td>\n",
       "      <td>POR</td>\n",
       "      <td>2</td>\n",
       "    </tr>\n",
       "    <tr>\n",
       "      <th>2</th>\n",
       "      <td>Jump Shot</td>\n",
       "      <td>Jump Shot</td>\n",
       "      <td>35</td>\n",
       "      <td>20000012</td>\n",
       "      <td>-101</td>\n",
       "      <td>135</td>\n",
       "      <td>7</td>\n",
       "      <td>1</td>\n",
       "      <td>0</td>\n",
       "      <td>2000-01</td>\n",
       "      <td>...</td>\n",
       "      <td>16</td>\n",
       "      <td>1.0</td>\n",
       "      <td>2PT Field Goal</td>\n",
       "      <td>Left Side Center(LC)</td>\n",
       "      <td>Mid-Range</td>\n",
       "      <td>16-24 ft.</td>\n",
       "      <td>1610612747</td>\n",
       "      <td>2000-10-31</td>\n",
       "      <td>POR</td>\n",
       "      <td>3</td>\n",
       "    </tr>\n",
       "    <tr>\n",
       "      <th>3</th>\n",
       "      <td>Jump Shot</td>\n",
       "      <td>Jump Shot</td>\n",
       "      <td>43</td>\n",
       "      <td>20000012</td>\n",
       "      <td>138</td>\n",
       "      <td>175</td>\n",
       "      <td>6</td>\n",
       "      <td>1</td>\n",
       "      <td>0</td>\n",
       "      <td>2000-01</td>\n",
       "      <td>...</td>\n",
       "      <td>22</td>\n",
       "      <td>0.0</td>\n",
       "      <td>2PT Field Goal</td>\n",
       "      <td>Right Side Center(RC)</td>\n",
       "      <td>Mid-Range</td>\n",
       "      <td>16-24 ft.</td>\n",
       "      <td>1610612747</td>\n",
       "      <td>2000-10-31</td>\n",
       "      <td>POR</td>\n",
       "      <td>4</td>\n",
       "    </tr>\n",
       "    <tr>\n",
       "      <th>4</th>\n",
       "      <td>Driving Dunk Shot</td>\n",
       "      <td>Dunk</td>\n",
       "      <td>155</td>\n",
       "      <td>20000012</td>\n",
       "      <td>0</td>\n",
       "      <td>0</td>\n",
       "      <td>6</td>\n",
       "      <td>2</td>\n",
       "      <td>0</td>\n",
       "      <td>2000-01</td>\n",
       "      <td>...</td>\n",
       "      <td>0</td>\n",
       "      <td>1.0</td>\n",
       "      <td>2PT Field Goal</td>\n",
       "      <td>Center(C)</td>\n",
       "      <td>Restricted Area</td>\n",
       "      <td>Less Than 8 ft.</td>\n",
       "      <td>1610612747</td>\n",
       "      <td>2000-10-31</td>\n",
       "      <td>POR</td>\n",
       "      <td>5</td>\n",
       "    </tr>\n",
       "    <tr>\n",
       "      <th>5</th>\n",
       "      <td>Jump Shot</td>\n",
       "      <td>Jump Shot</td>\n",
       "      <td>244</td>\n",
       "      <td>20000012</td>\n",
       "      <td>-145</td>\n",
       "      <td>-11</td>\n",
       "      <td>9</td>\n",
       "      <td>3</td>\n",
       "      <td>0</td>\n",
       "      <td>2000-01</td>\n",
       "      <td>...</td>\n",
       "      <td>14</td>\n",
       "      <td>0.0</td>\n",
       "      <td>2PT Field Goal</td>\n",
       "      <td>Left Side(L)</td>\n",
       "      <td>Mid-Range</td>\n",
       "      <td>8-16 ft.</td>\n",
       "      <td>1610612747</td>\n",
       "      <td>2000-10-31</td>\n",
       "      <td>POR</td>\n",
       "      <td>6</td>\n",
       "    </tr>\n",
       "  </tbody>\n",
       "</table>\n",
       "<p>5 rows × 21 columns</p>\n",
       "</div>"
      ],
      "text/plain": [
       "         action_type combined_shot_type  game_event_id   game_id  loc_x  \\\n",
       "1          Jump Shot          Jump Shot             12  20000012   -157   \n",
       "2          Jump Shot          Jump Shot             35  20000012   -101   \n",
       "3          Jump Shot          Jump Shot             43  20000012    138   \n",
       "4  Driving Dunk Shot               Dunk            155  20000012      0   \n",
       "5          Jump Shot          Jump Shot            244  20000012   -145   \n",
       "\n",
       "   loc_y  minutes_remaining  period  playoffs   season  ...  shot_distance  \\\n",
       "1      0                 10       1         0  2000-01  ...             15   \n",
       "2    135                  7       1         0  2000-01  ...             16   \n",
       "3    175                  6       1         0  2000-01  ...             22   \n",
       "4      0                  6       2         0  2000-01  ...              0   \n",
       "5    -11                  9       3         0  2000-01  ...             14   \n",
       "\n",
       "   shot_made_flag       shot_type         shot_zone_area  shot_zone_basic  \\\n",
       "1             0.0  2PT Field Goal           Left Side(L)        Mid-Range   \n",
       "2             1.0  2PT Field Goal   Left Side Center(LC)        Mid-Range   \n",
       "3             0.0  2PT Field Goal  Right Side Center(RC)        Mid-Range   \n",
       "4             1.0  2PT Field Goal              Center(C)  Restricted Area   \n",
       "5             0.0  2PT Field Goal           Left Side(L)        Mid-Range   \n",
       "\n",
       "   shot_zone_range     team_id   game_date opponent shot_id  \n",
       "1         8-16 ft.  1610612747  2000-10-31      POR       2  \n",
       "2        16-24 ft.  1610612747  2000-10-31      POR       3  \n",
       "3        16-24 ft.  1610612747  2000-10-31      POR       4  \n",
       "4  Less Than 8 ft.  1610612747  2000-10-31      POR       5  \n",
       "5         8-16 ft.  1610612747  2000-10-31      POR       6  \n",
       "\n",
       "[5 rows x 21 columns]"
      ]
     },
     "execution_count": 64,
     "metadata": {},
     "output_type": "execute_result"
    }
   ],
   "source": [
    "data_redused.head()"
   ]
  },
  {
   "cell_type": "code",
   "execution_count": 65,
   "metadata": {},
   "outputs": [
    {
     "name": "stdout",
     "output_type": "stream",
     "text": [
      "Total  number  of  columns  = 21\n",
      "Columns of categorical type = 9\n",
      "Columns of     digital type = 12\n"
     ]
    }
   ],
   "source": [
    "print('Total  number  of  columns  =',len(data_redused.columns))\n",
    "cat_data = data_redused[['action_type','combined_shot_type','season','shot_type','shot_zone_area',\n",
    "                 'shot_zone_basic','shot_zone_range','game_date','opponent']]\n",
    "print('Columns of categorical type =',len(cat_data.columns))\n",
    "\n",
    "dig_data = data_redused[['game_event_id','game_id','loc_x','loc_y','minutes_remaining','period',\n",
    "                 'playoffs','seconds_remaining','shot_distance','shot_made_flag','team_id','shot_id']]\n",
    "print('Columns of     digital type =',len(dig_data.columns))"
   ]
  },
  {
   "cell_type": "code",
   "execution_count": 66,
   "metadata": {},
   "outputs": [
    {
     "data": {
      "text/plain": [
       "array([[<matplotlib.axes._subplots.AxesSubplot object at 0x7f4d2e24fba8>,\n",
       "        <matplotlib.axes._subplots.AxesSubplot object at 0x7f4d2f490278>,\n",
       "        <matplotlib.axes._subplots.AxesSubplot object at 0x7f4d2f4aa4e0>],\n",
       "       [<matplotlib.axes._subplots.AxesSubplot object at 0x7f4d2f4c6748>,\n",
       "        <matplotlib.axes._subplots.AxesSubplot object at 0x7f4d2f4639b0>,\n",
       "        <matplotlib.axes._subplots.AxesSubplot object at 0x7f4d2f47fc18>],\n",
       "       [<matplotlib.axes._subplots.AxesSubplot object at 0x7f4d2f41ae80>,\n",
       "        <matplotlib.axes._subplots.AxesSubplot object at 0x7f4d2f43d128>,\n",
       "        <matplotlib.axes._subplots.AxesSubplot object at 0x7f4d2f43d160>],\n",
       "       [<matplotlib.axes._subplots.AxesSubplot object at 0x7f4d2f3f45c0>,\n",
       "        <matplotlib.axes._subplots.AxesSubplot object at 0x7f4d2f40e828>,\n",
       "        <matplotlib.axes._subplots.AxesSubplot object at 0x7f4d2f3aba90>]],\n",
       "      dtype=object)"
      ]
     },
     "execution_count": 66,
     "metadata": {},
     "output_type": "execute_result"
    },
    {
     "data": {
      "image/png": "[encoded data removed]",
      "text/plain": [
       "<Figure size 1440x1080 with 12 Axes>"
      ]
     },
     "metadata": {
      "needs_background": "light"
     },
     "output_type": "display_data"
    }
   ],
   "source": [
    "data_redused.hist(bins = 20, figsize=(20,15))"
   ]
  },
  {
   "cell_type": "code",
   "execution_count": 67,
   "metadata": {},
   "outputs": [
    {
     "data": {
      "text/plain": [
       "25697"
      ]
     },
     "execution_count": 67,
     "metadata": {},
     "output_type": "execute_result"
    }
   ],
   "source": [
    "len(data_redused.shot_id.unique())"
   ]
  },
  {
   "cell_type": "code",
   "execution_count": 68,
   "metadata": {},
   "outputs": [
    {
     "data": {
      "text/plain": [
       "(25697, 20)"
      ]
     },
     "execution_count": 68,
     "metadata": {},
     "output_type": "execute_result"
    }
   ],
   "source": [
    "useless_columns = 'shot_id'\n",
    "data_redused = data_redused.drop(useless_columns,axis =1)\n",
    "data_redused.shape"
   ]
  },
  {
   "cell_type": "code",
   "execution_count": 69,
   "metadata": {},
   "outputs": [
    {
     "name": "stdout",
     "output_type": "stream",
     "text": [
      "Total  number  of  columns  = 20\n",
      "Columns of categorical type = 9\n",
      "Columns of     digital type = 11\n"
     ]
    }
   ],
   "source": [
    "print('Total  number  of  columns  =',len(data_redused.columns))\n",
    "cat_data = data_redused[['action_type','combined_shot_type','season','shot_type','shot_zone_area',\n",
    "                 'shot_zone_basic','shot_zone_range','game_date','opponent']]\n",
    "print('Columns of categorical type =',len(cat_data.columns))\n",
    "\n",
    "dig_data = data_redused[['game_event_id','game_id','loc_x','loc_y','minutes_remaining','period',\n",
    "                 'playoffs','seconds_remaining','shot_distance','shot_made_flag','team_id']]\n",
    "print('Columns of     digital type =',len(dig_data.columns))"
   ]
  },
  {
   "cell_type": "code",
   "execution_count": 70,
   "metadata": {},
   "outputs": [
    {
     "name": "stdout",
     "output_type": "stream",
     "text": [
      "<class 'pandas.core.frame.DataFrame'>\n",
      "Int64Index: 25697 entries, 1 to 30696\n",
      "Data columns (total 11 columns):\n",
      "game_event_id        25697 non-null int64\n",
      "game_id              25697 non-null int64\n",
      "loc_x                25697 non-null int64\n",
      "loc_y                25697 non-null int64\n",
      "minutes_remaining    25697 non-null int64\n",
      "period               25697 non-null int64\n",
      "playoffs             25697 non-null int64\n",
      "seconds_remaining    25697 non-null int64\n",
      "shot_distance        25697 non-null int64\n",
      "shot_made_flag       25697 non-null float64\n",
      "team_id              25697 non-null int64\n",
      "dtypes: float64(1), int64(10)\n",
      "memory usage: 2.4 MB\n"
     ]
    }
   ],
   "source": [
    "dig_data.info()"
   ]
  },
  {
   "cell_type": "code",
   "execution_count": 71,
   "metadata": {},
   "outputs": [
    {
     "data": {
      "text/plain": [
       "<matplotlib.axes._subplots.AxesSubplot at 0x7f4d2445d198>"
      ]
     },
     "execution_count": 71,
     "metadata": {},
     "output_type": "execute_result"
    },
    {
     "data": {
      "image/png": "[encoded data removed]",
      "text/plain": [
       "<Figure size 432x288 with 1 Axes>"
      ]
     },
     "metadata": {
      "needs_background": "light"
     },
     "output_type": "display_data"
    }
   ],
   "source": [
    "dig_data.shot_made_flag.hist(bins = 3)"
   ]
  },
  {
   "cell_type": "code",
   "execution_count": 72,
   "metadata": {},
   "outputs": [
    {
     "data": {
      "text/html": [
       "<div>\n",
       "<style scoped>\n",
       "    .dataframe tbody tr th:only-of-type {\n",
       "        vertical-align: middle;\n",
       "    }\n",
       "\n",
       "    .dataframe tbody tr th {\n",
       "        vertical-align: top;\n",
       "    }\n",
       "\n",
       "    .dataframe thead th {\n",
       "        text-align: right;\n",
       "    }\n",
       "</style>\n",
       "<table border=\"1\" class=\"dataframe\">\n",
       "  <thead>\n",
       "    <tr style=\"text-align: right;\">\n",
       "      <th></th>\n",
       "      <th>combined_shot_type</th>\n",
       "      <th>shot_type</th>\n",
       "      <th>shot_zone_area</th>\n",
       "      <th>shot_zone_basic</th>\n",
       "      <th>shot_zone_range</th>\n",
       "      <th>action_type</th>\n",
       "    </tr>\n",
       "  </thead>\n",
       "  <tbody>\n",
       "    <tr>\n",
       "      <th>1</th>\n",
       "      <td>Jump Shot</td>\n",
       "      <td>2PT Field Goal</td>\n",
       "      <td>Left Side(L)</td>\n",
       "      <td>Mid-Range</td>\n",
       "      <td>8-16 ft.</td>\n",
       "      <td>Jump Shot</td>\n",
       "    </tr>\n",
       "    <tr>\n",
       "      <th>2</th>\n",
       "      <td>Jump Shot</td>\n",
       "      <td>2PT Field Goal</td>\n",
       "      <td>Left Side Center(LC)</td>\n",
       "      <td>Mid-Range</td>\n",
       "      <td>16-24 ft.</td>\n",
       "      <td>Jump Shot</td>\n",
       "    </tr>\n",
       "    <tr>\n",
       "      <th>3</th>\n",
       "      <td>Jump Shot</td>\n",
       "      <td>2PT Field Goal</td>\n",
       "      <td>Right Side Center(RC)</td>\n",
       "      <td>Mid-Range</td>\n",
       "      <td>16-24 ft.</td>\n",
       "      <td>Jump Shot</td>\n",
       "    </tr>\n",
       "    <tr>\n",
       "      <th>4</th>\n",
       "      <td>Dunk</td>\n",
       "      <td>2PT Field Goal</td>\n",
       "      <td>Center(C)</td>\n",
       "      <td>Restricted Area</td>\n",
       "      <td>Less Than 8 ft.</td>\n",
       "      <td>Driving Dunk Shot</td>\n",
       "    </tr>\n",
       "    <tr>\n",
       "      <th>5</th>\n",
       "      <td>Jump Shot</td>\n",
       "      <td>2PT Field Goal</td>\n",
       "      <td>Left Side(L)</td>\n",
       "      <td>Mid-Range</td>\n",
       "      <td>8-16 ft.</td>\n",
       "      <td>Jump Shot</td>\n",
       "    </tr>\n",
       "  </tbody>\n",
       "</table>\n",
       "</div>"
      ],
      "text/plain": [
       "  combined_shot_type       shot_type         shot_zone_area  shot_zone_basic  \\\n",
       "1          Jump Shot  2PT Field Goal           Left Side(L)        Mid-Range   \n",
       "2          Jump Shot  2PT Field Goal   Left Side Center(LC)        Mid-Range   \n",
       "3          Jump Shot  2PT Field Goal  Right Side Center(RC)        Mid-Range   \n",
       "4               Dunk  2PT Field Goal              Center(C)  Restricted Area   \n",
       "5          Jump Shot  2PT Field Goal           Left Side(L)        Mid-Range   \n",
       "\n",
       "   shot_zone_range        action_type  \n",
       "1         8-16 ft.          Jump Shot  \n",
       "2        16-24 ft.          Jump Shot  \n",
       "3        16-24 ft.          Jump Shot  \n",
       "4  Less Than 8 ft.  Driving Dunk Shot  \n",
       "5         8-16 ft.          Jump Shot  "
      ]
     },
     "execution_count": 72,
     "metadata": {},
     "output_type": "execute_result"
    }
   ],
   "source": [
    "shooting_data = cat_data[[col for col in cat_data.columns if 'shot' in col]].copy()\n",
    "\n",
    "shooting_data['action_type']= data['action_type']\n",
    "shooting_data.head()"
   ]
  },
  {
   "cell_type": "code",
   "execution_count": 73,
   "metadata": {},
   "outputs": [
    {
     "data": {
      "text/plain": [
       "6"
      ]
     },
     "execution_count": 73,
     "metadata": {},
     "output_type": "execute_result"
    }
   ],
   "source": [
    "combined_shot_type = shooting_data.combined_shot_type.value_counts()\n",
    "len(combined_shot_type)"
   ]
  },
  {
   "cell_type": "code",
   "execution_count": 74,
   "metadata": {},
   "outputs": [
    {
     "data": {
      "text/plain": [
       "2"
      ]
     },
     "execution_count": 74,
     "metadata": {},
     "output_type": "execute_result"
    }
   ],
   "source": [
    "shot_type = shooting_data.shot_type.value_counts()  \n",
    "len(shot_type)"
   ]
  },
  {
   "cell_type": "code",
   "execution_count": 75,
   "metadata": {},
   "outputs": [
    {
     "data": {
      "text/plain": [
       "Center(C)                11289\n",
       "Right Side Center(RC)     3981\n",
       "Right Side(R)             3859\n",
       "Left Side Center(LC)      3364\n",
       "Left Side(L)              3132\n",
       "Back Court(BC)              72\n",
       "Name: shot_zone_area, dtype: int64"
      ]
     },
     "execution_count": 75,
     "metadata": {},
     "output_type": "execute_result"
    }
   ],
   "source": [
    "shooting_data.shot_zone_area.value_counts()        "
   ]
  },
  {
   "cell_type": "code",
   "execution_count": 76,
   "metadata": {},
   "outputs": [
    {
     "data": {
      "text/plain": [
       "7"
      ]
     },
     "execution_count": 76,
     "metadata": {},
     "output_type": "execute_result"
    }
   ],
   "source": [
    "shot_zone_basic = shooting_data.shot_zone_basic.value_counts() \n",
    "len(shot_zone_basic)"
   ]
  },
  {
   "cell_type": "code",
   "execution_count": 77,
   "metadata": {},
   "outputs": [
    {
     "data": {
      "text/plain": [
       "5"
      ]
     },
     "execution_count": 77,
     "metadata": {},
     "output_type": "execute_result"
    }
   ],
   "source": [
    "shot_zone_range = shooting_data.shot_zone_range.value_counts()\n",
    "len(shot_zone_range)"
   ]
  },
  {
   "cell_type": "code",
   "execution_count": 78,
   "metadata": {},
   "outputs": [
    {
     "data": {
      "text/plain": [
       "55"
      ]
     },
     "execution_count": 78,
     "metadata": {},
     "output_type": "execute_result"
    }
   ],
   "source": [
    "action_type = shooting_data.action_type.value_counts()\n",
    "len(action_type)"
   ]
  },
  {
   "cell_type": "code",
   "execution_count": 79,
   "metadata": {},
   "outputs": [
    {
     "data": {
      "text/html": [
       "<div>\n",
       "<style scoped>\n",
       "    .dataframe tbody tr th:only-of-type {\n",
       "        vertical-align: middle;\n",
       "    }\n",
       "\n",
       "    .dataframe tbody tr th {\n",
       "        vertical-align: top;\n",
       "    }\n",
       "\n",
       "    .dataframe thead th {\n",
       "        text-align: right;\n",
       "    }\n",
       "</style>\n",
       "<table border=\"1\" class=\"dataframe\">\n",
       "  <thead>\n",
       "    <tr style=\"text-align: right;\">\n",
       "      <th></th>\n",
       "      <th>season</th>\n",
       "      <th>game_date</th>\n",
       "      <th>opponent</th>\n",
       "    </tr>\n",
       "  </thead>\n",
       "  <tbody>\n",
       "    <tr>\n",
       "      <th>1</th>\n",
       "      <td>2000-01</td>\n",
       "      <td>2000-10-31</td>\n",
       "      <td>POR</td>\n",
       "    </tr>\n",
       "    <tr>\n",
       "      <th>2</th>\n",
       "      <td>2000-01</td>\n",
       "      <td>2000-10-31</td>\n",
       "      <td>POR</td>\n",
       "    </tr>\n",
       "    <tr>\n",
       "      <th>3</th>\n",
       "      <td>2000-01</td>\n",
       "      <td>2000-10-31</td>\n",
       "      <td>POR</td>\n",
       "    </tr>\n",
       "    <tr>\n",
       "      <th>4</th>\n",
       "      <td>2000-01</td>\n",
       "      <td>2000-10-31</td>\n",
       "      <td>POR</td>\n",
       "    </tr>\n",
       "    <tr>\n",
       "      <th>5</th>\n",
       "      <td>2000-01</td>\n",
       "      <td>2000-10-31</td>\n",
       "      <td>POR</td>\n",
       "    </tr>\n",
       "  </tbody>\n",
       "</table>\n",
       "</div>"
      ],
      "text/plain": [
       "    season   game_date opponent\n",
       "1  2000-01  2000-10-31      POR\n",
       "2  2000-01  2000-10-31      POR\n",
       "3  2000-01  2000-10-31      POR\n",
       "4  2000-01  2000-10-31      POR\n",
       "5  2000-01  2000-10-31      POR"
      ]
     },
     "execution_count": 79,
     "metadata": {},
     "output_type": "execute_result"
    }
   ],
   "source": [
    "cat_data_others = cat_data[[col for col in cat_data.columns if 'shot' not in col]].drop('action_type',axis = 1)  \n",
    "#cat_data_others = cat_data_others.drop('matchup',axis = 1)\n",
    "cat_data_others.head()"
   ]
  },
  {
   "cell_type": "code",
   "execution_count": 80,
   "metadata": {},
   "outputs": [
    {
     "data": {
      "text/plain": [
       "20"
      ]
     },
     "execution_count": 80,
     "metadata": {},
     "output_type": "execute_result"
    }
   ],
   "source": [
    "seasons = cat_data_others.season.value_counts() \n",
    "len(seasons)"
   ]
  },
  {
   "cell_type": "code",
   "execution_count": 81,
   "metadata": {},
   "outputs": [
    {
     "data": {
      "text/plain": [
       "1558"
      ]
     },
     "execution_count": 81,
     "metadata": {},
     "output_type": "execute_result"
    }
   ],
   "source": [
    "game_date = cat_data_others.game_date.value_counts()\n",
    "len(game_date)"
   ]
  },
  {
   "cell_type": "code",
   "execution_count": 82,
   "metadata": {},
   "outputs": [
    {
     "data": {
      "text/plain": [
       "33"
      ]
     },
     "execution_count": 82,
     "metadata": {},
     "output_type": "execute_result"
    }
   ],
   "source": [
    "opponent = cat_data_others.opponent.value_counts()\n",
    "len(opponent)"
   ]
  },
  {
   "cell_type": "code",
   "execution_count": 83,
   "metadata": {},
   "outputs": [
    {
     "name": "stdout",
     "output_type": "stream",
     "text": [
      "all data =  Index(['action_type', 'combined_shot_type', 'season', 'shot_type',\n",
      "       'shot_zone_area', 'shot_zone_basic', 'shot_zone_range', 'game_date',\n",
      "       'opponent'],\n",
      "      dtype='object')\n",
      "\n",
      "other cat data = Index(['season', 'game_date', 'opponent'], dtype='object')\n"
     ]
    }
   ],
   "source": [
    "print('all data = ',cat_data.columns)\n",
    "print('\\nother cat data =', cat_data_others.columns)"
   ]
  },
  {
   "cell_type": "code",
   "execution_count": 101,
   "metadata": {},
   "outputs": [
    {
     "data": {
      "text/plain": [
       "(25697, 6)"
      ]
     },
     "execution_count": 101,
     "metadata": {},
     "output_type": "execute_result"
    }
   ],
   "source": [
    "one_hot = ['combined_shot_type', 'shot_type', 'shot_zone_area', 'shot_zone_basic', 'shot_zone_range']\n",
    "counts  = ['season', 'opponent']\n",
    "woe     = ['game_date','action_type']"
   ]
  },
  {
   "cell_type": "code",
   "execution_count": 102,
   "metadata": {},
   "outputs": [],
   "source": [
    "data_redused_heated = pd.get_dummies(data_redused,columns=one_hot)"
   ]
  },
  {
   "cell_type": "code",
   "execution_count": 103,
   "metadata": {},
   "outputs": [
    {
     "data": {
      "text/html": [
       "<div>\n",
       "<style scoped>\n",
       "    .dataframe tbody tr th:only-of-type {\n",
       "        vertical-align: middle;\n",
       "    }\n",
       "\n",
       "    .dataframe tbody tr th {\n",
       "        vertical-align: top;\n",
       "    }\n",
       "\n",
       "    .dataframe thead th {\n",
       "        text-align: right;\n",
       "    }\n",
       "</style>\n",
       "<table border=\"1\" class=\"dataframe\">\n",
       "  <thead>\n",
       "    <tr style=\"text-align: right;\">\n",
       "      <th></th>\n",
       "      <th>action_type</th>\n",
       "      <th>game_event_id</th>\n",
       "      <th>game_id</th>\n",
       "      <th>loc_x</th>\n",
       "      <th>loc_y</th>\n",
       "      <th>minutes_remaining</th>\n",
       "      <th>period</th>\n",
       "      <th>playoffs</th>\n",
       "      <th>season</th>\n",
       "      <th>seconds_remaining</th>\n",
       "      <th>...</th>\n",
       "      <th>shot_zone_basic_In The Paint (Non-RA)</th>\n",
       "      <th>shot_zone_basic_Left Corner 3</th>\n",
       "      <th>shot_zone_basic_Mid-Range</th>\n",
       "      <th>shot_zone_basic_Restricted Area</th>\n",
       "      <th>shot_zone_basic_Right Corner 3</th>\n",
       "      <th>shot_zone_range_16-24 ft.</th>\n",
       "      <th>shot_zone_range_24+ ft.</th>\n",
       "      <th>shot_zone_range_8-16 ft.</th>\n",
       "      <th>shot_zone_range_Back Court Shot</th>\n",
       "      <th>shot_zone_range_Less Than 8 ft.</th>\n",
       "    </tr>\n",
       "  </thead>\n",
       "  <tbody>\n",
       "    <tr>\n",
       "      <th>1</th>\n",
       "      <td>Jump Shot</td>\n",
       "      <td>12</td>\n",
       "      <td>20000012</td>\n",
       "      <td>-157</td>\n",
       "      <td>0</td>\n",
       "      <td>10</td>\n",
       "      <td>1</td>\n",
       "      <td>0</td>\n",
       "      <td>2000-01</td>\n",
       "      <td>22</td>\n",
       "      <td>...</td>\n",
       "      <td>0</td>\n",
       "      <td>0</td>\n",
       "      <td>1</td>\n",
       "      <td>0</td>\n",
       "      <td>0</td>\n",
       "      <td>0</td>\n",
       "      <td>0</td>\n",
       "      <td>1</td>\n",
       "      <td>0</td>\n",
       "      <td>0</td>\n",
       "    </tr>\n",
       "    <tr>\n",
       "      <th>2</th>\n",
       "      <td>Jump Shot</td>\n",
       "      <td>35</td>\n",
       "      <td>20000012</td>\n",
       "      <td>-101</td>\n",
       "      <td>135</td>\n",
       "      <td>7</td>\n",
       "      <td>1</td>\n",
       "      <td>0</td>\n",
       "      <td>2000-01</td>\n",
       "      <td>45</td>\n",
       "      <td>...</td>\n",
       "      <td>0</td>\n",
       "      <td>0</td>\n",
       "      <td>1</td>\n",
       "      <td>0</td>\n",
       "      <td>0</td>\n",
       "      <td>1</td>\n",
       "      <td>0</td>\n",
       "      <td>0</td>\n",
       "      <td>0</td>\n",
       "      <td>0</td>\n",
       "    </tr>\n",
       "    <tr>\n",
       "      <th>3</th>\n",
       "      <td>Jump Shot</td>\n",
       "      <td>43</td>\n",
       "      <td>20000012</td>\n",
       "      <td>138</td>\n",
       "      <td>175</td>\n",
       "      <td>6</td>\n",
       "      <td>1</td>\n",
       "      <td>0</td>\n",
       "      <td>2000-01</td>\n",
       "      <td>52</td>\n",
       "      <td>...</td>\n",
       "      <td>0</td>\n",
       "      <td>0</td>\n",
       "      <td>1</td>\n",
       "      <td>0</td>\n",
       "      <td>0</td>\n",
       "      <td>1</td>\n",
       "      <td>0</td>\n",
       "      <td>0</td>\n",
       "      <td>0</td>\n",
       "      <td>0</td>\n",
       "    </tr>\n",
       "    <tr>\n",
       "      <th>4</th>\n",
       "      <td>Driving Dunk Shot</td>\n",
       "      <td>155</td>\n",
       "      <td>20000012</td>\n",
       "      <td>0</td>\n",
       "      <td>0</td>\n",
       "      <td>6</td>\n",
       "      <td>2</td>\n",
       "      <td>0</td>\n",
       "      <td>2000-01</td>\n",
       "      <td>19</td>\n",
       "      <td>...</td>\n",
       "      <td>0</td>\n",
       "      <td>0</td>\n",
       "      <td>0</td>\n",
       "      <td>1</td>\n",
       "      <td>0</td>\n",
       "      <td>0</td>\n",
       "      <td>0</td>\n",
       "      <td>0</td>\n",
       "      <td>0</td>\n",
       "      <td>1</td>\n",
       "    </tr>\n",
       "    <tr>\n",
       "      <th>5</th>\n",
       "      <td>Jump Shot</td>\n",
       "      <td>244</td>\n",
       "      <td>20000012</td>\n",
       "      <td>-145</td>\n",
       "      <td>-11</td>\n",
       "      <td>9</td>\n",
       "      <td>3</td>\n",
       "      <td>0</td>\n",
       "      <td>2000-01</td>\n",
       "      <td>32</td>\n",
       "      <td>...</td>\n",
       "      <td>0</td>\n",
       "      <td>0</td>\n",
       "      <td>1</td>\n",
       "      <td>0</td>\n",
       "      <td>0</td>\n",
       "      <td>0</td>\n",
       "      <td>0</td>\n",
       "      <td>1</td>\n",
       "      <td>0</td>\n",
       "      <td>0</td>\n",
       "    </tr>\n",
       "  </tbody>\n",
       "</table>\n",
       "<p>5 rows × 41 columns</p>\n",
       "</div>"
      ],
      "text/plain": [
       "         action_type  game_event_id   game_id  loc_x  loc_y  \\\n",
       "1          Jump Shot             12  20000012   -157      0   \n",
       "2          Jump Shot             35  20000012   -101    135   \n",
       "3          Jump Shot             43  20000012    138    175   \n",
       "4  Driving Dunk Shot            155  20000012      0      0   \n",
       "5          Jump Shot            244  20000012   -145    -11   \n",
       "\n",
       "   minutes_remaining  period  playoffs   season  seconds_remaining  ...  \\\n",
       "1                 10       1         0  2000-01                 22  ...   \n",
       "2                  7       1         0  2000-01                 45  ...   \n",
       "3                  6       1         0  2000-01                 52  ...   \n",
       "4                  6       2         0  2000-01                 19  ...   \n",
       "5                  9       3         0  2000-01                 32  ...   \n",
       "\n",
       "   shot_zone_basic_In The Paint (Non-RA)  shot_zone_basic_Left Corner 3  \\\n",
       "1                                      0                              0   \n",
       "2                                      0                              0   \n",
       "3                                      0                              0   \n",
       "4                                      0                              0   \n",
       "5                                      0                              0   \n",
       "\n",
       "   shot_zone_basic_Mid-Range shot_zone_basic_Restricted Area  \\\n",
       "1                          1                               0   \n",
       "2                          1                               0   \n",
       "3                          1                               0   \n",
       "4                          0                               1   \n",
       "5                          1                               0   \n",
       "\n",
       "  shot_zone_basic_Right Corner 3  shot_zone_range_16-24 ft.  \\\n",
       "1                              0                          0   \n",
       "2                              0                          1   \n",
       "3                              0                          1   \n",
       "4                              0                          0   \n",
       "5                              0                          0   \n",
       "\n",
       "   shot_zone_range_24+ ft.  shot_zone_range_8-16 ft.  \\\n",
       "1                        0                         1   \n",
       "2                        0                         0   \n",
       "3                        0                         0   \n",
       "4                        0                         0   \n",
       "5                        0                         1   \n",
       "\n",
       "   shot_zone_range_Back Court Shot  shot_zone_range_Less Than 8 ft.  \n",
       "1                                0                                0  \n",
       "2                                0                                0  \n",
       "3                                0                                0  \n",
       "4                                0                                1  \n",
       "5                                0                                0  \n",
       "\n",
       "[5 rows x 41 columns]"
      ]
     },
     "execution_count": 103,
     "metadata": {},
     "output_type": "execute_result"
    }
   ],
   "source": [
    "data_redused_heated.head()"
   ]
  },
  {
   "cell_type": "code",
   "execution_count": null,
   "metadata": {},
   "outputs": [],
   "source": []
  },
  {
   "cell_type": "code",
   "execution_count": 104,
   "metadata": {},
   "outputs": [
    {
     "data": {
      "text/plain": [
       "Index(['action_type', 'game_event_id', 'game_id', 'loc_x', 'loc_y',\n",
       "       'minutes_remaining', 'period', 'playoffs', 'season',\n",
       "       'seconds_remaining', 'shot_distance', 'shot_made_flag', 'team_id',\n",
       "       'game_date', 'opponent', 'combined_shot_type_Bank Shot',\n",
       "       'combined_shot_type_Dunk', 'combined_shot_type_Hook Shot',\n",
       "       'combined_shot_type_Jump Shot', 'combined_shot_type_Layup',\n",
       "       'combined_shot_type_Tip Shot', 'shot_type_2PT Field Goal',\n",
       "       'shot_type_3PT Field Goal', 'shot_zone_area_Back Court(BC)',\n",
       "       'shot_zone_area_Center(C)', 'shot_zone_area_Left Side Center(LC)',\n",
       "       'shot_zone_area_Left Side(L)', 'shot_zone_area_Right Side Center(RC)',\n",
       "       'shot_zone_area_Right Side(R)', 'shot_zone_basic_Above the Break 3',\n",
       "       'shot_zone_basic_Backcourt', 'shot_zone_basic_In The Paint (Non-RA)',\n",
       "       'shot_zone_basic_Left Corner 3', 'shot_zone_basic_Mid-Range',\n",
       "       'shot_zone_basic_Restricted Area', 'shot_zone_basic_Right Corner 3',\n",
       "       'shot_zone_range_16-24 ft.', 'shot_zone_range_24+ ft.',\n",
       "       'shot_zone_range_8-16 ft.', 'shot_zone_range_Back Court Shot',\n",
       "       'shot_zone_range_Less Than 8 ft.'],\n",
       "      dtype='object')"
      ]
     },
     "execution_count": 104,
     "metadata": {},
     "output_type": "execute_result"
    }
   ],
   "source": [
    "#shooting_data_heated = get_one_hot(shooting_data,one_hot)\n",
    "data_redused_heated.columns"
   ]
  },
  {
   "cell_type": "code",
   "execution_count": 42,
   "metadata": {},
   "outputs": [],
   "source": [
    "def get_counts_train(df_train, col, target_col):\n",
    "    for el in col:\n",
    "        category_val_dict = (\n",
    "            df_train[df_train[target_col] == 1][el].value_counts()\n",
    "            /\n",
    "            df_train[el].value_counts()\n",
    "        ).to_dict()\n",
    "        df_train[el + '_counts'] = df_train[el].apply(category_val_dict.get)\n",
    "    return df_train"
   ]
  },
  {
   "cell_type": "code",
   "execution_count": 112,
   "metadata": {},
   "outputs": [],
   "source": [
    "data_redused_heated_counted = get_counts_train(data_redused_heated, counts, target)"
   ]
  },
  {
   "cell_type": "code",
   "execution_count": 43,
   "metadata": {},
   "outputs": [],
   "source": [
    "def get_counts_test(df_train, df_test, col, target_col):\n",
    "    for el in col:\n",
    "        category_val_dict = (\n",
    "            df_train[df_train[target_col] == 1][el].value_counts()\n",
    "            /\n",
    "            df_train[el].value_counts()\n",
    "        ).to_dict()\n",
    "        df_test[el + '_counts'] = df_test[el].apply(category_val_dict.get)\n",
    "    return df_test"
   ]
  },
  {
   "cell_type": "code",
   "execution_count": 113,
   "metadata": {},
   "outputs": [],
   "source": [
    "def get_woe_train(df_train, col, target_col):\n",
    "    for el in col:    \n",
    "        all_good = len(df_train[df_train[target_col] == 1][el])\n",
    "        all_bad = len(df_train[df_train[target_col] == 0][el])\n",
    "        odds_series = (\n",
    "            df_train[df_train[target_col] == 1][el].value_counts()\n",
    "            /\n",
    "            df_train[df_train[target_col] == 0][el].value_counts()\n",
    "        )\n",
    "        odds_series = odds_series / all_good * all_bad\n",
    "        category_woe_dict = np.log(odds_series).to_dict()\n",
    "        df_train[el + '_woe'] = df_train[el].apply(category_woe_dict.get)\n",
    "    return df_train"
   ]
  },
  {
   "cell_type": "code",
   "execution_count": 114,
   "metadata": {},
   "outputs": [],
   "source": [
    "data_redused_heated_counted_woe = get_woe_train(data_redused_heated_counted, woe, target)"
   ]
  },
  {
   "cell_type": "code",
   "execution_count": 45,
   "metadata": {},
   "outputs": [],
   "source": [
    "def get_woe_test(df_train, df_test, col, target_col):\n",
    "    for el in col:\n",
    "        all_good = len(df_train[df_train[target_col] == 1][el])\n",
    "        all_bad = len(df_train[df_train[target_col] == 0][el])\n",
    "        odds_series = (\n",
    "            df_train[df_train[target_col] == 1][el].value_counts()\n",
    "            /\n",
    "            df_train[df_train[target_col] == 0][el].value_counts()\n",
    "        )\n",
    "        odds_series = odds_series / all_good * all_bad\n",
    "        category_woe_dict = np.log(odds_series).to_dict()\n",
    "        df_test[el + '_woe'] = df_test[el].apply(category_woe_dict.get)\n",
    "    return  df_test"
   ]
  },
  {
   "cell_type": "code",
   "execution_count": 116,
   "metadata": {},
   "outputs": [
    {
     "data": {
      "text/plain": [
       "Index(['action_type', 'game_event_id', 'game_id', 'loc_x', 'loc_y',\n",
       "       'minutes_remaining', 'period', 'playoffs', 'season',\n",
       "       'seconds_remaining', 'shot_distance', 'shot_made_flag', 'team_id',\n",
       "       'game_date', 'opponent', 'combined_shot_type_Bank Shot',\n",
       "       'combined_shot_type_Dunk', 'combined_shot_type_Hook Shot',\n",
       "       'combined_shot_type_Jump Shot', 'combined_shot_type_Layup',\n",
       "       'combined_shot_type_Tip Shot', 'shot_type_2PT Field Goal',\n",
       "       'shot_type_3PT Field Goal', 'shot_zone_area_Back Court(BC)',\n",
       "       'shot_zone_area_Center(C)', 'shot_zone_area_Left Side Center(LC)',\n",
       "       'shot_zone_area_Left Side(L)', 'shot_zone_area_Right Side Center(RC)',\n",
       "       'shot_zone_area_Right Side(R)', 'shot_zone_basic_Above the Break 3',\n",
       "       'shot_zone_basic_Backcourt', 'shot_zone_basic_In The Paint (Non-RA)',\n",
       "       'shot_zone_basic_Left Corner 3', 'shot_zone_basic_Mid-Range',\n",
       "       'shot_zone_basic_Restricted Area', 'shot_zone_basic_Right Corner 3',\n",
       "       'shot_zone_range_16-24 ft.', 'shot_zone_range_24+ ft.',\n",
       "       'shot_zone_range_8-16 ft.', 'shot_zone_range_Back Court Shot',\n",
       "       'shot_zone_range_Less Than 8 ft.', 'season_counts', 'game_date_counts',\n",
       "       'opponent_counts', 'action_type_counts', 'season_woe', 'game_date_woe',\n",
       "       'opponent_woe', 'action_type_woe'],\n",
       "      dtype='object')"
      ]
     },
     "execution_count": 116,
     "metadata": {},
     "output_type": "execute_result"
    }
   ],
   "source": [
    "data_redused_heated_counted_woe.columns"
   ]
  },
  {
   "cell_type": "code",
   "execution_count": 98,
   "metadata": {},
   "outputs": [],
   "source": [
    "#digital columns\n",
    "d_useless_columns = ['game_id','game_date']\n",
    "d_one_hot = ['period']\n",
    "d_woe=['loc_x', 'loc_y',]\n",
    "d_counts = ['minutes_remaining','seconds_remaining']"
   ]
  },
  {
   "cell_type": "code",
   "execution_count": 117,
   "metadata": {},
   "outputs": [
    {
     "data": {
      "text/plain": [
       "(25697, 49)"
      ]
     },
     "execution_count": 117,
     "metadata": {},
     "output_type": "execute_result"
    }
   ],
   "source": [
    "data_redused_heated_counted_woe.shape"
   ]
  },
  {
   "cell_type": "code",
   "execution_count": 118,
   "metadata": {},
   "outputs": [],
   "source": [
    "data_redused_heated_counted_woe.drop(d_useless_columns, axis=1, inplace=True)"
   ]
  },
  {
   "cell_type": "code",
   "execution_count": 119,
   "metadata": {},
   "outputs": [
    {
     "data": {
      "text/plain": [
       "(25697, 48)"
      ]
     },
     "execution_count": 119,
     "metadata": {},
     "output_type": "execute_result"
    }
   ],
   "source": [
    "data_redused_heated_counted_woe.shape"
   ]
  },
  {
   "cell_type": "code",
   "execution_count": 121,
   "metadata": {},
   "outputs": [],
   "source": [
    "data_redused_heated_counted1_woe = pd.get_dummies(data_redused_heated_counted_woe, columns=d_one_hot)"
   ]
  },
  {
   "cell_type": "code",
   "execution_count": 122,
   "metadata": {},
   "outputs": [],
   "source": [
    "data_redused_heated_counted1_woe1 = get_counts_train(data_redused_heated_counted1_woe, d_counts, target)\n",
    "data_redused_heated_counted1_woe11 = get_woe_train(data_redused_heated_counted1_woe1, d_woe, target)"
   ]
  },
  {
   "cell_type": "code",
   "execution_count": 123,
   "metadata": {},
   "outputs": [
    {
     "data": {
      "text/plain": [
       "(25697, 58)"
      ]
     },
     "execution_count": 123,
     "metadata": {},
     "output_type": "execute_result"
    }
   ],
   "source": [
    "data_redused_heated_counted1_woe11.shape"
   ]
  },
  {
   "cell_type": "code",
   "execution_count": null,
   "metadata": {},
   "outputs": [],
   "source": [
    "#action_type                              20557 non-null object\n",
    "#season                                   20557 non-null object\n",
    "#game_date                                20557 non-null object\n",
    "#opponent                                 20557 non-null object\n",
    "data_redused_heated_counted1_woe11.drop(['action_type'],axis=1, inplace=True)\n",
    "data_redused_heated_counted1_woe11.drop(['season', 'game_date','opponent'],axis=1, inplace=True)"
   ]
  },
  {
   "cell_type": "code",
   "execution_count": 148,
   "metadata": {},
   "outputs": [
    {
     "name": "stdout",
     "output_type": "stream",
     "text": [
      "<class 'pandas.core.frame.DataFrame'>\n",
      "Int64Index: 25697 entries, 1 to 30696\n",
      "Data columns (total 54 columns):\n",
      "game_event_id                            25697 non-null int64\n",
      "loc_x                                    25697 non-null int64\n",
      "loc_y                                    25697 non-null int64\n",
      "minutes_remaining                        25697 non-null int64\n",
      "playoffs                                 25697 non-null int64\n",
      "seconds_remaining                        25697 non-null int64\n",
      "shot_distance                            25697 non-null int64\n",
      "shot_made_flag                           25697 non-null float64\n",
      "team_id                                  25697 non-null int64\n",
      "combined_shot_type_Bank Shot             25697 non-null uint8\n",
      "combined_shot_type_Dunk                  25697 non-null uint8\n",
      "combined_shot_type_Hook Shot             25697 non-null uint8\n",
      "combined_shot_type_Jump Shot             25697 non-null uint8\n",
      "combined_shot_type_Layup                 25697 non-null uint8\n",
      "combined_shot_type_Tip Shot              25697 non-null uint8\n",
      "shot_type_2PT Field Goal                 25697 non-null uint8\n",
      "shot_type_3PT Field Goal                 25697 non-null uint8\n",
      "shot_zone_area_Back Court(BC)            25697 non-null uint8\n",
      "shot_zone_area_Center(C)                 25697 non-null uint8\n",
      "shot_zone_area_Left Side Center(LC)      25697 non-null uint8\n",
      "shot_zone_area_Left Side(L)              25697 non-null uint8\n",
      "shot_zone_area_Right Side Center(RC)     25697 non-null uint8\n",
      "shot_zone_area_Right Side(R)             25697 non-null uint8\n",
      "shot_zone_basic_Above the Break 3        25697 non-null uint8\n",
      "shot_zone_basic_Backcourt                25697 non-null uint8\n",
      "shot_zone_basic_In The Paint (Non-RA)    25697 non-null uint8\n",
      "shot_zone_basic_Left Corner 3            25697 non-null uint8\n",
      "shot_zone_basic_Mid-Range                25697 non-null uint8\n",
      "shot_zone_basic_Restricted Area          25697 non-null uint8\n",
      "shot_zone_basic_Right Corner 3           25697 non-null uint8\n",
      "shot_zone_range_16-24 ft.                25697 non-null uint8\n",
      "shot_zone_range_24+ ft.                  25697 non-null uint8\n",
      "shot_zone_range_8-16 ft.                 25697 non-null uint8\n",
      "shot_zone_range_Back Court Shot          25697 non-null uint8\n",
      "shot_zone_range_Less Than 8 ft.          25697 non-null uint8\n",
      "season_counts                            25697 non-null float64\n",
      "game_date_counts                         25630 non-null float64\n",
      "opponent_counts                          25697 non-null float64\n",
      "action_type_counts                       25696 non-null float64\n",
      "season_woe                               25697 non-null float64\n",
      "game_date_woe                            25609 non-null float64\n",
      "opponent_woe                             25697 non-null float64\n",
      "action_type_woe                          25672 non-null float64\n",
      "period_1                                 25697 non-null uint8\n",
      "period_2                                 25697 non-null uint8\n",
      "period_3                                 25697 non-null uint8\n",
      "period_4                                 25697 non-null uint8\n",
      "period_5                                 25697 non-null uint8\n",
      "period_6                                 25697 non-null uint8\n",
      "period_7                                 25697 non-null uint8\n",
      "minutes_remaining_counts                 25697 non-null float64\n",
      "seconds_remaining_counts                 25697 non-null float64\n",
      "loc_x_woe                                25667 non-null float64\n",
      "loc_y_woe                                25528 non-null float64\n",
      "dtypes: float64(13), int64(8), uint8(33)\n",
      "memory usage: 5.1 MB\n"
     ]
    }
   ],
   "source": [
    "data_redused_heated_counted1_woe11.info()"
   ]
  },
  {
   "cell_type": "code",
   "execution_count": 156,
   "metadata": {},
   "outputs": [],
   "source": [
    "from sklearn.impute import SimpleImputer"
   ]
  },
  {
   "cell_type": "code",
   "execution_count": 157,
   "metadata": {},
   "outputs": [],
   "source": [
    "imp = SimpleImputer(missing_values=np.nan, strategy='mean')"
   ]
  },
  {
   "cell_type": "code",
   "execution_count": 158,
   "metadata": {},
   "outputs": [
    {
     "data": {
      "text/plain": [
       "SimpleImputer(copy=True, fill_value=None, missing_values=nan, strategy='mean',\n",
       "       verbose=0)"
      ]
     },
     "execution_count": 158,
     "metadata": {},
     "output_type": "execute_result"
    }
   ],
   "source": [
    "imp.fit(data_redused_heated_counted1_woe11) "
   ]
  },
  {
   "cell_type": "code",
   "execution_count": 164,
   "metadata": {},
   "outputs": [],
   "source": [
    "data_redused_heated_counted1_woe11_imputed = pd.DataFrame(imp.transform(data_redused_heated_counted1_woe11),columns=data_redused_heated_counted1_woe11.columns)"
   ]
  },
  {
   "cell_type": "code",
   "execution_count": 165,
   "metadata": {},
   "outputs": [
    {
     "name": "stdout",
     "output_type": "stream",
     "text": [
      "<class 'pandas.core.frame.DataFrame'>\n",
      "RangeIndex: 25697 entries, 0 to 25696\n",
      "Data columns (total 54 columns):\n",
      "game_event_id                            25697 non-null float64\n",
      "loc_x                                    25697 non-null float64\n",
      "loc_y                                    25697 non-null float64\n",
      "minutes_remaining                        25697 non-null float64\n",
      "playoffs                                 25697 non-null float64\n",
      "seconds_remaining                        25697 non-null float64\n",
      "shot_distance                            25697 non-null float64\n",
      "shot_made_flag                           25697 non-null float64\n",
      "team_id                                  25697 non-null float64\n",
      "combined_shot_type_Bank Shot             25697 non-null float64\n",
      "combined_shot_type_Dunk                  25697 non-null float64\n",
      "combined_shot_type_Hook Shot             25697 non-null float64\n",
      "combined_shot_type_Jump Shot             25697 non-null float64\n",
      "combined_shot_type_Layup                 25697 non-null float64\n",
      "combined_shot_type_Tip Shot              25697 non-null float64\n",
      "shot_type_2PT Field Goal                 25697 non-null float64\n",
      "shot_type_3PT Field Goal                 25697 non-null float64\n",
      "shot_zone_area_Back Court(BC)            25697 non-null float64\n",
      "shot_zone_area_Center(C)                 25697 non-null float64\n",
      "shot_zone_area_Left Side Center(LC)      25697 non-null float64\n",
      "shot_zone_area_Left Side(L)              25697 non-null float64\n",
      "shot_zone_area_Right Side Center(RC)     25697 non-null float64\n",
      "shot_zone_area_Right Side(R)             25697 non-null float64\n",
      "shot_zone_basic_Above the Break 3        25697 non-null float64\n",
      "shot_zone_basic_Backcourt                25697 non-null float64\n",
      "shot_zone_basic_In The Paint (Non-RA)    25697 non-null float64\n",
      "shot_zone_basic_Left Corner 3            25697 non-null float64\n",
      "shot_zone_basic_Mid-Range                25697 non-null float64\n",
      "shot_zone_basic_Restricted Area          25697 non-null float64\n",
      "shot_zone_basic_Right Corner 3           25697 non-null float64\n",
      "shot_zone_range_16-24 ft.                25697 non-null float64\n",
      "shot_zone_range_24+ ft.                  25697 non-null float64\n",
      "shot_zone_range_8-16 ft.                 25697 non-null float64\n",
      "shot_zone_range_Back Court Shot          25697 non-null float64\n",
      "shot_zone_range_Less Than 8 ft.          25697 non-null float64\n",
      "season_counts                            25697 non-null float64\n",
      "game_date_counts                         25697 non-null float64\n",
      "opponent_counts                          25697 non-null float64\n",
      "action_type_counts                       25697 non-null float64\n",
      "season_woe                               25697 non-null float64\n",
      "game_date_woe                            25697 non-null float64\n",
      "opponent_woe                             25697 non-null float64\n",
      "action_type_woe                          25697 non-null float64\n",
      "period_1                                 25697 non-null float64\n",
      "period_2                                 25697 non-null float64\n",
      "period_3                                 25697 non-null float64\n",
      "period_4                                 25697 non-null float64\n",
      "period_5                                 25697 non-null float64\n",
      "period_6                                 25697 non-null float64\n",
      "period_7                                 25697 non-null float64\n",
      "minutes_remaining_counts                 25697 non-null float64\n",
      "seconds_remaining_counts                 25697 non-null float64\n",
      "loc_x_woe                                25697 non-null float64\n",
      "loc_y_woe                                25697 non-null float64\n",
      "dtypes: float64(54)\n",
      "memory usage: 10.6 MB\n"
     ]
    }
   ],
   "source": [
    "data_redused_heated_counted1_woe11_imputed.info()"
   ]
  },
  {
   "cell_type": "code",
   "execution_count": 179,
   "metadata": {},
   "outputs": [],
   "source": [
    "from sklearn.model_selection import train_test_split\n",
    "y = data_redused_heated_counted1_woe11_imputed[target].copy()\n",
    "X = data_redused_heated_counted1_woe11_imputed.drop([target], axis=1)\n",
    "data_train, data_test, y_train, y_test = train_test_split(X, y, test_size=0.2, random_state=42)"
   ]
  },
  {
   "cell_type": "code",
   "execution_count": 180,
   "metadata": {},
   "outputs": [],
   "source": [
    "from sklearn.ensemble import RandomForestClassifier"
   ]
  },
  {
   "cell_type": "code",
   "execution_count": 181,
   "metadata": {},
   "outputs": [
    {
     "name": "stderr",
     "output_type": "stream",
     "text": [
      "/home/dmitry/anaconda3/lib/python3.6/site-packages/sklearn/ensemble/forest.py:246: FutureWarning: The default value of n_estimators will change from 10 in version 0.20 to 100 in 0.22.\n",
      "  \"10 in version 0.20 to 100 in 0.22.\", FutureWarning)\n"
     ]
    },
    {
     "data": {
      "text/plain": [
       "RandomForestClassifier(bootstrap=True, class_weight=None, criterion='gini',\n",
       "            max_depth=None, max_features='auto', max_leaf_nodes=None,\n",
       "            min_impurity_decrease=0.0, min_impurity_split=None,\n",
       "            min_samples_leaf=1, min_samples_split=2,\n",
       "            min_weight_fraction_leaf=0.0, n_estimators=10, n_jobs=None,\n",
       "            oob_score=False, random_state=None, verbose=0,\n",
       "            warm_start=False)"
      ]
     },
     "execution_count": 181,
     "metadata": {},
     "output_type": "execute_result"
    }
   ],
   "source": [
    "clf = RandomForestClassifier()\n",
    "clf.fit(data_train, y_train)"
   ]
  },
  {
   "cell_type": "code",
   "execution_count": 182,
   "metadata": {},
   "outputs": [],
   "source": [
    "y_predicted = clf.predict(data_test)"
   ]
  },
  {
   "cell_type": "code",
   "execution_count": 183,
   "metadata": {},
   "outputs": [
    {
     "data": {
      "text/plain": [
       "0.9806878435569393"
      ]
     },
     "execution_count": 183,
     "metadata": {},
     "output_type": "execute_result"
    }
   ],
   "source": [
    "clf.score(data_train,y_train)"
   ]
  },
  {
   "cell_type": "code",
   "execution_count": 184,
   "metadata": {},
   "outputs": [
    {
     "data": {
      "text/plain": [
       "0.6712062256809338"
      ]
     },
     "execution_count": 184,
     "metadata": {},
     "output_type": "execute_result"
    }
   ],
   "source": [
    "clf.score(data_test,y_test)"
   ]
  },
  {
   "cell_type": "code",
   "execution_count": 199,
   "metadata": {},
   "outputs": [
    {
     "name": "stdout",
     "output_type": "stream",
     "text": [
      "0\n",
      "Index(['game_date_counts', 'action_type_counts', 'loc_x_woe', 'game_event_id',\n",
      "       'seconds_remaining_counts', 'game_date_woe', 'seconds_remaining',\n",
      "       'loc_y_woe', 'loc_y', 'loc_x', 'opponent_woe', 'opponent_counts',\n",
      "       'season_counts', 'action_type_woe', 'season_woe', 'minutes_remaining',\n",
      "       'shot_distance', 'minutes_remaining_counts', 'combined_shot_type_Dunk'],\n",
      "      dtype='object')\n"
     ]
    }
   ],
   "source": [
    "imr = pd.Series(clf.feature_importances_)\n",
    "imr = imr.sort_values(ascending=False)\n",
    "imr = imr[imr.values>0.01]\n",
    "#print(imr)\n",
    "#counter=0\n",
    "#for i in range(len(imr)):\n",
    "#    print(imr[i])\n",
    "print(counter)\n",
    "print(data_train.columns[imr.index])\n",
    "ew_cols = data_train.columns[imr.index]"
   ]
  },
  {
   "cell_type": "code",
   "execution_count": 201,
   "metadata": {},
   "outputs": [
    {
     "name": "stderr",
     "output_type": "stream",
     "text": [
      "/home/dmitry/anaconda3/lib/python3.6/site-packages/sklearn/ensemble/forest.py:246: FutureWarning: The default value of n_estimators will change from 10 in version 0.20 to 100 in 0.22.\n",
      "  \"10 in version 0.20 to 100 in 0.22.\", FutureWarning)\n"
     ]
    },
    {
     "data": {
      "text/plain": [
       "RandomForestClassifier(bootstrap=True, class_weight=None, criterion='gini',\n",
       "            max_depth=None, max_features='auto', max_leaf_nodes=None,\n",
       "            min_impurity_decrease=0.0, min_impurity_split=None,\n",
       "            min_samples_leaf=1, min_samples_split=2,\n",
       "            min_weight_fraction_leaf=0.0, n_estimators=10, n_jobs=None,\n",
       "            oob_score=False, random_state=None, verbose=0,\n",
       "            warm_start=False)"
      ]
     },
     "execution_count": 201,
     "metadata": {},
     "output_type": "execute_result"
    }
   ],
   "source": [
    "clf_n = RandomForestClassifier()\n",
    "clf_n.fit(data_train[ew_cols], y_train)"
   ]
  },
  {
   "cell_type": "code",
   "execution_count": 203,
   "metadata": {},
   "outputs": [],
   "source": [
    "y_predicted_n = clf_n.predict(data_test[ew_cols])"
   ]
  },
  {
   "cell_type": "code",
   "execution_count": 205,
   "metadata": {},
   "outputs": [
    {
     "data": {
      "text/plain": [
       "0.980347326944593"
      ]
     },
     "execution_count": 205,
     "metadata": {},
     "output_type": "execute_result"
    }
   ],
   "source": [
    "clf_n.score(data_train[ew_cols],y_train)"
   ]
  },
  {
   "cell_type": "code",
   "execution_count": 206,
   "metadata": {},
   "outputs": [
    {
     "data": {
      "text/plain": [
       "0.6688715953307393"
      ]
     },
     "execution_count": 206,
     "metadata": {},
     "output_type": "execute_result"
    }
   ],
   "source": [
    "clf_n.score(data_test[ew_cols],y_test)"
   ]
  },
  {
   "cell_type": "code",
   "execution_count": 208,
   "metadata": {},
   "outputs": [],
   "source": [
    "from sklearn.decomposition import PCA\n",
    "pca = PCA(n_components=10)\n",
    "X_centered = X - X.mean(axis=0)\n",
    "pca.fit(X_centered)\n",
    "X_pca = pca.transform(X_centered)"
   ]
  },
  {
   "cell_type": "code",
   "execution_count": 209,
   "metadata": {},
   "outputs": [],
   "source": [
    "X_train, X_test, y_train, y_test = train_test_split(X_pca, y, test_size=.3, \n",
    "                                                    stratify=y, \n",
    "                                                    random_state=42)"
   ]
  },
  {
   "cell_type": "code",
   "execution_count": 212,
   "metadata": {},
   "outputs": [
    {
     "data": {
      "text/plain": [
       "0.6"
      ]
     },
     "execution_count": 212,
     "metadata": {},
     "output_type": "execute_result"
    }
   ],
   "source": [
    "from sklearn.tree import DecisionTreeClassifier\n",
    "from sklearn.metrics import accuracy_score\n",
    "clf_d = DecisionTreeClassifier(random_state=42)\n",
    "clf_d.fit(X_train, y_train)\n",
    "preds = clf_d.predict_proba(X_test)\n",
    "clf_d.score(X_test,y_test)"
   ]
  },
  {
   "cell_type": "code",
   "execution_count": null,
   "metadata": {},
   "outputs": [],
   "source": []
  }
 ],
 "metadata": {
  "kernelspec": {
   "display_name": "Python 3",
   "language": "python",
   "name": "python3"
  },
  "language_info": {
   "codemirror_mode": {
    "name": "ipython",
    "version": 3
   },
   "file_extension": ".py",
   "mimetype": "text/x-python",
   "name": "python",
   "nbconvert_exporter": "python",
   "pygments_lexer": "ipython3",
   "version": "3.6.8"
  }
 },
 "nbformat": 4,
 "nbformat_minor": 2
}
