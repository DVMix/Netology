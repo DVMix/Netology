{
  "cells": [
    {
      "metadata": {
        "trusted": true,
        "_uuid": "4784751ca3ab9b81bd3f9522105fd1a39f963669"
      },
      "cell_type": "code",
      "source": "# Необходимо построить классификатор изображений рукописного ввода на базе MNIST. \n# В качестве шаблона можно использовать ipython-ноутбук 002-digit.ipynb.\n# Классификатор предлагается строить на признаках, полученных в результате предобработки \n# изображений, например, гистограммы градиентов (HOG) или результат PCA преобразования.\n# В качестве модели классификатора можно использовать любую известную модель, за исключением \n# сверточных нейронных сетей.\n\n# **Критерии качества **\n# Метрика accuracy. Чтобы получить зачёт по работе работе, значение метрики должно быть \n# больше 0.6. Метрика оценивается на тестовой выборке в рамках контеста Digit Recognizer на Kaggle.\n\n# Как сдавать\n# Решение необходимо предоставить в виде** ipytnon-ноутбука** с реализацией процесса \n# построения модели и скриншота с финальным результатом на Kaggle.",
      "execution_count": 52,
      "outputs": []
    },
    {
      "metadata": {
        "_uuid": "8f2839f25d086af736a60e9eeb907d3b93b6e0e5",
        "_cell_guid": "b1076dfc-b9ad-4769-8c92-a6c4dae69d19",
        "trusted": true
      },
      "cell_type": "code",
      "source": "# This Python 3 environment comes with many helpful analytics libraries installed\n# It is defined by the kaggle/python docker image: https://github.com/kaggle/docker-python\n# For example, here's several helpful packages to load in \n\nimport numpy as np # linear algebra\nimport pandas as pd # data processing, CSV file I/O (e.g. pd.read_csv)\n\n# Input data files are available in the \"../input/\" directory.\n# For example, running this (by clicking run or pressing Shift+Enter) will list the files in the input directory\n\nimport os\nprint(os.listdir(\"../input\"))\n\n# Any results you write to the current directory are saved as output.",
      "execution_count": 53,
      "outputs": [
        {
          "output_type": "stream",
          "text": "['train.csv', 'sample_submission.csv', 'test.csv']\n",
          "name": "stdout"
        }
      ]
    },
    {
      "metadata": {
        "_cell_guid": "79c7e3d0-c299-4dcb-8224-4455121ee9b0",
        "_uuid": "d629ff2d2480ee46fbb7e2d37f6b5fab8052498a",
        "trusted": true
      },
      "cell_type": "code",
      "source": "# read train\ntrain = pd.read_csv(\"../input/train.csv\")\ntest = pd.read_csv(\"../input/test.csv\")\nsub = pd.read_csv('../input/sample_submission.csv')\nprint(train.shape)\nprint(test.shape)",
      "execution_count": 54,
      "outputs": [
        {
          "output_type": "stream",
          "text": "(42000, 785)\n(28000, 784)\n",
          "name": "stdout"
        }
      ]
    },
    {
      "metadata": {
        "trusted": true,
        "_uuid": "d7971309039ce378cd5eeae82c6d4251ed088861"
      },
      "cell_type": "code",
      "source": "sub.shape",
      "execution_count": 55,
      "outputs": [
        {
          "output_type": "execute_result",
          "execution_count": 55,
          "data": {
            "text/plain": "(28000, 2)"
          },
          "metadata": {}
        }
      ]
    },
    {
      "metadata": {
        "trusted": true,
        "_uuid": "dfb205497b26f22fe1a128ae0b80ac38e56389b5"
      },
      "cell_type": "code",
      "source": "labels = train.label",
      "execution_count": 56,
      "outputs": []
    },
    {
      "metadata": {
        "trusted": true,
        "_uuid": "1aca059ed021a22effc6bba63350bf1d1e211c4c"
      },
      "cell_type": "code",
      "source": "features = train.drop('label', axis=1)",
      "execution_count": 57,
      "outputs": []
    },
    {
      "metadata": {
        "trusted": true,
        "_uuid": "c14458710a18ca9a4c6e0c53c2d142d8f7cf90cc"
      },
      "cell_type": "code",
      "source": "from sklearn.model_selection import train_test_split\ny_train, y_val, x_train, x_val = train_test_split(\n    labels, features, test_size=0.2,\n    random_state=42)",
      "execution_count": 58,
      "outputs": []
    },
    {
      "metadata": {
        "trusted": true,
        "_uuid": "44dbf8e34bc483c5689f245b78295b7dd5d68c73"
      },
      "cell_type": "code",
      "source": "from sklearn.ensemble import RandomForestClassifier",
      "execution_count": 59,
      "outputs": []
    },
    {
      "metadata": {
        "trusted": true,
        "_uuid": "d1eb9c4fdcdc338d6d7e2b9bbb10efa423ad486f"
      },
      "cell_type": "code",
      "source": "clf = RandomForestClassifier()\nclf.fit(x_train, y_train)",
      "execution_count": 60,
      "outputs": [
        {
          "output_type": "stream",
          "text": "/opt/conda/lib/python3.6/site-packages/sklearn/ensemble/forest.py:246: FutureWarning: The default value of n_estimators will change from 10 in version 0.20 to 100 in 0.22.\n  \"10 in version 0.20 to 100 in 0.22.\", FutureWarning)\n",
          "name": "stderr"
        },
        {
          "output_type": "execute_result",
          "execution_count": 60,
          "data": {
            "text/plain": "RandomForestClassifier(bootstrap=True, class_weight=None, criterion='gini',\n            max_depth=None, max_features='auto', max_leaf_nodes=None,\n            min_impurity_decrease=0.0, min_impurity_split=None,\n            min_samples_leaf=1, min_samples_split=2,\n            min_weight_fraction_leaf=0.0, n_estimators=10, n_jobs=None,\n            oob_score=False, random_state=None, verbose=0,\n            warm_start=False)"
          },
          "metadata": {}
        }
      ]
    },
    {
      "metadata": {
        "trusted": true,
        "_uuid": "b077de5c155df0e46568dd3747f04751f90fdf69"
      },
      "cell_type": "code",
      "source": "imp = pd.Series(clf.feature_importances_)\nimp = imp.sort_values(ascending=False)\nimp = imp[imp.values>=0.008667]\n#print(imp)\nprint(train.columns[imp.index])",
      "execution_count": 61,
      "outputs": [
        {
          "output_type": "stream",
          "text": "Index(['pixel405', 'pixel374', 'pixel238', 'pixel514', 'pixel567', 'pixel378',\n       'pixel433', 'pixel353', 'pixel459', 'pixel377'],\n      dtype='object')\n",
          "name": "stdout"
        }
      ]
    },
    {
      "metadata": {
        "trusted": true,
        "_uuid": "b75c545dbfc250ebf96c13a31c304edc3b7dfe3b"
      },
      "cell_type": "code",
      "source": "cols_to_use = train.columns[imp.index]",
      "execution_count": 62,
      "outputs": []
    },
    {
      "metadata": {
        "trusted": true,
        "_uuid": "c25fe1580f12b5f7f73095332d5ec5ed9ef004e4"
      },
      "cell_type": "code",
      "source": "cols_to_use",
      "execution_count": 63,
      "outputs": [
        {
          "output_type": "execute_result",
          "execution_count": 63,
          "data": {
            "text/plain": "Index(['pixel405', 'pixel374', 'pixel238', 'pixel514', 'pixel567', 'pixel378',\n       'pixel433', 'pixel353', 'pixel459', 'pixel377'],\n      dtype='object')"
          },
          "metadata": {}
        }
      ]
    },
    {
      "metadata": {
        "trusted": true,
        "_uuid": "8cd705025b817c1e220e00ab66666f97de76c451"
      },
      "cell_type": "code",
      "source": "redused_features = train[cols_to_use]",
      "execution_count": 64,
      "outputs": []
    },
    {
      "metadata": {
        "trusted": true,
        "_uuid": "c741d39b1bc1525cfd3af76f5a992ebaf902aaed"
      },
      "cell_type": "code",
      "source": "classfier = RandomForestClassifier()\nclassfier.fit(x_train, y_train)",
      "execution_count": 65,
      "outputs": [
        {
          "output_type": "stream",
          "text": "/opt/conda/lib/python3.6/site-packages/sklearn/ensemble/forest.py:246: FutureWarning: The default value of n_estimators will change from 10 in version 0.20 to 100 in 0.22.\n  \"10 in version 0.20 to 100 in 0.22.\", FutureWarning)\n",
          "name": "stderr"
        },
        {
          "output_type": "execute_result",
          "execution_count": 65,
          "data": {
            "text/plain": "RandomForestClassifier(bootstrap=True, class_weight=None, criterion='gini',\n            max_depth=None, max_features='auto', max_leaf_nodes=None,\n            min_impurity_decrease=0.0, min_impurity_split=None,\n            min_samples_leaf=1, min_samples_split=2,\n            min_weight_fraction_leaf=0.0, n_estimators=10, n_jobs=None,\n            oob_score=False, random_state=None, verbose=0,\n            warm_start=False)"
          },
          "metadata": {}
        }
      ]
    },
    {
      "metadata": {
        "trusted": true,
        "_uuid": "161de4f2398d83e2768e2ea87b645a88a9f241a8"
      },
      "cell_type": "code",
      "source": "pred_val = classfier.predict(x_val)",
      "execution_count": 66,
      "outputs": []
    },
    {
      "metadata": {
        "trusted": true,
        "_uuid": "f85c00366a41b923f848953f5e5848f490e4182d"
      },
      "cell_type": "code",
      "source": "from sklearn.metrics import confusion_matrix\nprint(confusion_matrix(y_val, pred_val))",
      "execution_count": 67,
      "outputs": [
        {
          "output_type": "stream",
          "text": "[[803   0   3   1   2   2   3   0   2   0]\n [  0 898   2   1   1   1   2   0   3   1]\n [  7   6 778  15   9   2   7  11   8   3]\n [  1   5  19 853   0  16   1  13  20   9]\n [  5   1   5   1 791   1  10   2   9  14]\n [  5   1   1  19   2 654  10   3   3   4]\n [  9   1   6   1   6  11 749   0   2   0]\n [  1   5  22   2  11   1   0 834   1  16]\n [  2   8  13  12  12  16   6   2 757   7]\n [  3   3   4  16  22   3   1  20   6 760]]\n",
          "name": "stdout"
        }
      ]
    },
    {
      "metadata": {
        "trusted": true,
        "_uuid": "e01ddfe48f67ce116623a0750f2f89f2629657c7"
      },
      "cell_type": "code",
      "source": "from sklearn.metrics import accuracy_score\nprint('Accuracy: %s' % accuracy_score(y_val, pred_val))",
      "execution_count": 68,
      "outputs": [
        {
          "output_type": "stream",
          "text": "Accuracy: 0.9377380952380953\n",
          "name": "stdout"
        }
      ]
    },
    {
      "metadata": {
        "trusted": true,
        "_uuid": "da4238782b3bfc9cc2eeb76bb5cb507ea3c50581"
      },
      "cell_type": "code",
      "source": "",
      "execution_count": null,
      "outputs": []
    }
  ],
  "metadata": {
    "kernelspec": {
      "display_name": "Python 3",
      "language": "python",
      "name": "python3"
    },
    "language_info": {
      "name": "python",
      "version": "3.6.6",
      "mimetype": "text/x-python",
      "codemirror_mode": {
        "name": "ipython",
        "version": 3
      },
      "pygments_lexer": "ipython3",
      "nbconvert_exporter": "python",
      "file_extension": ".py"
    }
  },
  "nbformat": 4,
  "nbformat_minor": 1
}