{
 "cells": [
  {
   "cell_type": "code",
   "execution_count": 1,
   "metadata": {},
   "outputs": [],
   "source": [
    "# Теперь решаем задачу регрессии - предскажем цены на недвижимость. \n",
    "# Использовать датасет https://www.kaggle.com/c/house-prices-advanced-regression-techniques/data (train.csv)\n",
    "\n",
    "import pandas as pd"
   ]
  },
  {
   "cell_type": "code",
   "execution_count": 2,
   "metadata": {},
   "outputs": [
    {
     "data": {
      "text/plain": [
       "(1460, 80)"
      ]
     },
     "execution_count": 2,
     "metadata": {},
     "output_type": "execute_result"
    }
   ],
   "source": [
    "data_or = pd.read_csv('train.csv')  \n",
    "# len(data) = 1460\n",
    "\n",
    "target = data_or['SalePrice']\n",
    "data_or = data_or.drop('SalePrice', axis = 1)\n",
    "data = data_or\n",
    "data.shape"
   ]
  },
  {
   "cell_type": "code",
   "execution_count": 3,
   "metadata": {},
   "outputs": [],
   "source": [
    "int64_feat = list(data_or.dtypes[data_or.dtypes=='int64'].index)\n",
    "# None\n",
    "\n",
    "cat_feat = list(data_or.dtypes[data_or.dtypes==object].index)\n",
    "# Alley            91   non-null object      # MasVnrType       1452 non-null object\n",
    "# BsmtQual         1423 non-null object      # BsmtCond         1423 non-null object\n",
    "# BsmtExposure     1422 non-null object      # BsmtFinType1     1423 non-null object\n",
    "# BsmtFinType2     1422 non-null object      # Electrical       1459 non-null object\n",
    "# FireplaceQu      770  non-null object      # GarageType       1379 non-null object\n",
    "# GarageFinish     1379 non-null object      # GarageQual       1379 non-null object\n",
    "# GarageCond       1379 non-null object      # PoolQC           7    non-null object\n",
    "# Fence            281  non-null object      # MiscFeature      54   non-null object\n",
    "\n",
    "float64_feat = list(data_or.dtypes[data_or.dtypes=='float64'].index)\n",
    "# LotFrontage    1201 non-null float64\n",
    "# MasVnrArea     1452 non-null float64\n",
    "# GarageYrBlt    1379 non-null float64"
   ]
  },
  {
   "cell_type": "code",
   "execution_count": 4,
   "metadata": {},
   "outputs": [],
   "source": [
    "data[cat_feat] = data_or[cat_feat].fillna('nan')\n",
    "# data[cat_feat].info()\n",
    "data[float64_feat] = data_or[float64_feat].fillna(-999)\n",
    "# data[float64_feat].info()"
   ]
  },
  {
   "cell_type": "code",
   "execution_count": 5,
   "metadata": {},
   "outputs": [],
   "source": [
    "dummy_data_cat = pd.get_dummies(data[cat_feat], columns=cat_feat)\n",
    "cat_nunique = data[cat_feat].nunique()\n",
    "# len(cat_nunique) = 43\n",
    "cat_feat_reduced = list(cat_nunique[cat_nunique<10].index)\n",
    "# len(cat_feat_reduced) = 40"
   ]
  },
  {
   "cell_type": "code",
   "execution_count": 6,
   "metadata": {},
   "outputs": [],
   "source": [
    "processed_data = pd.concat([data[int64_feat], data[float64_feat], dummy_data_cat],axis=1)"
   ]
  },
  {
   "cell_type": "markdown",
   "metadata": {},
   "source": [
    "Linear Regression"
   ]
  },
  {
   "cell_type": "code",
   "execution_count": 7,
   "metadata": {},
   "outputs": [],
   "source": [
    "from sklearn.model_selection import train_test_split\n",
    "from sklearn.linear_model import LinearRegression, LogisticRegression\n",
    "train_X, test_X, train_y, test_y = train_test_split(processed_data, target, test_size = 0.3, random_state = 12)"
   ]
  },
  {
   "cell_type": "code",
   "execution_count": 8,
   "metadata": {},
   "outputs": [
    {
     "name": "stdout",
     "output_type": "stream",
     "text": [
      "train_X.shape =  (1022, 305)\n",
      "train_y.shape =  (1022,)\n",
      "test_X.shape =  (438, 305)\n",
      "test_y.shape =  (438,)\n"
     ]
    }
   ],
   "source": [
    "print('train_X.shape = ', train_X.shape)\n",
    "print('train_y.shape = ', train_y.shape)\n",
    "print('test_X.shape = ', test_X.shape)\n",
    "print('test_y.shape = ', test_y.shape)"
   ]
  },
  {
   "cell_type": "code",
   "execution_count": 17,
   "metadata": {},
   "outputs": [],
   "source": [
    "from sklearn.decomposition import PCA"
   ]
  },
  {
   "cell_type": "code",
   "execution_count": 21,
   "metadata": {},
   "outputs": [
    {
     "data": {
      "text/plain": [
       "0.982990449083399"
      ]
     },
     "execution_count": 21,
     "metadata": {},
     "output_type": "execute_result"
    }
   ],
   "source": [
    "pca = PCA(n_components=2)\n",
    "ppl = pca.fit_transform(train_X)\n",
    "pca.explained_variance_ratio_.sum()"
   ]
  },
  {
   "cell_type": "code",
   "execution_count": 9,
   "metadata": {},
   "outputs": [
    {
     "name": "stdout",
     "output_type": "stream",
     "text": [
      "     AVG_cost =  182380.0\n",
      "pred_AVG_cost =  179754.5249522874\n"
     ]
    }
   ],
   "source": [
    "model = LinearRegression()\n",
    "model.fit(train_X,train_y)\n",
    "pred_y = model.predict(test_X)\n",
    "print('     AVG_cost = ',test_y.mean())\n",
    "print('pred_AVG_cost = ',pred_y.mean())"
   ]
  },
  {
   "cell_type": "markdown",
   "metadata": {},
   "source": [
    "Данных немного, поэтому необходимо использовать 10-fold кросс-валидацию для оценки качества моделей"
   ]
  },
  {
   "cell_type": "code",
   "execution_count": 75,
   "metadata": {},
   "outputs": [],
   "source": [
    "from sklearn.model_selection import cross_val_score  \n",
    "from sklearn.metrics import r2_score"
   ]
  },
  {
   "cell_type": "code",
   "execution_count": 76,
   "metadata": {},
   "outputs": [],
   "source": [
    "regressor = LinearRegression()"
   ]
  },
  {
   "cell_type": "code",
   "execution_count": 77,
   "metadata": {},
   "outputs": [],
   "source": [
    "all_accuracies = cross_val_score(estimator=regressor, X=processed_data, y=target, cv=10)  "
   ]
  },
  {
   "cell_type": "code",
   "execution_count": 78,
   "metadata": {},
   "outputs": [
    {
     "data": {
      "text/plain": [
       "0.5985854835139343"
      ]
     },
     "execution_count": 78,
     "metadata": {},
     "output_type": "execute_result"
    }
   ],
   "source": [
    "all_accuracies.mean()"
   ]
  },
  {
   "cell_type": "code",
   "execution_count": 79,
   "metadata": {},
   "outputs": [],
   "source": [
    "from sklearn.metrics import r2_score\n",
    "regressor1 = LinearRegression()"
   ]
  },
  {
   "cell_type": "code",
   "execution_count": 80,
   "metadata": {},
   "outputs": [
    {
     "data": {
      "text/plain": [
       "LinearRegression(copy_X=True, fit_intercept=True, n_jobs=1, normalize=False)"
      ]
     },
     "execution_count": 80,
     "metadata": {},
     "output_type": "execute_result"
    }
   ],
   "source": [
    "regressor1.fit(train_X,train_y)"
   ]
  },
  {
   "cell_type": "code",
   "execution_count": 81,
   "metadata": {},
   "outputs": [
    {
     "name": "stdout",
     "output_type": "stream",
     "text": [
      "RSS: 2537739790093.2725\n",
      "R^2: 0.5264346515941885\n"
     ]
    }
   ],
   "source": [
    "rss = np.sum((regressor1.predict(processed_data) - target) ** 2)\n",
    "print(\"RSS:\", rss)\n",
    "print(\"R^2:\", r2_score(regressor1.predict(test_X), test_y))"
   ]
  },
  {
   "cell_type": "code",
   "execution_count": 122,
   "metadata": {},
   "outputs": [
    {
     "data": {
      "text/plain": [
       "RandomForestClassifier(bootstrap=True, class_weight=None, criterion='gini',\n",
       "            max_depth=5, max_features=0.5, max_leaf_nodes=None,\n",
       "            min_impurity_decrease=0.0, min_impurity_split=None,\n",
       "            min_samples_leaf=20, min_samples_split=2,\n",
       "            min_weight_fraction_leaf=0.0, n_estimators=10, n_jobs=-1,\n",
       "            oob_score=False, random_state=None, verbose=0,\n",
       "            warm_start=False)"
      ]
     },
     "execution_count": 122,
     "metadata": {},
     "output_type": "execute_result"
    }
   ],
   "source": [
    "# Построить случайный лес, вывести важность признаков\n",
    "    \n",
    "from sklearn.ensemble import RandomForestClassifier\n",
    "clf_rf = RandomForestClassifier(n_estimators=10, max_depth=5, min_samples_leaf=20, max_features=0.5, n_jobs=-1)\n",
    "clf_rf.fit(train_X, train_y)   "
   ]
  },
  {
   "cell_type": "code",
   "execution_count": 119,
   "metadata": {},
   "outputs": [
    {
     "name": "stdout",
     "output_type": "stream",
     "text": [
      "Index(['GrLivArea', '1stFlrSF', 'OpenPorchSF', 'GarageArea', 'LotArea',\n",
      "       '2ndFlrSF', 'BsmtUnfSF', 'OverallQual', 'YearRemodAdd', 'TotalBsmtSF',\n",
      "       'BsmtFinSF1', 'Id', 'WoodDeckSF', 'YearBuilt', 'EnclosedPorch',\n",
      "       'MasVnrArea', 'TotRmsAbvGrd', 'FullBath', 'GarageType_Attchd',\n",
      "       'ScreenPorch', 'GarageFinish_Fin', 'GarageYrBlt', 'LotFrontage',\n",
      "       'Neighborhood_NWAmes', 'MasVnrType_Stone', 'KitchenQual_TA'],\n",
      "      dtype='object')\n"
     ]
    }
   ],
   "source": [
    "imp = pd.Series(clf_rf.feature_importances_)\n",
    "imp = imp.sort_values(ascending=False)\n",
    "imp = imp[imp.values>0.01]\n",
    "print(train_X.columns[imp.index])"
   ]
  },
  {
   "cell_type": "code",
   "execution_count": null,
   "metadata": {},
   "outputs": [],
   "source": [
    "# Обучить стекинг как минимум 3х моделей, использовать хотя бы 1 линейную модель и 1 нелинейную\n",
    "\n"
   ]
  },
  {
   "cell_type": "code",
   "execution_count": null,
   "metadata": {},
   "outputs": [],
   "source": [
    "# Для валидации модели 2-го уровня использовать отдельный hold-out датасет, как на занятии\n",
    "\n"
   ]
  },
  {
   "cell_type": "code",
   "execution_count": null,
   "metadata": {},
   "outputs": [],
   "source": [
    "# Показать, что использование ансамблей моделей действительно улучшает качество \n",
    "# (стекинг vs другие модели сравнивать на hold-out)"
   ]
  }
 ],
 "metadata": {
  "kernelspec": {
   "display_name": "Python 3",
   "language": "python",
   "name": "python3"
  },
  "language_info": {
   "codemirror_mode": {
    "name": "ipython",
    "version": 3
   },
   "file_extension": ".py",
   "mimetype": "text/x-python",
   "name": "python",
   "nbconvert_exporter": "python",
   "pygments_lexer": "ipython3",
   "version": "3.7.0"
  }
 },
 "nbformat": 4,
 "nbformat_minor": 2
}
