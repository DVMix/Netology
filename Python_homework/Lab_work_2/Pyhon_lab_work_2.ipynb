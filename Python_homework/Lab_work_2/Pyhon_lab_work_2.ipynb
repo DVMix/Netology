{
 "cells": [
  {
   "cell_type": "code",
   "execution_count": 2,
   "metadata": {},
   "outputs": [],
   "source": [
    "import pandas as pd"
   ]
  },
  {
   "cell_type": "code",
   "execution_count": 3,
   "metadata": {},
   "outputs": [
    {
     "data": {
      "text/html": [
       "<div>\n",
       "<style scoped>\n",
       "    .dataframe tbody tr th:only-of-type {\n",
       "        vertical-align: middle;\n",
       "    }\n",
       "\n",
       "    .dataframe tbody tr th {\n",
       "        vertical-align: top;\n",
       "    }\n",
       "\n",
       "    .dataframe thead th {\n",
       "        text-align: right;\n",
       "    }\n",
       "</style>\n",
       "<table border=\"1\" class=\"dataframe\">\n",
       "  <thead>\n",
       "    <tr style=\"text-align: right;\">\n",
       "      <th></th>\n",
       "      <th>symboling</th>\n",
       "      <th>normalized-losses</th>\n",
       "      <th>make</th>\n",
       "      <th>fuel-type</th>\n",
       "      <th>aspiration</th>\n",
       "      <th>num-of-doors</th>\n",
       "      <th>body-style</th>\n",
       "      <th>drive-wheels</th>\n",
       "      <th>engine-location</th>\n",
       "      <th>wheel-base</th>\n",
       "      <th>...</th>\n",
       "      <th>engine-size</th>\n",
       "      <th>fuel-system</th>\n",
       "      <th>bore</th>\n",
       "      <th>stroke</th>\n",
       "      <th>compression-ratio</th>\n",
       "      <th>horsepower</th>\n",
       "      <th>peak-rpm</th>\n",
       "      <th>city-mpg</th>\n",
       "      <th>highway-mpg</th>\n",
       "      <th>price</th>\n",
       "    </tr>\n",
       "  </thead>\n",
       "  <tbody>\n",
       "    <tr>\n",
       "      <th>0</th>\n",
       "      <td>3</td>\n",
       "      <td>164</td>\n",
       "      <td>alfa-romero</td>\n",
       "      <td>gas</td>\n",
       "      <td>std</td>\n",
       "      <td>two</td>\n",
       "      <td>convertible</td>\n",
       "      <td>rwd</td>\n",
       "      <td>front</td>\n",
       "      <td>88.6</td>\n",
       "      <td>...</td>\n",
       "      <td>130</td>\n",
       "      <td>mpfi</td>\n",
       "      <td>3.47</td>\n",
       "      <td>2.68</td>\n",
       "      <td>9.0</td>\n",
       "      <td>111</td>\n",
       "      <td>5000</td>\n",
       "      <td>21</td>\n",
       "      <td>27</td>\n",
       "      <td>13495</td>\n",
       "    </tr>\n",
       "    <tr>\n",
       "      <th>1</th>\n",
       "      <td>3</td>\n",
       "      <td>164</td>\n",
       "      <td>alfa-romero</td>\n",
       "      <td>gas</td>\n",
       "      <td>std</td>\n",
       "      <td>two</td>\n",
       "      <td>convertible</td>\n",
       "      <td>rwd</td>\n",
       "      <td>front</td>\n",
       "      <td>88.6</td>\n",
       "      <td>...</td>\n",
       "      <td>130</td>\n",
       "      <td>mpfi</td>\n",
       "      <td>3.47</td>\n",
       "      <td>2.68</td>\n",
       "      <td>9.0</td>\n",
       "      <td>111</td>\n",
       "      <td>5000</td>\n",
       "      <td>21</td>\n",
       "      <td>27</td>\n",
       "      <td>16500</td>\n",
       "    </tr>\n",
       "    <tr>\n",
       "      <th>2</th>\n",
       "      <td>1</td>\n",
       "      <td>164</td>\n",
       "      <td>alfa-romero</td>\n",
       "      <td>gas</td>\n",
       "      <td>std</td>\n",
       "      <td>two</td>\n",
       "      <td>hatchback</td>\n",
       "      <td>rwd</td>\n",
       "      <td>front</td>\n",
       "      <td>94.5</td>\n",
       "      <td>...</td>\n",
       "      <td>152</td>\n",
       "      <td>mpfi</td>\n",
       "      <td>2.68</td>\n",
       "      <td>3.47</td>\n",
       "      <td>9.0</td>\n",
       "      <td>154</td>\n",
       "      <td>5000</td>\n",
       "      <td>19</td>\n",
       "      <td>26</td>\n",
       "      <td>16500</td>\n",
       "    </tr>\n",
       "    <tr>\n",
       "      <th>3</th>\n",
       "      <td>2</td>\n",
       "      <td>164</td>\n",
       "      <td>audi</td>\n",
       "      <td>gas</td>\n",
       "      <td>std</td>\n",
       "      <td>four</td>\n",
       "      <td>sedan</td>\n",
       "      <td>fwd</td>\n",
       "      <td>front</td>\n",
       "      <td>99.8</td>\n",
       "      <td>...</td>\n",
       "      <td>109</td>\n",
       "      <td>mpfi</td>\n",
       "      <td>3.19</td>\n",
       "      <td>3.40</td>\n",
       "      <td>10.0</td>\n",
       "      <td>102</td>\n",
       "      <td>5500</td>\n",
       "      <td>24</td>\n",
       "      <td>30</td>\n",
       "      <td>13950</td>\n",
       "    </tr>\n",
       "    <tr>\n",
       "      <th>4</th>\n",
       "      <td>2</td>\n",
       "      <td>164</td>\n",
       "      <td>audi</td>\n",
       "      <td>gas</td>\n",
       "      <td>std</td>\n",
       "      <td>four</td>\n",
       "      <td>sedan</td>\n",
       "      <td>4wd</td>\n",
       "      <td>front</td>\n",
       "      <td>99.4</td>\n",
       "      <td>...</td>\n",
       "      <td>136</td>\n",
       "      <td>mpfi</td>\n",
       "      <td>3.19</td>\n",
       "      <td>3.40</td>\n",
       "      <td>8.0</td>\n",
       "      <td>115</td>\n",
       "      <td>5500</td>\n",
       "      <td>18</td>\n",
       "      <td>22</td>\n",
       "      <td>17450</td>\n",
       "    </tr>\n",
       "  </tbody>\n",
       "</table>\n",
       "<p>5 rows × 26 columns</p>\n",
       "</div>"
      ],
      "text/plain": [
       "   symboling  normalized-losses         make fuel-type aspiration  \\\n",
       "0          3                164  alfa-romero       gas        std   \n",
       "1          3                164  alfa-romero       gas        std   \n",
       "2          1                164  alfa-romero       gas        std   \n",
       "3          2                164         audi       gas        std   \n",
       "4          2                164         audi       gas        std   \n",
       "\n",
       "  num-of-doors   body-style drive-wheels engine-location  wheel-base  ...    \\\n",
       "0          two  convertible          rwd           front        88.6  ...     \n",
       "1          two  convertible          rwd           front        88.6  ...     \n",
       "2          two    hatchback          rwd           front        94.5  ...     \n",
       "3         four        sedan          fwd           front        99.8  ...     \n",
       "4         four        sedan          4wd           front        99.4  ...     \n",
       "\n",
       "   engine-size  fuel-system  bore  stroke compression-ratio horsepower  \\\n",
       "0          130         mpfi  3.47    2.68               9.0        111   \n",
       "1          130         mpfi  3.47    2.68               9.0        111   \n",
       "2          152         mpfi  2.68    3.47               9.0        154   \n",
       "3          109         mpfi  3.19    3.40              10.0        102   \n",
       "4          136         mpfi  3.19    3.40               8.0        115   \n",
       "\n",
       "   peak-rpm city-mpg  highway-mpg  price  \n",
       "0      5000       21           27  13495  \n",
       "1      5000       21           27  16500  \n",
       "2      5000       19           26  16500  \n",
       "3      5500       24           30  13950  \n",
       "4      5500       18           22  17450  \n",
       "\n",
       "[5 rows x 26 columns]"
      ]
     },
     "execution_count": 3,
     "metadata": {},
     "output_type": "execute_result"
    }
   ],
   "source": [
    "# 1. Загрузить файл auto.csv\n",
    "auto = pd.read_csv('auto.csv')\n",
    "auto.head()"
   ]
  },
  {
   "cell_type": "code",
   "execution_count": 4,
   "metadata": {},
   "outputs": [
    {
     "data": {
      "text/plain": [
       "symboling                0.834146\n",
       "normalized-losses      126.365854\n",
       "wheel-base              98.756585\n",
       "length                 174.049268\n",
       "width                   65.907805\n",
       "height                  53.724878\n",
       "curb-weight           2555.565854\n",
       "engine-size            126.907317\n",
       "bore                     3.324878\n",
       "stroke                   3.253366\n",
       "compression-ratio       10.142537\n",
       "horsepower             106.048780\n",
       "peak-rpm              5131.463415\n",
       "city-mpg                25.219512\n",
       "highway-mpg             30.751220\n",
       "price                13312.712195\n",
       "dtype: float64"
      ]
     },
     "execution_count": 4,
     "metadata": {},
     "output_type": "execute_result"
    }
   ],
   "source": [
    "# 2. Рассчитать основные статистики для переменных (среднее, медиана, мода, мин/макс, сред. отклонение)\n",
    "# среднее\n",
    "auto.mean()"
   ]
  },
  {
   "cell_type": "code",
   "execution_count": 7,
   "metadata": {},
   "outputs": [],
   "source": [
    "import statistics"
   ]
  },
  {
   "cell_type": "code",
   "execution_count": 49,
   "metadata": {},
   "outputs": [],
   "source": [
    "numerical_auto = auto[['symboling','normalized-losses','wheel-base','length','width','height','curb-weight','engine-size']]"
   ]
  },
  {
   "cell_type": "code",
   "execution_count": 90,
   "metadata": {},
   "outputs": [
    {
     "name": "stdout",
     "output_type": "stream",
     "text": [
      "Для столбца symboling медиана = 1\n",
      "Для столбца normalized-losses медиана = 122\n",
      "Для столбца wheel-base медиана = 97.0\n",
      "Для столбца length медиана = 173.2\n",
      "Для столбца width медиана = 65.5\n",
      "Для столбца height медиана = 54.1\n",
      "Для столбца curb-weight медиана = 2414\n"
     ]
    }
   ],
   "source": [
    "for i in range(len(numerical_auto.columns)-1):\n",
    "    print('Для столбца {} медиана = {}'.format(numerical_auto.columns[i],statistics.median(numerical_auto[numerical_auto.columns[i]])))"
   ]
  },
  {
   "cell_type": "code",
   "execution_count": 91,
   "metadata": {},
   "outputs": [
    {
     "name": "stdout",
     "output_type": "stream",
     "text": [
      "Для столбца symboling мода = 0\n",
      "Для столбца normalized-losses мода = 161\n",
      "Для столбца wheel-base мода = 94.5\n",
      "Для столбца length мода = 157.3\n",
      "Для столбца width мода = 63.8\n",
      "Для столбца height мода = 50.8\n",
      "Для столбца curb-weight мода = 2385\n"
     ]
    }
   ],
   "source": [
    "for i in range(len(numerical_auto.columns)-1):\n",
    "    print('Для столбца {} мода = {}'.format(numerical_auto.columns[i],statistics.mode(numerical_auto[numerical_auto.columns[i]])))"
   ]
  },
  {
   "cell_type": "code",
   "execution_count": 92,
   "metadata": {},
   "outputs": [
    {
     "data": {
      "text/plain": [
       "symboling                3\n",
       "normalized-losses      256\n",
       "make                 volvo\n",
       "fuel-type              gas\n",
       "aspiration           turbo\n",
       "num-of-doors           two\n",
       "body-style           wagon\n",
       "drive-wheels           rwd\n",
       "engine-location       rear\n",
       "wheel-base           120.9\n",
       "length               208.1\n",
       "width                 72.3\n",
       "height                59.8\n",
       "curb-weight           4066\n",
       "engine-type          rotor\n",
       "num-of-cylinders       two\n",
       "engine-size            326\n",
       "fuel-system           spfi\n",
       "bore                  3.94\n",
       "stroke                4.17\n",
       "compression-ratio       23\n",
       "horsepower             288\n",
       "peak-rpm              6600\n",
       "city-mpg                49\n",
       "highway-mpg             54\n",
       "price                45400\n",
       "dtype: object"
      ]
     },
     "execution_count": 92,
     "metadata": {},
     "output_type": "execute_result"
    }
   ],
   "source": [
    "auto.max()"
   ]
  },
  {
   "cell_type": "code",
   "execution_count": 93,
   "metadata": {},
   "outputs": [
    {
     "data": {
      "text/plain": [
       "symboling                     -2\n",
       "normalized-losses             65\n",
       "make                 alfa-romero\n",
       "fuel-type                 diesel\n",
       "aspiration                   std\n",
       "num-of-doors                four\n",
       "body-style           convertible\n",
       "drive-wheels                 4wd\n",
       "engine-location            front\n",
       "wheel-base                  86.6\n",
       "length                     141.1\n",
       "width                       60.3\n",
       "height                      47.8\n",
       "curb-weight                 1488\n",
       "engine-type                 dohc\n",
       "num-of-cylinders           eight\n",
       "engine-size                   61\n",
       "fuel-system                 1bbl\n",
       "bore                        2.54\n",
       "stroke                      2.07\n",
       "compression-ratio              7\n",
       "horsepower                    48\n",
       "peak-rpm                    4150\n",
       "city-mpg                      13\n",
       "highway-mpg                   16\n",
       "price                       5118\n",
       "dtype: object"
      ]
     },
     "execution_count": 93,
     "metadata": {},
     "output_type": "execute_result"
    }
   ],
   "source": [
    "auto.min()"
   ]
  },
  {
   "cell_type": "code",
   "execution_count": 96,
   "metadata": {},
   "outputs": [
    {
     "name": "stdout",
     "output_type": "stream",
     "text": [
      "Для столбца symboling среднеквадратическое отклонение = 1.2453068281055297\n",
      "Для столбца normalized-losses среднеквадратическое отклонение = 35.43840008889837\n",
      "Для столбца wheel-base среднеквадратическое отклонение = 6.021775685025571\n",
      "Для столбца length среднеквадратическое отклонение = 12.337288526555179\n",
      "Для столбца width среднеквадратическое отклонение = 2.1452038526871835\n",
      "Для столбца height среднеквадратическое отклонение = 2.4435219699049036\n",
      "Для столбца curb-weight среднеквадратическое отклонение = 520.6802035016387\n"
     ]
    }
   ],
   "source": [
    "for i in range(len(numerical_auto.columns)-1):\n",
    "    print('Для столбца {} среднеквадратическое отклонение = {}'.format(numerical_auto.columns[i],statistics.stdev(numerical_auto[numerical_auto.columns[i]])))"
   ]
  },
  {
   "cell_type": "code",
   "execution_count": 141,
   "metadata": {},
   "outputs": [],
   "source": [
    "# 3. Рассчитать и визуализировать корреляционную матрицу для переменных\n",
    "import seaborn as sns\n",
    "import matplotlib.pyplot as plt"
   ]
  },
  {
   "cell_type": "code",
   "execution_count": 100,
   "metadata": {},
   "outputs": [
    {
     "data": {
      "text/html": [
       "<div>\n",
       "<style scoped>\n",
       "    .dataframe tbody tr th:only-of-type {\n",
       "        vertical-align: middle;\n",
       "    }\n",
       "\n",
       "    .dataframe tbody tr th {\n",
       "        vertical-align: top;\n",
       "    }\n",
       "\n",
       "    .dataframe thead th {\n",
       "        text-align: right;\n",
       "    }\n",
       "</style>\n",
       "<table border=\"1\" class=\"dataframe\">\n",
       "  <thead>\n",
       "    <tr style=\"text-align: right;\">\n",
       "      <th></th>\n",
       "      <th>symboling</th>\n",
       "      <th>normalized-losses</th>\n",
       "      <th>wheel-base</th>\n",
       "      <th>length</th>\n",
       "      <th>width</th>\n",
       "      <th>height</th>\n",
       "      <th>curb-weight</th>\n",
       "      <th>engine-size</th>\n",
       "      <th>bore</th>\n",
       "      <th>stroke</th>\n",
       "      <th>compression-ratio</th>\n",
       "      <th>horsepower</th>\n",
       "      <th>peak-rpm</th>\n",
       "      <th>city-mpg</th>\n",
       "      <th>highway-mpg</th>\n",
       "      <th>price</th>\n",
       "    </tr>\n",
       "  </thead>\n",
       "  <tbody>\n",
       "    <tr>\n",
       "      <th>symboling</th>\n",
       "      <td>1.000000</td>\n",
       "      <td>0.497890</td>\n",
       "      <td>-0.531954</td>\n",
       "      <td>-0.357612</td>\n",
       "      <td>-0.232919</td>\n",
       "      <td>-0.541038</td>\n",
       "      <td>-0.227691</td>\n",
       "      <td>-0.105790</td>\n",
       "      <td>-0.160225</td>\n",
       "      <td>-0.020132</td>\n",
       "      <td>-0.178515</td>\n",
       "      <td>0.070421</td>\n",
       "      <td>0.273125</td>\n",
       "      <td>-0.035823</td>\n",
       "      <td>0.034606</td>\n",
       "      <td>-0.080149</td>\n",
       "    </tr>\n",
       "    <tr>\n",
       "      <th>normalized-losses</th>\n",
       "      <td>0.497890</td>\n",
       "      <td>1.000000</td>\n",
       "      <td>-0.029810</td>\n",
       "      <td>0.051375</td>\n",
       "      <td>0.122172</td>\n",
       "      <td>-0.332532</td>\n",
       "      <td>0.152171</td>\n",
       "      <td>0.166203</td>\n",
       "      <td>0.013503</td>\n",
       "      <td>0.038636</td>\n",
       "      <td>-0.148861</td>\n",
       "      <td>0.274619</td>\n",
       "      <td>0.234561</td>\n",
       "      <td>-0.290161</td>\n",
       "      <td>-0.256047</td>\n",
       "      <td>0.199860</td>\n",
       "    </tr>\n",
       "    <tr>\n",
       "      <th>wheel-base</th>\n",
       "      <td>-0.531954</td>\n",
       "      <td>-0.029810</td>\n",
       "      <td>1.000000</td>\n",
       "      <td>0.874587</td>\n",
       "      <td>0.795144</td>\n",
       "      <td>0.589435</td>\n",
       "      <td>0.776386</td>\n",
       "      <td>0.569329</td>\n",
       "      <td>0.495108</td>\n",
       "      <td>0.164549</td>\n",
       "      <td>0.249786</td>\n",
       "      <td>0.301696</td>\n",
       "      <td>-0.363355</td>\n",
       "      <td>-0.470414</td>\n",
       "      <td>-0.544082</td>\n",
       "      <td>0.571784</td>\n",
       "    </tr>\n",
       "    <tr>\n",
       "      <th>length</th>\n",
       "      <td>-0.357612</td>\n",
       "      <td>0.051375</td>\n",
       "      <td>0.874587</td>\n",
       "      <td>1.000000</td>\n",
       "      <td>0.841118</td>\n",
       "      <td>0.491029</td>\n",
       "      <td>0.877728</td>\n",
       "      <td>0.683360</td>\n",
       "      <td>0.608905</td>\n",
       "      <td>0.132076</td>\n",
       "      <td>0.158414</td>\n",
       "      <td>0.521192</td>\n",
       "      <td>-0.279406</td>\n",
       "      <td>-0.670909</td>\n",
       "      <td>-0.704662</td>\n",
       "      <td>0.678818</td>\n",
       "    </tr>\n",
       "    <tr>\n",
       "      <th>width</th>\n",
       "      <td>-0.232919</td>\n",
       "      <td>0.122172</td>\n",
       "      <td>0.795144</td>\n",
       "      <td>0.841118</td>\n",
       "      <td>1.000000</td>\n",
       "      <td>0.279210</td>\n",
       "      <td>0.867032</td>\n",
       "      <td>0.735433</td>\n",
       "      <td>0.556374</td>\n",
       "      <td>0.183379</td>\n",
       "      <td>0.181129</td>\n",
       "      <td>0.596251</td>\n",
       "      <td>-0.214240</td>\n",
       "      <td>-0.642704</td>\n",
       "      <td>-0.677218</td>\n",
       "      <td>0.764977</td>\n",
       "    </tr>\n",
       "    <tr>\n",
       "      <th>height</th>\n",
       "      <td>-0.541038</td>\n",
       "      <td>-0.332532</td>\n",
       "      <td>0.589435</td>\n",
       "      <td>0.491029</td>\n",
       "      <td>0.279210</td>\n",
       "      <td>1.000000</td>\n",
       "      <td>0.295572</td>\n",
       "      <td>0.067149</td>\n",
       "      <td>0.199995</td>\n",
       "      <td>-0.044176</td>\n",
       "      <td>0.261214</td>\n",
       "      <td>-0.114968</td>\n",
       "      <td>-0.322525</td>\n",
       "      <td>-0.048640</td>\n",
       "      <td>-0.107358</td>\n",
       "      <td>0.112421</td>\n",
       "    </tr>\n",
       "    <tr>\n",
       "      <th>curb-weight</th>\n",
       "      <td>-0.227691</td>\n",
       "      <td>0.152171</td>\n",
       "      <td>0.776386</td>\n",
       "      <td>0.877728</td>\n",
       "      <td>0.867032</td>\n",
       "      <td>0.295572</td>\n",
       "      <td>1.000000</td>\n",
       "      <td>0.850594</td>\n",
       "      <td>0.648219</td>\n",
       "      <td>0.170425</td>\n",
       "      <td>0.151362</td>\n",
       "      <td>0.679865</td>\n",
       "      <td>-0.264976</td>\n",
       "      <td>-0.757414</td>\n",
       "      <td>-0.797465</td>\n",
       "      <td>0.835657</td>\n",
       "    </tr>\n",
       "    <tr>\n",
       "      <th>engine-size</th>\n",
       "      <td>-0.105790</td>\n",
       "      <td>0.166203</td>\n",
       "      <td>0.569329</td>\n",
       "      <td>0.683360</td>\n",
       "      <td>0.735433</td>\n",
       "      <td>0.067149</td>\n",
       "      <td>0.850594</td>\n",
       "      <td>1.000000</td>\n",
       "      <td>0.602516</td>\n",
       "      <td>0.211477</td>\n",
       "      <td>0.028971</td>\n",
       "      <td>0.742119</td>\n",
       "      <td>-0.241031</td>\n",
       "      <td>-0.653658</td>\n",
       "      <td>-0.677470</td>\n",
       "      <td>0.870751</td>\n",
       "    </tr>\n",
       "    <tr>\n",
       "      <th>bore</th>\n",
       "      <td>-0.160225</td>\n",
       "      <td>0.013503</td>\n",
       "      <td>0.495108</td>\n",
       "      <td>0.608905</td>\n",
       "      <td>0.556374</td>\n",
       "      <td>0.199995</td>\n",
       "      <td>0.648219</td>\n",
       "      <td>0.602516</td>\n",
       "      <td>1.000000</td>\n",
       "      <td>-0.049492</td>\n",
       "      <td>0.008511</td>\n",
       "      <td>0.537543</td>\n",
       "      <td>-0.276942</td>\n",
       "      <td>-0.556570</td>\n",
       "      <td>-0.562065</td>\n",
       "      <td>0.549438</td>\n",
       "    </tr>\n",
       "    <tr>\n",
       "      <th>stroke</th>\n",
       "      <td>-0.020132</td>\n",
       "      <td>0.038636</td>\n",
       "      <td>0.164549</td>\n",
       "      <td>0.132076</td>\n",
       "      <td>0.183379</td>\n",
       "      <td>-0.044176</td>\n",
       "      <td>0.170425</td>\n",
       "      <td>0.211477</td>\n",
       "      <td>-0.049492</td>\n",
       "      <td>1.000000</td>\n",
       "      <td>0.187134</td>\n",
       "      <td>0.164722</td>\n",
       "      <td>-0.051970</td>\n",
       "      <td>-0.033609</td>\n",
       "      <td>-0.036502</td>\n",
       "      <td>0.079775</td>\n",
       "    </tr>\n",
       "    <tr>\n",
       "      <th>compression-ratio</th>\n",
       "      <td>-0.178515</td>\n",
       "      <td>-0.148861</td>\n",
       "      <td>0.249786</td>\n",
       "      <td>0.158414</td>\n",
       "      <td>0.181129</td>\n",
       "      <td>0.261214</td>\n",
       "      <td>0.151362</td>\n",
       "      <td>0.028971</td>\n",
       "      <td>0.008511</td>\n",
       "      <td>0.187134</td>\n",
       "      <td>1.000000</td>\n",
       "      <td>-0.202096</td>\n",
       "      <td>-0.436976</td>\n",
       "      <td>0.324701</td>\n",
       "      <td>0.265201</td>\n",
       "      <td>0.064381</td>\n",
       "    </tr>\n",
       "    <tr>\n",
       "      <th>horsepower</th>\n",
       "      <td>0.070421</td>\n",
       "      <td>0.274619</td>\n",
       "      <td>0.301696</td>\n",
       "      <td>0.521192</td>\n",
       "      <td>0.596251</td>\n",
       "      <td>-0.114968</td>\n",
       "      <td>0.679865</td>\n",
       "      <td>0.742119</td>\n",
       "      <td>0.537543</td>\n",
       "      <td>0.164722</td>\n",
       "      <td>-0.202096</td>\n",
       "      <td>1.000000</td>\n",
       "      <td>0.171390</td>\n",
       "      <td>-0.744246</td>\n",
       "      <td>-0.699361</td>\n",
       "      <td>0.725481</td>\n",
       "    </tr>\n",
       "    <tr>\n",
       "      <th>peak-rpm</th>\n",
       "      <td>0.273125</td>\n",
       "      <td>0.234561</td>\n",
       "      <td>-0.363355</td>\n",
       "      <td>-0.279406</td>\n",
       "      <td>-0.214240</td>\n",
       "      <td>-0.322525</td>\n",
       "      <td>-0.264976</td>\n",
       "      <td>-0.241031</td>\n",
       "      <td>-0.276942</td>\n",
       "      <td>-0.051970</td>\n",
       "      <td>-0.436976</td>\n",
       "      <td>0.171390</td>\n",
       "      <td>1.000000</td>\n",
       "      <td>-0.117108</td>\n",
       "      <td>-0.053351</td>\n",
       "      <td>-0.083675</td>\n",
       "    </tr>\n",
       "    <tr>\n",
       "      <th>city-mpg</th>\n",
       "      <td>-0.035823</td>\n",
       "      <td>-0.290161</td>\n",
       "      <td>-0.470414</td>\n",
       "      <td>-0.670909</td>\n",
       "      <td>-0.642704</td>\n",
       "      <td>-0.048640</td>\n",
       "      <td>-0.757414</td>\n",
       "      <td>-0.653658</td>\n",
       "      <td>-0.556570</td>\n",
       "      <td>-0.033609</td>\n",
       "      <td>0.324701</td>\n",
       "      <td>-0.744246</td>\n",
       "      <td>-0.117108</td>\n",
       "      <td>1.000000</td>\n",
       "      <td>0.971337</td>\n",
       "      <td>-0.690580</td>\n",
       "    </tr>\n",
       "    <tr>\n",
       "      <th>highway-mpg</th>\n",
       "      <td>0.034606</td>\n",
       "      <td>-0.256047</td>\n",
       "      <td>-0.544082</td>\n",
       "      <td>-0.704662</td>\n",
       "      <td>-0.677218</td>\n",
       "      <td>-0.107358</td>\n",
       "      <td>-0.797465</td>\n",
       "      <td>-0.677470</td>\n",
       "      <td>-0.562065</td>\n",
       "      <td>-0.036502</td>\n",
       "      <td>0.265201</td>\n",
       "      <td>-0.699361</td>\n",
       "      <td>-0.053351</td>\n",
       "      <td>0.971337</td>\n",
       "      <td>1.000000</td>\n",
       "      <td>-0.698389</td>\n",
       "    </tr>\n",
       "    <tr>\n",
       "      <th>price</th>\n",
       "      <td>-0.080149</td>\n",
       "      <td>0.199860</td>\n",
       "      <td>0.571784</td>\n",
       "      <td>0.678818</td>\n",
       "      <td>0.764977</td>\n",
       "      <td>0.112421</td>\n",
       "      <td>0.835657</td>\n",
       "      <td>0.870751</td>\n",
       "      <td>0.549438</td>\n",
       "      <td>0.079775</td>\n",
       "      <td>0.064381</td>\n",
       "      <td>0.725481</td>\n",
       "      <td>-0.083675</td>\n",
       "      <td>-0.690580</td>\n",
       "      <td>-0.698389</td>\n",
       "      <td>1.000000</td>\n",
       "    </tr>\n",
       "  </tbody>\n",
       "</table>\n",
       "</div>"
      ],
      "text/plain": [
       "                   symboling  normalized-losses  wheel-base    length  \\\n",
       "symboling           1.000000           0.497890   -0.531954 -0.357612   \n",
       "normalized-losses   0.497890           1.000000   -0.029810  0.051375   \n",
       "wheel-base         -0.531954          -0.029810    1.000000  0.874587   \n",
       "length             -0.357612           0.051375    0.874587  1.000000   \n",
       "width              -0.232919           0.122172    0.795144  0.841118   \n",
       "height             -0.541038          -0.332532    0.589435  0.491029   \n",
       "curb-weight        -0.227691           0.152171    0.776386  0.877728   \n",
       "engine-size        -0.105790           0.166203    0.569329  0.683360   \n",
       "bore               -0.160225           0.013503    0.495108  0.608905   \n",
       "stroke             -0.020132           0.038636    0.164549  0.132076   \n",
       "compression-ratio  -0.178515          -0.148861    0.249786  0.158414   \n",
       "horsepower          0.070421           0.274619    0.301696  0.521192   \n",
       "peak-rpm            0.273125           0.234561   -0.363355 -0.279406   \n",
       "city-mpg           -0.035823          -0.290161   -0.470414 -0.670909   \n",
       "highway-mpg         0.034606          -0.256047   -0.544082 -0.704662   \n",
       "price              -0.080149           0.199860    0.571784  0.678818   \n",
       "\n",
       "                      width    height  curb-weight  engine-size      bore  \\\n",
       "symboling         -0.232919 -0.541038    -0.227691    -0.105790 -0.160225   \n",
       "normalized-losses  0.122172 -0.332532     0.152171     0.166203  0.013503   \n",
       "wheel-base         0.795144  0.589435     0.776386     0.569329  0.495108   \n",
       "length             0.841118  0.491029     0.877728     0.683360  0.608905   \n",
       "width              1.000000  0.279210     0.867032     0.735433  0.556374   \n",
       "height             0.279210  1.000000     0.295572     0.067149  0.199995   \n",
       "curb-weight        0.867032  0.295572     1.000000     0.850594  0.648219   \n",
       "engine-size        0.735433  0.067149     0.850594     1.000000  0.602516   \n",
       "bore               0.556374  0.199995     0.648219     0.602516  1.000000   \n",
       "stroke             0.183379 -0.044176     0.170425     0.211477 -0.049492   \n",
       "compression-ratio  0.181129  0.261214     0.151362     0.028971  0.008511   \n",
       "horsepower         0.596251 -0.114968     0.679865     0.742119  0.537543   \n",
       "peak-rpm          -0.214240 -0.322525    -0.264976    -0.241031 -0.276942   \n",
       "city-mpg          -0.642704 -0.048640    -0.757414    -0.653658 -0.556570   \n",
       "highway-mpg       -0.677218 -0.107358    -0.797465    -0.677470 -0.562065   \n",
       "price              0.764977  0.112421     0.835657     0.870751  0.549438   \n",
       "\n",
       "                     stroke  compression-ratio  horsepower  peak-rpm  \\\n",
       "symboling         -0.020132          -0.178515    0.070421  0.273125   \n",
       "normalized-losses  0.038636          -0.148861    0.274619  0.234561   \n",
       "wheel-base         0.164549           0.249786    0.301696 -0.363355   \n",
       "length             0.132076           0.158414    0.521192 -0.279406   \n",
       "width              0.183379           0.181129    0.596251 -0.214240   \n",
       "height            -0.044176           0.261214   -0.114968 -0.322525   \n",
       "curb-weight        0.170425           0.151362    0.679865 -0.264976   \n",
       "engine-size        0.211477           0.028971    0.742119 -0.241031   \n",
       "bore              -0.049492           0.008511    0.537543 -0.276942   \n",
       "stroke             1.000000           0.187134    0.164722 -0.051970   \n",
       "compression-ratio  0.187134           1.000000   -0.202096 -0.436976   \n",
       "horsepower         0.164722          -0.202096    1.000000  0.171390   \n",
       "peak-rpm          -0.051970          -0.436976    0.171390  1.000000   \n",
       "city-mpg          -0.033609           0.324701   -0.744246 -0.117108   \n",
       "highway-mpg       -0.036502           0.265201   -0.699361 -0.053351   \n",
       "price              0.079775           0.064381    0.725481 -0.083675   \n",
       "\n",
       "                   city-mpg  highway-mpg     price  \n",
       "symboling         -0.035823     0.034606 -0.080149  \n",
       "normalized-losses -0.290161    -0.256047  0.199860  \n",
       "wheel-base        -0.470414    -0.544082  0.571784  \n",
       "length            -0.670909    -0.704662  0.678818  \n",
       "width             -0.642704    -0.677218  0.764977  \n",
       "height            -0.048640    -0.107358  0.112421  \n",
       "curb-weight       -0.757414    -0.797465  0.835657  \n",
       "engine-size       -0.653658    -0.677470  0.870751  \n",
       "bore              -0.556570    -0.562065  0.549438  \n",
       "stroke            -0.033609    -0.036502  0.079775  \n",
       "compression-ratio  0.324701     0.265201  0.064381  \n",
       "horsepower        -0.744246    -0.699361  0.725481  \n",
       "peak-rpm          -0.117108    -0.053351 -0.083675  \n",
       "city-mpg           1.000000     0.971337 -0.690580  \n",
       "highway-mpg        0.971337     1.000000 -0.698389  \n",
       "price             -0.690580    -0.698389  1.000000  "
      ]
     },
     "execution_count": 100,
     "metadata": {},
     "output_type": "execute_result"
    }
   ],
   "source": [
    "corr = auto.corr()\n",
    "corr"
   ]
  },
  {
   "cell_type": "code",
   "execution_count": 102,
   "metadata": {},
   "outputs": [
    {
     "data": {
      "text/plain": [
       "<matplotlib.axes._subplots.AxesSubplot at 0x20075435128>"
      ]
     },
     "execution_count": 102,
     "metadata": {},
     "output_type": "execute_result"
    },
    {
     "data": {
      "image/png": "[encoded data removed]",
      "text/plain": [
       "<Figure size 432x288 with 2 Axes>"
      ]
     },
     "metadata": {},
     "output_type": "display_data"
    }
   ],
   "source": [
    "sns.heatmap(corr, annot=True,\n",
    "            xticklabels=corr.columns.values,\n",
    "            yticklabels=corr.columns.values)"
   ]
  },
  {
   "cell_type": "code",
   "execution_count": 151,
   "metadata": {},
   "outputs": [],
   "source": [
    "# 4. Визуализировать распределение переменной ‘Price’, рассчитать показатели skewness и kurtosis\n",
    "price = auto['price'].reset_index()"
   ]
  },
  {
   "cell_type": "code",
   "execution_count": 152,
   "metadata": {},
   "outputs": [
    {
     "data": {
      "text/plain": [
       "Text(0,0.5,'Цена авто')"
      ]
     },
     "execution_count": 152,
     "metadata": {},
     "output_type": "execute_result"
    },
    {
     "data": {
      "image/png": "[encoded data removed]",
      "text/plain": [
       "<Figure size 432x288 with 1 Axes>"
      ]
     },
     "metadata": {},
     "output_type": "display_data"
    }
   ],
   "source": [
    "plt.plot(price['price'])\n",
    "plt.title('Распределение цен:')\n",
    "plt.xlabel('Модели авто')\n",
    "plt.ylabel ('Цена авто')"
   ]
  },
  {
   "cell_type": "code",
   "execution_count": 123,
   "metadata": {},
   "outputs": [],
   "source": [
    "import numpy as np\n",
    "from scipy.stats import kurtosis, skew"
   ]
  },
  {
   "cell_type": "code",
   "execution_count": 120,
   "metadata": {},
   "outputs": [
    {
     "name": "stdout",
     "output_type": "stream",
     "text": [
      "Для столбца symboling skew = 0.20952469094997359\n",
      "Для столбца normalized-losses skew = 0.6615433112460825\n",
      "Для столбца wheel-base skew = 1.042513612401581\n",
      "Для столбца length skew = 0.15481031885453517\n",
      "Для столбца width skew = 0.8973753485201392\n",
      "Для столбца height skew = 0.06265991683394276\n",
      "Для столбца curb-weight skew = 0.676402180083416\n"
     ]
    }
   ],
   "source": [
    "for i in range(len(numerical_auto.columns)-1):\n",
    "    print('Для столбца {} skew = {}'.format(numerical_auto.columns[i],skew(numerical_auto[numerical_auto.columns[i]])))"
   ]
  },
  {
   "cell_type": "code",
   "execution_count": 125,
   "metadata": {},
   "outputs": [
    {
     "name": "stdout",
     "output_type": "stream",
     "text": [
      "Для столбца symboling kurtosis = -0.6890154014835166\n",
      "Для столбца normalized-losses kurtosis = 0.598577601036749\n",
      "Для столбца wheel-base kurtosis = 0.9632757242326453\n",
      "Для столбца length kurtosis = -0.11001300115343327\n",
      "Для столбца width kurtosis = 0.6566140918303747\n",
      "Для столбца height kurtosis = -0.46218755571934844\n",
      "Для столбца curb-weight kurtosis = -0.07094187922836692\n"
     ]
    }
   ],
   "source": [
    "for i in range(len(numerical_auto.columns)-1):\n",
    "    print('Для столбца {} kurtosis = {}'.format(numerical_auto.columns[i],kurtosis(numerical_auto[numerical_auto.columns[i]])))"
   ]
  },
  {
   "cell_type": "code",
   "execution_count": 146,
   "metadata": {},
   "outputs": [],
   "source": [
    "# 5. Визуализировать несколько взаимосвязей между переменными"
   ]
  },
  {
   "cell_type": "code",
   "execution_count": 147,
   "metadata": {},
   "outputs": [
    {
     "data": {
      "text/plain": [
       "<seaborn.axisgrid.PairGrid at 0x20076daab70>"
      ]
     },
     "execution_count": 147,
     "metadata": {},
     "output_type": "execute_result"
    },
    {
     "data": {
      "image/png": "[encoded data removed]",
      "text/plain": [
       "<Figure size 360x360 with 6 Axes>"
      ]
     },
     "metadata": {},
     "output_type": "display_data"
    }
   ],
   "source": [
    "sns.pairplot(numerical_auto, vars=['width', 'height'],\n",
    "                 kind='scatter')  "
   ]
  },
  {
   "cell_type": "code",
   "execution_count": 129,
   "metadata": {},
   "outputs": [],
   "source": [
    "# 6. С использованием t-test статистики проверить взаимосвязи между несколькими переменными"
   ]
  },
  {
   "cell_type": "code",
   "execution_count": 131,
   "metadata": {},
   "outputs": [
    {
     "data": {
      "text/plain": [
       "Ttest_relResult(statistic=63.08476248747866, pvalue=8.721221202758638e-136)"
      ]
     },
     "execution_count": 131,
     "metadata": {},
     "output_type": "execute_result"
    }
   ],
   "source": [
    "from scipy import stats\n",
    "stats.ttest_rel(numerical_auto['width'], numerical_auto['height'])  "
   ]
  }
 ],
 "metadata": {
  "kernelspec": {
   "display_name": "Python 3",
   "language": "python",
   "name": "python3"
  },
  "language_info": {
   "codemirror_mode": {
    "name": "ipython",
    "version": 3
   },
   "file_extension": ".py",
   "mimetype": "text/x-python",
   "name": "python",
   "nbconvert_exporter": "python",
   "pygments_lexer": "ipython3",
   "version": "3.6.5"
  }
 },
 "nbformat": 4,
 "nbformat_minor": 2
}
