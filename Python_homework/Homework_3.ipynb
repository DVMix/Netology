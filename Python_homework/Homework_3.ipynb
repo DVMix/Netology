{
 "cells": [
  {
   "cell_type": "code",
   "execution_count": null,
   "metadata": {},
   "outputs": [],
   "source": [
    "# Задание 1\n",
    "# Дан список вида:\n",
    "\n",
    "data = [\n",
    "[13, 25, 23, 34],\n",
    "[45, 32, 44, 47],\n",
    "[12, 33, 23, 95],\n",
    "[13, 53, 34, 35],\n",
    "]\n",
    " \n",
    "# Напишите функцию, которая возвращает сумму элементов на диагонали. Т. е. 13+32+23+35. "
   ]
  },
  {
   "cell_type": "code",
   "execution_count": null,
   "metadata": {},
   "outputs": [],
   "source": [
    "def diag_sum(data):\n",
    "    \"\"\"инициализация переменной sum, в котрую будет записана сумма значений на диагонали\"\"\"\n",
    "    sum=0\n",
    "    \"\"\"пробегаем по всему списку: для i-элемента списка берем значение i-позиции\"\"\"\n",
    "    for i in range(len(data)):\n",
    "        sum+=data[i][i]\n",
    "    return sum\n",
    "\n",
    "print(diag_sum(data))"
   ]
  },
  {
   "cell_type": "code",
   "execution_count": null,
   "metadata": {},
   "outputs": [],
   "source": [
    "# Задание 2\n",
    "# Дан список чисел, часть из которых имеют строковый тип или содержат буквы. Напишите \n",
    "# функцию, которая возвращает сумму квадратов элементов, которые могут быть числами.\n",
    "data = [1, '5', 'abc', 20, '2']"
   ]
  },
  {
   "cell_type": "code",
   "execution_count": null,
   "metadata": {},
   "outputs": [],
   "source": [
    "# функция для проверки типа элемента списка\n",
    "def chesk_for_num(Data):\n",
    "    \"\"\"создаем список list_num для записи в него элементов списка, \n",
    "    которые имеют числовой тип или которые можно сконвертировать в численный тип\"\"\"\n",
    "    list_num = []\n",
    "    \"\"\" пробегаем по списку, проверяя условие: если элемент списка число, или его \n",
    "    можно сконвертировать в число - записываем его в список list_num \"\"\"\n",
    "    for i in Data:\n",
    "        try:\n",
    "            num = int(i)\n",
    "            list_num.append(num)\n",
    "        except ValueError:\n",
    "            # в случае, если конвертация не возможна - пропускаем элемент\n",
    "            continue\n",
    "    return list_num\n",
    "\n",
    "# функция возведения элементов списка в квадрат (сразу проводится проверка) \n",
    "def square (Data):\n",
    "    # прошедшие проверку элементы списка попадают в список l\n",
    "    l= chesk_for_num(Data)\n",
    "    \"\"\"создаем список list_num для записи в него элементов списка, \n",
    "    которые возвели в квадрат\"\"\"\n",
    "    list_num = []\n",
    "    tmp = 0\n",
    "    for i in l:\n",
    "        tmp = i**2\n",
    "        list_num.append(tmp)\n",
    "    return list_num\n",
    "\n",
    "# функция суммирования элементов списка (как и в предыдущей функции - проверка на корректность данных выполнена)\n",
    "def summa(Data):\n",
    "    l = square(Data)\n",
    "    sum = 0\n",
    "    for i in l:\n",
    "        sum+=i\n",
    "    return sum\n",
    "\n"
   ]
  },
  {
   "cell_type": "code",
   "execution_count": null,
   "metadata": {},
   "outputs": [],
   "source": [
    "summa(data)"
   ]
  },
  {
   "cell_type": "code",
   "execution_count": null,
   "metadata": {},
   "outputs": [],
   "source": [
    "# Задание 3\n",
    "# Напишите функцию, которая возвращает название валюты (поле 'Name') с максимальным \n",
    "# значением курса с помощью сервиса https://www.cbr-xml-daily.ru/daily_json.js"
   ]
  },
  {
   "cell_type": "code",
   "execution_count": null,
   "metadata": {},
   "outputs": [],
   "source": [
    "import requests"
   ]
  },
  {
   "cell_type": "code",
   "execution_count": null,
   "metadata": {},
   "outputs": [],
   "source": [
    "# функция определяет максимальную на данный момент по стоимости валюту и выводит в формате \"Название\"-\"Курс\" \n",
    "def max_value_of_valute():\n",
    "    \n",
    "    r = requests.get('https://www.cbr-xml-daily.ru/daily_json.js').json()['Valute']\n",
    "    # в список valute_currency выгружаем пары \"Название\"-\"Курс\" для валют \n",
    "    valute_currency = []\n",
    "    \n",
    "    \"\"\" переменная(мини-список) для сравнения (если значение курса валюты больше \n",
    "    2-го элемента переменной - в tmp копируем эту пару)\"\"\"\n",
    "    tmp=['a',0]\n",
    "    \n",
    "    # пробегаем по json-словарю , выгружаем все валютные пары в valute_currency\n",
    "    for element in r.values():\n",
    "        valute_currency.append([element['Name'],element['Value']])\n",
    "    \n",
    "    # проверка на наибольшее значение валютной стоимости\n",
    "    for element in valute_currency:\n",
    "        if(tmp[1]<element[1]):\n",
    "            tmp = element\n",
    "            \n",
    "    # возвращаем пару с наибольшим значением по стоимости\n",
    "    return tmp"
   ]
  },
  {
   "cell_type": "code",
   "execution_count": null,
   "metadata": {},
   "outputs": [],
   "source": [
    "a = max_value_of_valute()\n",
    "a"
   ]
  },
  {
   "cell_type": "code",
   "execution_count": null,
   "metadata": {},
   "outputs": [],
   "source": [
    "# Задание 4\n",
    "# Последнее упражнение с занятия\n",
    "# 1. Добавьте в класс еще один формат, который возвращает название валюты (например, 'Евро').\n",
    "# 2. Добавьте в класс параметр diff (со значениями True или False), который в случае значения \n",
    "# True в методах eur и usd будет возвращать не курс валюты, а изменение по сравнению в прошлым \n",
    "# начением."
   ]
  },
  {
   "cell_type": "code",
   "execution_count": null,
   "metadata": {},
   "outputs": [],
   "source": [
    "class Rate:\n",
    "    def __init__(self, format='value'):\n",
    "        self.format = format\n",
    "    \n",
    "    def exchange_rates(self):\n",
    "        \"\"\"\n",
    "        Возвращает ответ сервиса с информацией о валютах в виде:\n",
    "        \n",
    "        {\n",
    "            'AMD': {\n",
    "                'CharCode': 'AMD',\n",
    "                'ID': 'R01060',\n",
    "                'Name': 'Армянских драмов',\n",
    "                'Nominal': 100,\n",
    "                'NumCode': '051',\n",
    "                'Previous': 14.103,\n",
    "                'Value': 14.0879\n",
    "                },\n",
    "            ...\n",
    "        }\n",
    "        \"\"\"\n",
    "        r = requests.get('https://www.cbr-xml-daily.ru/daily_json.js')\n",
    "        return r.json()['Valute']\n",
    "    \n",
    "    def make_format(self, currency):\n",
    "        \"\"\"\n",
    "        Возвращает информацию о валюте currency в двух вариантах:\n",
    "        - полная информация о валюте при self.format = 'full':\n",
    "        Rate('full').make_format('EUR')\n",
    "        {\n",
    "            'CharCode': 'EUR',\n",
    "            'ID': 'R01239',\n",
    "            'Name': 'Евро',\n",
    "            'Nominal': 1,\n",
    "            'NumCode': '978',\n",
    "            'Previous': 79.6765,\n",
    "            'Value': 79.4966\n",
    "        }\n",
    "        \n",
    "        Rate('value').make_format('EUR')\n",
    "        79.4966\n",
    "        Rate('name').make_format('EUR')\n",
    "        'Евро'\n",
    "        Rate('diff').make_format('EUR')\n",
    "        -0.8788999999999874\n",
    "        \"\"\"\n",
    "        response = self.exchange_rates()\n",
    "        if currency in response:\n",
    "            if self.format == 'full':\n",
    "                return response[currency]\n",
    "            \n",
    "            if self.format == 'value':\n",
    "                return response[currency]['Value']\n",
    "            \n",
    "            if self.format == 'name':\n",
    "                return response[currency]['Name']\n",
    "            \n",
    "            if self.format == 'diff':\n",
    "                if(response[currency]['Value']==response[currency]['Previous']):\n",
    "                    return True\n",
    "                else:\n",
    "                    return response[currency]['Value'] - response[currency]['Previous']\n",
    "    \n",
    "        return 'Error'\n",
    "    \n",
    "    def eur(self):\n",
    "        \"\"\"Возвращает курс евро на сегодня в формате self.format\"\"\"\n",
    "        return self.make_format('EUR')\n",
    "    \n",
    "    def usd(self):\n",
    "        \"\"\"Возвращает курс доллара на сегодня в формате self.format\"\"\"\n",
    "        return self.make_format('USD')\n",
    "    \n",
    "    def currency_name(self):\n",
    "        \"\"\"Возвращает полное название валюты\"\"\"\n",
    "        return self.make_format('USD')\n",
    "    "
   ]
  },
  {
   "cell_type": "code",
   "execution_count": null,
   "metadata": {},
   "outputs": [],
   "source": [
    "rt1 = Rate('full')"
   ]
  },
  {
   "cell_type": "code",
   "execution_count": null,
   "metadata": {},
   "outputs": [],
   "source": [
    "rt1.exchange_rates()"
   ]
  },
  {
   "cell_type": "code",
   "execution_count": null,
   "metadata": {},
   "outputs": [],
   "source": [
    "rt2 = Rate('value')"
   ]
  },
  {
   "cell_type": "code",
   "execution_count": null,
   "metadata": {},
   "outputs": [],
   "source": [
    "rt2.make_format('EUR')"
   ]
  },
  {
   "cell_type": "code",
   "execution_count": null,
   "metadata": {},
   "outputs": [],
   "source": [
    "rt3 = Rate('name')"
   ]
  },
  {
   "cell_type": "code",
   "execution_count": null,
   "metadata": {},
   "outputs": [],
   "source": [
    "rt3.make_format('EUR')"
   ]
  },
  {
   "cell_type": "code",
   "execution_count": null,
   "metadata": {},
   "outputs": [],
   "source": [
    "rt4 = Rate('diff')"
   ]
  },
  {
   "cell_type": "code",
   "execution_count": null,
   "metadata": {},
   "outputs": [],
   "source": [
    "rt4.make_format('EUR')"
   ]
  },
  {
   "cell_type": "code",
   "execution_count": null,
   "metadata": {},
   "outputs": [],
   "source": [
    "# Задание 5\n",
    "# Напишите функцию, возвращающую сумму первых n чисел Фибоначчи"
   ]
  },
  {
   "cell_type": "code",
   "execution_count": null,
   "metadata": {},
   "outputs": [],
   "source": [
    "def fibbonaci_sum(number):\n",
    "    value_1 = 0\n",
    "    value_2 = 1\n",
    "    next_one = 0\n",
    "    counter = 0\n",
    "    summa = value_2\n",
    "    fibb_array=number-1\n",
    "    for i in range(fibb_array):\n",
    "        summa+=next_one\n",
    "        next_one = value_1+value_2  \n",
    "        value_1=value_2\n",
    "        value_2 = next_one\n",
    "    return summa\n",
    "\n",
    "n=9\n",
    "fibbonaci_sum(n)"
   ]
  },
  {
   "cell_type": "code",
   "execution_count": null,
   "metadata": {},
   "outputs": [],
   "source": [
    "# Задание 6\n",
    "# Напишите функцию, преобразующую произвольный список вида ['2018-01-01', 'yandex', 'cpc', 100] \n",
    "# в словарь {'2018-01-01': {'yandex': {'cpc': 100}}}"
   ]
  },
  {
   "cell_type": "code",
   "execution_count": 63,
   "metadata": {},
   "outputs": [
    {
     "data": {
      "text/plain": [
       "{'2018-01-01': {'yandex': {'cpc': 100}}}"
      ]
     },
     "execution_count": 63,
     "metadata": {},
     "output_type": "execute_result"
    }
   ],
   "source": [
    "def convert_to_dictionary(a,i):\n",
    "    w = {}\n",
    "    if(i<len(a)-2):\n",
    "        w[a[i]]=convert_to_dictionary(a,i+1)\n",
    "    else:\n",
    "        w[a[i]] = a[len(a)-1]\n",
    "    return w\n",
    "\n",
    "a = ['2018-01-01', 'yandex', 'cpc', 100]\n",
    "dic = {}\n",
    "dic = convert_to_dictionary(a,0)\n",
    "dic"
   ]
  },
  {
   "cell_type": "code",
   "execution_count": null,
   "metadata": {},
   "outputs": [],
   "source": []
  }
 ],
 "metadata": {
  "kernelspec": {
   "display_name": "Python 3",
   "language": "python",
   "name": "python3"
  },
  "language_info": {
   "codemirror_mode": {
    "name": "ipython",
    "version": 3
   },
   "file_extension": ".py",
   "mimetype": "text/x-python",
   "name": "python",
   "nbconvert_exporter": "python",
   "pygments_lexer": "ipython3",
   "version": "3.6.5"
  }
 },
 "nbformat": 4,
 "nbformat_minor": 2
}
