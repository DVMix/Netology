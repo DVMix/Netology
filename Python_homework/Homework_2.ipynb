{
 "cells": [
  {
   "cell_type": "code",
   "execution_count": null,
   "metadata": {},
   "outputs": [],
   "source": [
    "print('Михалкин Дмитрий - HW_2')"
   ]
  },
  {
   "cell_type": "code",
   "execution_count": null,
   "metadata": {},
   "outputs": [],
   "source": [
    "# Задание 1\n",
    "# Дан список с визитами по городам и странам. Напишите код, который возвращает отфильтрованный \n",
    "# список geo_logs, содержащий только визиты из России. Считайте, что список geo_logs легко помещается \n",
    "# в оперативной памяти.\n",
    "geo_logs = [\n",
    "['visit1', ['Москва', 'Россия']],\n",
    "['visit2', ['Дели', 'Индия']],\n",
    "['visit3', ['Владимир', 'Россия']],\n",
    "['visit4', ['Лиссабон', 'Португалия']],\n",
    "['visit5', ['Париж', 'Франция']],\n",
    "['visit6', ['Лиссабон', 'Португалия']],\n",
    "['visit7', ['Тула', 'Россия']],\n",
    "['visit8', ['Тула', 'Россия']],\n",
    "['visit9', ['Курск', 'Россия']],\n",
    "['visit10', ['Архангельск', 'Россия']],\n",
    "]"
   ]
  },
  {
   "cell_type": "code",
   "execution_count": null,
   "metadata": {},
   "outputs": [],
   "source": [
    "new_list1 = []\n",
    "\n",
    "for line in geo_logs:\n",
    "    if(line[1][1]=='Россия'):\n",
    "        #вариант для простого вывода\n",
    "        print(line) \n",
    "        \n",
    "        #вариант для записи в отдельный список\n",
    "        new_list1+=line \n",
    "\n",
    "new_list1"
   ]
  },
  {
   "cell_type": "code",
   "execution_count": null,
   "metadata": {},
   "outputs": [],
   "source": [
    "# Задание 2\n",
    "# Выведите на экран все уникальные гео-ID из значений словаря ids. Т. е. список вида [213, 15, 54, 119, 98, 35]\n",
    "ids = {'user1': [213, 213, 213, 15, 213], 'user2': [54, 54, 119, 119, 119], 'user3': [213, 98, 98, 35]}"
   ]
  },
  {
   "cell_type": "code",
   "execution_count": null,
   "metadata": {},
   "outputs": [],
   "source": [
    "#создаем пустой список для заполнения значениями словаря\n",
    "new_list_2_1 = []\n",
    "\n",
    "#Вариант №1\n",
    "for line in ids.values():\n",
    "    new_list_2_1+=line\n",
    "    \n",
    "new_dict_2=set(new_list_2_1)\n",
    "new_dict_2"
   ]
  },
  {
   "cell_type": "code",
   "execution_count": null,
   "metadata": {},
   "outputs": [],
   "source": [
    "# ИЛИ\n",
    "#Вариант №2\n",
    "\n",
    "variable = 0\n",
    "new_list_2_2 = []\n",
    "for element in new_list_2_1:\n",
    "    variable = element\n",
    "    if(element not in new_list_2_2):\n",
    "        new_list_2_2.append(variable)\n",
    "\n",
    "new_list_2_2"
   ]
  },
  {
   "cell_type": "code",
   "execution_count": 80,
   "metadata": {},
   "outputs": [],
   "source": [
    "# Задание 3\n",
    "# Список поисковых запросов. Получить распределение количества слов в них. Т. е. поисковых запросов из \n",
    "# одного слова 5%, из двух - 7%, из трех - 3% итд.\n",
    "queries = [\n",
    "'смотреть сериалы онлайн',\n",
    "'новости спорта',\n",
    "'афиша кино',\n",
    "'курс доллара',\n",
    "'сериалы этим летом',\n",
    "'курс по питону',\n",
    "'сериалы про спорт',\n",
    "]"
   ]
  },
  {
   "cell_type": "code",
   "execution_count": 81,
   "metadata": {},
   "outputs": [
    {
     "data": {
      "text/plain": [
       "'из 3 слов - 57.14% из 2 слов - 42.86% '"
      ]
     },
     "execution_count": 81,
     "metadata": {},
     "output_type": "execute_result"
    }
   ],
   "source": [
    "my_list = []\n",
    "\n",
    "# узнаем длину списка\n",
    "length = len(queries)\n",
    "# пробегаем по списку и выясняем количество слов в каждом элементе списка, заносим кол-во слов в новый список\n",
    "for element in queries:\n",
    "    var = len(element.split())\n",
    "    if(var not in my_list):\n",
    "        my_list.append(var)\n",
    "\n",
    "# количество уникальных длин элементов списка\n",
    "unique_values = len(my_list)\n",
    "\n",
    "# здесь i - итератор\n",
    "my_list_ranged = []\n",
    "for i in range(unique_values):\n",
    "    my_list_ranged+=[[my_list[i],0]]\n",
    "    \n",
    "# считаем количество элементов списка с определнным количеством слов(из списка уникальных длин элементов списка), \n",
    "# т.е., к примеру : сколько элементов списка содержит 3 слова, сколько лементов списка содержит 2 слова и.т.д    \n",
    "for element in queries:\n",
    "    var = len(element.split()) \n",
    "    for i in my_list_ranged:\n",
    "        if(var == i[0]):\n",
    "            i[1]+=1\n",
    "\n",
    "# получаем отношение типа: (количество элементов списка с 2 словами в предложении)/(общее число элементов в списке)\n",
    "result = ''\n",
    "for i in my_list_ranged:\n",
    "    result += 'из {:.0f} слов - {:.2f}% '.format(i[0], i[1]/length*100)\n",
    "result"
   ]
  },
  {
   "cell_type": "code",
   "execution_count": null,
   "metadata": {},
   "outputs": [],
   "source": [
    "# Задание 4\n",
    "# Дана статистика рекламных каналов по объемам продаж. Напишите скрипт, который возвращает название канала с \n",
    "# максимальным объемом.\n",
    "# Т. е. в данном примере скрипт должен возвращать 'yandex'.\n",
    "stats = {'facebook': 55, 'yandex': 120, 'vk': 115, 'google': 99, 'email': 42, 'ok': 98}"
   ]
  },
  {
   "cell_type": "code",
   "execution_count": null,
   "metadata": {},
   "outputs": [],
   "source": [
    "sorted(stats, reverse = True)[0]"
   ]
  },
  {
   "cell_type": "code",
   "execution_count": 3,
   "metadata": {},
   "outputs": [],
   "source": [
    "# Задание 5\n",
    "# Дан поток логов по количеству просмотренных страниц для каждого пользователя. Список отсортирован по ID \n",
    "# пользователя. Вам необходимо написать алгоритм, который считает среднее значение просмотров на пользователя. \n",
    "# Т. е. надо посчитать отношение суммы всех просмотров к количеству уникальных пользователей. Учтите, что весь \n",
    "# список stream не помещается в оперативную память, т. е. его нужно обрабатывать поэлементно в цикле.\n",
    "stream = [\n",
    "'2018-01-01,user1,3',\n",
    "'2018-01-07,user1,4',\n",
    "'2018-03-29,user1,1',\n",
    "'2018-04-04,user1,13',\n",
    "'2018-01-05,user2,7',\n",
    "'2018-06-14,user3,4',\n",
    "'2018-07-02,user3,10',\n",
    "'2018-03-21,user4,19',\n",
    "'2018-03-22,user4,4',\n",
    "'2018-04-22,user4,8',\n",
    "'2018-05-03,user4,9',\n",
    "'2018-05-11,user4,11',\n",
    "]"
   ]
  },
  {
   "cell_type": "code",
   "execution_count": 72,
   "metadata": {},
   "outputs": [
    {
     "name": "stdout",
     "output_type": "stream",
     "text": [
      "23.25\n"
     ]
    }
   ],
   "source": [
    "# список val для записи уникальных пользователей\n",
    "val = []\n",
    "# переменная total_counter для подсчета общего количества просмотренных страниц всеми пользователями \n",
    "total_counter=0\n",
    "\n",
    "# пробегаем по каждому элементу списка, каждый элемент разбивая на подлементы для того, чтобы достать \n",
    "# количество просмотров страниц каждым пользователем, количество накапливаем в total_counter.\n",
    "# собираем список уникальных пользователей\n",
    "for i in stream:\n",
    "    l1=i.split(',')\n",
    "    total_counter += int(l1[2])\n",
    "    if(l1[1] not in val):\n",
    "        val+=[l1[1]]\n",
    "# для получения среднего значения просмотров на пользователя - делим общее число просмотров всеми \n",
    "# пользователями на количество уникальных пользователей\n",
    "average_num=total_counter/len(val)\n",
    "print(average_num)"
   ]
  },
  {
   "cell_type": "code",
   "execution_count": 35,
   "metadata": {},
   "outputs": [],
   "source": [
    "# Задание 6\n",
    "# Дана статистика рекламных кампаний по дням. Напишите алгоритм, который по паре дата-кампания ищет значение \n",
    "# численного столбца. Т. е. для даты '2018-01-01' и 'google' нужно получить число 25. Считайте, что все \n",
    "# комбинации дата-кампания уникальны, а список stats легко помещается в оперативной памяти.\n",
    "\n",
    "stats = [\n",
    "['2018-01-01', 'google', 25],\n",
    "['2018-01-01', 'yandex', 65],\n",
    "['2018-01-01', 'market', 89],\n",
    "['2018-01-02', 'google', 574],\n",
    "['2018-01-02', 'yandex', 249],\n",
    "['2018-01-02', 'market', 994],\n",
    "['2018-01-03', 'google', 1843],\n",
    "['2018-01-03', 'yandex', 1327],\n",
    "['2018-01-03', 'market', 1764],\n",
    "]"
   ]
  },
  {
   "cell_type": "code",
   "execution_count": 78,
   "metadata": {},
   "outputs": [
    {
     "name": "stdout",
     "output_type": "stream",
     "text": [
      "25\n"
     ]
    }
   ],
   "source": [
    "# переменные для записи значений, по которым будет произведен поиск\n",
    "company = 'google'\n",
    "date = '2018-01-01'\n",
    "\n",
    "# в цикле пробегаем по всем элементам списка проверяя 2 условия\n",
    "for i in stats:\n",
    "    if(i[0]==date):\n",
    "       if(i[1]==company):\n",
    "            print(i[2])"
   ]
  },
  {
   "cell_type": "code",
   "execution_count": null,
   "metadata": {},
   "outputs": [],
   "source": []
  }
 ],
 "metadata": {
  "kernelspec": {
   "display_name": "Python 3",
   "language": "python",
   "name": "python3"
  },
  "language_info": {
   "codemirror_mode": {
    "name": "ipython",
    "version": 3
   },
   "file_extension": ".py",
   "mimetype": "text/x-python",
   "name": "python",
   "nbconvert_exporter": "python",
   "pygments_lexer": "ipython3",
   "version": "3.6.5"
  }
 },
 "nbformat": 4,
 "nbformat_minor": 2
}
