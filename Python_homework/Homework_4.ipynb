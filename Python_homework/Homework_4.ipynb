{
 "cells": [
  {
   "cell_type": "code",
   "execution_count": null,
   "metadata": {},
   "outputs": [],
   "source": [
    "# Задание 1\n",
    "# Напишите функцию date_range, которая возвращает список дней между датами \n",
    "# start_date и end_date. Даты должны вводиться в формате YYYY-MM-DD."
   ]
  },
  {
   "cell_type": "code",
   "execution_count": null,
   "metadata": {},
   "outputs": [],
   "source": [
    "from datetime import datetime\n",
    "from datetime import timedelta"
   ]
  },
  {
   "cell_type": "code",
   "execution_count": null,
   "metadata": {},
   "outputs": [],
   "source": [
    "start_date = '2018-09-01'   \n",
    "end_date = '2018-09-09'"
   ]
  },
  {
   "cell_type": "code",
   "execution_count": null,
   "metadata": {},
   "outputs": [],
   "source": [
    "def row_of_dates(start_date, end_date):\n",
    "    # переводим строковый тип в тип datetime    \n",
    "    dt_start = datetime.strptime(start_date, '%Y-%m-%d')\n",
    "    dt_end = datetime.strptime(end_date, '%Y-%m-%d')\n",
    "    # создаем списки range_of_days - итоговый список со днями между указанными датами\n",
    "    range_of_days =[]\n",
    "    da = dt_start\n",
    "    # перебираем все дни с последующим переносом их в range_of_days  с шагом = 1 день\n",
    "    for day in range(dt_start.day,dt_end.day-1):\n",
    "        da += timedelta(days=1)\n",
    "        aa = da.strftime('%Y-%m-%d')\n",
    "        range_of_days.append(aa)\n",
    "    \n",
    "    return range_of_days\n",
    "\n",
    "a = row_of_dates(start_date,end_date)\n",
    "a"
   ]
  },
  {
   "cell_type": "code",
   "execution_count": null,
   "metadata": {},
   "outputs": [],
   "source": [
    "# Задание 2\n",
    "# Дополните функцию из первого задания проверкой на корректность дат. В \n",
    "# случае неверного формата или если start_date > end_date должен возвращаться \n",
    "# пустой список."
   ]
  },
  {
   "cell_type": "code",
   "execution_count": null,
   "metadata": {},
   "outputs": [],
   "source": [
    "# доработка 1ой функции на проверку корректости введенной дадты\n",
    "def row_of_dates_WCH(start_date, end_date):  \n",
    "    # блоки try-except помогают отловить ошибку и не \"рушить\" код во время выполнения\n",
    "    try:\n",
    "        # проверка введенных дат на логику (левое число не должно быть меньше правого)\n",
    "        if start_date < end_date:\n",
    "            # переводим строковый тип в тип datetime   \n",
    "            dt_start=datetime.strptime(start_date, '%Y-%m-%d')\n",
    "            dt_end=datetime.strptime(end_date, '%Y-%m-%d')\n",
    "            \n",
    "            # создаем списки range_of_days - итоговый список со днями между указанными датами\n",
    "            range_of_days =[]\n",
    "            da = dt_start\n",
    "        \n",
    "            # перебираем все дни с последующим переносом их в range_of_days  с шагом = 1 день\n",
    "            for day in range(dt_start.day,dt_end.day-1):\n",
    "\n",
    "                da += timedelta(days=1)\n",
    "                aa = da.strftime('%Y-%m-%d')\n",
    "                range_of_days.append(aa)\n",
    "\n",
    "            rez = range_of_days\n",
    "        else:\n",
    "            # если введенные данные не корректны, или нарушена логика - выводим пустой список\n",
    "            rez = []\n",
    "        \n",
    "    except Exception as e:\n",
    "        rez = []\n",
    "        \n",
    "    return rez"
   ]
  },
  {
   "cell_type": "code",
   "execution_count": null,
   "metadata": {},
   "outputs": [],
   "source": [
    "start_date = '2018-09-01'   \n",
    "end_date = '2018-09-09'\n",
    "\n",
    "stream = row_of_dates_WCH(start_date,end_date)\n",
    "stream"
   ]
  },
  {
   "cell_type": "code",
   "execution_count": null,
   "metadata": {},
   "outputs": [],
   "source": [
    "# Задание 3\n",
    "# Дан поток дат в формате YYYY-MM-DD, в которых встречаются некорректные значения:\n",
    "# stream = ['2018-04-02', '2018-02-29', '2018-19-02']\n",
    "# Напишите функцию, которая проверяет эти даты на корректность. Т. е. для каждой \n",
    "# даты возвращает True (дата корректна) или False (некорректная дата)."
   ]
  },
  {
   "cell_type": "code",
   "execution_count": null,
   "metadata": {},
   "outputs": [],
   "source": [
    "def date_is_correct(Data):\n",
    "    # проверка при помощи блока try-except помогает отловить ошибку и не \"рушить\" код во время выполнения\n",
    "    try:\n",
    "        # если строка может быть сокнвертирована в числовой тип - все отлично, иначе - ошибка в строке(нельзя перевести в INT)\n",
    "        dt_Data = datetime.strptime(Data,'%Y-%m-%d')\n",
    "        rez = True\n",
    "    except:\n",
    "        rez = False\n",
    "    return rez\n",
    "\n",
    "def stream_check(stream):\n",
    "    # пробегаем по кадому элементу списка проверяя на корректность каждый элемент\n",
    "    for element in stream:\n",
    "        message = date_is_correct(element)\n",
    "        # сразу выводим сообщение опроверке каждого елемента списка\n",
    "        print(message)\n",
    "        \n",
    "stream =['2018-09-02', '2018-09-03', '2018-09-04', '2018-09-05', '2018-09-06', '2018-09-07', '2018-0a-08']       \n",
    "stream_check(stream)"
   ]
  },
  {
   "cell_type": "code",
   "execution_count": null,
   "metadata": {},
   "outputs": [],
   "source": [
    "# Задание 4\n",
    "# Напишите функцию, которая возвращает список дат с 1 по вчерашний день текущего \n",
    "# месяца. Если дан 1 день месяца, то возвращается список дней прошлого месяца."
   ]
  },
  {
   "cell_type": "code",
   "execution_count": null,
   "metadata": {},
   "outputs": [],
   "source": [
    "import time\n",
    "# импортируем библиотеку Calendar для работы с месяцами\n",
    "import calendar\n",
    "from datetime import date\n",
    "\n",
    "# функция возвращает список дней между указанными датами\n",
    "def list_of_dates(): \n",
    "    \n",
    "    # в day_list будут записаны все дни, между указанными датами  \n",
    "    day_list = []\n",
    "    \n",
    "    # в now записываем сегоднящнюю дату\n",
    "    now = datetime.now()\n",
    "    #now= date(2018, 9, 1)\n",
    "    \n",
    "    # если сегодня 1 -й день этоо месяца, то в список дней записываем все дни предыдущего месяца\n",
    "    if now.day==1:\n",
    "        previous_month = now.month-1\n",
    "        \n",
    "        # в st_day записываем первый день прошлого месяца \n",
    "        st_day = date(2018, previous_month, 1)\n",
    "        day_list.append(st_day.strftime('%Y-%m-%d'))\n",
    "        for i in range(calendar.monthrange(now.year, now.month-1)[1]-1):\n",
    "            \n",
    "            # и при помощи timedelta прибавляем по 1 дню. \n",
    "            st_day += timedelta(days=1)\n",
    "            \n",
    "            # итоги записываем в day_list\n",
    "            day_list.append(st_day.strftime('%Y-%m-%d'))\n",
    "    else:\n",
    "        # в st_day записываем первый день этого месяца\n",
    "        st_day = date(2018, now.month, 1)\n",
    "        day_list.append(st_day.strftime('%Y-%m-%d'))\n",
    "        \n",
    "        # пробегаем от 1 дня этого месяца до вчерашнего дня и записываем список дней в day_list\n",
    "        for i in range(now.day-2):\n",
    "            st_day += timedelta(days=1)\n",
    "            day_list.append(st_day.strftime('%Y-%m-%d'))\n",
    "            \n",
    "    return day_list\n",
    "\n",
    "a= list_of_dates()\n",
    "a"
   ]
  },
  {
   "cell_type": "code",
   "execution_count": null,
   "metadata": {},
   "outputs": [],
   "source": [
    "# Задание 5\n",
    "# Напишите функцию, которая возвращает точную дату в формате YYYY-MM-DD по фразе:\n",
    "# 1. 'today' - сегодняшнюю дату\n",
    "# 2. 'last monday' -  прошлый понедельник\n",
    "# 3. 'last day' - Последний день текущего месяца"
   ]
  },
  {
   "cell_type": "code",
   "execution_count": null,
   "metadata": {},
   "outputs": [],
   "source": [
    "def task5(menu_item):\n",
    "    \n",
    "    # в tmp(временная переменная) записываем текущую дату\n",
    "    tmp = datetime.now()\n",
    "    \n",
    "    # проверка условий\n",
    "    if menu_item == 'today':\n",
    "        rez = tmp.strftime('%Y-%m-%d')\n",
    "        \n",
    "    if menu_item == 'last monday':\n",
    "        weekday = tmp.weekday()\n",
    "        \n",
    "        if weekday>0:\n",
    "            while weekday>0:\n",
    "                tmp+=timedelta(days=-1)\n",
    "                weekday-=1\n",
    "            rez = tmp.strftime('%Y-%m-%d')    \n",
    "        \n",
    "        else:\n",
    "            rez = tmp.strftime('%Y-%m-%d')\n",
    "           \n",
    "    if menu_item == 'last day':\n",
    "        rez = date(tmp.year, tmp.month, calendar.monthrange(tmp.year,tmp.month)[1]).strftime('%Y-%m-%d')\n",
    "        \n",
    "    return rez\n",
    "\n",
    "\n",
    "#task5('today')\n",
    "#task5('last monday')\n",
    "#task5('last day')"
   ]
  },
  {
   "cell_type": "code",
   "execution_count": null,
   "metadata": {},
   "outputs": [],
   "source": [
    "# Задание 6\n",
    "# Напишите функцию, которая разбивает на недели с понедельника по воскресенье \n",
    "# интервал дат между start_date и end_date. Считайте, что входные данные всегда \n",
    "# корректны. В ответ должны входить только полные недели."
   ]
  },
  {
   "cell_type": "code",
   "execution_count": null,
   "metadata": {},
   "outputs": [],
   "source": [
    "# функция возвращает список полных недель леащий между входными датами\n",
    "def task_6(start_date, end_date):\n",
    "    \n",
    "    # переводим входные данные в тип datetime\n",
    "    dt_start = datetime.strptime(start_date, '%Y-%m-%d')\n",
    "    dt_end = datetime.strptime(end_date, '%Y-%m-%d')\n",
    "    \n",
    "    # узнаем сколько дней в заданном промежутке\n",
    "    num_of_days = dt_end - dt_start\n",
    "    NN = num_of_days.days\n",
    "    \n",
    "    # day_counter использую для посчета дней (параллельно с timedelta(days=1))\n",
    "    day_counter=0\n",
    "    days = dt_start\n",
    "    \n",
    "    # если начальная дата не Понедельник - > ищем Понедельник\n",
    "    while days.weekday()!=0:\n",
    "        days+=timedelta(days=1)\n",
    "        day_counter+=1\n",
    "        monday = days\n",
    "        \n",
    "    # узнаем сколько дней между первым понедельником и конечной датой\n",
    "    fw=dt_end-monday\n",
    "    full_weeks = fw.days\n",
    "    \n",
    "    # если количество дней от первого понедельника до конечной даты меньше 7, то - нет полных недель\n",
    "    if(full_weeks<7):\n",
    "        print('there is no full weeks')\n",
    "    else:\n",
    "        \n",
    "        # иначе - выводим номер недели и список дней в тих неделях\n",
    "        num_of_full_weeks = int(full_weeks/7)\n",
    "        \n",
    "        # если всего одна полная неделя \n",
    "        if num_of_full_weeks ==1:\n",
    "            print('there is {} full week'.format(num_of_full_weeks))\n",
    "            for i in range(7):\n",
    "                print(monday)\n",
    "                monday += timedelta(days=1)\n",
    "                \n",
    "        # если больше 1 полной недели\n",
    "        else:\n",
    "            print('there are {} full weeks'.format(num_of_full_weeks))\n",
    "            for i in range(num_of_full_weeks):\n",
    "                print('full week #{}'.format(i+1))\n",
    "                for j in range(7):\n",
    "                    print(monday)\n",
    "                    monday += timedelta(days=1)\n",
    "    return 0"
   ]
  },
  {
   "cell_type": "code",
   "execution_count": null,
   "metadata": {},
   "outputs": [],
   "source": [
    "start_date = '2018-08-31'   \n",
    "end_date = '2018-09-19'\n",
    "task_6(start_date, end_date)"
   ]
  },
  {
   "cell_type": "code",
   "execution_count": null,
   "metadata": {},
   "outputs": [],
   "source": []
  },
  {
   "cell_type": "code",
   "execution_count": null,
   "metadata": {},
   "outputs": [],
   "source": []
  }
 ],
 "metadata": {
  "kernelspec": {
   "display_name": "Python 3",
   "language": "python",
   "name": "python3"
  },
  "language_info": {
   "codemirror_mode": {
    "name": "ipython",
    "version": 3
   },
   "file_extension": ".py",
   "mimetype": "text/x-python",
   "name": "python",
   "nbconvert_exporter": "python",
   "pygments_lexer": "ipython3",
   "version": "3.6.5"
  }
 },
 "nbformat": 4,
 "nbformat_minor": 2
}
