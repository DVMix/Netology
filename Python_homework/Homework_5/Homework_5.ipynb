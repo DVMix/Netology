{
 "cells": [
  {
   "cell_type": "code",
   "execution_count": null,
   "metadata": {},
   "outputs": [],
   "source": [
    "# Задание 1\n",
    "# Создайте numpy array с элементами от числа N до 0 (например, для N = 10 это будет array([9, 8, 7, 6, 5, 4, 3, 2, 1, 0]))."
   ]
  },
  {
   "cell_type": "code",
   "execution_count": null,
   "metadata": {},
   "outputs": [],
   "source": [
    "# импортирую билиотеку Numpy\n",
    "import numpy as np\n",
    "\n",
    "# задаю значение элементов списка в цикле\n",
    "N=9\n",
    "tmp = []\n",
    "for i in range(N+1):\n",
    "    tmp.append(N)\n",
    "    N=N-1\n",
    "    \n",
    "# перевожу лист в тип \"массив\"\n",
    "array = np.array(tmp)\n",
    "array"
   ]
  },
  {
   "cell_type": "code",
   "execution_count": null,
   "metadata": {},
   "outputs": [],
   "source": [
    "# Задание 2\n",
    "# Создайте диагональную матрицу с элементами от N до 0. Посчитайте сумму ее значений на диагонали."
   ]
  },
  {
   "cell_type": "code",
   "execution_count": null,
   "metadata": {},
   "outputs": [],
   "source": [
    "# задаю размерность матрицы\n",
    "task2_var = 5\n",
    "\n",
    "# задаю диагональную матрицу(значения на диагонали позже подменю)\n",
    "a  = np.diag(np.arange(task2_var), k=0)\n",
    "\n",
    "# подмена значений на диагонали\n",
    "for i in range(task2_var):\n",
    "    a[i][i] = task2_var-i\n",
    "    \n",
    "a"
   ]
  },
  {
   "cell_type": "code",
   "execution_count": null,
   "metadata": {},
   "outputs": [],
   "source": [
    "# Задание 3\n",
    "# Скачайте с сайта https://grouplens.org/datasets/movielens/ датасет любого размера. Определите какому фильму \n",
    "# было выставлено больше всего оценок 5.0."
   ]
  },
  {
   "cell_type": "code",
   "execution_count": null,
   "metadata": {
    "scrolled": true
   },
   "outputs": [],
   "source": [
    "# при выполнении ДЗ использовал датасет \"recommended for education and development\"- ml-latest-small.zip (size: 1 MB) \n",
    "# файлы movies.csv , ratings.csv в этой же папке\n",
    "# импортирую Pandas\n",
    "import pandas as pd\n",
    "\n",
    "# заливаю данные в датафреймы\n",
    "movies = pd.read_csv('movies.csv')\n",
    "ratings = pd.read_csv('ratings.csv')\n",
    "\n",
    "# создаю сводную таблицу(датафрейм)\n",
    "merged = movies.merge(ratings, on='movieId', how = 'left')\n",
    "\n",
    "# провожу фильтрацию по условиям (группировка, условие оценка = 5), \n",
    "# тут же сортирую по количеству оценок(сортировка по убыванию)\n",
    "film_count = merged[merged.rating==5.0].groupby('movieId').count().sort_values('rating', ascending=False)[['rating']]\n",
    "\n",
    "# обратно провожу соединение с датафреймом movies(для того, чтобы достать название фильма)\n",
    "result = film_count.merge(movies, on= 'movieId', how = 'left')[['title', 'rating']]\n",
    "\n",
    "# итог - отсортированный список фильмов с количеством оценок 5 в правом столбце\n",
    "result.head()"
   ]
  },
  {
   "cell_type": "code",
   "execution_count": null,
   "metadata": {},
   "outputs": [],
   "source": [
    "# Задание 4\n",
    "# По данным файла power.csv посчитайте суммарное потребление стран Прибалтики (Латвия, Литва и Эстония) \n",
    "# категорий 4, 12 и 21 за период с 2005 по 2010 года. Не учитывайте в расчетах отрицательные значения quantity."
   ]
  },
  {
   "cell_type": "code",
   "execution_count": null,
   "metadata": {},
   "outputs": [],
   "source": [
    "# Pandas уже импортирован\n",
    "# заливаю данные в датафрейм\n",
    "data = pd.read_csv('power.csv')\n",
    "\n",
    "# фильтрую таблицу по условиям: quantity > 0 для стран Прибалтики\n",
    "pribaltika = data[(data.quantity>0)&((data.country=='Latvia')|(data.country=='Litva')|(data.country=='Estonia'))]\n",
    "\n",
    "# цепляю к отфильтрованным данным категорию (доп фильтрация на категории)\n",
    "pribaltika_plus_category = pribaltika[(data.category==4)|(data.category==12)|(data.category==21)]\n",
    "\n",
    "\"\"\"\n",
    "len(pribaltika_plus_category) = 571\n",
    "len(pribaltika_plus_category[pribaltika_plus_category.country=='Estonia']) = 308\n",
    "len(pribaltika_plus_category[pribaltika_plus_category.country=='Latvia']) = 263\n",
    "len(pribaltika_plus_category[pribaltika_plus_category.country=='Litva']) = 0\n",
    "\n",
    "Литвы в датафрейме не оказалось ..\n",
    "\"\"\"\n",
    "# цепляю к отфильтрованным данным год (беру только те строки, для которых год лежит в интервале 2005-2010)\n",
    "pribaltika_plus_category_plus_year = pribaltika_plus_category[(data.year>2004)&(data.year<2011)]\n",
    "\n",
    "# бегу сумму по столбцу quantity\n",
    "pribaltika_plus_category_plus_year.agg({'quantity':'sum'})\n",
    "\"\"\"\n",
    "при выполнении задания столкнулся с предупреждением:\n",
    "\n",
    "C:\\Users\\Idea\\Anaconda3\\lib\\site-packages\\ipykernel_launcher.py:9: UserWarning: \n",
    "    Boolean Series key will be reindexed to match DataFrame index.   if __name__ == '__main__':\n",
    "C:\\Users\\Idea\\Anaconda3\\lib\\site-packages\\ipykernel_launcher.py:20: UserWarning: \n",
    "    Boolean Series key will be reindexed to match DataFrame index.\n",
    "    \n",
    "    интересно, что бы это могло означать..?\n",
    "\"\"\""
   ]
  },
  {
   "cell_type": "code",
   "execution_count": null,
   "metadata": {},
   "outputs": [],
   "source": [
    "# Задание 5\n",
    "# Решите систему уравнений:\n",
    "# 4x + 2y + z = 4\n",
    "# x + 3y = 12\n",
    "# 5y + 4z = -3"
   ]
  },
  {
   "cell_type": "code",
   "execution_count": null,
   "metadata": {},
   "outputs": [],
   "source": [
    "#задаю массивы с коэффицентами СЛАУ \n",
    "a = np.array( [ [4, 2, 1], [1, 3, 0], [0, 5, 4] ] )\n",
    "b = np.array( [4, 12, -3] )\n",
    "\n",
    "# импортирую библиотеку для решения СЛАУ и всё туда сгружаю\n",
    "from numpy import linalg\n",
    "linalg.solve(a, b)"
   ]
  }
 ],
 "metadata": {
  "kernelspec": {
   "display_name": "Python 3",
   "language": "python",
   "name": "python3"
  },
  "language_info": {
   "codemirror_mode": {
    "name": "ipython",
    "version": 3
   },
   "file_extension": ".py",
   "mimetype": "text/x-python",
   "name": "python",
   "nbconvert_exporter": "python",
   "pygments_lexer": "ipython3",
   "version": "3.6.5"
  }
 },
 "nbformat": 4,
 "nbformat_minor": 2
}
