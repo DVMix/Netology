{
 "cells": [
  {
   "cell_type": "code",
   "execution_count": null,
   "metadata": {},
   "outputs": [],
   "source": [
    "# 1. Существует массив \n",
    "Z = [1,2,3,4,5,6,7,8,9,10,11,12,13,14]\n",
    "#, как из него создать массив R = [[1,2,3,4], [2,3,4,5], [3,4,5,6], ...,[11,12,13,14]]?"
   ]
  },
  {
   "cell_type": "code",
   "execution_count": null,
   "metadata": {},
   "outputs": [],
   "source": [
    "import numpy as np"
   ]
  },
  {
   "cell_type": "code",
   "execution_count": null,
   "metadata": {},
   "outputs": [],
   "source": [
    "arr = np.array(Z)\n",
    "length = len(arr)\n",
    "pack_len = 4\n",
    "start_position = arr[0]\n",
    "rez = []\n",
    "tmp = []\n",
    "for i in range(length - pack_len+1):\n",
    "    for j in range(pack_len):\n",
    "        tmp.append(arr[i+j])\n",
    "    rez.append(tmp)\n",
    "    tmp=[]\n",
    "R  = np.array(rez)\n",
    "R"
   ]
  },
  {
   "cell_type": "code",
   "execution_count": null,
   "metadata": {},
   "outputs": [],
   "source": [
    "# 2. Дана произвольная матрица A. Рассчитать ранг матрицы A."
   ]
  },
  {
   "cell_type": "code",
   "execution_count": null,
   "metadata": {},
   "outputs": [],
   "source": [
    "A = np.mat([[0, 1, 2], [3, 4, 5], [6, 7, 8]])\n",
    "A"
   ]
  },
  {
   "cell_type": "code",
   "execution_count": null,
   "metadata": {},
   "outputs": [],
   "source": [
    "np.linalg.matrix_rank(A)"
   ]
  },
  {
   "cell_type": "code",
   "execution_count": 1,
   "metadata": {},
   "outputs": [],
   "source": [
    "# 3. Найти лучший алгоритм для решения следующей задачи:\n",
    "# min (x1x4(x1+x2+x3)+x3).\n",
    "# Условия:\n",
    "# x1x2x3x4≥30\n",
    "# x1^2+x2^2+x3^2+x4^2=60\n",
    "# 2≤x1,x2,x3,x4≤6\n",
    "# Начальное приближение:\n",
    "# x=(1,5,5,1)\n",
    "import numpy as np\n",
    "from scipy.optimize import minimize"
   ]
  },
  {
   "cell_type": "code",
   "execution_count": 50,
   "metadata": {},
   "outputs": [
    {
     "data": {
      "text/plain": [
       "     fun: 52.00000009701402\n",
       "     jac: array([28.,  4.,  5., 24.])\n",
       " message: 'Optimization terminated successfully.'\n",
       "    nfev: 30\n",
       "     nit: 5\n",
       "    njev: 5\n",
       "  status: 0\n",
       " success: True\n",
       "       x: array([2.        , 6.        , 4.00000002, 2.        ])"
      ]
     },
     "execution_count": 50,
     "metadata": {},
     "output_type": "execute_result"
    }
   ],
   "source": [
    "# для минимизации\n",
    "# https://docs.scipy.org/doc/scipy/reference/tutorial/optimize.html#tutorial-sqlsp\n",
    "\n",
    "def f(x):\n",
    "    return x[0]*x[3]*(x[0]+x[1]+x[2])+x[2]\n",
    "\n",
    "# возможные методы: L-BFGS-B, TNC, COBYLA, SLSQP.\n",
    "\n",
    "# условия\n",
    "def R1(x):\n",
    "    return x[0]*x[1]*x[2]*x[3]>=30\n",
    "\n",
    "def R2(x):\n",
    "    return x[0]**2+x[1]**2+x[2]**2+x[3]**2==60\n",
    "\n",
    "x = (1,5,5,1)\n",
    "\n",
    "b=(2.0, 6.0) #ограничение\n",
    "bnd=(b,b,b,b) #четыре точки\n",
    "#con1={'type':'ineq','fun':R1} #граница 1\n",
    "#con2={'type':'eq','fun':R2} #граница 2\n",
    "#cons=(con1,con2) #границы\n",
    "cons = ({'type': 'ineq', 'fun': lambda x:  x[0]*x[1]*x[2]*x[3]-30.0},\n",
    "        {'type': 'eq', 'fun': lambda x: x[0]**2 + x[1]**2 +x[2]**2+x[3]**2-60})\n",
    "v = minimize(f, x, method='SLSQP', bounds=bnd, constraints=cons)\n",
    "#v = minimize(f, x, method='TNC', bounds=bnd, constraints=cons)\n",
    "#v = minimize(f, x, method='L-BFGS-B', bounds=bnd, constraints=cons)\n",
    "v"
   ]
  },
  {
   "cell_type": "code",
   "execution_count": null,
   "metadata": {},
   "outputs": [],
   "source": []
  }
 ],
 "metadata": {
  "kernelspec": {
   "display_name": "Python 3",
   "language": "python",
   "name": "python3"
  },
  "language_info": {
   "codemirror_mode": {
    "name": "ipython",
    "version": 3
   },
   "file_extension": ".py",
   "mimetype": "text/x-python",
   "name": "python",
   "nbconvert_exporter": "python",
   "pygments_lexer": "ipython3",
   "version": "3.6.5"
  }
 },
 "nbformat": 4,
 "nbformat_minor": 2
}
